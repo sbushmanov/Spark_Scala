{
 "cells": [
  {
   "cell_type": "markdown",
   "id": "1da20d69",
   "metadata": {
    "toc": true
   },
   "source": [
    "<h1>Table of Contents<span class=\"tocSkip\"></span></h1>\n",
    "<div class=\"toc\"><ul class=\"toc-item\"><li><span><a href=\"#Lazy\" data-toc-modified-id=\"Lazy-1\"><span class=\"toc-item-num\">1&nbsp;&nbsp;</span>Lazy</a></span></li><li><span><a href=\"#LazyList-methods\" data-toc-modified-id=\"LazyList-methods-2\"><span class=\"toc-item-num\">2&nbsp;&nbsp;</span>LazyList methods</a></span></li><li><span><a href=\"#ScanLeft\" data-toc-modified-id=\"ScanLeft-3\"><span class=\"toc-item-num\">3&nbsp;&nbsp;</span>ScanLeft</a></span></li><li><span><a href=\"#Continually\" data-toc-modified-id=\"Continually-4\"><span class=\"toc-item-num\">4&nbsp;&nbsp;</span>Continually</a></span></li><li><span><a href=\"#From\" data-toc-modified-id=\"From-5\"><span class=\"toc-item-num\">5&nbsp;&nbsp;</span>From</a></span></li></ul></div>"
   ]
  },
  {
   "cell_type": "code",
   "execution_count": 1,
   "id": "f598de4b",
   "metadata": {
    "ExecuteTime": {
     "end_time": "2022-05-29T04:17:45.518230Z",
     "start_time": "2022-05-29T04:17:43.546Z"
    }
   },
   "outputs": [
    {
     "data": {
      "text/plain": [
       "\u001b[36mmanyNames\u001b[39m: \u001b[32mList\u001b[39m[\u001b[32mString\u001b[39m] = \u001b[33mList\u001b[39m(\n",
       "  \u001b[32m\"Kim\"\u001b[39m,\n",
       "  \u001b[32m\"Daniel\"\u001b[39m,\n",
       "  \u001b[32m\"Danielo\"\u001b[39m,\n",
       "  \u001b[32m\"Dan\"\u001b[39m,\n",
       "  \u001b[32m\"Anders\"\u001b[39m,\n",
       "  \u001b[32m\"Chris\"\u001b[39m,\n",
       "  \u001b[32m\"Alberta\"\u001b[39m,\n",
       "  \u001b[32m\"Brenda\"\u001b[39m,\n",
       "  \u001b[32m\"Bo\"\u001b[39m,\n",
       "  \u001b[32m\"Fridolin\"\u001b[39m,\n",
       "  \u001b[32m\"Bernadette\"\u001b[39m,\n",
       "  \u001b[32m\"Georgie\"\u001b[39m\n",
       ")"
      ]
     },
     "execution_count": 1,
     "metadata": {},
     "output_type": "execute_result"
    }
   ],
   "source": [
    "val manyNames = List(\n",
    "    \"Kim\",\n",
    "    \"Daniel\",\n",
    "    \"Danielo\",\n",
    "    \"Dan\",\n",
    "    \"Anders\",\n",
    "    \"Chris\",\n",
    "    \"Alberta\",\n",
    "    \"Brenda\",\n",
    "    \"Bo\",\n",
    "    \"Fridolin\",\n",
    "    \"Bernadette\",\n",
    "    \"Georgie\"\n",
    ")"
   ]
  },
  {
   "cell_type": "code",
   "execution_count": 20,
   "id": "ecf5f3d4",
   "metadata": {
    "ExecuteTime": {
     "end_time": "2022-05-29T05:02:23.113374Z",
     "start_time": "2022-05-29T05:02:22.942Z"
    }
   },
   "outputs": [
    {
     "name": "stdout",
     "output_type": "stream",
     "text": [
      "Kim is evaluated\n",
      "Daniel is evaluated\n",
      "Danielo is evaluated\n",
      "Dan is evaluated\n",
      "Anders is evaluated\n",
      "Chris is evaluated\n",
      "Alberta is evaluated\n",
      "Brenda is evaluated\n",
      "Bo is evaluated\n",
      "Fridolin is evaluated\n",
      "Bernadette is evaluated\n",
      "Georgie is evaluated\n"
     ]
    },
    {
     "data": {
      "text/plain": [
       "\u001b[36mres19\u001b[39m: \u001b[32mList\u001b[39m[\u001b[32mString\u001b[39m] = \u001b[33mList\u001b[39m(\u001b[32m\"Dan\"\u001b[39m, \u001b[32m\"Chris\"\u001b[39m)"
      ]
     },
     "execution_count": 20,
     "metadata": {},
     "output_type": "execute_result"
    }
   ],
   "source": [
    "manyNames.zipWithIndex.filter{case (n,i) => println(s\"$n is evaluated\");n.size <= i}. map { case (n, _) => n} .take(2)"
   ]
  },
  {
   "cell_type": "markdown",
   "id": "df5762d8",
   "metadata": {},
   "source": [
    "# Lazy"
   ]
  },
  {
   "cell_type": "code",
   "execution_count": 21,
   "id": "5a3156f0",
   "metadata": {
    "ExecuteTime": {
     "end_time": "2022-05-29T05:02:27.528982Z",
     "start_time": "2022-05-29T05:02:27.397Z"
    }
   },
   "outputs": [
    {
     "name": "stdout",
     "output_type": "stream",
     "text": [
      "Kim is evaluated\n",
      "Daniel is evaluated\n"
     ]
    },
    {
     "data": {
      "text/plain": [
       "\u001b[36mres20\u001b[39m: \u001b[32mLazyList\u001b[39m[\u001b[32mString\u001b[39m] = \u001b[33mLazyList\u001b[39m(\u001b[32m\"Kim\"\u001b[39m, \u001b[32m\"Daniel\"\u001b[39m)"
      ]
     },
     "execution_count": 21,
     "metadata": {},
     "output_type": "execute_result"
    }
   ],
   "source": [
    "manyNames.to(LazyList).zipWithIndex.filter{case (n,i) => println(s\"$n is evaluated\");n.size >= i}. map { case (n, _) => n}.take(2)"
   ]
  },
  {
   "cell_type": "code",
   "execution_count": 26,
   "id": "b2be6500",
   "metadata": {
    "ExecuteTime": {
     "end_time": "2022-05-29T05:02:54.043412Z",
     "start_time": "2022-05-29T05:02:53.902Z"
    }
   },
   "outputs": [
    {
     "data": {
      "text/plain": [
       "\u001b[36mnames\u001b[39m: \u001b[32mList\u001b[39m[\u001b[32mString\u001b[39m] => \u001b[32mLazyList\u001b[39m[\u001b[32mString\u001b[39m] = ammonite.$sess.cmd25$Helper$$Lambda$2381/848415101@64222ddd"
      ]
     },
     "execution_count": 26,
     "metadata": {},
     "output_type": "execute_result"
    }
   ],
   "source": [
    "val names: List[String] => LazyList[String] = lst => lst.to(LazyList).zipWithIndex.filter{case (n,i) => println(s\"$n is evaluated\");n.size <= i}. map { case (n, _) => n}"
   ]
  },
  {
   "cell_type": "code",
   "execution_count": 29,
   "id": "10237c7f",
   "metadata": {
    "ExecuteTime": {
     "end_time": "2022-05-29T05:03:06.009688Z",
     "start_time": "2022-05-29T05:03:05.893Z"
    }
   },
   "outputs": [
    {
     "name": "stdout",
     "output_type": "stream",
     "text": [
      "Kim is evaluated\n",
      "Daniel is evaluated\n",
      "Danielo is evaluated\n",
      "Dan is evaluated\n",
      "Anders is evaluated\n",
      "Chris is evaluated\n"
     ]
    },
    {
     "data": {
      "text/plain": [
       "\u001b[36mres28\u001b[39m: \u001b[32mLazyList\u001b[39m[\u001b[32mString\u001b[39m] = \u001b[33mLazyList\u001b[39m(\u001b[32m\"Dan\"\u001b[39m, \u001b[32m\"Chris\"\u001b[39m)"
      ]
     },
     "execution_count": 29,
     "metadata": {},
     "output_type": "execute_result"
    }
   ],
   "source": [
    "names(manyNames).take(2)"
   ]
  },
  {
   "cell_type": "code",
   "execution_count": 38,
   "id": "63b61420",
   "metadata": {
    "ExecuteTime": {
     "end_time": "2022-05-29T05:10:32.804365Z",
     "start_time": "2022-05-29T05:10:32.681Z"
    }
   },
   "outputs": [
    {
     "name": "stdout",
     "output_type": "stream",
     "text": [
      "Kim is evaluated\n",
      "Daniel is evaluated\n",
      "Danielo is evaluated\n",
      "Dan is evaluated\n",
      "Anders is evaluated\n",
      "Chris is evaluated\n",
      "Alberta is evaluated\n",
      "Brenda is evaluated\n",
      "Bo is evaluated\n",
      "Fridolin is evaluated\n",
      "Bernadette is evaluated\n",
      "Georgie is evaluated\n"
     ]
    },
    {
     "data": {
      "text/plain": [
       "\u001b[36mres\u001b[39m: \u001b[32mLazyList\u001b[39m[\u001b[32mString\u001b[39m] = \u001b[33mLazyList\u001b[39m(\n",
       "  \u001b[32m\"Dan\"\u001b[39m,\n",
       "  \u001b[32m\"Chris\"\u001b[39m,\n",
       "  \u001b[32m\"Brenda\"\u001b[39m,\n",
       "  \u001b[32m\"Bo\"\u001b[39m,\n",
       "  \u001b[32m\"Fridolin\"\u001b[39m,\n",
       "  \u001b[32m\"Bernadette\"\u001b[39m,\n",
       "  \u001b[32m\"Georgie\"\u001b[39m\n",
       ")"
      ]
     },
     "execution_count": 38,
     "metadata": {},
     "output_type": "execute_result"
    }
   ],
   "source": [
    "val res = names(manyNames)"
   ]
  },
  {
   "cell_type": "code",
   "execution_count": 39,
   "id": "8cf098b7",
   "metadata": {
    "ExecuteTime": {
     "end_time": "2022-05-29T05:10:46.359557Z",
     "start_time": "2022-05-29T05:10:46.227Z"
    }
   },
   "outputs": [
    {
     "data": {
      "text/html": [
       "<div class=\"jp-RenderedText\">\n",
       "<pre><code><span style=\"color: rgb(0, 187, 187)\"><span class=\"ansi-cyan-fg\">res</span></span>: <span style=\"color: rgb(0, 187, 0)\"><span class=\"ansi-green-fg\">LazyList</span></span>[<span style=\"color: rgb(0, 187, 0)\"><span class=\"ansi-green-fg\">String</span></span>] = <style>@keyframes fadein { from { opacity: 0; } to { opacity: 1; } }</style><span style=\"animation: fadein 2s;\"><span style=\"color: yellow\"><span class=\"ansi-yellow-fg\">LazyList</span></span>(\n",
       "  <span style=\"color: rgb(0, 187, 0)\"><span class=\"ansi-green-fg\">&quot;Dan&quot;</span></span>,\n",
       "  <span style=\"color: rgb(0, 187, 0)\"><span class=\"ansi-green-fg\">&quot;Chris&quot;</span></span>,\n",
       "  <span style=\"color: rgb(0, 187, 0)\"><span class=\"ansi-green-fg\">&quot;Brenda&quot;</span></span>,\n",
       "  <span style=\"color: rgb(0, 187, 0)\"><span class=\"ansi-green-fg\">&quot;Bo&quot;</span></span>,\n",
       "  <span style=\"color: rgb(0, 187, 0)\"><span class=\"ansi-green-fg\">&quot;Fridolin&quot;</span></span>,\n",
       "  <span style=\"color: rgb(0, 187, 0)\"><span class=\"ansi-green-fg\">&quot;Bernadette&quot;</span></span>,\n",
       "  <span style=\"color: rgb(0, 187, 0)\"><span class=\"ansi-green-fg\">&quot;Georgie&quot;</span></span>\n",
       ")</span></code></pre>\n",
       "</div>"
      ],
      "text/plain": [
       "\u001b[36mres\u001b[39m: \u001b[32mLazyList\u001b[39m[\u001b[32mString\u001b[39m] = \u001b[33mLazyList\u001b[39m(\n",
       "  \u001b[32m\"Dan\"\u001b[39m,\n",
       "  \u001b[32m\"Chris\"\u001b[39m,\n",
       "  \u001b[32m\"Brenda\"\u001b[39m,\n",
       "  \u001b[32m\"Bo\"\u001b[39m,\n",
       "  \u001b[32m\"Fridolin\"\u001b[39m,\n",
       "  \u001b[32m\"Bernadette\"\u001b[39m,\n",
       "  \u001b[32m\"Georgie\"\u001b[39m\n",
       ")"
      ]
     },
     "metadata": {},
     "output_type": "display_data"
    }
   ],
   "source": [
    "lazy val res = names(manyNames)"
   ]
  },
  {
   "cell_type": "markdown",
   "id": "89be20a2",
   "metadata": {},
   "source": [
    "Nothing is evaluated second and all the next times"
   ]
  },
  {
   "cell_type": "code",
   "execution_count": 40,
   "id": "1dedaf7b",
   "metadata": {
    "ExecuteTime": {
     "end_time": "2022-05-29T05:10:52.445834Z",
     "start_time": "2022-05-29T05:10:52.326Z"
    }
   },
   "outputs": [
    {
     "name": "stdout",
     "output_type": "stream",
     "text": [
      "Kim is evaluated\n",
      "Daniel is evaluated\n",
      "Danielo is evaluated\n",
      "Dan is evaluated\n",
      "Anders is evaluated\n",
      "Chris is evaluated\n",
      "Alberta is evaluated\n",
      "Brenda is evaluated\n",
      "Bo is evaluated\n",
      "Fridolin is evaluated\n",
      "Bernadette is evaluated\n",
      "Georgie is evaluated\n"
     ]
    },
    {
     "data": {
      "text/plain": [
       "\u001b[36mres39\u001b[39m: \u001b[32mLazyList\u001b[39m[\u001b[32mString\u001b[39m] = \u001b[33mLazyList\u001b[39m(\u001b[32m\"Dan\"\u001b[39m, \u001b[32m\"Chris\"\u001b[39m)"
      ]
     },
     "execution_count": 40,
     "metadata": {},
     "output_type": "execute_result"
    }
   ],
   "source": [
    "res.take(2)"
   ]
  },
  {
   "cell_type": "code",
   "execution_count": 41,
   "id": "e266ec7b",
   "metadata": {
    "ExecuteTime": {
     "end_time": "2022-05-29T05:11:05.463300Z",
     "start_time": "2022-05-29T05:11:05.330Z"
    }
   },
   "outputs": [
    {
     "data": {
      "text/plain": [
       "\u001b[36mres40\u001b[39m: \u001b[32mLazyList\u001b[39m[\u001b[32mString\u001b[39m] = \u001b[33mLazyList\u001b[39m(\u001b[32m\"Dan\"\u001b[39m, \u001b[32m\"Chris\"\u001b[39m)"
      ]
     },
     "execution_count": 41,
     "metadata": {},
     "output_type": "execute_result"
    }
   ],
   "source": [
    "res.take(2)"
   ]
  },
  {
   "cell_type": "markdown",
   "id": "0a88ecc3",
   "metadata": {},
   "source": [
    "# LazyList methods"
   ]
  },
  {
   "cell_type": "code",
   "execution_count": null,
   "id": "a83abe07",
   "metadata": {
    "ExecuteTime": {
     "end_time": "2022-06-12T06:12:53.056740Z",
     "start_time": "2022-06-12T06:12:52.741Z"
    }
   },
   "outputs": [],
   "source": [
    "val ll1 = LazyList.continually(2)\n",
    "\n",
    "val ll2 = LazyList.tabulate(5)(i => i*i)"
   ]
  },
  {
   "cell_type": "code",
   "execution_count": 7,
   "id": "706b18d1",
   "metadata": {
    "ExecuteTime": {
     "end_time": "2022-06-12T06:14:37.901963Z",
     "start_time": "2022-06-12T06:14:37.684Z"
    }
   },
   "outputs": [
    {
     "data": {
      "text/plain": [
       "\u001b[36mints\u001b[39m: \u001b[32mInt\u001b[39m => \u001b[32mLazyList\u001b[39m[\u001b[32mInt\u001b[39m] = ammonite.$sess.cmd6$Helper$$Lambda$2003/1948068017@5ee55721\n",
       "\u001b[36mres6_1\u001b[39m: \u001b[32mLazyList\u001b[39m[\u001b[32mInt\u001b[39m] = \u001b[33mLazyList\u001b[39m(\u001b[32m0\u001b[39m, \u001b[32m1\u001b[39m, \u001b[32m2\u001b[39m, \u001b[32m3\u001b[39m, \u001b[32m4\u001b[39m, \u001b[32m5\u001b[39m, \u001b[32m6\u001b[39m, \u001b[32m7\u001b[39m, \u001b[32m8\u001b[39m, \u001b[32m9\u001b[39m)"
      ]
     },
     "execution_count": 7,
     "metadata": {},
     "output_type": "execute_result"
    }
   ],
   "source": [
    "val ints: Int => LazyList[Int] = n => n #:: ints(n+1)\n",
    "ints(0).take(10)"
   ]
  },
  {
   "cell_type": "code",
   "execution_count": 9,
   "id": "4bfb779f",
   "metadata": {
    "ExecuteTime": {
     "end_time": "2022-06-12T06:22:05.609151Z",
     "start_time": "2022-06-12T06:22:05.451Z"
    }
   },
   "outputs": [
    {
     "data": {
      "text/plain": [
       "\u001b[36mres8\u001b[39m: \u001b[32mLazyList\u001b[39m[\u001b[32mInt\u001b[39m] = \u001b[33mLazyList\u001b[39m(\u001b[32m0\u001b[39m)"
      ]
     },
     "execution_count": 9,
     "metadata": {},
     "output_type": "execute_result"
    }
   ],
   "source": [
    "LazyList.cons(0, LazyList[Int]())"
   ]
  },
  {
   "cell_type": "code",
   "execution_count": 15,
   "id": "c227ca1a",
   "metadata": {
    "ExecuteTime": {
     "end_time": "2022-06-12T06:28:09.428961Z",
     "start_time": "2022-06-12T06:28:09.289Z"
    }
   },
   "outputs": [
    {
     "data": {
      "text/plain": [
       "\u001b[36mints\u001b[39m: \u001b[32mLazyList\u001b[39m[\u001b[32mInt\u001b[39m] = \u001b[33mLazyList\u001b[39m(\n",
       "  \u001b[32m0\u001b[39m,\n",
       "  \u001b[32m1\u001b[39m,\n",
       "  \u001b[32m2\u001b[39m,\n",
       "  \u001b[32m3\u001b[39m,\n",
       "  \u001b[32m4\u001b[39m,\n",
       "  \u001b[32m5\u001b[39m,\n",
       "  \u001b[32m6\u001b[39m,\n",
       "  \u001b[32m7\u001b[39m,\n",
       "  \u001b[32m8\u001b[39m,\n",
       "  \u001b[32m9\u001b[39m,\n",
       "  \u001b[32m10\u001b[39m,\n",
       "  \u001b[32m11\u001b[39m,\n",
       "  \u001b[32m12\u001b[39m,\n",
       "  \u001b[32m13\u001b[39m,\n",
       "  \u001b[32m14\u001b[39m,\n",
       "  \u001b[32m15\u001b[39m,\n",
       "  \u001b[32m16\u001b[39m,\n",
       "  \u001b[32m17\u001b[39m,\n",
       "  \u001b[32m18\u001b[39m,\n",
       "  \u001b[32m19\u001b[39m,\n",
       "  \u001b[32m20\u001b[39m,\n",
       "  \u001b[32m21\u001b[39m,\n",
       "  \u001b[32m22\u001b[39m,\n",
       "  \u001b[32m23\u001b[39m,\n",
       "  \u001b[32m24\u001b[39m,\n",
       "  \u001b[32m25\u001b[39m,\n",
       "  \u001b[32m26\u001b[39m,\n",
       "  \u001b[32m27\u001b[39m,\n",
       "  \u001b[32m28\u001b[39m,\n",
       "  \u001b[32m29\u001b[39m,\n",
       "  \u001b[32m30\u001b[39m,\n",
       "  \u001b[32m31\u001b[39m,\n",
       "  \u001b[32m32\u001b[39m,\n",
       "  \u001b[32m33\u001b[39m,\n",
       "  \u001b[32m34\u001b[39m,\n",
       "  \u001b[32m35\u001b[39m,\n",
       "  \u001b[32m36\u001b[39m,\n",
       "  \u001b[32m37\u001b[39m,\n",
       "..."
      ]
     },
     "execution_count": 15,
     "metadata": {},
     "output_type": "execute_result"
    }
   ],
   "source": [
    "val ints: LazyList[Int] = 0 #:: (ints.map{_ + 1})"
   ]
  },
  {
   "cell_type": "code",
   "execution_count": null,
   "id": "66342617",
   "metadata": {
    "ExecuteTime": {
     "end_time": "2022-06-12T06:12:53.056740Z",
     "start_time": "2022-06-12T06:12:52.741Z"
    }
   },
   "outputs": [],
   "source": [
    "val odds: Int => LazyList[Int] = n => if (n%2 != 0) n #:: odds(n+1) else odds(n+1)\n",
    "odds(0).take(10)"
   ]
  },
  {
   "cell_type": "code",
   "execution_count": 20,
   "id": "b9465e0f",
   "metadata": {
    "ExecuteTime": {
     "end_time": "2022-06-12T06:33:46.895729Z",
     "start_time": "2022-06-12T06:33:46.767Z"
    }
   },
   "outputs": [
    {
     "data": {
      "text/plain": [
       "\u001b[36mres19\u001b[39m: \u001b[32mLazyList\u001b[39m[\u001b[32mInt\u001b[39m] = \u001b[33mLazyList\u001b[39m()"
      ]
     },
     "execution_count": 20,
     "metadata": {},
     "output_type": "execute_result"
    }
   ],
   "source": [
    "LazyList[Int](0).tail"
   ]
  },
  {
   "cell_type": "code",
   "execution_count": 25,
   "id": "6c8be077",
   "metadata": {
    "ExecuteTime": {
     "end_time": "2022-06-12T06:42:38.776209Z",
     "start_time": "2022-06-12T06:42:38.651Z"
    },
    "collapsed": true
   },
   "outputs": [
    {
     "data": {
      "text/plain": [
       "\u001b[36modds2\u001b[39m: \u001b[32mLazyList\u001b[39m[\u001b[32mInt\u001b[39m] = \u001b[33mLazyList\u001b[39m(\n",
       "  \u001b[32m0\u001b[39m,\n",
       "  \u001b[32m1\u001b[39m,\n",
       "  \u001b[32m3\u001b[39m,\n",
       "  \u001b[32m5\u001b[39m,\n",
       "  \u001b[32m7\u001b[39m,\n",
       "  \u001b[32m9\u001b[39m,\n",
       "  \u001b[32m11\u001b[39m,\n",
       "  \u001b[32m13\u001b[39m,\n",
       "  \u001b[32m15\u001b[39m,\n",
       "  \u001b[32m17\u001b[39m,\n",
       "  \u001b[32m19\u001b[39m,\n",
       "  \u001b[32m21\u001b[39m,\n",
       "  \u001b[32m23\u001b[39m,\n",
       "  \u001b[32m25\u001b[39m,\n",
       "  \u001b[32m27\u001b[39m,\n",
       "  \u001b[32m29\u001b[39m,\n",
       "  \u001b[32m31\u001b[39m,\n",
       "  \u001b[32m33\u001b[39m,\n",
       "  \u001b[32m35\u001b[39m,\n",
       "  \u001b[32m37\u001b[39m,\n",
       "  \u001b[32m39\u001b[39m,\n",
       "  \u001b[32m41\u001b[39m,\n",
       "  \u001b[32m43\u001b[39m,\n",
       "  \u001b[32m45\u001b[39m,\n",
       "  \u001b[32m47\u001b[39m,\n",
       "  \u001b[32m49\u001b[39m,\n",
       "  \u001b[32m51\u001b[39m,\n",
       "  \u001b[32m53\u001b[39m,\n",
       "  \u001b[32m55\u001b[39m,\n",
       "  \u001b[32m57\u001b[39m,\n",
       "  \u001b[32m59\u001b[39m,\n",
       "  \u001b[32m61\u001b[39m,\n",
       "  \u001b[32m63\u001b[39m,\n",
       "  \u001b[32m65\u001b[39m,\n",
       "  \u001b[32m67\u001b[39m,\n",
       "  \u001b[32m69\u001b[39m,\n",
       "  \u001b[32m71\u001b[39m,\n",
       "  \u001b[32m73\u001b[39m,\n",
       "..."
      ]
     },
     "execution_count": 25,
     "metadata": {},
     "output_type": "execute_result"
    }
   ],
   "source": [
    "val odds2: LazyList[Int] = 0 #:: odds2.map{x => if (x%2!=0) x+2 else x+1}  "
   ]
  },
  {
   "cell_type": "code",
   "execution_count": 42,
   "id": "418bfe2d",
   "metadata": {
    "ExecuteTime": {
     "end_time": "2022-05-29T05:12:36.869265Z",
     "start_time": "2022-05-29T05:12:36.748Z"
    }
   },
   "outputs": [
    {
     "data": {
      "text/plain": [
       "\u001b[36mres41\u001b[39m: \u001b[32mList\u001b[39m[\u001b[32mInt\u001b[39m] = \u001b[33mList\u001b[39m(\u001b[32m0\u001b[39m, \u001b[32m1\u001b[39m, \u001b[32m4\u001b[39m, \u001b[32m9\u001b[39m, \u001b[32m16\u001b[39m)"
      ]
     },
     "execution_count": 42,
     "metadata": {},
     "output_type": "execute_result"
    }
   ],
   "source": [
    "List.tabulate(5)(i => i*i)"
   ]
  },
  {
   "cell_type": "code",
   "execution_count": 26,
   "id": "4e1f6a05",
   "metadata": {
    "ExecuteTime": {
     "end_time": "2022-06-12T06:46:35.345275Z",
     "start_time": "2022-06-12T06:46:35.218Z"
    }
   },
   "outputs": [
    {
     "data": {
      "text/plain": [
       "\u001b[36mfibs\u001b[39m: \u001b[32mLazyList\u001b[39m[\u001b[32mInt\u001b[39m] = \u001b[33mLazyList\u001b[39m(\n",
       "  \u001b[32m0\u001b[39m,\n",
       "  \u001b[32m1\u001b[39m,\n",
       "  \u001b[32m1\u001b[39m,\n",
       "  \u001b[32m2\u001b[39m,\n",
       "  \u001b[32m3\u001b[39m,\n",
       "  \u001b[32m5\u001b[39m,\n",
       "  \u001b[32m8\u001b[39m,\n",
       "  \u001b[32m13\u001b[39m,\n",
       "  \u001b[32m21\u001b[39m,\n",
       "  \u001b[32m34\u001b[39m,\n",
       "  \u001b[32m55\u001b[39m,\n",
       "  \u001b[32m89\u001b[39m,\n",
       "  \u001b[32m144\u001b[39m,\n",
       "  \u001b[32m233\u001b[39m,\n",
       "  \u001b[32m377\u001b[39m,\n",
       "  \u001b[32m610\u001b[39m,\n",
       "  \u001b[32m987\u001b[39m,\n",
       "  \u001b[32m1597\u001b[39m,\n",
       "  \u001b[32m2584\u001b[39m,\n",
       "  \u001b[32m4181\u001b[39m,\n",
       "  \u001b[32m6765\u001b[39m,\n",
       "  \u001b[32m10946\u001b[39m,\n",
       "  \u001b[32m17711\u001b[39m,\n",
       "  \u001b[32m28657\u001b[39m,\n",
       "  \u001b[32m46368\u001b[39m,\n",
       "  \u001b[32m75025\u001b[39m,\n",
       "  \u001b[32m121393\u001b[39m,\n",
       "  \u001b[32m196418\u001b[39m,\n",
       "  \u001b[32m317811\u001b[39m,\n",
       "  \u001b[32m514229\u001b[39m,\n",
       "  \u001b[32m832040\u001b[39m,\n",
       "  \u001b[32m1346269\u001b[39m,\n",
       "  \u001b[32m2178309\u001b[39m,\n",
       "  \u001b[32m3524578\u001b[39m,\n",
       "  \u001b[32m5702887\u001b[39m,\n",
       "  \u001b[32m9227465\u001b[39m,\n",
       "  \u001b[32m14930352\u001b[39m,\n",
       "  \u001b[32m24157817\u001b[39m,\n",
       "...\n",
       "\u001b[36mres25_1\u001b[39m: \u001b[32mLazyList\u001b[39m[\u001b[32mInt\u001b[39m] = \u001b[33mLazyList\u001b[39m(\u001b[32m0\u001b[39m, \u001b[32m1\u001b[39m, \u001b[32m1\u001b[39m, \u001b[32m2\u001b[39m, \u001b[32m3\u001b[39m)"
      ]
     },
     "execution_count": 26,
     "metadata": {},
     "output_type": "execute_result"
    }
   ],
   "source": [
    "val fibs: LazyList[Int] = 0 #:: 1#:: (fibs.zip(fibs.tail).map{t => t._1 + t._2})"
   ]
  },
  {
   "cell_type": "code",
   "execution_count": 7,
   "id": "d83e748a",
   "metadata": {
    "ExecuteTime": {
     "end_time": "2022-06-12T13:56:18.309755Z",
     "start_time": "2022-06-12T13:56:18.117Z"
    }
   },
   "outputs": [
    {
     "data": {
      "text/plain": [
       "\u001b[36mres6\u001b[39m: \u001b[32mList\u001b[39m[\u001b[32mInt\u001b[39m] = \u001b[33mList\u001b[39m(\u001b[32m0\u001b[39m, \u001b[32m1\u001b[39m, \u001b[32m1\u001b[39m)"
      ]
     },
     "execution_count": 7,
     "metadata": {},
     "output_type": "execute_result"
    }
   ],
   "source": [
    "0 :: List(0).scanLeft(1)(_+_)"
   ]
  },
  {
   "cell_type": "code",
   "execution_count": 4,
   "id": "ffe5e0f2",
   "metadata": {
    "ExecuteTime": {
     "end_time": "2022-06-12T13:53:46.643634Z",
     "start_time": "2022-06-12T13:53:46.377Z"
    }
   },
   "outputs": [
    {
     "data": {
      "text/plain": [
       "\u001b[36mres3\u001b[39m: \u001b[32mList\u001b[39m[\u001b[32mInt\u001b[39m] = \u001b[33mList\u001b[39m(\u001b[32m0\u001b[39m, \u001b[32m1\u001b[39m, \u001b[32m1\u001b[39m, \u001b[32m2\u001b[39m, \u001b[32m3\u001b[39m)"
      ]
     },
     "execution_count": 4,
     "metadata": {},
     "output_type": "execute_result"
    }
   ],
   "source": [
    "0 :: (0 :: List(0).scanLeft(1)(_+_)).scanLeft(1)(_+_)"
   ]
  },
  {
   "cell_type": "code",
   "execution_count": 1,
   "id": "3e165f57",
   "metadata": {
    "ExecuteTime": {
     "end_time": "2022-06-12T13:49:19.345675Z",
     "start_time": "2022-06-12T13:49:17.210Z"
    }
   },
   "outputs": [
    {
     "data": {
      "text/plain": [
       "\u001b[36mfibs2\u001b[39m: \u001b[32mLazyList\u001b[39m[\u001b[32mInt\u001b[39m] = \u001b[33mLazyList\u001b[39m(\n",
       "  \u001b[32m0\u001b[39m,\n",
       "  \u001b[32m1\u001b[39m,\n",
       "  \u001b[32m1\u001b[39m,\n",
       "  \u001b[32m2\u001b[39m,\n",
       "  \u001b[32m3\u001b[39m,\n",
       "  \u001b[32m5\u001b[39m,\n",
       "  \u001b[32m8\u001b[39m,\n",
       "  \u001b[32m13\u001b[39m,\n",
       "  \u001b[32m21\u001b[39m,\n",
       "  \u001b[32m34\u001b[39m,\n",
       "  \u001b[32m55\u001b[39m,\n",
       "  \u001b[32m89\u001b[39m,\n",
       "  \u001b[32m144\u001b[39m,\n",
       "  \u001b[32m233\u001b[39m,\n",
       "  \u001b[32m377\u001b[39m,\n",
       "  \u001b[32m610\u001b[39m,\n",
       "  \u001b[32m987\u001b[39m,\n",
       "  \u001b[32m1597\u001b[39m,\n",
       "  \u001b[32m2584\u001b[39m,\n",
       "  \u001b[32m4181\u001b[39m,\n",
       "  \u001b[32m6765\u001b[39m,\n",
       "  \u001b[32m10946\u001b[39m,\n",
       "  \u001b[32m17711\u001b[39m,\n",
       "  \u001b[32m28657\u001b[39m,\n",
       "  \u001b[32m46368\u001b[39m,\n",
       "  \u001b[32m75025\u001b[39m,\n",
       "  \u001b[32m121393\u001b[39m,\n",
       "  \u001b[32m196418\u001b[39m,\n",
       "  \u001b[32m317811\u001b[39m,\n",
       "  \u001b[32m514229\u001b[39m,\n",
       "  \u001b[32m832040\u001b[39m,\n",
       "  \u001b[32m1346269\u001b[39m,\n",
       "  \u001b[32m2178309\u001b[39m,\n",
       "  \u001b[32m3524578\u001b[39m,\n",
       "  \u001b[32m5702887\u001b[39m,\n",
       "  \u001b[32m9227465\u001b[39m,\n",
       "  \u001b[32m14930352\u001b[39m,\n",
       "  \u001b[32m24157817\u001b[39m,\n",
       "...\n",
       "\u001b[36mres0_1\u001b[39m: \u001b[32mLazyList\u001b[39m[\u001b[32mInt\u001b[39m] = \u001b[33mLazyList\u001b[39m(\u001b[32m0\u001b[39m, \u001b[32m1\u001b[39m, \u001b[32m1\u001b[39m, \u001b[32m2\u001b[39m, \u001b[32m3\u001b[39m)"
      ]
     },
     "execution_count": 1,
     "metadata": {},
     "output_type": "execute_result"
    }
   ],
   "source": [
    "val fibs2: LazyList[Int] = 0 #:: fibs2.scanLeft(1)(_+_)\n",
    "fibs2.take(5)"
   ]
  },
  {
   "cell_type": "code",
   "execution_count": 46,
   "id": "96ea2d48",
   "metadata": {
    "ExecuteTime": {
     "end_time": "2022-05-29T05:14:20.983953Z",
     "start_time": "2022-05-29T05:14:20.877Z"
    }
   },
   "outputs": [
    {
     "data": {
      "text/html": [
       "<div class=\"jp-RenderedText\">\n",
       "<pre><code><span style=\"color: rgb(0, 187, 187)\"><span class=\"ansi-cyan-fg\">num</span></span>: <span style=\"color: rgb(0, 187, 0)\"><span class=\"ansi-green-fg\">LazyList</span></span>[<span style=\"color: rgb(0, 187, 0)\"><span class=\"ansi-green-fg\">Int</span></span>] = <style>@keyframes fadein { from { opacity: 0; } to { opacity: 1; } }</style><span style=\"animation: fadein 2s;\"><span style=\"color: yellow\"><span class=\"ansi-yellow-fg\">LazyList</span></span>(\n",
       "  <span style=\"color: rgb(0, 187, 0)\"><span class=\"ansi-green-fg\">0</span></span>,\n",
       "  <span style=\"color: rgb(0, 187, 0)\"><span class=\"ansi-green-fg\">1</span></span>,\n",
       "  <span style=\"color: rgb(0, 187, 0)\"><span class=\"ansi-green-fg\">4</span></span>,\n",
       "  <span style=\"color: rgb(0, 187, 0)\"><span class=\"ansi-green-fg\">9</span></span>,\n",
       "  <span style=\"color: rgb(0, 187, 0)\"><span class=\"ansi-green-fg\">16</span></span>,\n",
       "  <span style=\"color: rgb(0, 187, 0)\"><span class=\"ansi-green-fg\">25</span></span>,\n",
       "  <span style=\"color: rgb(0, 187, 0)\"><span class=\"ansi-green-fg\">36</span></span>,\n",
       "  <span style=\"color: rgb(0, 187, 0)\"><span class=\"ansi-green-fg\">49</span></span>,\n",
       "  <span style=\"color: rgb(0, 187, 0)\"><span class=\"ansi-green-fg\">64</span></span>,\n",
       "  <span style=\"color: rgb(0, 187, 0)\"><span class=\"ansi-green-fg\">81</span></span>,\n",
       "  <span style=\"color: rgb(0, 187, 0)\"><span class=\"ansi-green-fg\">100</span></span>,\n",
       "  <span style=\"color: rgb(0, 187, 0)\"><span class=\"ansi-green-fg\">121</span></span>,\n",
       "  <span style=\"color: rgb(0, 187, 0)\"><span class=\"ansi-green-fg\">144</span></span>,\n",
       "  <span style=\"color: rgb(0, 187, 0)\"><span class=\"ansi-green-fg\">169</span></span>,\n",
       "  <span style=\"color: rgb(0, 187, 0)\"><span class=\"ansi-green-fg\">196</span></span>,\n",
       "  <span style=\"color: rgb(0, 187, 0)\"><span class=\"ansi-green-fg\">225</span></span>,\n",
       "  <span style=\"color: rgb(0, 187, 0)\"><span class=\"ansi-green-fg\">256</span></span>,\n",
       "  <span style=\"color: rgb(0, 187, 0)\"><span class=\"ansi-green-fg\">289</span></span>,\n",
       "  <span style=\"color: rgb(0, 187, 0)\"><span class=\"ansi-green-fg\">324</span></span>,\n",
       "  <span style=\"color: rgb(0, 187, 0)\"><span class=\"ansi-green-fg\">361</span></span>,\n",
       "  <span style=\"color: rgb(0, 187, 0)\"><span class=\"ansi-green-fg\">400</span></span>,\n",
       "  <span style=\"color: rgb(0, 187, 0)\"><span class=\"ansi-green-fg\">441</span></span>,\n",
       "  <span style=\"color: rgb(0, 187, 0)\"><span class=\"ansi-green-fg\">484</span></span>,\n",
       "  <span style=\"color: rgb(0, 187, 0)\"><span class=\"ansi-green-fg\">529</span></span>,\n",
       "  <span style=\"color: rgb(0, 187, 0)\"><span class=\"ansi-green-fg\">576</span></span>,\n",
       "  <span style=\"color: rgb(0, 187, 0)\"><span class=\"ansi-green-fg\">625</span></span>,\n",
       "  <span style=\"color: rgb(0, 187, 0)\"><span class=\"ansi-green-fg\">676</span></span>,\n",
       "  <span style=\"color: rgb(0, 187, 0)\"><span class=\"ansi-green-fg\">729</span></span>,\n",
       "  <span style=\"color: rgb(0, 187, 0)\"><span class=\"ansi-green-fg\">784</span></span>,\n",
       "  <span style=\"color: rgb(0, 187, 0)\"><span class=\"ansi-green-fg\">841</span></span>,\n",
       "  <span style=\"color: rgb(0, 187, 0)\"><span class=\"ansi-green-fg\">900</span></span>,\n",
       "  <span style=\"color: rgb(0, 187, 0)\"><span class=\"ansi-green-fg\">961</span></span>,\n",
       "  <span style=\"color: rgb(0, 187, 0)\"><span class=\"ansi-green-fg\">1024</span></span>,\n",
       "  <span style=\"color: rgb(0, 187, 0)\"><span class=\"ansi-green-fg\">1089</span></span>,\n",
       "  <span style=\"color: rgb(0, 187, 0)\"><span class=\"ansi-green-fg\">1156</span></span>,\n",
       "  <span style=\"color: rgb(0, 187, 0)\"><span class=\"ansi-green-fg\">1225</span></span>,\n",
       "  <span style=\"color: rgb(0, 187, 0)\"><span class=\"ansi-green-fg\">1296</span></span>,\n",
       "  <span style=\"color: rgb(0, 187, 0)\"><span class=\"ansi-green-fg\">1369</span></span>,\n",
       "...</span></code></pre>\n",
       "</div>"
      ],
      "text/plain": [
       "\u001b[36mnum\u001b[39m: \u001b[32mLazyList\u001b[39m[\u001b[32mInt\u001b[39m] = \u001b[33mLazyList\u001b[39m(\n",
       "  \u001b[32m0\u001b[39m,\n",
       "  \u001b[32m1\u001b[39m,\n",
       "  \u001b[32m4\u001b[39m,\n",
       "  \u001b[32m9\u001b[39m,\n",
       "  \u001b[32m16\u001b[39m,\n",
       "  \u001b[32m25\u001b[39m,\n",
       "  \u001b[32m36\u001b[39m,\n",
       "  \u001b[32m49\u001b[39m,\n",
       "  \u001b[32m64\u001b[39m,\n",
       "  \u001b[32m81\u001b[39m,\n",
       "  \u001b[32m100\u001b[39m,\n",
       "  \u001b[32m121\u001b[39m,\n",
       "  \u001b[32m144\u001b[39m,\n",
       "  \u001b[32m169\u001b[39m,\n",
       "  \u001b[32m196\u001b[39m,\n",
       "  \u001b[32m225\u001b[39m,\n",
       "  \u001b[32m256\u001b[39m,\n",
       "  \u001b[32m289\u001b[39m,\n",
       "  \u001b[32m324\u001b[39m,\n",
       "  \u001b[32m361\u001b[39m,\n",
       "  \u001b[32m400\u001b[39m,\n",
       "  \u001b[32m441\u001b[39m,\n",
       "  \u001b[32m484\u001b[39m,\n",
       "  \u001b[32m529\u001b[39m,\n",
       "  \u001b[32m576\u001b[39m,\n",
       "  \u001b[32m625\u001b[39m,\n",
       "  \u001b[32m676\u001b[39m,\n",
       "  \u001b[32m729\u001b[39m,\n",
       "  \u001b[32m784\u001b[39m,\n",
       "  \u001b[32m841\u001b[39m,\n",
       "  \u001b[32m900\u001b[39m,\n",
       "  \u001b[32m961\u001b[39m,\n",
       "  \u001b[32m1024\u001b[39m,\n",
       "  \u001b[32m1089\u001b[39m,\n",
       "  \u001b[32m1156\u001b[39m,\n",
       "  \u001b[32m1225\u001b[39m,\n",
       "  \u001b[32m1296\u001b[39m,\n",
       "  \u001b[32m1369\u001b[39m,\n",
       "..."
      ]
     },
     "metadata": {},
     "output_type": "display_data"
    }
   ],
   "source": [
    "lazy val num = LazyList.tabulate(1000)(i => i*i)"
   ]
  },
  {
   "cell_type": "code",
   "execution_count": 47,
   "id": "62aa8e74",
   "metadata": {
    "ExecuteTime": {
     "end_time": "2022-05-29T05:14:29.676775Z",
     "start_time": "2022-05-29T05:14:29.585Z"
    }
   },
   "outputs": [
    {
     "data": {
      "text/plain": [
       "\u001b[36mres46\u001b[39m: \u001b[32mInt\u001b[39m = \u001b[32m998001\u001b[39m"
      ]
     },
     "execution_count": 47,
     "metadata": {},
     "output_type": "execute_result"
    }
   ],
   "source": [
    "num(999)"
   ]
  },
  {
   "cell_type": "code",
   "execution_count": 51,
   "id": "f3165d1a",
   "metadata": {
    "ExecuteTime": {
     "end_time": "2022-05-29T05:16:57.019661Z",
     "start_time": "2022-05-29T05:16:56.917Z"
    }
   },
   "outputs": [
    {
     "data": {
      "text/html": [
       "<div class=\"jp-RenderedText\">\n",
       "<pre><code><span style=\"color: rgb(0, 187, 187)\"><span class=\"ansi-cyan-fg\">x</span></span>: <span style=\"color: rgb(0, 187, 0)\"><span class=\"ansi-green-fg\">LazyList</span></span>[<span style=\"color: rgb(0, 187, 0)\"><span class=\"ansi-green-fg\">Int</span></span>] = <span style=\"color: white\"><span class=\"ansi-white-fg\">[lazy]</span></span>\n",
       "<span style=\"color: rgb(0, 187, 187)\"><span class=\"ansi-cyan-fg\">res50_1</span></span>: <span style=\"color: rgb(0, 187, 0)\"><span class=\"ansi-green-fg\">List</span></span>[<span style=\"color: rgb(0, 187, 0)\"><span class=\"ansi-green-fg\">Int</span></span>] = <span style=\"color: yellow\"><span class=\"ansi-yellow-fg\">List</span></span>(<span style=\"color: rgb(0, 187, 0)\"><span class=\"ansi-green-fg\">2</span></span>, <span style=\"color: rgb(0, 187, 0)\"><span class=\"ansi-green-fg\">2</span></span>, <span style=\"color: rgb(0, 187, 0)\"><span class=\"ansi-green-fg\">2</span></span>, <span style=\"color: rgb(0, 187, 0)\"><span class=\"ansi-green-fg\">2</span></span>)</code></pre>\n",
       "</div>"
      ],
      "text/plain": [
       "\u001b[36mx\u001b[39m: \u001b[32mLazyList\u001b[39m[\u001b[32mInt\u001b[39m] = \u001b[37m[lazy]\u001b[39m\n",
       "\u001b[36mres50_1\u001b[39m: \u001b[32mList\u001b[39m[\u001b[32mInt\u001b[39m] = \u001b[33mList\u001b[39m(\u001b[32m2\u001b[39m, \u001b[32m2\u001b[39m, \u001b[32m2\u001b[39m, \u001b[32m2\u001b[39m)"
      ]
     },
     "metadata": {},
     "output_type": "display_data"
    }
   ],
   "source": [
    "lazy val x = LazyList.continually(2)\n",
    "x.take(4).toList"
   ]
  },
  {
   "cell_type": "code",
   "execution_count": 55,
   "id": "6750a267",
   "metadata": {
    "ExecuteTime": {
     "end_time": "2022-05-29T05:33:17.667611Z",
     "start_time": "2022-05-29T05:33:17.577Z"
    }
   },
   "outputs": [
    {
     "data": {
      "text/plain": [
       "\u001b[36mres54\u001b[39m: \u001b[32mLazyList\u001b[39m[\u001b[32mInt\u001b[39m] = \u001b[33mLazyList\u001b[39m(\u001b[32m0\u001b[39m, \u001b[32m2\u001b[39m, \u001b[32m4\u001b[39m, \u001b[32m6\u001b[39m, \u001b[32m8\u001b[39m)"
      ]
     },
     "execution_count": 55,
     "metadata": {},
     "output_type": "execute_result"
    }
   ],
   "source": [
    "x.scanLeft(0)(_ + _ ).takeWhile ( _ < 10)"
   ]
  },
  {
   "cell_type": "code",
   "execution_count": 56,
   "id": "b67c1269",
   "metadata": {
    "ExecuteTime": {
     "end_time": "2022-05-29T05:39:59.986655Z",
     "start_time": "2022-05-29T05:39:59.877Z"
    }
   },
   "outputs": [
    {
     "data": {
      "text/plain": [
       "\u001b[36mres55\u001b[39m: \u001b[32mInt\u001b[39m = \u001b[32m6\u001b[39m"
      ]
     },
     "execution_count": 56,
     "metadata": {},
     "output_type": "execute_result"
    }
   ],
   "source": [
    "List(1,2,3).reduceLeft(_+_)"
   ]
  },
  {
   "cell_type": "code",
   "execution_count": 57,
   "id": "0ee7c98c",
   "metadata": {
    "ExecuteTime": {
     "end_time": "2022-05-29T05:40:18.582274Z",
     "start_time": "2022-05-29T05:40:18.485Z"
    }
   },
   "outputs": [
    {
     "data": {
      "text/plain": [
       "\u001b[36mres56\u001b[39m: \u001b[32mList\u001b[39m[\u001b[32mInt\u001b[39m] = \u001b[33mList\u001b[39m(\u001b[32m0\u001b[39m, \u001b[32m1\u001b[39m, \u001b[32m3\u001b[39m, \u001b[32m6\u001b[39m)"
      ]
     },
     "execution_count": 57,
     "metadata": {},
     "output_type": "execute_result"
    }
   ],
   "source": [
    "List(1,2,3).scanLeft(0)(_+_)"
   ]
  },
  {
   "cell_type": "code",
   "execution_count": 58,
   "id": "ca3139eb",
   "metadata": {
    "ExecuteTime": {
     "end_time": "2022-05-29T05:40:37.517873Z",
     "start_time": "2022-05-29T05:40:37.427Z"
    }
   },
   "outputs": [
    {
     "data": {
      "text/plain": [
       "\u001b[36mres57\u001b[39m: \u001b[32mInt\u001b[39m = \u001b[32m6\u001b[39m"
      ]
     },
     "execution_count": 58,
     "metadata": {},
     "output_type": "execute_result"
    }
   ],
   "source": [
    "List(1,2,3).foldLeft(0)(_+_)"
   ]
  },
  {
   "cell_type": "code",
   "execution_count": 71,
   "id": "8fe449fd",
   "metadata": {
    "ExecuteTime": {
     "end_time": "2022-05-29T06:23:07.948729Z",
     "start_time": "2022-05-29T06:23:07.854Z"
    }
   },
   "outputs": [
    {
     "data": {
      "text/plain": [
       "\u001b[36mres70\u001b[39m: \u001b[32mList\u001b[39m[\u001b[32mInt\u001b[39m] = \u001b[33mList\u001b[39m(\u001b[32m2\u001b[39m, \u001b[32m2\u001b[39m, \u001b[32m2\u001b[39m, \u001b[32m2\u001b[39m, \u001b[32m2\u001b[39m, \u001b[32m2\u001b[39m, \u001b[32m2\u001b[39m, \u001b[32m2\u001b[39m, \u001b[32m2\u001b[39m, \u001b[32m2\u001b[39m)"
      ]
     },
     "execution_count": 71,
     "metadata": {},
     "output_type": "execute_result"
    }
   ],
   "source": [
    "List.fill(10)(2)"
   ]
  },
  {
   "cell_type": "code",
   "execution_count": null,
   "id": "4929823a",
   "metadata": {},
   "outputs": [],
   "source": []
  },
  {
   "cell_type": "markdown",
   "id": "947db649",
   "metadata": {},
   "source": [
    "# ScanLeft"
   ]
  },
  {
   "cell_type": "code",
   "execution_count": 72,
   "id": "b7e20377",
   "metadata": {
    "ExecuteTime": {
     "end_time": "2022-05-29T06:23:20.410510Z",
     "start_time": "2022-05-29T06:23:20.298Z"
    }
   },
   "outputs": [
    {
     "data": {
      "text/plain": [
       "\u001b[36mres71\u001b[39m: \u001b[32mList\u001b[39m[(\u001b[32mInt\u001b[39m, \u001b[32mInt\u001b[39m)] = \u001b[33mList\u001b[39m((\u001b[32m0\u001b[39m, \u001b[32m0\u001b[39m), (\u001b[32m2\u001b[39m, \u001b[32m0\u001b[39m), (\u001b[32m4\u001b[39m, \u001b[32m1\u001b[39m), (\u001b[32m6\u001b[39m, \u001b[32m2\u001b[39m), (\u001b[32m8\u001b[39m, \u001b[32m3\u001b[39m), (\u001b[32m10\u001b[39m, \u001b[32m4\u001b[39m))"
      ]
     },
     "execution_count": 72,
     "metadata": {},
     "output_type": "execute_result"
    }
   ],
   "source": [
    "List.fill(10)(2).zipWithIndex.scanLeft((0,0)){case (acc, el) => (acc._1 + el._1, el._2)}.takeWhile(_._1 <= 10)"
   ]
  },
  {
   "cell_type": "markdown",
   "id": "37aef161",
   "metadata": {},
   "source": [
    "```\n",
    "collection[C].\n",
    "    foldLeft(acc_init[A])(case (acc[A], c[C]) => acc_iter[A])\n",
    "```\n",
    "\n",
    "- acc_iter[A] provides formula for iterating accumulator with initial state `acc_init` and collection element c[C]\n",
    "- acc_init[A] provides initial state and structure that would be returned\n",
    "- acc[A], acc_iter[A], acc_init[A] all share the desired format\n",
    "- c[C] in case pattern matching denotes collection element ( which is (el,index) in the below example)\n",
    "\n",
    "\n",
    "To build `foldLeft`:\n",
    "\n",
    "1. Start with case:\n",
    "    - first element, which mimics structure of the collection's element\n",
    "    - then accumulator\n",
    "2. Provide formula for building accumulator\n",
    "3. Fix initial values for accumulator"
   ]
  },
  {
   "cell_type": "markdown",
   "id": "9be0f374",
   "metadata": {},
   "source": [
    "# Continually"
   ]
  },
  {
   "cell_type": "code",
   "execution_count": 1,
   "id": "a735e5ce",
   "metadata": {
    "ExecuteTime": {
     "end_time": "2022-05-29T07:17:10.299125Z",
     "start_time": "2022-05-29T07:17:09.259Z"
    }
   },
   "outputs": [
    {
     "data": {
      "text/plain": [
       "\u001b[36mres0\u001b[39m: \u001b[32mLazyList\u001b[39m[(\u001b[32mInt\u001b[39m, \u001b[32mInt\u001b[39m)] = \u001b[33mLazyList\u001b[39m(\n",
       "  (\u001b[32m0\u001b[39m, \u001b[32m0\u001b[39m),\n",
       "  (\u001b[32m2\u001b[39m, \u001b[32m0\u001b[39m),\n",
       "  (\u001b[32m4\u001b[39m, \u001b[32m1\u001b[39m),\n",
       "  (\u001b[32m6\u001b[39m, \u001b[32m2\u001b[39m),\n",
       "  (\u001b[32m8\u001b[39m, \u001b[32m3\u001b[39m),\n",
       "  (\u001b[32m10\u001b[39m, \u001b[32m4\u001b[39m)\n",
       ")"
      ]
     },
     "execution_count": 1,
     "metadata": {},
     "output_type": "execute_result"
    }
   ],
   "source": [
    "LazyList.\n",
    "    continually(2).\n",
    "    zipWithIndex.\n",
    "    scanLeft((0,0)){case (acc, el) => (acc._1 + el._1, el._2)}.\n",
    "    takeWhile(_._1 <= 10)"
   ]
  },
  {
   "cell_type": "code",
   "execution_count": 6,
   "id": "318b6f3e",
   "metadata": {
    "ExecuteTime": {
     "end_time": "2022-05-29T13:51:23.302983Z",
     "start_time": "2022-05-29T13:51:23.079Z"
    }
   },
   "outputs": [
    {
     "data": {
      "text/plain": [
       "\u001b[36mres5\u001b[39m: \u001b[32mInt\u001b[39m = \u001b[32m6\u001b[39m"
      ]
     },
     "execution_count": 6,
     "metadata": {},
     "output_type": "execute_result"
    }
   ],
   "source": [
    "LazyList.\n",
    "    continually(2).\n",
    "    scanLeft(0)(_+_).\n",
    "    zipWithIndex.\n",
    "    collectFirst{ case (acc, idx) if (acc>10) => idx}.\n",
    "    getOrElse(0)"
   ]
  },
  {
   "cell_type": "markdown",
   "id": "d65b97cb",
   "metadata": {},
   "source": [
    "# From"
   ]
  },
  {
   "cell_type": "code",
   "execution_count": 1,
   "id": "4c5a72d1",
   "metadata": {
    "ExecuteTime": {
     "end_time": "2022-05-29T14:05:50.784010Z",
     "start_time": "2022-05-29T14:05:49.010Z"
    }
   },
   "outputs": [
    {
     "data": {
      "text/plain": [
       "\u001b[36mres0\u001b[39m: \u001b[32mInt\u001b[39m = \u001b[32m200\u001b[39m"
      ]
     },
     "execution_count": 1,
     "metadata": {},
     "output_type": "execute_result"
    }
   ],
   "source": [
    "LazyList.\n",
    "    from(3,5).\n",
    "    zipWithIndex.collectFirst{ case (el, idx) if (el > 1000) => idx}.\n",
    "    getOrElse(0)"
   ]
  },
  {
   "cell_type": "code",
   "execution_count": null,
   "id": "d806255f",
   "metadata": {},
   "outputs": [],
   "source": [
    "def unfold1[S, A](init: S)(f: S => Option[(A, S)]): List[A] =\n",
    "  f(init) match {\n",
    "    case None => Nil\n",
    "    case Some((a, next)) => a :: unfold1(init = next)(f)\n",
    "  }\n",
    "\n",
    "def unfold2[S, A](init: S)(f: S => Option[(A, S)]): List[A] = {\n",
    "  @annotation.tailrec\n",
    "  def loop(current: S, acc: List[A]): List[A] =\n",
    "    f(current) match {\n",
    "      case Some((a, next)) =>\n",
    "        loop(current = next, a :: acc)\n",
    "      \n",
    "      case None =>\n",
    "        acc.reverse\n",
    "    }\n",
    "  \n",
    "  loop(current = init, acc = List.empty)\n",
    "}\n",
    "\n",
    "\n",
    "val fib1 = unfold1(init = (0, 1)) {\n",
    "  case (x1, x2) =>\n",
    "    val x3 = x1 + x2\n",
    "  \n",
    "    // stop before too late\n",
    "    if (x3 >= 100) None\n",
    "    else Some((x3, (x2, x3)))\n",
    "}\n",
    "println(fib1)\n",
    "\n",
    "val fib2 = unfold2(init = (0, 1)) {\n",
    "  case (x1, x2) =>\n",
    "    val x3 = x1 + x2\n",
    "  \n",
    "    // stop before too late\n",
    "    if (x3 >= 100) None\n",
    "    else Some((x3, (x2, x3)))\n",
    "}\n",
    "println(fib2)"
   ]
  }
 ],
 "metadata": {
  "kernelspec": {
   "display_name": "Scala_2,13",
   "language": "scala",
   "name": "scala"
  },
  "language_info": {
   "codemirror_mode": "text/x-scala",
   "file_extension": ".sc",
   "mimetype": "text/x-scala",
   "name": "scala",
   "nbconvert_exporter": "script",
   "version": "2.13.5"
  },
  "toc": {
   "base_numbering": 1,
   "nav_menu": {},
   "number_sections": true,
   "sideBar": true,
   "skip_h1_title": false,
   "title_cell": "Table of Contents",
   "title_sidebar": "Contents",
   "toc_cell": true,
   "toc_position": {},
   "toc_section_display": true,
   "toc_window_display": false
  }
 },
 "nbformat": 4,
 "nbformat_minor": 5
}
