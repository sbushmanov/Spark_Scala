{
 "cells": [
  {
   "cell_type": "markdown",
   "id": "f94b71f0",
   "metadata": {
    "toc": true
   },
   "source": [
    "<h1>Table of Contents<span class=\"tocSkip\"></span></h1>\n",
    "<div class=\"toc\"><ul class=\"toc-item\"><li><span><a href=\"#Unzip\" data-toc-modified-id=\"Unzip-1\"><span class=\"toc-item-num\">1&nbsp;&nbsp;</span>Unzip</a></span></li><li><span><a href=\"#Slice\" data-toc-modified-id=\"Slice-2\"><span class=\"toc-item-num\">2&nbsp;&nbsp;</span>Slice</a></span></li><li><span><a href=\"#Sliding\" data-toc-modified-id=\"Sliding-3\"><span class=\"toc-item-num\">3&nbsp;&nbsp;</span>Sliding</a></span></li><li><span><a href=\"#Grouping\" data-toc-modified-id=\"Grouping-4\"><span class=\"toc-item-num\">4&nbsp;&nbsp;</span>Grouping</a></span></li><li><span><a href=\"#Fold-and-Reduce\" data-toc-modified-id=\"Fold-and-Reduce-5\"><span class=\"toc-item-num\">5&nbsp;&nbsp;</span>Fold and Reduce</a></span></li><li><span><a href=\"#scanLeft\" data-toc-modified-id=\"scanLeft-6\"><span class=\"toc-item-num\">6&nbsp;&nbsp;</span>scanLeft</a></span></li><li><span><a href=\"#Distinct\" data-toc-modified-id=\"Distinct-7\"><span class=\"toc-item-num\">7&nbsp;&nbsp;</span>Distinct</a></span></li><li><span><a href=\"#Using-Case-classes-for-custom-collections\" data-toc-modified-id=\"Using-Case-classes-for-custom-collections-8\"><span class=\"toc-item-num\">8&nbsp;&nbsp;</span>Using Case classes for custom collections</a></span></li><li><span><a href=\"#Concat,-Intersect-and-diff\" data-toc-modified-id=\"Concat,-Intersect-and-diff-9\"><span class=\"toc-item-num\">9&nbsp;&nbsp;</span>Concat, Intersect and diff</a></span></li><li><span><a href=\"#Randomizing\" data-toc-modified-id=\"Randomizing-10\"><span class=\"toc-item-num\">10&nbsp;&nbsp;</span>Randomizing</a></span></li><li><span><a href=\"#Sorting\" data-toc-modified-id=\"Sorting-11\"><span class=\"toc-item-num\">11&nbsp;&nbsp;</span>Sorting</a></span></li><li><span><a href=\"#mkString\" data-toc-modified-id=\"mkString-12\"><span class=\"toc-item-num\">12&nbsp;&nbsp;</span>mkString</a></span></li></ul></div>"
   ]
  },
  {
   "cell_type": "markdown",
   "id": "4390609d",
   "metadata": {},
   "source": [
    "Prepend"
   ]
  },
  {
   "cell_type": "code",
   "execution_count": 6,
   "id": "a511fdce",
   "metadata": {
    "ExecuteTime": {
     "end_time": "2022-05-22T09:05:27.717072Z",
     "start_time": "2022-05-22T09:05:27.463Z"
    }
   },
   "outputs": [
    {
     "data": {
      "text/plain": [
       "\u001b[36mres5\u001b[39m: \u001b[32mList\u001b[39m[\u001b[32mInt\u001b[39m] = \u001b[33mList\u001b[39m(\u001b[32m0\u001b[39m, \u001b[32m1\u001b[39m, \u001b[32m2\u001b[39m, \u001b[32m3\u001b[39m)"
      ]
     },
     "execution_count": 6,
     "metadata": {},
     "output_type": "execute_result"
    }
   ],
   "source": [
    "0 :: List(1,2,3)"
   ]
  },
  {
   "cell_type": "markdown",
   "id": "bb29e413",
   "metadata": {},
   "source": [
    "Append"
   ]
  },
  {
   "cell_type": "code",
   "execution_count": 7,
   "id": "acce3447",
   "metadata": {
    "ExecuteTime": {
     "end_time": "2022-05-22T09:05:47.931913Z",
     "start_time": "2022-05-22T09:05:47.724Z"
    }
   },
   "outputs": [
    {
     "data": {
      "text/plain": [
       "\u001b[36mres6\u001b[39m: \u001b[32mList\u001b[39m[\u001b[32mInt\u001b[39m] = \u001b[33mList\u001b[39m(\u001b[32m1\u001b[39m, \u001b[32m2\u001b[39m, \u001b[32m3\u001b[39m, \u001b[32m4\u001b[39m)"
      ]
     },
     "execution_count": 7,
     "metadata": {},
     "output_type": "execute_result"
    }
   ],
   "source": [
    "List(1,2,3) :+ 4"
   ]
  },
  {
   "cell_type": "markdown",
   "id": "ddc3d0a9",
   "metadata": {},
   "source": [
    "Collect uses **Partial** function"
   ]
  },
  {
   "cell_type": "code",
   "execution_count": 3,
   "id": "fea8f670",
   "metadata": {
    "ExecuteTime": {
     "end_time": "2022-05-01T05:48:49.055418Z",
     "start_time": "2022-05-01T05:48:48.752Z"
    }
   },
   "outputs": [
    {
     "data": {
      "text/plain": [
       "\u001b[36mres2\u001b[39m: \u001b[32mList\u001b[39m[\u001b[32mInt\u001b[39m] = \u001b[33mList\u001b[39m(\u001b[32m0\u001b[39m, \u001b[32m2\u001b[39m, \u001b[32m4\u001b[39m, \u001b[32m6\u001b[39m, \u001b[32m8\u001b[39m)"
      ]
     },
     "execution_count": 3,
     "metadata": {},
     "output_type": "execute_result"
    }
   ],
   "source": [
    "List.range(0,10).collect {case x if (x % 2 == 0) => x}"
   ]
  },
  {
   "cell_type": "code",
   "execution_count": 4,
   "id": "e37f99f8",
   "metadata": {
    "ExecuteTime": {
     "end_time": "2022-05-01T05:49:41.839753Z",
     "start_time": "2022-05-01T05:49:41.583Z"
    }
   },
   "outputs": [
    {
     "data": {
      "text/plain": [
       "\u001b[36mres3\u001b[39m: \u001b[32mList\u001b[39m[\u001b[32mInt\u001b[39m] = \u001b[33mList\u001b[39m(\u001b[32m0\u001b[39m, \u001b[32m2\u001b[39m, \u001b[32m4\u001b[39m, \u001b[32m6\u001b[39m, \u001b[32m8\u001b[39m)"
      ]
     },
     "execution_count": 4,
     "metadata": {},
     "output_type": "execute_result"
    }
   ],
   "source": [
    "List.range(0,10,2)"
   ]
  },
  {
   "cell_type": "code",
   "execution_count": 29,
   "id": "7cd74cbe",
   "metadata": {
    "ExecuteTime": {
     "end_time": "2022-05-01T06:10:58.686276Z",
     "start_time": "2022-05-01T06:10:58.565Z"
    }
   },
   "outputs": [
    {
     "data": {
      "text/plain": [
       "\u001b[36mres28\u001b[39m: \u001b[32mList\u001b[39m[\u001b[32mInt\u001b[39m] = \u001b[33mList\u001b[39m(\u001b[32m5\u001b[39m, \u001b[32m6\u001b[39m, \u001b[32m7\u001b[39m, \u001b[32m8\u001b[39m, \u001b[32m9\u001b[39m)"
      ]
     },
     "execution_count": 29,
     "metadata": {},
     "output_type": "execute_result"
    }
   ],
   "source": [
    "List.range(0,10).dropWhile(_ != 5 )"
   ]
  },
  {
   "cell_type": "code",
   "execution_count": 28,
   "id": "14717e48",
   "metadata": {
    "ExecuteTime": {
     "end_time": "2022-05-01T06:10:19.968253Z",
     "start_time": "2022-05-01T06:10:19.844Z"
    }
   },
   "outputs": [
    {
     "data": {
      "text/plain": [
       "\u001b[36mres27\u001b[39m: \u001b[32mList\u001b[39m[\u001b[32mInt\u001b[39m] = \u001b[33mList\u001b[39m(\u001b[32m0\u001b[39m, \u001b[32m1\u001b[39m, \u001b[32m2\u001b[39m, \u001b[32m3\u001b[39m, \u001b[32m4\u001b[39m)"
      ]
     },
     "execution_count": 28,
     "metadata": {},
     "output_type": "execute_result"
    }
   ],
   "source": [
    "List.range(0,10).takeWhile(_ != 5)"
   ]
  },
  {
   "cell_type": "code",
   "execution_count": 15,
   "id": "5ae38a10",
   "metadata": {
    "ExecuteTime": {
     "end_time": "2022-05-01T05:56:10.010765Z",
     "start_time": "2022-05-01T05:56:09.872Z"
    }
   },
   "outputs": [
    {
     "data": {
      "text/plain": [
       "\u001b[36mres14\u001b[39m: \u001b[32mBoolean\u001b[39m = true"
      ]
     },
     "execution_count": 15,
     "metadata": {},
     "output_type": "execute_result"
    }
   ],
   "source": [
    "List(1,2,1).exists(_==1)"
   ]
  },
  {
   "cell_type": "code",
   "execution_count": 16,
   "id": "6ac09d88",
   "metadata": {
    "ExecuteTime": {
     "end_time": "2022-05-01T05:56:54.477944Z",
     "start_time": "2022-05-01T05:56:54.332Z"
    }
   },
   "outputs": [
    {
     "data": {
      "text/plain": [
       "\u001b[36mres15\u001b[39m: \u001b[32mOption\u001b[39m[\u001b[32mInt\u001b[39m] = \u001b[33mSome\u001b[39m(value = \u001b[32m1\u001b[39m)"
      ]
     },
     "execution_count": 16,
     "metadata": {},
     "output_type": "execute_result"
    }
   ],
   "source": [
    "List(1,2,1).find(_==1)"
   ]
  },
  {
   "cell_type": "code",
   "execution_count": 17,
   "id": "e944c671",
   "metadata": {
    "ExecuteTime": {
     "end_time": "2022-05-01T05:57:42.070570Z",
     "start_time": "2022-05-01T05:57:41.942Z"
    }
   },
   "outputs": [
    {
     "data": {
      "text/plain": [
       "\u001b[36mres16\u001b[39m: \u001b[32mInt\u001b[39m = \u001b[32m0\u001b[39m"
      ]
     },
     "execution_count": 17,
     "metadata": {},
     "output_type": "execute_result"
    }
   ],
   "source": [
    "List(1,2,1).indexOf(1)"
   ]
  },
  {
   "cell_type": "markdown",
   "id": "2b11cdca",
   "metadata": {},
   "source": [
    "Left associative"
   ]
  },
  {
   "cell_type": "code",
   "execution_count": 19,
   "id": "39790618",
   "metadata": {
    "ExecuteTime": {
     "end_time": "2022-05-01T06:01:16.311118Z",
     "start_time": "2022-05-01T06:01:16.170Z"
    }
   },
   "outputs": [
    {
     "data": {
      "text/plain": [
       "\u001b[36mres18\u001b[39m: \u001b[32mInt\u001b[39m = \u001b[32m6\u001b[39m"
      ]
     },
     "execution_count": 19,
     "metadata": {},
     "output_type": "execute_result"
    }
   ],
   "source": [
    "List(1,2,3).foldLeft(0)(_+_)"
   ]
  },
  {
   "cell_type": "markdown",
   "id": "759c7b33",
   "metadata": {},
   "source": [
    "`0` below is initial `acc` value"
   ]
  },
  {
   "cell_type": "code",
   "execution_count": 4,
   "id": "0f0b6801",
   "metadata": {
    "ExecuteTime": {
     "end_time": "2022-05-22T12:49:19.010325Z",
     "start_time": "2022-05-22T12:49:18.780Z"
    }
   },
   "outputs": [
    {
     "data": {
      "text/plain": [
       "\u001b[36mres3\u001b[39m: \u001b[32mInt\u001b[39m = \u001b[32m6\u001b[39m"
      ]
     },
     "execution_count": 4,
     "metadata": {},
     "output_type": "execute_result"
    }
   ],
   "source": [
    "(0 /: List(1,2,3)) { (acc,y) => acc+y}"
   ]
  },
  {
   "cell_type": "code",
   "execution_count": 5,
   "id": "f93c0848",
   "metadata": {
    "ExecuteTime": {
     "end_time": "2022-05-22T08:37:14.575455Z",
     "start_time": "2022-05-22T08:37:14.352Z"
    }
   },
   "outputs": [
    {
     "name": "stdout",
     "output_type": "stream",
     "text": [
      "Start sum is 0. Supplied x is 1. Resulting sum is 1\n",
      "Start sum is 1. Supplied x is 2. Resulting sum is 3\n",
      "Start sum is 3. Supplied x is 3. Resulting sum is 6\n"
     ]
    },
    {
     "data": {
      "text/plain": [
       "\u001b[36mres4\u001b[39m: \u001b[32mInt\u001b[39m = \u001b[32m6\u001b[39m"
      ]
     },
     "execution_count": 5,
     "metadata": {},
     "output_type": "execute_result"
    }
   ],
   "source": [
    "List(1,2,3).foldLeft(0)((sum,x)=> {\n",
    "    println(s\"Start sum is ${sum}. Supplied x is ${x}. Resulting sum is ${sum+x}\")\n",
    "    sum+x\n",
    "})"
   ]
  },
  {
   "cell_type": "code",
   "execution_count": 21,
   "id": "96ff7c4f",
   "metadata": {
    "ExecuteTime": {
     "end_time": "2022-05-01T06:05:40.753940Z",
     "start_time": "2022-05-01T06:05:40.599Z"
    }
   },
   "outputs": [
    {
     "name": "stdout",
     "output_type": "stream",
     "text": [
      "X is 0\n",
      "Y is 1\n",
      "X is 1\n",
      "Y is 2\n",
      "X is 3\n",
      "Y is 3\n"
     ]
    },
    {
     "data": {
      "text/plain": [
       "\u001b[36mres20\u001b[39m: \u001b[32mInt\u001b[39m = \u001b[32m6\u001b[39m"
      ]
     },
     "execution_count": 21,
     "metadata": {},
     "output_type": "execute_result"
    }
   ],
   "source": [
    "List(1, 2, 3).foldLeft(0)((x:Int, y:Int) => {\n",
    "    println(s\"X is $x\")\n",
    "    println(s\"Y is $y\")\n",
    "    x+y\n",
    "})"
   ]
  },
  {
   "cell_type": "markdown",
   "id": "2dcfb884",
   "metadata": {},
   "source": [
    "Right associative"
   ]
  },
  {
   "cell_type": "code",
   "execution_count": 20,
   "id": "4302b203",
   "metadata": {
    "ExecuteTime": {
     "end_time": "2022-05-01T06:04:32.604263Z",
     "start_time": "2022-05-01T06:04:32.461Z"
    }
   },
   "outputs": [
    {
     "name": "stdout",
     "output_type": "stream",
     "text": [
      "X is 3\n",
      "Y is 0\n",
      "X is 2\n",
      "Y is 3\n",
      "X is 1\n",
      "Y is 5\n"
     ]
    },
    {
     "data": {
      "text/plain": [
       "\u001b[36mres19\u001b[39m: \u001b[32mInt\u001b[39m = \u001b[32m6\u001b[39m"
      ]
     },
     "execution_count": 20,
     "metadata": {},
     "output_type": "execute_result"
    }
   ],
   "source": [
    "List(1, 2, 3).foldRight(0)((x:Int, y:Int) => {\n",
    "    println(s\"X is $x\")\n",
    "    println(s\"Y is $y\")\n",
    "    x+y\n",
    "})"
   ]
  },
  {
   "cell_type": "code",
   "execution_count": 30,
   "id": "3902e324",
   "metadata": {
    "ExecuteTime": {
     "end_time": "2022-05-01T06:26:36.946379Z",
     "start_time": "2022-05-01T06:26:36.776Z"
    }
   },
   "outputs": [
    {
     "name": "stdout",
     "output_type": "stream",
     "text": [
      "(9,0)\n",
      "(8,1)\n",
      "(7,2)\n"
     ]
    }
   ],
   "source": [
    "for ((el, i) <- List(9,8,7).zipWithIndex)\n",
    "    println(el, i)"
   ]
  },
  {
   "cell_type": "code",
   "execution_count": 34,
   "id": "4dabf879",
   "metadata": {
    "ExecuteTime": {
     "end_time": "2022-05-01T06:35:34.689754Z",
     "start_time": "2022-05-01T06:35:34.552Z"
    }
   },
   "outputs": [
    {
     "name": "stdout",
     "output_type": "stream",
     "text": [
      "(9,0)\n",
      "(8,1)\n",
      "(7,2)\n"
     ]
    }
   ],
   "source": [
    "List(9,8,7).zipWithIndex.foreach { case (el, i) => println(el, i)}"
   ]
  },
  {
   "cell_type": "markdown",
   "id": "87f3dbaf",
   "metadata": {},
   "source": [
    "`Foreach` must be `for each` literally like `map`"
   ]
  },
  {
   "cell_type": "code",
   "execution_count": 33,
   "id": "6576f999",
   "metadata": {
    "ExecuteTime": {
     "end_time": "2022-05-01T06:32:09.377241Z",
     "start_time": "2022-05-01T06:32:09.240Z"
    }
   },
   "outputs": [
    {
     "name": "stdout",
     "output_type": "stream",
     "text": [
      "(9,0)\n"
     ]
    },
    {
     "ename": "",
     "evalue": "",
     "output_type": "error",
     "traceback": [
      "\u001b[31mscala.MatchError: (8,1) (of class scala.Tuple2)\u001b[39m\n  ammonite.$sess.cmd32$Helper.$anonfun$res32$1(\u001b[32mcmd32.sc\u001b[39m:\u001b[32m1\u001b[39m)\n  ammonite.$sess.cmd32$Helper.$anonfun$res32$1$adapted(\u001b[32mcmd32.sc\u001b[39m:\u001b[32m1\u001b[39m)\n  scala.collection.immutable.List.foreach(\u001b[32mList.scala\u001b[39m:\u001b[32m333\u001b[39m)\n  ammonite.$sess.cmd32$Helper.<init>(\u001b[32mcmd32.sc\u001b[39m:\u001b[32m1\u001b[39m)\n  ammonite.$sess.cmd32$.<clinit>(\u001b[32mcmd32.sc\u001b[39m:\u001b[32m7\u001b[39m)"
     ]
    }
   ],
   "source": [
    "List(9,8,7).zipWithIndex.foreach { case (el, i) if (i%2 == 0) => println(el, i)}"
   ]
  },
  {
   "cell_type": "code",
   "execution_count": 36,
   "id": "d92ec814",
   "metadata": {
    "ExecuteTime": {
     "end_time": "2022-05-01T06:39:59.577167Z",
     "start_time": "2022-05-01T06:39:59.465Z"
    }
   },
   "outputs": [
    {
     "name": "stdout",
     "output_type": "stream",
     "text": [
      "(9,0)\n",
      "(7,2)\n"
     ]
    }
   ],
   "source": [
    "List(9,8,7).zipWithIndex.filter {case (el, i) => i%2 == 0}.foreach(println)"
   ]
  },
  {
   "cell_type": "code",
   "execution_count": 38,
   "id": "7e3c5d10",
   "metadata": {
    "ExecuteTime": {
     "end_time": "2022-05-01T08:50:09.644956Z",
     "start_time": "2022-05-01T08:50:09.540Z"
    }
   },
   "outputs": [
    {
     "name": "stdout",
     "output_type": "stream",
     "text": [
      "(9,7)\n",
      "(8,8)\n",
      "(7,9)\n"
     ]
    }
   ],
   "source": [
    "List(9,8,7).zip(LazyList from 7).foreach {t => \n",
    "    println(t._1, t._2)}"
   ]
  },
  {
   "cell_type": "markdown",
   "id": "c6b08295",
   "metadata": {},
   "source": [
    "Lazy zipping"
   ]
  },
  {
   "cell_type": "code",
   "execution_count": 47,
   "id": "9be643dd",
   "metadata": {
    "ExecuteTime": {
     "end_time": "2022-05-01T09:03:51.345258Z",
     "start_time": "2022-05-01T09:03:51.214Z"
    }
   },
   "outputs": [
    {
     "data": {
      "text/plain": [
       "\u001b[36mres46\u001b[39m: \u001b[32mcollection\u001b[39m.\u001b[32mView\u001b[39m[(\u001b[32mInt\u001b[39m, \u001b[32mInt\u001b[39m)] = \u001b[33mView\u001b[39m(\n",
       "  (\u001b[32m0\u001b[39m, \u001b[32m0\u001b[39m),\n",
       "  (\u001b[32m2\u001b[39m, \u001b[32m2\u001b[39m),\n",
       "  (\u001b[32m4\u001b[39m, \u001b[32m4\u001b[39m),\n",
       "  (\u001b[32m6\u001b[39m, \u001b[32m6\u001b[39m),\n",
       "  (\u001b[32m8\u001b[39m, \u001b[32m8\u001b[39m)\n",
       ")"
      ]
     },
     "execution_count": 47,
     "metadata": {},
     "output_type": "execute_result"
    }
   ],
   "source": [
    "List.range(0,10).view.zipWithIndex.filter {_._2 %2 == 0}"
   ]
  },
  {
   "cell_type": "markdown",
   "id": "cc0e6001",
   "metadata": {},
   "source": [
    "# Unzip"
   ]
  },
  {
   "cell_type": "code",
   "execution_count": 25,
   "id": "1859b502",
   "metadata": {
    "ExecuteTime": {
     "end_time": "2022-05-01T15:25:54.802735Z",
     "start_time": "2022-05-01T15:25:54.627Z"
    }
   },
   "outputs": [
    {
     "data": {
      "text/plain": [
       "\u001b[36mlts2\u001b[39m: \u001b[32mList\u001b[39m[(\u001b[32mAnyVal\u001b[39m, \u001b[32mAnyVal\u001b[39m)] = \u001b[33mList\u001b[39m((\u001b[32m1\u001b[39m, \u001b[32m2\u001b[39m), (\u001b[32m'a'\u001b[39m, \u001b[32m'b'\u001b[39m), (\u001b[32m77\u001b[39m, \u001b[32m99\u001b[39m))\n",
       "\u001b[36ma\u001b[39m: \u001b[32mList\u001b[39m[\u001b[32mAnyVal\u001b[39m] = \u001b[33mList\u001b[39m(\u001b[32m1\u001b[39m, \u001b[32m'a'\u001b[39m, \u001b[32m77\u001b[39m)\n",
       "\u001b[36mb\u001b[39m: \u001b[32mList\u001b[39m[\u001b[32mAnyVal\u001b[39m] = \u001b[33mList\u001b[39m(\u001b[32m2\u001b[39m, \u001b[32m'b'\u001b[39m, \u001b[32m99\u001b[39m)"
      ]
     },
     "execution_count": 25,
     "metadata": {},
     "output_type": "execute_result"
    }
   ],
   "source": [
    "val lts2 = List((1,2), ('a','b'), (77,99))\n",
    "val (a,b) = lts2.unzip"
   ]
  },
  {
   "cell_type": "markdown",
   "id": "95e2ae0b",
   "metadata": {},
   "source": [
    "Default `IndexedSeq` is `Vector`"
   ]
  },
  {
   "cell_type": "code",
   "execution_count": 48,
   "id": "bd275359",
   "metadata": {
    "ExecuteTime": {
     "end_time": "2022-05-01T09:10:20.558433Z",
     "start_time": "2022-05-01T09:10:20.449Z"
    }
   },
   "outputs": [
    {
     "data": {
      "text/plain": [
       "\u001b[36mres47\u001b[39m: \u001b[32mIndexedSeq\u001b[39m[\u001b[32mInt\u001b[39m] = \u001b[33mVector\u001b[39m(\u001b[32m1\u001b[39m, \u001b[32m2\u001b[39m, \u001b[32m3\u001b[39m)"
      ]
     },
     "execution_count": 48,
     "metadata": {},
     "output_type": "execute_result"
    }
   ],
   "source": [
    "IndexedSeq(1,2,3)"
   ]
  },
  {
   "cell_type": "code",
   "execution_count": 49,
   "id": "b2326469",
   "metadata": {
    "ExecuteTime": {
     "end_time": "2022-05-01T09:13:03.376112Z",
     "start_time": "2022-05-01T09:13:03.238Z"
    }
   },
   "outputs": [
    {
     "data": {
      "text/plain": [
       "\u001b[36mres48\u001b[39m: \u001b[32mSeq\u001b[39m[\u001b[32mInt\u001b[39m] = \u001b[33mList\u001b[39m(\u001b[32m1\u001b[39m, \u001b[32m2\u001b[39m, \u001b[32m3\u001b[39m)"
      ]
     },
     "execution_count": 49,
     "metadata": {},
     "output_type": "execute_result"
    }
   ],
   "source": [
    "Seq(1,2,3)"
   ]
  },
  {
   "cell_type": "markdown",
   "id": "e1cdf98d",
   "metadata": {},
   "source": [
    "Default `LinearSeq` is `List`"
   ]
  },
  {
   "cell_type": "code",
   "execution_count": 51,
   "id": "349ae524",
   "metadata": {
    "ExecuteTime": {
     "end_time": "2022-05-01T09:15:25.806999Z",
     "start_time": "2022-05-01T09:15:25.665Z"
    }
   },
   "outputs": [
    {
     "data": {
      "text/plain": [
       "\u001b[32mimport \u001b[39m\u001b[36mscala.collection.LinearSeq\n",
       "\u001b[39m\n",
       "\u001b[36mres50_1\u001b[39m: \u001b[32mLinearSeq\u001b[39m[\u001b[32mInt\u001b[39m] = \u001b[33mList\u001b[39m(\u001b[32m1\u001b[39m, \u001b[32m2\u001b[39m, \u001b[32m3\u001b[39m)"
      ]
     },
     "execution_count": 51,
     "metadata": {},
     "output_type": "execute_result"
    }
   ],
   "source": [
    "import scala.collection.LinearSeq\n",
    "LinearSeq(1, 2, 3)"
   ]
  },
  {
   "cell_type": "markdown",
   "id": "9cd5188e",
   "metadata": {},
   "source": [
    "Signatures:\n",
    "\n",
    "```\n",
    "map(f:A => B): Seq[B]  //No guards allowed\n",
    "filter(p: (A) => Boolean): Seq[A]\n",
    "collect(pf: PartialFunction[A,B]): Seq[B]\n",
    "groupBy[K](f: A => K ): Map[K,A]\n",
    "partitionBy(p: (A) => Boolean): Tuple2[Seq[A], Seq[A]]\n",
    "```"
   ]
  },
  {
   "cell_type": "code",
   "execution_count": 55,
   "id": "6e6f3111",
   "metadata": {
    "ExecuteTime": {
     "end_time": "2022-05-01T09:28:54.231835Z",
     "start_time": "2022-05-01T09:28:54.112Z"
    }
   },
   "outputs": [
    {
     "data": {
      "text/plain": [
       "\u001b[36mstrings\u001b[39m: \u001b[32mList\u001b[39m[\u001b[32mString\u001b[39m] = \u001b[33mList\u001b[39m(\u001b[32m\"1\"\u001b[39m, \u001b[32m\"2\"\u001b[39m, \u001b[32m\"hi mom\"\u001b[39m, \u001b[32m\"4\"\u001b[39m, \u001b[32m\"yo\"\u001b[39m)\n",
       "\u001b[36mres54_1\u001b[39m: \u001b[32mList\u001b[39m[\u001b[32mInt\u001b[39m] = \u001b[33mList\u001b[39m(\u001b[32m1\u001b[39m, \u001b[32m2\u001b[39m, \u001b[32m4\u001b[39m)"
      ]
     },
     "execution_count": 55,
     "metadata": {},
     "output_type": "execute_result"
    }
   ],
   "source": [
    "val strings = List(\"1\", \"2\", \"hi mom\", \"4\", \"yo\")\n",
    "strings.map {_.toIntOption}.flatten"
   ]
  },
  {
   "cell_type": "code",
   "execution_count": 59,
   "id": "d78ab69b",
   "metadata": {
    "ExecuteTime": {
     "end_time": "2022-05-01T09:37:36.159076Z",
     "start_time": "2022-05-01T09:37:36.049Z"
    }
   },
   "outputs": [
    {
     "data": {
      "text/plain": [
       "\u001b[32mimport \u001b[39m\u001b[36mscala.util.Try\n",
       "\u001b[39m\n",
       "\u001b[36mres58_1\u001b[39m: \u001b[32mList\u001b[39m[\u001b[32mInt\u001b[39m] = \u001b[33mList\u001b[39m(\u001b[32m1\u001b[39m, \u001b[32m2\u001b[39m, \u001b[32m4\u001b[39m)"
      ]
     },
     "execution_count": 59,
     "metadata": {},
     "output_type": "execute_result"
    }
   ],
   "source": [
    "import scala.util.Try\n",
    "strings.map {x => Try(x.toInt).toOption}.flatten"
   ]
  },
  {
   "cell_type": "code",
   "execution_count": 3,
   "id": "80fb4688",
   "metadata": {
    "ExecuteTime": {
     "end_time": "2022-05-01T10:35:20.804776Z",
     "start_time": "2022-05-01T10:35:20.486Z"
    }
   },
   "outputs": [
    {
     "data": {
      "text/plain": [
       "\u001b[36mfruits\u001b[39m: \u001b[32mList\u001b[39m[\u001b[32mString\u001b[39m] = \u001b[33mList\u001b[39m(\u001b[32m\"banana\"\u001b[39m, \u001b[32m\"peach\"\u001b[39m, \u001b[32m\"lime\"\u001b[39m, \u001b[32m\"pear\"\u001b[39m, \u001b[32m\"cherry\"\u001b[39m)\n",
       "\u001b[36mres2_1\u001b[39m: \u001b[32mList\u001b[39m[\u001b[32mString\u001b[39m] = \u001b[33mList\u001b[39m(\u001b[32m\"banana\"\u001b[39m, \u001b[32m\"cherry\"\u001b[39m, \u001b[32m\"lime\"\u001b[39m, \u001b[32m\"peach\"\u001b[39m, \u001b[32m\"pear\"\u001b[39m)"
      ]
     },
     "execution_count": 3,
     "metadata": {},
     "output_type": "execute_result"
    }
   ],
   "source": [
    "val fruits = List(\"banana\", \"peach\", \"lime\", \"pear\", \"cherry\")\n",
    "fruits.sorted"
   ]
  },
  {
   "cell_type": "code",
   "execution_count": 4,
   "id": "0d61e053",
   "metadata": {
    "ExecuteTime": {
     "end_time": "2022-05-01T11:10:55.645076Z",
     "start_time": "2022-05-01T11:10:55.294Z"
    }
   },
   "outputs": [
    {
     "name": "stdout",
     "output_type": "stream",
     "text": [
      "ArrayBuffer(0, 1, 2, 3, 4)\n"
     ]
    },
    {
     "data": {
      "text/plain": [
       "\u001b[32mimport \u001b[39m\u001b[36mscala.collection.mutable.ArrayBuffer\n",
       "\u001b[39m\n",
       "\u001b[36ma\u001b[39m: \u001b[32mArrayBuffer\u001b[39m[\u001b[32mInt\u001b[39m] = \u001b[33mArrayBuffer\u001b[39m(\u001b[32m0\u001b[39m, \u001b[32m1\u001b[39m, \u001b[32m2\u001b[39m, \u001b[32m3\u001b[39m, \u001b[32m4\u001b[39m)\n",
       "\u001b[36mres3_2\u001b[39m: \u001b[32mArrayBuffer\u001b[39m[\u001b[32mInt\u001b[39m] = \u001b[33mArrayBuffer\u001b[39m(\u001b[32m0\u001b[39m, \u001b[32m1\u001b[39m, \u001b[32m2\u001b[39m, \u001b[32m3\u001b[39m, \u001b[32m4\u001b[39m)"
      ]
     },
     "execution_count": 4,
     "metadata": {},
     "output_type": "execute_result"
    }
   ],
   "source": [
    "import scala.collection.mutable.ArrayBuffer\n",
    "val a = ArrayBuffer.range(0,10)\n",
    "a.filterInPlace(_ < 5)\n",
    "println(a)"
   ]
  },
  {
   "cell_type": "markdown",
   "id": "62e98793",
   "metadata": {},
   "source": [
    "# Slice"
   ]
  },
  {
   "cell_type": "code",
   "execution_count": 1,
   "id": "259da35b",
   "metadata": {
    "ExecuteTime": {
     "end_time": "2022-05-01T14:41:49.750599Z",
     "start_time": "2022-05-01T14:41:47.451Z"
    }
   },
   "outputs": [
    {
     "data": {
      "text/plain": [
       "\u001b[36mchars\u001b[39m: \u001b[32mVector\u001b[39m[\u001b[32mChar\u001b[39m] = \u001b[33mVector\u001b[39m(\u001b[32m'a'\u001b[39m, \u001b[32m'b'\u001b[39m, \u001b[32m'c'\u001b[39m, \u001b[32m'd'\u001b[39m)\n",
       "\u001b[36mres0_1\u001b[39m: \u001b[32mVector\u001b[39m[\u001b[32mChar\u001b[39m] = \u001b[33mVector\u001b[39m(\u001b[32m'b'\u001b[39m, \u001b[32m'c'\u001b[39m)"
      ]
     },
     "execution_count": 1,
     "metadata": {},
     "output_type": "execute_result"
    }
   ],
   "source": [
    "val chars = Vector('a', 'b', 'c', 'd')\n",
    "chars.slice(1,3)"
   ]
  },
  {
   "cell_type": "code",
   "execution_count": 2,
   "id": "287ee986",
   "metadata": {
    "ExecuteTime": {
     "end_time": "2022-05-01T14:42:05.920206Z",
     "start_time": "2022-05-01T14:42:05.524Z"
    }
   },
   "outputs": [
    {
     "data": {
      "text/plain": [
       "\u001b[36mres1\u001b[39m: \u001b[32mVector\u001b[39m[\u001b[32mChar\u001b[39m] = \u001b[33mVector\u001b[39m(\u001b[32m'b'\u001b[39m, \u001b[32m'c'\u001b[39m, \u001b[32m'd'\u001b[39m)"
      ]
     },
     "execution_count": 2,
     "metadata": {},
     "output_type": "execute_result"
    }
   ],
   "source": [
    "chars.slice(1,4)"
   ]
  },
  {
   "cell_type": "code",
   "execution_count": 3,
   "id": "55b41c3a",
   "metadata": {
    "ExecuteTime": {
     "end_time": "2022-05-01T14:44:59.094148Z",
     "start_time": "2022-05-01T14:44:58.751Z"
    }
   },
   "outputs": [
    {
     "data": {
      "text/plain": [
       "\u001b[36mindecies\u001b[39m: \u001b[32mList\u001b[39m[\u001b[32mInt\u001b[39m] = \u001b[33mList\u001b[39m(\u001b[32m1\u001b[39m, \u001b[32m2\u001b[39m)\n",
       "\u001b[36mres2_1\u001b[39m: \u001b[32mList\u001b[39m[\u001b[32mChar\u001b[39m] = \u001b[33mList\u001b[39m(\u001b[32m'b'\u001b[39m, \u001b[32m'c'\u001b[39m)"
      ]
     },
     "execution_count": 3,
     "metadata": {},
     "output_type": "execute_result"
    }
   ],
   "source": [
    "val indecies = List(1,2)\n",
    "indecies.map(chars)"
   ]
  },
  {
   "cell_type": "markdown",
   "id": "9a3f672a",
   "metadata": {},
   "source": [
    "# Sliding"
   ]
  },
  {
   "cell_type": "code",
   "execution_count": 22,
   "id": "f0a2fe07",
   "metadata": {
    "ExecuteTime": {
     "end_time": "2022-05-01T15:23:02.457463Z",
     "start_time": "2022-05-01T15:23:02.295Z"
    }
   },
   "outputs": [
    {
     "data": {
      "text/plain": [
       "\u001b[36ma\u001b[39m: \u001b[32mVector\u001b[39m[\u001b[32mInt\u001b[39m] = \u001b[33mVector\u001b[39m(\u001b[32m1\u001b[39m, \u001b[32m2\u001b[39m, \u001b[32m3\u001b[39m, \u001b[32m4\u001b[39m, \u001b[32m5\u001b[39m)\n",
       "\u001b[36mres21_1\u001b[39m: \u001b[32mList\u001b[39m[\u001b[32mVector\u001b[39m[\u001b[32mInt\u001b[39m]] = \u001b[33mList\u001b[39m(\n",
       "  \u001b[33mVector\u001b[39m(\u001b[32m1\u001b[39m, \u001b[32m2\u001b[39m),\n",
       "  \u001b[33mVector\u001b[39m(\u001b[32m2\u001b[39m, \u001b[32m3\u001b[39m),\n",
       "  \u001b[33mVector\u001b[39m(\u001b[32m3\u001b[39m, \u001b[32m4\u001b[39m),\n",
       "  \u001b[33mVector\u001b[39m(\u001b[32m4\u001b[39m, \u001b[32m5\u001b[39m)\n",
       ")"
      ]
     },
     "execution_count": 22,
     "metadata": {},
     "output_type": "execute_result"
    }
   ],
   "source": [
    "val a = Vector(1,2,3,4,5)\n",
    "a.sliding(2).toList"
   ]
  },
  {
   "cell_type": "code",
   "execution_count": 23,
   "id": "9494f889",
   "metadata": {
    "ExecuteTime": {
     "end_time": "2022-05-01T15:23:12.281143Z",
     "start_time": "2022-05-01T15:23:12.127Z"
    }
   },
   "outputs": [
    {
     "data": {
      "text/plain": [
       "\u001b[36mres22\u001b[39m: \u001b[32mList\u001b[39m[\u001b[32mVector\u001b[39m[\u001b[32mInt\u001b[39m]] = \u001b[33mList\u001b[39m(\u001b[33mVector\u001b[39m(\u001b[32m1\u001b[39m, \u001b[32m2\u001b[39m), \u001b[33mVector\u001b[39m(\u001b[32m3\u001b[39m, \u001b[32m4\u001b[39m), \u001b[33mVector\u001b[39m(\u001b[32m5\u001b[39m))"
      ]
     },
     "execution_count": 23,
     "metadata": {},
     "output_type": "execute_result"
    }
   ],
   "source": [
    "a.sliding(2,2).toList"
   ]
  },
  {
   "cell_type": "markdown",
   "id": "ec69dae8",
   "metadata": {},
   "source": []
  },
  {
   "cell_type": "markdown",
   "id": "59d25ef3",
   "metadata": {},
   "source": [
    "# Grouping"
   ]
  },
  {
   "cell_type": "code",
   "execution_count": 4,
   "id": "6ebec6a7",
   "metadata": {
    "ExecuteTime": {
     "end_time": "2022-05-01T14:55:07.950157Z",
     "start_time": "2022-05-01T14:55:07.628Z"
    }
   },
   "outputs": [
    {
     "data": {
      "text/plain": [
       "\u001b[36mxs\u001b[39m: \u001b[32mList\u001b[39m[\u001b[32mInt\u001b[39m] = \u001b[33mList\u001b[39m(\u001b[32m15\u001b[39m, \u001b[32m10\u001b[39m, \u001b[32m5\u001b[39m, \u001b[32m8\u001b[39m, \u001b[32m20\u001b[39m, \u001b[32m12\u001b[39m)\n",
       "\u001b[36mgroups\u001b[39m: \u001b[32mMap\u001b[39m[\u001b[32mBoolean\u001b[39m, \u001b[32mList\u001b[39m[\u001b[32mInt\u001b[39m]] = \u001b[33mHashMap\u001b[39m(\n",
       "  false -> \u001b[33mList\u001b[39m(\u001b[32m10\u001b[39m, \u001b[32m5\u001b[39m, \u001b[32m8\u001b[39m),\n",
       "  true -> \u001b[33mList\u001b[39m(\u001b[32m15\u001b[39m, \u001b[32m20\u001b[39m, \u001b[32m12\u001b[39m)\n",
       ")"
      ]
     },
     "execution_count": 4,
     "metadata": {},
     "output_type": "execute_result"
    }
   ],
   "source": [
    "val xs = List(15, 10, 5, 8, 20, 12)\n",
    "val groups = xs.groupBy(_ > 10)"
   ]
  },
  {
   "cell_type": "code",
   "execution_count": 20,
   "id": "d1f2435f",
   "metadata": {
    "ExecuteTime": {
     "end_time": "2022-05-01T15:21:01.327702Z",
     "start_time": "2022-05-01T15:21:01.159Z"
    }
   },
   "outputs": [
    {
     "data": {
      "text/plain": [
       "\u001b[36ma\u001b[39m: \u001b[32mList\u001b[39m[\u001b[32mInt\u001b[39m] = \u001b[33mList\u001b[39m(\u001b[32m15\u001b[39m, \u001b[32m20\u001b[39m, \u001b[32m12\u001b[39m)\n",
       "\u001b[36mb\u001b[39m: \u001b[32mList\u001b[39m[\u001b[32mInt\u001b[39m] = \u001b[33mList\u001b[39m(\u001b[32m10\u001b[39m, \u001b[32m5\u001b[39m, \u001b[32m8\u001b[39m)"
      ]
     },
     "execution_count": 20,
     "metadata": {},
     "output_type": "execute_result"
    }
   ],
   "source": [
    "val (a,b) = xs.partition( _ > 10)"
   ]
  },
  {
   "cell_type": "code",
   "execution_count": 5,
   "id": "e6771f13",
   "metadata": {
    "ExecuteTime": {
     "end_time": "2022-05-01T14:55:27.826658Z",
     "start_time": "2022-05-01T14:55:27.611Z"
    }
   },
   "outputs": [
    {
     "data": {
      "text/plain": [
       "\u001b[36mres4\u001b[39m: \u001b[32mList\u001b[39m[\u001b[32mInt\u001b[39m] = \u001b[33mList\u001b[39m(\u001b[32m15\u001b[39m, \u001b[32m20\u001b[39m, \u001b[32m12\u001b[39m)"
      ]
     },
     "execution_count": 5,
     "metadata": {},
     "output_type": "execute_result"
    }
   ],
   "source": [
    "groups(true)"
   ]
  },
  {
   "cell_type": "code",
   "execution_count": 7,
   "id": "603a00d6",
   "metadata": {
    "ExecuteTime": {
     "end_time": "2022-05-01T14:59:50.409020Z",
     "start_time": "2022-05-01T14:59:50.210Z"
    }
   },
   "outputs": [
    {
     "data": {
      "text/plain": [
       "\u001b[36mres6\u001b[39m: \u001b[32mMap\u001b[39m[\u001b[32mInt\u001b[39m, \u001b[32mList\u001b[39m[\u001b[32mInt\u001b[39m]] = \u001b[33mHashMap\u001b[39m(\u001b[32m1\u001b[39m -> \u001b[33mList\u001b[39m(\u001b[32m1\u001b[39m, \u001b[32m1\u001b[39m, \u001b[32m1\u001b[39m), \u001b[32m2\u001b[39m -> \u001b[33mList\u001b[39m(\u001b[32m2\u001b[39m, \u001b[32m2\u001b[39m, \u001b[32m2\u001b[39m))"
      ]
     },
     "execution_count": 7,
     "metadata": {},
     "output_type": "execute_result"
    }
   ],
   "source": [
    "List(1,1,1,2,2,2).groupBy(x => x)"
   ]
  },
  {
   "cell_type": "code",
   "execution_count": 9,
   "id": "9e0d6f12",
   "metadata": {
    "ExecuteTime": {
     "end_time": "2022-05-01T15:03:00.510054Z",
     "start_time": "2022-05-01T15:03:00.362Z"
    }
   },
   "outputs": [
    {
     "data": {
      "text/plain": [
       "\u001b[36ms\u001b[39m: \u001b[32mString\u001b[39m = \u001b[32m\"Scala is aaaawwwwsssome !\"\u001b[39m"
      ]
     },
     "execution_count": 9,
     "metadata": {},
     "output_type": "execute_result"
    }
   ],
   "source": [
    "val s = \"Scala is aaaawwwwsssome !\""
   ]
  },
  {
   "cell_type": "code",
   "execution_count": 18,
   "id": "d6ac5d95",
   "metadata": {
    "ExecuteTime": {
     "end_time": "2022-05-01T15:14:03.461836Z",
     "start_time": "2022-05-01T15:14:03.288Z"
    },
    "scrolled": true
   },
   "outputs": [
    {
     "data": {
      "text/plain": [
       "\u001b[36mres17\u001b[39m: \u001b[32mList\u001b[39m[(\u001b[32mChar\u001b[39m, \u001b[32mInt\u001b[39m)] = \u001b[33mList\u001b[39m(\n",
       "  (\u001b[32m'a'\u001b[39m, \u001b[32m6\u001b[39m),\n",
       "  (\u001b[32m's'\u001b[39m, \u001b[32m5\u001b[39m),\n",
       "  (\u001b[32m'w'\u001b[39m, \u001b[32m4\u001b[39m),\n",
       "  (\u001b[32m'e'\u001b[39m, \u001b[32m1\u001b[39m),\n",
       "  (\u001b[32m'm'\u001b[39m, \u001b[32m1\u001b[39m),\n",
       "  (\u001b[32m'i'\u001b[39m, \u001b[32m1\u001b[39m),\n",
       "  (\u001b[32m'l'\u001b[39m, \u001b[32m1\u001b[39m),\n",
       "  (\u001b[32m'c'\u001b[39m, \u001b[32m1\u001b[39m),\n",
       "  (\u001b[32m'o'\u001b[39m, \u001b[32m1\u001b[39m)\n",
       ")"
      ]
     },
     "execution_count": 18,
     "metadata": {},
     "output_type": "execute_result"
    }
   ],
   "source": [
    "s.map(_.toLower).filter(_.isLetter).groupBy(identity).map{ case (l,g) => (l, g.size)}.toList.sortBy(- _._2)"
   ]
  },
  {
   "cell_type": "code",
   "execution_count": 1,
   "id": "10b65e07",
   "metadata": {
    "ExecuteTime": {
     "end_time": "2022-05-03T17:06:41.492455Z",
     "start_time": "2022-05-03T17:06:40.381Z"
    }
   },
   "outputs": [
    {
     "data": {
      "text/plain": [
       "\u001b[36ml\u001b[39m: \u001b[32mSeq\u001b[39m[\u001b[32mInt\u001b[39m] = \u001b[33mNumericRange\u001b[39m(\u001b[32m0\u001b[39m, \u001b[32m1\u001b[39m, \u001b[32m2\u001b[39m, \u001b[32m3\u001b[39m, \u001b[32m4\u001b[39m, \u001b[32m5\u001b[39m, \u001b[32m6\u001b[39m, \u001b[32m7\u001b[39m, \u001b[32m8\u001b[39m, \u001b[32m9\u001b[39m)\n",
       "\u001b[36mres0_1\u001b[39m: \u001b[32mSeq\u001b[39m[\u001b[32mString\u001b[39m] = \u001b[33mVector\u001b[39m(\n",
       "  \u001b[32m\"small\"\u001b[39m,\n",
       "  \u001b[32m\"small\"\u001b[39m,\n",
       "  \u001b[32m\"small\"\u001b[39m,\n",
       "  \u001b[32m\"small\"\u001b[39m,\n",
       "  \u001b[32m\"medium\"\u001b[39m,\n",
       "  \u001b[32m\"medium\"\u001b[39m,\n",
       "  \u001b[32m\"medium\"\u001b[39m,\n",
       "  \u001b[32m\"big\"\u001b[39m,\n",
       "  \u001b[32m\"big\"\u001b[39m,\n",
       "  \u001b[32m\"big\"\u001b[39m\n",
       ")"
      ]
     },
     "execution_count": 1,
     "metadata": {},
     "output_type": "execute_result"
    }
   ],
   "source": [
    "val l = Seq.range(0,10)\n",
    "\n",
    "l.map {n => n match {\n",
    "    case n if (n < 4) => \"small\"\n",
    "    case n if (n < 7) => \"medium\"\n",
    "    case _ => \"big\"\n",
    " }\n",
    "}"
   ]
  },
  {
   "cell_type": "code",
   "execution_count": 2,
   "id": "6da7c23a",
   "metadata": {
    "ExecuteTime": {
     "end_time": "2022-05-03T17:06:57.237452Z",
     "start_time": "2022-05-03T17:06:56.834Z"
    }
   },
   "outputs": [
    {
     "data": {
      "text/plain": [
       "\u001b[36mres1\u001b[39m: \u001b[32mMap\u001b[39m[\u001b[32mString\u001b[39m, \u001b[32mSeq\u001b[39m[\u001b[32mInt\u001b[39m]] = \u001b[33mHashMap\u001b[39m(\n",
       "  \u001b[32m\"big\"\u001b[39m -> \u001b[33mVector\u001b[39m(\u001b[32m7\u001b[39m, \u001b[32m8\u001b[39m, \u001b[32m9\u001b[39m),\n",
       "  \u001b[32m\"medium\"\u001b[39m -> \u001b[33mVector\u001b[39m(\u001b[32m4\u001b[39m, \u001b[32m5\u001b[39m, \u001b[32m6\u001b[39m),\n",
       "  \u001b[32m\"small\"\u001b[39m -> \u001b[33mVector\u001b[39m(\u001b[32m0\u001b[39m, \u001b[32m1\u001b[39m, \u001b[32m2\u001b[39m, \u001b[32m3\u001b[39m)\n",
       ")"
      ]
     },
     "execution_count": 2,
     "metadata": {},
     "output_type": "execute_result"
    }
   ],
   "source": [
    "l.groupBy {n => n match {\n",
    "    case n if (n < 4) => \"small\"\n",
    "    case n if (n < 7) => \"medium\"\n",
    "    case _ => \"big\"\n",
    " }\n",
    "}"
   ]
  },
  {
   "cell_type": "markdown",
   "id": "08ec36e0",
   "metadata": {},
   "source": [
    "# Fold and Reduce\n",
    "\n",
    "> One subtle but important note about the reduce methods: the custom function you supply must return the same data type that’s\n",
    "stored in the collection. This is necessary so the reduce algorithms\n",
    "can compare the result of your function to the next element in the\n",
    "collection.\n",
    "\n",
    "`fold*` and `reduce*` should return a scalar "
   ]
  },
  {
   "cell_type": "code",
   "execution_count": 26,
   "id": "a4f673b7",
   "metadata": {
    "ExecuteTime": {
     "end_time": "2022-05-01T15:34:14.363614Z",
     "start_time": "2022-05-01T15:34:14.196Z"
    }
   },
   "outputs": [
    {
     "data": {
      "text/plain": [
       "\u001b[36ml\u001b[39m: \u001b[32mList\u001b[39m[\u001b[32mInt\u001b[39m] = \u001b[33mList\u001b[39m(\u001b[32m1\u001b[39m, \u001b[32m4\u001b[39m, \u001b[32m2\u001b[39m, \u001b[32m7\u001b[39m, \u001b[32m4\u001b[39m)\n",
       "\u001b[36mres25_1\u001b[39m: \u001b[32mInt\u001b[39m = \u001b[32m18\u001b[39m"
      ]
     },
     "execution_count": 26,
     "metadata": {},
     "output_type": "execute_result"
    }
   ],
   "source": [
    "val l = List(1,4,2,7,4)\n",
    "l.foldLeft(0)(_ + _)"
   ]
  },
  {
   "cell_type": "code",
   "execution_count": 28,
   "id": "44175eb7",
   "metadata": {
    "ExecuteTime": {
     "end_time": "2022-05-01T15:39:35.084885Z",
     "start_time": "2022-05-01T15:39:34.950Z"
    }
   },
   "outputs": [
    {
     "data": {
      "text/plain": [
       "\u001b[36mres27\u001b[39m: \u001b[32mInt\u001b[39m = \u001b[32m18\u001b[39m"
      ]
     },
     "execution_count": 28,
     "metadata": {},
     "output_type": "execute_result"
    }
   ],
   "source": [
    "l.reduceLeft( (a,b) => a + b ) "
   ]
  },
  {
   "cell_type": "code",
   "execution_count": 29,
   "id": "656c2acb",
   "metadata": {
    "ExecuteTime": {
     "end_time": "2022-05-01T15:40:49.126598Z",
     "start_time": "2022-05-01T15:40:49.001Z"
    }
   },
   "outputs": [
    {
     "data": {
      "text/plain": [
       "\u001b[36mres28\u001b[39m: \u001b[32mInt\u001b[39m = \u001b[32m1\u001b[39m"
      ]
     },
     "execution_count": 29,
     "metadata": {},
     "output_type": "execute_result"
    }
   ],
   "source": [
    "l.reduceLeft( _ min _ ) "
   ]
  },
  {
   "cell_type": "code",
   "execution_count": 30,
   "id": "f0e243cb",
   "metadata": {
    "ExecuteTime": {
     "end_time": "2022-05-01T15:41:12.761475Z",
     "start_time": "2022-05-01T15:41:12.651Z"
    }
   },
   "outputs": [
    {
     "data": {
      "text/plain": [
       "\u001b[36mres29\u001b[39m: \u001b[32mInt\u001b[39m = \u001b[32m224\u001b[39m"
      ]
     },
     "execution_count": 30,
     "metadata": {},
     "output_type": "execute_result"
    }
   ],
   "source": [
    "l.reduceLeft( _ * _ ) "
   ]
  },
  {
   "cell_type": "code",
   "execution_count": 33,
   "id": "438caa28",
   "metadata": {
    "ExecuteTime": {
     "end_time": "2022-05-01T15:44:03.052136Z",
     "start_time": "2022-05-01T15:44:02.926Z"
    }
   },
   "outputs": [
    {
     "ename": "",
     "evalue": "",
     "output_type": "error",
     "traceback": [
      "\u001b[31mjava.lang.UnsupportedOperationException: empty.reduceLeft\u001b[39m\n  scala.collection.IterableOnceOps.reduceLeft(\u001b[32mIterableOnce.scala\u001b[39m:\u001b[32m727\u001b[39m)\n  scala.collection.IterableOnceOps.reduceLeft$(\u001b[32mIterableOnce.scala\u001b[39m:\u001b[32m724\u001b[39m)\n  scala.collection.AbstractIterable.reduceLeft(\u001b[32mIterable.scala\u001b[39m:\u001b[32m919\u001b[39m)\n  ammonite.$sess.cmd32$Helper.<init>(\u001b[32mcmd32.sc\u001b[39m:\u001b[32m2\u001b[39m)\n  ammonite.$sess.cmd32$.<clinit>(\u001b[32mcmd32.sc\u001b[39m:\u001b[32m7\u001b[39m)"
     ]
    }
   ],
   "source": [
    "val l = List[Int]()\n",
    "l.reduceLeft( _ + _)"
   ]
  },
  {
   "cell_type": "code",
   "execution_count": 32,
   "id": "dc467e5d",
   "metadata": {
    "ExecuteTime": {
     "end_time": "2022-05-01T15:43:54.053521Z",
     "start_time": "2022-05-01T15:43:53.932Z"
    }
   },
   "outputs": [
    {
     "data": {
      "text/plain": [
       "\u001b[36ml\u001b[39m: \u001b[32mList\u001b[39m[\u001b[32mInt\u001b[39m] = \u001b[33mList\u001b[39m()\n",
       "\u001b[36mres31_1\u001b[39m: \u001b[32mInt\u001b[39m = \u001b[32m0\u001b[39m"
      ]
     },
     "execution_count": 32,
     "metadata": {},
     "output_type": "execute_result"
    }
   ],
   "source": [
    "val l = List[Int]()\n",
    "l.foldLeft(0)(_ + _)"
   ]
  },
  {
   "cell_type": "code",
   "execution_count": 75,
   "id": "a0e659e3",
   "metadata": {
    "ExecuteTime": {
     "end_time": "2022-05-01T16:25:34.177016Z",
     "start_time": "2022-05-01T16:25:34.111Z"
    }
   },
   "outputs": [
    {
     "name": "stderr",
     "output_type": "stream",
     "text": [
      "cmd75.sc:1: type mismatch;\n",
      " found   : String\n",
      " required: Int\n",
      "val res75 = List(1,2,3).reduceLeft((a,b) => a.toString + b.toString)\n",
      "                                                       ^Compilation Failed"
     ]
    },
    {
     "ename": "",
     "evalue": "",
     "output_type": "error",
     "traceback": [
      "Compilation Failed"
     ]
    }
   ],
   "source": [
    "List(1,2,3).reduceLeft((a,b) => a.toString + b.toString)"
   ]
  },
  {
   "cell_type": "code",
   "execution_count": 1,
   "id": "6a621fba",
   "metadata": {
    "ExecuteTime": {
     "end_time": "2022-05-02T03:20:06.519537Z",
     "start_time": "2022-05-02T03:20:04.536Z"
    }
   },
   "outputs": [
    {
     "data": {
      "text/plain": [
       "\u001b[36mres0\u001b[39m: \u001b[32mString\u001b[39m = \u001b[32m\"123\"\u001b[39m"
      ]
     },
     "execution_count": 1,
     "metadata": {},
     "output_type": "execute_result"
    }
   ],
   "source": [
    "List(1,2,3).foldLeft(\"\")((a,b) => a.toString + b.toString)"
   ]
  },
  {
   "cell_type": "markdown",
   "id": "ca06fe39",
   "metadata": {},
   "source": [
    "# scanLeft"
   ]
  },
  {
   "cell_type": "code",
   "execution_count": 4,
   "id": "ef71ea8a",
   "metadata": {
    "ExecuteTime": {
     "end_time": "2022-05-02T03:38:52.926378Z",
     "start_time": "2022-05-02T03:38:52.693Z"
    }
   },
   "outputs": [
    {
     "data": {
      "text/plain": [
       "\u001b[36mres3\u001b[39m: \u001b[32mList\u001b[39m[\u001b[32mInt\u001b[39m] = \u001b[33mList\u001b[39m(\u001b[32m0\u001b[39m, \u001b[32m1\u001b[39m, \u001b[32m3\u001b[39m, \u001b[32m6\u001b[39m)"
      ]
     },
     "execution_count": 4,
     "metadata": {},
     "output_type": "execute_result"
    }
   ],
   "source": [
    "List(1,2,3).scanLeft(0)(_+_)"
   ]
  },
  {
   "cell_type": "markdown",
   "id": "c898d4f7",
   "metadata": {},
   "source": [
    "# Distinct"
   ]
  },
  {
   "cell_type": "code",
   "execution_count": 35,
   "id": "808844d6",
   "metadata": {
    "ExecuteTime": {
     "end_time": "2022-05-01T15:53:03.163391Z",
     "start_time": "2022-05-01T15:53:03.025Z"
    }
   },
   "outputs": [
    {
     "data": {
      "text/plain": [
       "\u001b[36mxs\u001b[39m: \u001b[32mList\u001b[39m[\u001b[32mInt\u001b[39m] = \u001b[33mList\u001b[39m(\u001b[32m1\u001b[39m, \u001b[32m1\u001b[39m, \u001b[32m1\u001b[39m, \u001b[32m2\u001b[39m, \u001b[32m2\u001b[39m, \u001b[32m3\u001b[39m, \u001b[32m3\u001b[39m, \u001b[32m3\u001b[39m, \u001b[32m3\u001b[39m)\n",
       "\u001b[36mres34_1\u001b[39m: \u001b[32mList\u001b[39m[\u001b[32mInt\u001b[39m] = \u001b[33mList\u001b[39m(\u001b[32m1\u001b[39m, \u001b[32m2\u001b[39m, \u001b[32m3\u001b[39m)\n",
       "\u001b[36mres34_2\u001b[39m: \u001b[32mSet\u001b[39m[\u001b[32mInt\u001b[39m] = \u001b[33mSet\u001b[39m(\u001b[32m1\u001b[39m, \u001b[32m2\u001b[39m, \u001b[32m3\u001b[39m)"
      ]
     },
     "execution_count": 35,
     "metadata": {},
     "output_type": "execute_result"
    }
   ],
   "source": [
    "val xs = List(1,1,1,2,2,3,3,3,3)\n",
    "xs.distinct\n",
    "xs.toSet"
   ]
  },
  {
   "cell_type": "code",
   "execution_count": 38,
   "id": "8c6ac74d",
   "metadata": {
    "ExecuteTime": {
     "end_time": "2022-05-01T15:59:03.919182Z",
     "start_time": "2022-05-01T15:59:03.782Z"
    }
   },
   "outputs": [
    {
     "name": "stdout",
     "output_type": "stream",
     "text": [
      "HashSet(1, 2, 3)\n"
     ]
    },
    {
     "data": {
      "text/html": [
       "<div class=\"jp-RenderedText\">\n",
       "<pre><code><span style=\"color: rgb(0, 187, 0)\"><span class=\"ansi-green-fg\">import </span></span><span style=\"color: rgb(0, 187, 187)\"><span class=\"ansi-cyan-fg\">scala.collection.mutable.Set\n",
       "</span></span>\n",
       "<span style=\"color: rgb(0, 187, 187)\"><span class=\"ansi-cyan-fg\">xSet</span></span>: <span style=\"color: rgb(0, 187, 0)\"><span class=\"ansi-green-fg\">Set</span></span>[<span style=\"color: rgb(0, 187, 0)\"><span class=\"ansi-green-fg\">Int</span></span>] = <span style=\"color: yellow\"><span class=\"ansi-yellow-fg\">HashSet</span></span>(<span style=\"color: rgb(0, 187, 0)\"><span class=\"ansi-green-fg\">1</span></span>, <span style=\"color: rgb(0, 187, 0)\"><span class=\"ansi-green-fg\">2</span></span>, <span style=\"color: rgb(0, 187, 0)\"><span class=\"ansi-green-fg\">3</span></span>)</code></pre>\n",
       "</div>"
      ],
      "text/plain": [
       "\u001b[32mimport \u001b[39m\u001b[36mscala.collection.mutable.Set\n",
       "\u001b[39m\n",
       "\u001b[36mxSet\u001b[39m: \u001b[32mSet\u001b[39m[\u001b[32mInt\u001b[39m] = \u001b[33mHashSet\u001b[39m(\u001b[32m1\u001b[39m, \u001b[32m2\u001b[39m, \u001b[32m3\u001b[39m)"
      ]
     },
     "metadata": {},
     "output_type": "display_data"
    }
   ],
   "source": [
    "import scala.collection.mutable.Set\n",
    "var xSet = Set[Int]()\n",
    "xs.foreach {el => xSet += el}\n",
    "\n",
    "println(xSet)"
   ]
  },
  {
   "cell_type": "markdown",
   "id": "97610a97",
   "metadata": {},
   "source": [
    "# Using Case classes for custom collections\n",
    "\n",
    "> To use these approaches with your own classes, you’ll need to implement the equals\n",
    "and hashCode methods. For instance, case classes implement those methods for you,\n",
    "so you can use this Person class with distinct"
   ]
  },
  {
   "cell_type": "code",
   "execution_count": 39,
   "id": "593220e5",
   "metadata": {
    "ExecuteTime": {
     "end_time": "2022-05-01T16:02:02.375897Z",
     "start_time": "2022-05-01T16:02:02.069Z"
    }
   },
   "outputs": [
    {
     "data": {
      "text/plain": [
       "defined \u001b[32mclass\u001b[39m \u001b[36mPerson\u001b[39m\n",
       "\u001b[36mdale1\u001b[39m: \u001b[32mPerson\u001b[39m = \u001b[33mPerson\u001b[39m(firstName = \u001b[32m\"Dale\"\u001b[39m, lastName = \u001b[32m\"Cooper\"\u001b[39m)\n",
       "\u001b[36mdale2\u001b[39m: \u001b[32mPerson\u001b[39m = \u001b[33mPerson\u001b[39m(firstName = \u001b[32m\"Dale\"\u001b[39m, lastName = \u001b[32m\"Cooper\"\u001b[39m)\n",
       "\u001b[36med\u001b[39m: \u001b[32mPerson\u001b[39m = \u001b[33mPerson\u001b[39m(firstName = \u001b[32m\"Ed\"\u001b[39m, lastName = \u001b[32m\"Hurley\"\u001b[39m)\n",
       "\u001b[36mlist\u001b[39m: \u001b[32mList\u001b[39m[\u001b[32mPerson\u001b[39m] = \u001b[33mList\u001b[39m(\n",
       "  \u001b[33mPerson\u001b[39m(firstName = \u001b[32m\"Dale\"\u001b[39m, lastName = \u001b[32m\"Cooper\"\u001b[39m),\n",
       "  \u001b[33mPerson\u001b[39m(firstName = \u001b[32m\"Dale\"\u001b[39m, lastName = \u001b[32m\"Cooper\"\u001b[39m),\n",
       "  \u001b[33mPerson\u001b[39m(firstName = \u001b[32m\"Ed\"\u001b[39m, lastName = \u001b[32m\"Hurley\"\u001b[39m)\n",
       ")"
      ]
     },
     "execution_count": 39,
     "metadata": {},
     "output_type": "execute_result"
    }
   ],
   "source": [
    "case class Person(firstName: String, lastName: String)\n",
    "val dale1 = Person(\"Dale\", \"Cooper\")\n",
    "val dale2 = Person(\"Dale\", \"Cooper\")\n",
    "val ed = Person(\"Ed\", \"Hurley\")\n",
    "val list = List(dale1, dale2, ed)"
   ]
  },
  {
   "cell_type": "code",
   "execution_count": 40,
   "id": "8a01af98",
   "metadata": {
    "ExecuteTime": {
     "end_time": "2022-05-01T16:02:14.261750Z",
     "start_time": "2022-05-01T16:02:14.093Z"
    }
   },
   "outputs": [
    {
     "data": {
      "text/plain": [
       "\u001b[36mres39\u001b[39m: \u001b[32mList\u001b[39m[\u001b[32mPerson\u001b[39m] = \u001b[33mList\u001b[39m(\n",
       "  \u001b[33mPerson\u001b[39m(firstName = \u001b[32m\"Dale\"\u001b[39m, lastName = \u001b[32m\"Cooper\"\u001b[39m),\n",
       "  \u001b[33mPerson\u001b[39m(firstName = \u001b[32m\"Ed\"\u001b[39m, lastName = \u001b[32m\"Hurley\"\u001b[39m)\n",
       ")"
      ]
     },
     "execution_count": 40,
     "metadata": {},
     "output_type": "execute_result"
    }
   ],
   "source": [
    "list.distinct"
   ]
  },
  {
   "cell_type": "markdown",
   "id": "beccef01",
   "metadata": {},
   "source": [
    "# Concat, Intersect and diff"
   ]
  },
  {
   "cell_type": "code",
   "execution_count": 46,
   "id": "54512915",
   "metadata": {
    "ExecuteTime": {
     "end_time": "2022-05-01T16:09:19.775498Z",
     "start_time": "2022-05-01T16:09:19.625Z"
    }
   },
   "outputs": [
    {
     "data": {
      "text/plain": [
       "\u001b[36ml1\u001b[39m: \u001b[32mList\u001b[39m[\u001b[32mInt\u001b[39m] = \u001b[33mList\u001b[39m(\u001b[32m1\u001b[39m, \u001b[32m2\u001b[39m, \u001b[32m3\u001b[39m)\n",
       "\u001b[36ml2\u001b[39m: \u001b[32mList\u001b[39m[\u001b[32mInt\u001b[39m] = \u001b[33mList\u001b[39m(\u001b[32m3\u001b[39m, \u001b[32m4\u001b[39m, \u001b[32m5\u001b[39m)\n",
       "\u001b[36mres45_2\u001b[39m: \u001b[32mList\u001b[39m[\u001b[32mInt\u001b[39m] = \u001b[33mList\u001b[39m(\u001b[32m3\u001b[39m)\n",
       "\u001b[36mres45_3\u001b[39m: \u001b[32mList\u001b[39m[\u001b[32mInt\u001b[39m] = \u001b[33mList\u001b[39m(\u001b[32m1\u001b[39m, \u001b[32m2\u001b[39m)\n",
       "\u001b[36mres45_4\u001b[39m: \u001b[32mList\u001b[39m[\u001b[32mInt\u001b[39m] = \u001b[33mList\u001b[39m(\u001b[32m1\u001b[39m, \u001b[32m2\u001b[39m, \u001b[32m3\u001b[39m, \u001b[32m3\u001b[39m, \u001b[32m4\u001b[39m, \u001b[32m5\u001b[39m)"
      ]
     },
     "execution_count": 46,
     "metadata": {},
     "output_type": "execute_result"
    }
   ],
   "source": [
    "val l1 = List(1,2,3)\n",
    "val l2 = List(3,4,5)\n",
    "l1.intersect(l2)\n",
    "l1.diff(l2)\n",
    "l1 ++ l2"
   ]
  },
  {
   "cell_type": "code",
   "execution_count": 47,
   "id": "fc8e9041",
   "metadata": {
    "ExecuteTime": {
     "end_time": "2022-05-01T16:09:47.715995Z",
     "start_time": "2022-05-01T16:09:47.574Z"
    }
   },
   "outputs": [
    {
     "data": {
      "text/plain": [
       "\u001b[32mimport \u001b[39m\u001b[36mscala.collection.mutable.ListBuffer\n",
       "\u001b[39m\n",
       "\u001b[36ml1\u001b[39m: \u001b[32mListBuffer\u001b[39m[\u001b[32mInt\u001b[39m] = \u001b[33mListBuffer\u001b[39m(\u001b[32m1\u001b[39m, \u001b[32m2\u001b[39m, \u001b[32m3\u001b[39m)\n",
       "\u001b[36ml2\u001b[39m: \u001b[32mListBuffer\u001b[39m[\u001b[32mInt\u001b[39m] = \u001b[33mListBuffer\u001b[39m(\u001b[32m3\u001b[39m, \u001b[32m4\u001b[39m, \u001b[32m5\u001b[39m)\n",
       "\u001b[36mres46_3\u001b[39m: \u001b[32mListBuffer\u001b[39m[\u001b[32mInt\u001b[39m] = \u001b[33mListBuffer\u001b[39m(\u001b[32m3\u001b[39m)\n",
       "\u001b[36mres46_4\u001b[39m: \u001b[32mListBuffer\u001b[39m[\u001b[32mInt\u001b[39m] = \u001b[33mListBuffer\u001b[39m(\u001b[32m1\u001b[39m, \u001b[32m2\u001b[39m)\n",
       "\u001b[36mres46_5\u001b[39m: \u001b[32mListBuffer\u001b[39m[\u001b[32mInt\u001b[39m] = \u001b[33mListBuffer\u001b[39m(\u001b[32m1\u001b[39m, \u001b[32m2\u001b[39m, \u001b[32m3\u001b[39m, \u001b[32m3\u001b[39m, \u001b[32m4\u001b[39m, \u001b[32m5\u001b[39m)"
      ]
     },
     "execution_count": 47,
     "metadata": {},
     "output_type": "execute_result"
    }
   ],
   "source": [
    "import scala.collection.mutable.ListBuffer\n",
    "val l1 = ListBuffer(1,2,3)\n",
    "val l2 = ListBuffer(3,4,5)\n",
    "l1.intersect(l2)\n",
    "l1.diff(l2)\n",
    "l1 ++ l2"
   ]
  },
  {
   "cell_type": "code",
   "execution_count": 48,
   "id": "2e295bce",
   "metadata": {
    "ExecuteTime": {
     "end_time": "2022-05-01T16:09:56.978229Z",
     "start_time": "2022-05-01T16:09:56.844Z"
    }
   },
   "outputs": [
    {
     "data": {
      "text/plain": [
       "\u001b[36ml1\u001b[39m: \u001b[32mVector\u001b[39m[\u001b[32mInt\u001b[39m] = \u001b[33mVector\u001b[39m(\u001b[32m1\u001b[39m, \u001b[32m2\u001b[39m, \u001b[32m3\u001b[39m)\n",
       "\u001b[36ml2\u001b[39m: \u001b[32mVector\u001b[39m[\u001b[32mInt\u001b[39m] = \u001b[33mVector\u001b[39m(\u001b[32m3\u001b[39m, \u001b[32m4\u001b[39m, \u001b[32m5\u001b[39m)\n",
       "\u001b[36mres47_2\u001b[39m: \u001b[32mVector\u001b[39m[\u001b[32mInt\u001b[39m] = \u001b[33mVector\u001b[39m(\u001b[32m3\u001b[39m)\n",
       "\u001b[36mres47_3\u001b[39m: \u001b[32mVector\u001b[39m[\u001b[32mInt\u001b[39m] = \u001b[33mVector\u001b[39m(\u001b[32m1\u001b[39m, \u001b[32m2\u001b[39m)\n",
       "\u001b[36mres47_4\u001b[39m: \u001b[32mVector\u001b[39m[\u001b[32mInt\u001b[39m] = \u001b[33mVector\u001b[39m(\u001b[32m1\u001b[39m, \u001b[32m2\u001b[39m, \u001b[32m3\u001b[39m, \u001b[32m3\u001b[39m, \u001b[32m4\u001b[39m, \u001b[32m5\u001b[39m)"
      ]
     },
     "execution_count": 48,
     "metadata": {},
     "output_type": "execute_result"
    }
   ],
   "source": [
    "val l1 = Vector(1,2,3)\n",
    "val l2 = Vector(3,4,5)\n",
    "l1.intersect(l2)\n",
    "l1.diff(l2)\n",
    "l1 ++ l2"
   ]
  },
  {
   "cell_type": "code",
   "execution_count": 49,
   "id": "7d7c4a0a",
   "metadata": {
    "ExecuteTime": {
     "end_time": "2022-05-01T16:10:01.320190Z",
     "start_time": "2022-05-01T16:10:01.184Z"
    }
   },
   "outputs": [
    {
     "data": {
      "text/plain": [
       "\u001b[32mimport \u001b[39m\u001b[36mscala.collection.mutable.ArrayBuffer\n",
       "\u001b[39m\n",
       "\u001b[36ml1\u001b[39m: \u001b[32mArrayBuffer\u001b[39m[\u001b[32mInt\u001b[39m] = \u001b[33mArrayBuffer\u001b[39m(\u001b[32m1\u001b[39m, \u001b[32m2\u001b[39m, \u001b[32m3\u001b[39m)\n",
       "\u001b[36ml2\u001b[39m: \u001b[32mArrayBuffer\u001b[39m[\u001b[32mInt\u001b[39m] = \u001b[33mArrayBuffer\u001b[39m(\u001b[32m3\u001b[39m, \u001b[32m4\u001b[39m, \u001b[32m5\u001b[39m)\n",
       "\u001b[36mres48_3\u001b[39m: \u001b[32mArrayBuffer\u001b[39m[\u001b[32mInt\u001b[39m] = \u001b[33mArrayBuffer\u001b[39m(\u001b[32m3\u001b[39m)\n",
       "\u001b[36mres48_4\u001b[39m: \u001b[32mArrayBuffer\u001b[39m[\u001b[32mInt\u001b[39m] = \u001b[33mArrayBuffer\u001b[39m(\u001b[32m1\u001b[39m, \u001b[32m2\u001b[39m)\n",
       "\u001b[36mres48_5\u001b[39m: \u001b[32mArrayBuffer\u001b[39m[\u001b[32mInt\u001b[39m] = \u001b[33mArrayBuffer\u001b[39m(\u001b[32m1\u001b[39m, \u001b[32m2\u001b[39m, \u001b[32m3\u001b[39m, \u001b[32m3\u001b[39m, \u001b[32m4\u001b[39m, \u001b[32m5\u001b[39m)"
      ]
     },
     "execution_count": 49,
     "metadata": {},
     "output_type": "execute_result"
    }
   ],
   "source": [
    "import scala.collection.mutable.ArrayBuffer\n",
    "val l1 = ArrayBuffer(1,2,3)\n",
    "val l2 = ArrayBuffer(3,4,5)\n",
    "l1.intersect(l2)\n",
    "l1.diff(l2)\n",
    "l1 ++ l2"
   ]
  },
  {
   "cell_type": "markdown",
   "id": "c618cf49",
   "metadata": {},
   "source": [
    "# Randomizing"
   ]
  },
  {
   "cell_type": "code",
   "execution_count": 50,
   "id": "22bdf5de",
   "metadata": {
    "ExecuteTime": {
     "end_time": "2022-05-01T16:11:02.176953Z",
     "start_time": "2022-05-01T16:11:02.008Z"
    }
   },
   "outputs": [
    {
     "data": {
      "text/plain": [
       "\u001b[32mimport \u001b[39m\u001b[36mscala.util.Random\n",
       "\u001b[39m\n",
       "\u001b[36mxs\u001b[39m: \u001b[32mList\u001b[39m[\u001b[32mInt\u001b[39m] = \u001b[33mList\u001b[39m(\u001b[32m1\u001b[39m, \u001b[32m2\u001b[39m, \u001b[32m3\u001b[39m, \u001b[32m4\u001b[39m, \u001b[32m5\u001b[39m)\n",
       "\u001b[36mys\u001b[39m: \u001b[32mList\u001b[39m[\u001b[32mInt\u001b[39m] = \u001b[33mList\u001b[39m(\u001b[32m4\u001b[39m, \u001b[32m1\u001b[39m, \u001b[32m5\u001b[39m, \u001b[32m2\u001b[39m, \u001b[32m3\u001b[39m)"
      ]
     },
     "execution_count": 50,
     "metadata": {},
     "output_type": "execute_result"
    }
   ],
   "source": [
    "import scala.util.Random\n",
    "val xs = List(1,2,3,4,5)\n",
    "val ys = Random.shuffle(xs)"
   ]
  },
  {
   "cell_type": "code",
   "execution_count": 66,
   "id": "ba47bdc7",
   "metadata": {
    "ExecuteTime": {
     "end_time": "2022-05-01T16:12:33.161317Z",
     "start_time": "2022-05-01T16:12:33.067Z"
    }
   },
   "outputs": [
    {
     "data": {
      "text/plain": [
       "\u001b[36mres65\u001b[39m: \u001b[32mInt\u001b[39m = \u001b[32m4\u001b[39m"
      ]
     },
     "execution_count": 66,
     "metadata": {},
     "output_type": "execute_result"
    }
   ],
   "source": [
    "xs(Random.nextInt(xs.size))"
   ]
  },
  {
   "cell_type": "markdown",
   "id": "ab6b367d",
   "metadata": {},
   "source": [
    "# Sorting"
   ]
  },
  {
   "cell_type": "code",
   "execution_count": 67,
   "id": "757759a9",
   "metadata": {
    "ExecuteTime": {
     "end_time": "2022-05-01T16:14:06.527776Z",
     "start_time": "2022-05-01T16:14:06.428Z"
    }
   },
   "outputs": [
    {
     "data": {
      "text/plain": [
       "\u001b[36mres66\u001b[39m: \u001b[32mVector\u001b[39m[\u001b[32mInt\u001b[39m] = \u001b[33mVector\u001b[39m(\u001b[32m1\u001b[39m, \u001b[32m5\u001b[39m, \u001b[32m7\u001b[39m, \u001b[32m8\u001b[39m, \u001b[32m10\u001b[39m)"
      ]
     },
     "execution_count": 67,
     "metadata": {},
     "output_type": "execute_result"
    }
   ],
   "source": [
    "Vector(10, 5, 8, 1, 7).sortWith((a,b) => a < b)"
   ]
  },
  {
   "cell_type": "markdown",
   "id": "49d6ef50",
   "metadata": {},
   "source": [
    "Sorting by pairs"
   ]
  },
  {
   "cell_type": "code",
   "execution_count": 68,
   "id": "290e1013",
   "metadata": {
    "ExecuteTime": {
     "end_time": "2022-05-01T16:15:20.528578Z",
     "start_time": "2022-05-01T16:15:20.416Z"
    }
   },
   "outputs": [
    {
     "data": {
      "text/plain": [
       "\u001b[36mres67\u001b[39m: \u001b[32mList\u001b[39m[\u001b[32mString\u001b[39m] = \u001b[33mList\u001b[39m(\u001b[32m\"mouse\"\u001b[39m, \u001b[32m\"dog\"\u001b[39m, \u001b[32m\"cat\"\u001b[39m)"
      ]
     },
     "execution_count": 68,
     "metadata": {},
     "output_type": "execute_result"
    }
   ],
   "source": [
    "List(\"dog\", \"mouse\", \"cat\").sortWith{case (a,b) => a.size > b.size}"
   ]
  },
  {
   "cell_type": "markdown",
   "id": "3989cfec",
   "metadata": {},
   "source": [
    "Sorting by implicit order"
   ]
  },
  {
   "cell_type": "code",
   "execution_count": 73,
   "id": "e4b32b47",
   "metadata": {
    "ExecuteTime": {
     "end_time": "2022-05-01T16:20:01.364677Z",
     "start_time": "2022-05-01T16:20:01.262Z"
    }
   },
   "outputs": [
    {
     "data": {
      "text/plain": [
       "\u001b[36mres72\u001b[39m: \u001b[32mList\u001b[39m[\u001b[32mString\u001b[39m] = \u001b[33mList\u001b[39m(\u001b[32m\"mouse\"\u001b[39m, \u001b[32m\"cat\"\u001b[39m, \u001b[32m\"dog\"\u001b[39m)"
      ]
     },
     "execution_count": 73,
     "metadata": {},
     "output_type": "execute_result"
    }
   ],
   "source": [
    "List(\"dog\", \"mouse\", \"cat\").sortBy { case w => (-w.size, w)}"
   ]
  },
  {
   "cell_type": "markdown",
   "id": "f6137a5e",
   "metadata": {},
   "source": [
    "There are `sortInPlace`, `sortInPlaceWith`, and `sortInPlaceBy` for mutable sequences"
   ]
  },
  {
   "cell_type": "markdown",
   "id": "6ea6c762",
   "metadata": {},
   "source": [
    "# mkString"
   ]
  },
  {
   "cell_type": "code",
   "execution_count": 74,
   "id": "fc195bf6",
   "metadata": {
    "ExecuteTime": {
     "end_time": "2022-05-01T16:23:25.352579Z",
     "start_time": "2022-05-01T16:23:25.243Z"
    }
   },
   "outputs": [
    {
     "data": {
      "text/plain": [
       "\u001b[36mres73\u001b[39m: \u001b[32mString\u001b[39m = \u001b[32m\"applebananapeach\"\u001b[39m"
      ]
     },
     "execution_count": 74,
     "metadata": {},
     "output_type": "execute_result"
    }
   ],
   "source": [
    "List(\"apple\", \"banana\", \"peach\").mkString"
   ]
  },
  {
   "cell_type": "code",
   "execution_count": 75,
   "id": "764e6620",
   "metadata": {
    "ExecuteTime": {
     "end_time": "2022-05-01T16:23:39.498526Z",
     "start_time": "2022-05-01T16:23:39.396Z"
    }
   },
   "outputs": [
    {
     "data": {
      "text/plain": [
       "\u001b[36mres74\u001b[39m: \u001b[32mString\u001b[39m = \u001b[32m\"123\"\u001b[39m"
      ]
     },
     "execution_count": 75,
     "metadata": {},
     "output_type": "execute_result"
    }
   ],
   "source": [
    "List(1,2,3).mkString"
   ]
  },
  {
   "cell_type": "markdown",
   "id": "b7e6b3c3",
   "metadata": {},
   "source": [
    "mkString is overloaded, so you can add a prefix and suffix when creating a string:"
   ]
  },
  {
   "cell_type": "code",
   "execution_count": 76,
   "id": "c1f461fe",
   "metadata": {
    "ExecuteTime": {
     "end_time": "2022-05-01T16:26:34.752634Z",
     "start_time": "2022-05-01T16:26:34.659Z"
    }
   },
   "outputs": [
    {
     "data": {
      "text/plain": [
       "\u001b[36mres75\u001b[39m: \u001b[32mString\u001b[39m = \u001b[32m\"[apple, banana, peach]\"\u001b[39m"
      ]
     },
     "execution_count": 76,
     "metadata": {},
     "output_type": "execute_result"
    }
   ],
   "source": [
    "List(\"apple\", \"banana\", \"peach\").mkString(\"[\", \", \", \"]\")"
   ]
  },
  {
   "cell_type": "code",
   "execution_count": null,
   "id": "2508baa5",
   "metadata": {},
   "outputs": [],
   "source": []
  }
 ],
 "metadata": {
  "kernelspec": {
   "display_name": "Scala_2,13",
   "language": "scala",
   "name": "scala"
  },
  "language_info": {
   "codemirror_mode": "text/x-scala",
   "file_extension": ".sc",
   "mimetype": "text/x-scala",
   "name": "scala",
   "nbconvert_exporter": "script",
   "version": "2.13.5"
  },
  "toc": {
   "base_numbering": 1,
   "nav_menu": {},
   "number_sections": true,
   "sideBar": true,
   "skip_h1_title": false,
   "title_cell": "Table of Contents",
   "title_sidebar": "Contents",
   "toc_cell": true,
   "toc_position": {},
   "toc_section_display": true,
   "toc_window_display": false
  }
 },
 "nbformat": 4,
 "nbformat_minor": 5
}
