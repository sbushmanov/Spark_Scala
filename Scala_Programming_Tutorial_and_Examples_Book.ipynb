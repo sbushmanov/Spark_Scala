{
 "cells": [
  {
   "cell_type": "code",
   "execution_count": 4,
   "id": "1e498a9a",
   "metadata": {},
   "outputs": [
    {
     "data": {
      "text/plain": [
       "defined \u001b[32mfunction\u001b[39m \u001b[36misPrime\u001b[39m\n",
       "\u001b[36mres3_1\u001b[39m: \u001b[32mBoolean\u001b[39m = \u001b[32mtrue\u001b[39m"
      ]
     },
     "execution_count": 4,
     "metadata": {},
     "output_type": "execute_result"
    }
   ],
   "source": [
    "def isPrime(n: Int): Boolean = (2 to n-1).forall(k => n%k != 0)\n",
    "\n",
    "isPrime(13)"
   ]
  },
  {
   "cell_type": "code",
   "execution_count": 9,
   "id": "aee3b770",
   "metadata": {},
   "outputs": [
    {
     "data": {
      "text/plain": [
       "\u001b[36misPrime2\u001b[39m: \u001b[32mInt\u001b[39m => \u001b[32mBoolean\u001b[39m = ammonite.$sess.cmd8$Helper$$Lambda$2085/1049772191@33e8153\n",
       "\u001b[36mres8_1\u001b[39m: \u001b[32mBoolean\u001b[39m = \u001b[32mtrue\u001b[39m"
      ]
     },
     "execution_count": 9,
     "metadata": {},
     "output_type": "execute_result"
    }
   ],
   "source": [
    "val isPrime2: Int => Boolean = n => (2 to n-1).forall(k => n%k != 0)\n",
    "\n",
    "isPrime2(13)"
   ]
  },
  {
   "cell_type": "code",
   "execution_count": 11,
   "id": "573286c4",
   "metadata": {},
   "outputs": [
    {
     "data": {
      "text/plain": [
       "defined \u001b[32mfunction\u001b[39m \u001b[36misPrime3\u001b[39m\n",
       "\u001b[36mres10_1\u001b[39m: \u001b[32mBoolean\u001b[39m = \u001b[32mtrue\u001b[39m"
      ]
     },
     "execution_count": 11,
     "metadata": {},
     "output_type": "execute_result"
    }
   ],
   "source": [
    "def isPrime3(n: Int): Boolean = (2 to n-1).forall(n%_ != 0)\n",
    "\n",
    "isPrime3(13)"
   ]
  },
  {
   "cell_type": "code",
   "execution_count": 16,
   "id": "63e44d84",
   "metadata": {},
   "outputs": [
    {
     "data": {
      "text/plain": [
       "\u001b[36misEven\u001b[39m: \u001b[32mInt\u001b[39m => \u001b[32mInt\u001b[39m = ammonite.$sess.cmd15$Helper$$Lambda$2262/787815373@587212ec\n",
       "\u001b[36mhowManyEvens\u001b[39m: \u001b[32mSeq\u001b[39m[\u001b[32mInt\u001b[39m] => \u001b[32mInt\u001b[39m = ammonite.$sess.cmd15$Helper$$Lambda$2263/630534104@6addbd14\n",
       "\u001b[36mres15_2\u001b[39m: \u001b[32mInt\u001b[39m = \u001b[32m5\u001b[39m"
      ]
     },
     "execution_count": 16,
     "metadata": {},
     "output_type": "execute_result"
    }
   ],
   "source": [
    "val isEven: Int => Int = n => if (n%2 == 0) 1 else 0\n",
    "val howManyEvens: Seq[Int] => Int = l => l.map(isEven(_)).sum\n",
    "\n",
    "howManyEvens (1 to 10)"
   ]
  },
  {
   "cell_type": "code",
   "execution_count": 17,
   "id": "82b11a44",
   "metadata": {},
   "outputs": [
    {
     "data": {
      "text/plain": [
       "\u001b[36mres16\u001b[39m: \u001b[32mString\u001b[39m = \u001b[32m\"b\"\u001b[39m"
      ]
     },
     "execution_count": 17,
     "metadata": {},
     "output_type": "execute_result"
    }
   ],
   "source": [
    "List(\"a\",\"b\").max"
   ]
  },
  {
   "cell_type": "code",
   "execution_count": 19,
   "id": "07d42099",
   "metadata": {},
   "outputs": [
    {
     "data": {
      "text/plain": [
       "\u001b[36misPrime4\u001b[39m: \u001b[32mInt\u001b[39m => \u001b[32mBoolean\u001b[39m = ammonite.$sess.cmd18$Helper$$Lambda$2277/2045142044@673c889b\n",
       "\u001b[36mres18_1\u001b[39m: \u001b[32mBoolean\u001b[39m = \u001b[32mtrue\u001b[39m"
      ]
     },
     "execution_count": 19,
     "metadata": {},
     "output_type": "execute_result"
    }
   ],
   "source": [
    "val isPrime4: Int => Boolean = n => (2 to n-1).\n",
    "    takeWhile(i => i*i < n).\n",
    "    forall(i => n%i != 0)\n",
    "\n",
    "isPrime4(13)"
   ]
  },
  {
   "cell_type": "code",
   "execution_count": 21,
   "id": "58cf63ff",
   "metadata": {},
   "outputs": [
    {
     "data": {
      "text/plain": [
       "\u001b[36msqrtCos\u001b[39m: \u001b[32mSeq\u001b[39m[\u001b[32mInt\u001b[39m] => \u001b[32mDouble\u001b[39m = ammonite.$sess.cmd20$Helper$$Lambda$2318/228380229@e4cd352\n",
       "\u001b[36mres20_1\u001b[39m: \u001b[32mDouble\u001b[39m = \u001b[32m3.1158102885052577\u001b[39m"
      ]
     },
     "execution_count": 21,
     "metadata": {},
     "output_type": "execute_result"
    }
   ],
   "source": [
    "val sqrtCos: Seq[Int] => Double = l => l.\n",
    "    filter(math.cos(_) > 0).\n",
    "    map(i => math.sqrt(math.cos(i))).\n",
    "    sum\n",
    "\n",
    "sqrtCos (1 to 10)"
   ]
  },
  {
   "cell_type": "code",
   "execution_count": 24,
   "id": "1eb03e63",
   "metadata": {},
   "outputs": [
    {
     "data": {
      "text/plain": [
       "\u001b[36msqrtCos2\u001b[39m: \u001b[32mSeq\u001b[39m[\u001b[32mInt\u001b[39m] => \u001b[32mDouble\u001b[39m = ammonite.$sess.cmd23$Helper$$Lambda$2405/220433201@41a1d143\n",
       "\u001b[36mres23_1\u001b[39m: \u001b[32mDouble\u001b[39m = \u001b[32m3.1158102885052577\u001b[39m"
      ]
     },
     "execution_count": 24,
     "metadata": {},
     "output_type": "execute_result"
    }
   ],
   "source": [
    "val sqrtCos2: Seq[Int] => Double = l => l.\n",
    "    collect{case n if (math.cos(n) > 0) => math.sqrt(math.cos(n))}.\n",
    "    sum\n",
    "\n",
    "sqrtCos2 (1 to 10)"
   ]
  },
  {
   "cell_type": "markdown",
   "id": "89b3c8dc",
   "metadata": {},
   "source": [
    "Wallis product"
   ]
  },
  {
   "cell_type": "code",
   "execution_count": 26,
   "id": "62aaeb21",
   "metadata": {},
   "outputs": [
    {
     "data": {
      "text/plain": [
       "\u001b[36mwallis\u001b[39m: \u001b[32mInt\u001b[39m => \u001b[32mDouble\u001b[39m = ammonite.$sess.cmd25$Helper$$Lambda$1975/1617492625@6087531a\n",
       "\u001b[36mres25_1\u001b[39m: \u001b[32mDouble\u001b[39m = \u001b[32m3.1337874906281593\u001b[39m"
      ]
     },
     "execution_count": 26,
     "metadata": {},
     "output_type": "execute_result"
    }
   ],
   "source": [
    "val wallis: Int => Double = n => 2 * (1 to n).map(k => {\n",
    "    \n",
    "    val m = k.toDouble\n",
    "    2*m/(2*k-1) * 2*m/(2*k+1)\n",
    "\n",
    "}\n",
    ").product\n",
    "\n",
    "wallis(100)"
   ]
  },
  {
   "cell_type": "code",
   "execution_count": 4,
   "id": "b947f514",
   "metadata": {},
   "outputs": [
    {
     "data": {
      "text/plain": [
       "\u001b[36mpi\u001b[39m: \u001b[32mInt\u001b[39m => \u001b[32mDouble\u001b[39m = ammonite.$sess.cmd3$Helper$$Lambda$1903/299013583@219ad253\n",
       "\u001b[36mres3_1\u001b[39m: \u001b[32mDouble\u001b[39m = \u001b[32m3.1406380562059946\u001b[39m"
      ]
     },
     "execution_count": 4,
     "metadata": {},
     "output_type": "execute_result"
    }
   ],
   "source": [
    "val pi: Int => Double = n => (1 to n).map(k => 1.0 /(k*k)).sum\n",
    "\n",
    "math.sqrt(6 * pi(1000))"
   ]
  },
  {
   "cell_type": "code",
   "execution_count": null,
   "id": "978a1caf",
   "metadata": {},
   "outputs": [],
   "source": []
  }
 ],
 "metadata": {
  "kernelspec": {
   "display_name": "Scala_2.13",
   "language": "scala",
   "name": "scala213"
  },
  "language_info": {
   "codemirror_mode": "text/x-scala",
   "file_extension": ".sc",
   "mimetype": "text/x-scala",
   "name": "scala",
   "nbconvert_exporter": "script",
   "version": "2.13.7"
  }
 },
 "nbformat": 4,
 "nbformat_minor": 5
}
