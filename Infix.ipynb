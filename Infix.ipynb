{
 "cells": [
  {
   "cell_type": "code",
   "execution_count": 6,
   "id": "a7efb12e",
   "metadata": {},
   "outputs": [
    {
     "data": {
      "text/plain": [
       "defined \u001b[32mclass\u001b[39m \u001b[36mPlay\u001b[39m\n",
       "\u001b[36mp\u001b[39m: \u001b[32mPlay\u001b[39m = ammonite.$sess.cmd5$Helper$Play@3b43979a\n",
       "\u001b[36mres5_2\u001b[39m: \u001b[32mInt\u001b[39m = \u001b[32m10\u001b[39m"
      ]
     },
     "execution_count": 6,
     "metadata": {},
     "output_type": "execute_result"
    }
   ],
   "source": [
    "class Play(x: Int) {\n",
    "    def <+>(y: Int) = x+y\n",
    "}\n",
    "\n",
    "val p = new Play(3)\n",
    "\n",
    "p <+> 7"
   ]
  },
  {
   "cell_type": "code",
   "execution_count": 7,
   "id": "3d44cade",
   "metadata": {},
   "outputs": [
    {
     "data": {
      "text/plain": [
       "defined \u001b[32mclass\u001b[39m \u001b[36mPlay\u001b[39m\n",
       "\u001b[36mres6_1\u001b[39m: \u001b[32mInt\u001b[39m = \u001b[32m10\u001b[39m"
      ]
     },
     "execution_count": 7,
     "metadata": {},
     "output_type": "execute_result"
    }
   ],
   "source": [
    "implicit class Play(x: Int) {\n",
    "    def <+>(y: Int) = x+y\n",
    "}\n",
    "\n",
    "3 <+> 7"
   ]
  },
  {
   "cell_type": "code",
   "execution_count": null,
   "id": "de528335",
   "metadata": {},
   "outputs": [],
   "source": []
  }
 ],
 "metadata": {
  "kernelspec": {
   "display_name": "Scala_2.13",
   "language": "scala",
   "name": "scala213"
  },
  "language_info": {
   "codemirror_mode": "text/x-scala",
   "file_extension": ".sc",
   "mimetype": "text/x-scala",
   "name": "scala",
   "nbconvert_exporter": "script",
   "version": "2.13.7"
  }
 },
 "nbformat": 4,
 "nbformat_minor": 5
}
