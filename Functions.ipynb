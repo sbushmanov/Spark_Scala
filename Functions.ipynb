{
 "cells": [
  {
   "cell_type": "markdown",
   "id": "5047056e",
   "metadata": {
    "toc": true
   },
   "source": [
    "<h1>Table of Contents<span class=\"tocSkip\"></span></h1>\n",
    "<div class=\"toc\"><ul class=\"toc-item\"><li><span><a href=\"#Anonymous-function-or-function-literal\" data-toc-modified-id=\"Anonymous-function-or-function-literal-1\"><span class=\"toc-item-num\">1&nbsp;&nbsp;</span>Anonymous function or function literal</a></span><ul class=\"toc-item\"><li><span><a href=\"#Explicit-return-type\" data-toc-modified-id=\"Explicit-return-type-1.1\"><span class=\"toc-item-num\">1.1&nbsp;&nbsp;</span>Explicit return type</a></span></li><li><span><a href=\"#Implicit-return-type\" data-toc-modified-id=\"Implicit-return-type-1.2\"><span class=\"toc-item-num\">1.2&nbsp;&nbsp;</span>Implicit return type</a></span></li><li><span><a href=\"#Implicit-multiline\" data-toc-modified-id=\"Implicit-multiline-1.3\"><span class=\"toc-item-num\">1.3&nbsp;&nbsp;</span>Implicit multiline</a></span></li></ul></li><li><span><a href=\"#Partially-applied-functions\" data-toc-modified-id=\"Partially-applied-functions-2\"><span class=\"toc-item-num\">2&nbsp;&nbsp;</span>Partially applied functions</a></span></li><li><span><a href=\"#Partial-functions\" data-toc-modified-id=\"Partial-functions-3\"><span class=\"toc-item-num\">3&nbsp;&nbsp;</span>Partial functions</a></span></li><li><span><a href=\"#PartialFunction-to-collect\" data-toc-modified-id=\"PartialFunction-to-collect-4\"><span class=\"toc-item-num\">4&nbsp;&nbsp;</span>PartialFunction to <code>collect</code></a></span></li><li><span><a href=\"#Unwinding-None-through-flatten\" data-toc-modified-id=\"Unwinding-None-through-flatten-5\"><span class=\"toc-item-num\">5&nbsp;&nbsp;</span>Unwinding None through <code>flatten</code></a></span></li></ul></div>"
   ]
  },
  {
   "cell_type": "markdown",
   "id": "8799a453",
   "metadata": {},
   "source": [
    "# Anonymous function or function literal\n",
    "\n",
    "## Explicit return type"
   ]
  },
  {
   "cell_type": "code",
   "execution_count": 1,
   "id": "8e356706",
   "metadata": {
    "ExecuteTime": {
     "end_time": "2022-05-22T07:41:47.513860Z",
     "start_time": "2022-05-22T07:41:45.919Z"
    }
   },
   "outputs": [
    {
     "data": {
      "text/plain": [
       "\u001b[36mdouble\u001b[39m: \u001b[32mInt\u001b[39m => \u001b[32mInt\u001b[39m = ammonite.$sess.cmd0$Helper$$Lambda$1760/1817437527@1d63d2ab\n",
       "\u001b[36mres0_1\u001b[39m: \u001b[32mInt\u001b[39m = \u001b[32m4\u001b[39m"
      ]
     },
     "execution_count": 1,
     "metadata": {},
     "output_type": "execute_result"
    }
   ],
   "source": [
    "val double: Int => Int = (x: Int) => 2 * x\n",
    "\n",
    "double(2)"
   ]
  },
  {
   "cell_type": "markdown",
   "id": "26fa2bc6",
   "metadata": {},
   "source": [
    "## Implicit return type"
   ]
  },
  {
   "cell_type": "code",
   "execution_count": 2,
   "id": "f703a11b",
   "metadata": {
    "ExecuteTime": {
     "end_time": "2022-04-17T18:49:29.643805Z",
     "start_time": "2022-04-17T18:49:29.306Z"
    }
   },
   "outputs": [
    {
     "data": {
      "text/plain": [
       "\u001b[36mdouble\u001b[39m: \u001b[32mInt\u001b[39m => \u001b[32mInt\u001b[39m = ammonite.$sess.cmd1$Helper$$Lambda$2092/1976581834@5691baac\n",
       "\u001b[36mres1_1\u001b[39m: \u001b[32mInt\u001b[39m = \u001b[32m4\u001b[39m"
      ]
     },
     "execution_count": 2,
     "metadata": {},
     "output_type": "execute_result"
    }
   ],
   "source": [
    "val double = (x: Int) => 2 * x\n",
    "\n",
    "double(2)"
   ]
  },
  {
   "cell_type": "markdown",
   "id": "e30da5e9",
   "metadata": {},
   "source": [
    "## Implicit multiline"
   ]
  },
  {
   "cell_type": "code",
   "execution_count": null,
   "id": "5fe21868",
   "metadata": {},
   "outputs": [],
   "source": [
    "val double = (x: Int) => {\n",
    "    2 * x\n",
    "}"
   ]
  },
  {
   "cell_type": "markdown",
   "id": "a7f8ff20",
   "metadata": {},
   "source": [
    "# Partially applied functions"
   ]
  },
  {
   "cell_type": "code",
   "execution_count": 5,
   "id": "13d9bba1",
   "metadata": {
    "ExecuteTime": {
     "end_time": "2022-04-24T05:32:50.028284Z",
     "start_time": "2022-04-24T05:32:49.793Z"
    }
   },
   "outputs": [
    {
     "data": {
      "text/plain": [
       "\u001b[36mPow\u001b[39m: (\u001b[32mInt\u001b[39m, \u001b[32mInt\u001b[39m) => \u001b[32mDouble\u001b[39m = ammonite.$sess.cmd4$Helper$$Lambda$2378/1184413099@5d2b9b2d\n",
       "\u001b[36mres4_1\u001b[39m: \u001b[32mDouble\u001b[39m = \u001b[32m8.0\u001b[39m"
      ]
     },
     "execution_count": 5,
     "metadata": {},
     "output_type": "execute_result"
    }
   ],
   "source": [
    "val Pow = (x: Int, y: Int) => scala.math.pow(x,y)\n",
    "Pow(2,3)"
   ]
  },
  {
   "cell_type": "code",
   "execution_count": 6,
   "id": "43771a6f",
   "metadata": {
    "ExecuteTime": {
     "end_time": "2022-04-24T05:33:08.282353Z",
     "start_time": "2022-04-24T05:33:08.066Z"
    }
   },
   "outputs": [
    {
     "data": {
      "text/plain": [
       "\u001b[36mPow2\u001b[39m: \u001b[32mInt\u001b[39m => \u001b[32mDouble\u001b[39m = ammonite.$sess.cmd5$Helper$$Lambda$2385/981027639@6957df97\n",
       "\u001b[36mres5_1\u001b[39m: \u001b[32mDouble\u001b[39m = \u001b[32m9.0\u001b[39m"
      ]
     },
     "execution_count": 6,
     "metadata": {},
     "output_type": "execute_result"
    }
   ],
   "source": [
    "val Pow2 = Pow(_, 2)\n",
    "Pow2(3)"
   ]
  },
  {
   "cell_type": "markdown",
   "id": "3a9d98a4",
   "metadata": {},
   "source": [
    "# Partial functions"
   ]
  },
  {
   "cell_type": "code",
   "execution_count": 17,
   "id": "adb7f576",
   "metadata": {
    "ExecuteTime": {
     "end_time": "2022-04-24T18:53:20.651639Z",
     "start_time": "2022-04-24T18:53:20.507Z"
    }
   },
   "outputs": [
    {
     "data": {
      "text/plain": [
       "\u001b[36mdivide\u001b[39m: \u001b[32mPartialFunction\u001b[39m[(\u001b[32mInt\u001b[39m, \u001b[32mInt\u001b[39m), \u001b[32mInt\u001b[39m] = <function1>\n",
       "\u001b[36mres16_1\u001b[39m: \u001b[32mBoolean\u001b[39m = false"
      ]
     },
     "execution_count": 17,
     "metadata": {},
     "output_type": "execute_result"
    }
   ],
   "source": [
    "val divide: PartialFunction[(Int, Int), Int] = {\n",
    "    case (x, y) if (y != 0) => x / y\n",
    "}\n",
    "\n",
    "divide.isDefinedAt((42,0))"
   ]
  },
  {
   "cell_type": "code",
   "execution_count": 16,
   "id": "1d5c86cd",
   "metadata": {
    "ExecuteTime": {
     "end_time": "2022-04-24T18:38:02.889197Z",
     "start_time": "2022-04-24T18:38:02.730Z"
    }
   },
   "outputs": [
    {
     "data": {
      "text/plain": [
       "\u001b[36mdivide42\u001b[39m: \u001b[32mPartialFunction\u001b[39m[\u001b[32mInt\u001b[39m, \u001b[32mInt\u001b[39m] = <function1>\n",
       "\u001b[36mres15_1\u001b[39m: \u001b[32mBoolean\u001b[39m = false\n",
       "\u001b[36mres15_2\u001b[39m: \u001b[32mInt\u001b[39m = \u001b[32m7\u001b[39m"
      ]
     },
     "execution_count": 16,
     "metadata": {},
     "output_type": "execute_result"
    }
   ],
   "source": [
    "val divide42: PartialFunction[Int, Int] = {\n",
    "    case x if (x!=0) => divide(42,x)\n",
    "}\n",
    "\n",
    "divide42.isDefinedAt(0)\n",
    "\n",
    "divide42(6)"
   ]
  },
  {
   "cell_type": "code",
   "execution_count": 3,
   "id": "f125b4a4",
   "metadata": {
    "ExecuteTime": {
     "end_time": "2022-04-30T19:13:25.780504Z",
     "start_time": "2022-04-30T19:13:25.482Z"
    }
   },
   "outputs": [
    {
     "data": {
      "text/plain": [
       "\u001b[36mres2\u001b[39m: \u001b[32mList\u001b[39m[\u001b[32mInt\u001b[39m] = \u001b[33mList\u001b[39m(\u001b[32m0\u001b[39m, \u001b[32m2\u001b[39m, \u001b[32m4\u001b[39m)"
      ]
     },
     "execution_count": 3,
     "metadata": {},
     "output_type": "execute_result"
    }
   ],
   "source": [
    "List.tabulate(5)(identity).collect { case x if ( x%2 == 0) => x}"
   ]
  },
  {
   "cell_type": "markdown",
   "id": "ef334fdb",
   "metadata": {},
   "source": [
    "# PartialFunction to `collect`\n",
    "\n",
    "`collect` expects `PartialFunction[A, B]`"
   ]
  },
  {
   "cell_type": "code",
   "execution_count": 6,
   "id": "09b5ca5b",
   "metadata": {
    "ExecuteTime": {
     "end_time": "2022-04-24T10:08:24.501669Z",
     "start_time": "2022-04-24T10:08:24.314Z"
    }
   },
   "outputs": [
    {
     "data": {
      "text/plain": [
       "\u001b[36mres5\u001b[39m: \u001b[32mList\u001b[39m[\u001b[32mInt\u001b[39m] = \u001b[33mList\u001b[39m(\u001b[32m1\u001b[39m, \u001b[32m3\u001b[39m)"
      ]
     },
     "execution_count": 6,
     "metadata": {},
     "output_type": "execute_result"
    }
   ],
   "source": [
    "List(\"a\",\"1\",\"b\",\"3\").map {_.toIntOption}.flatten"
   ]
  },
  {
   "cell_type": "code",
   "execution_count": 3,
   "id": "c75ef95d",
   "metadata": {
    "ExecuteTime": {
     "end_time": "2022-04-24T10:06:39.573953Z",
     "start_time": "2022-04-24T10:06:39.260Z"
    }
   },
   "outputs": [
    {
     "data": {
      "text/plain": [
       "\u001b[36mres2\u001b[39m: \u001b[32mList\u001b[39m[\u001b[32mInt\u001b[39m] = \u001b[33mList\u001b[39m(\u001b[32m1\u001b[39m, \u001b[32m3\u001b[39m)"
      ]
     },
     "execution_count": 3,
     "metadata": {},
     "output_type": "execute_result"
    }
   ],
   "source": [
    "List(\"a\",\"1\",\"b\",\"3\").flatMap {_.toIntOption}"
   ]
  },
  {
   "cell_type": "code",
   "execution_count": 7,
   "id": "c9f17bc2",
   "metadata": {
    "ExecuteTime": {
     "end_time": "2022-04-24T10:12:30.180040Z",
     "start_time": "2022-04-24T10:12:30.022Z"
    }
   },
   "outputs": [
    {
     "data": {
      "text/plain": [
       "\u001b[36mres6\u001b[39m: \u001b[32mOption\u001b[39m[\u001b[32mInt\u001b[39m] = \u001b[33mSome\u001b[39m(value = \u001b[32m4\u001b[39m)"
      ]
     },
     "execution_count": 7,
     "metadata": {},
     "output_type": "execute_result"
    }
   ],
   "source": [
    "\"4\".toIntOption"
   ]
  },
  {
   "cell_type": "code",
   "execution_count": 12,
   "id": "b7945af3",
   "metadata": {
    "ExecuteTime": {
     "end_time": "2022-04-24T10:17:57.962433Z",
     "start_time": "2022-04-24T10:17:57.759Z"
    }
   },
   "outputs": [
    {
     "data": {
      "text/plain": [
       "\u001b[36mstringToInt\u001b[39m: \u001b[32mPartialFunction\u001b[39m[\u001b[32mString\u001b[39m, \u001b[32mInt\u001b[39m] = <function1>\n",
       "\u001b[36mres11_1\u001b[39m: \u001b[32mList\u001b[39m[\u001b[32mInt\u001b[39m] = \u001b[33mList\u001b[39m(\u001b[32m1\u001b[39m, \u001b[32m3\u001b[39m)"
      ]
     },
     "execution_count": 12,
     "metadata": {},
     "output_type": "execute_result"
    }
   ],
   "source": [
    "val stringToInt: PartialFunction[String, Int] = {\n",
    "    case x if (x.toIntOption.isDefined) => x.toInt\n",
    "}\n",
    "\n",
    "List(\"a\",\"1\",\"b\",\"3\").collect{stringToInt}"
   ]
  },
  {
   "cell_type": "code",
   "execution_count": 13,
   "id": "48edc9e3",
   "metadata": {
    "ExecuteTime": {
     "end_time": "2022-04-24T10:41:19.962838Z",
     "start_time": "2022-04-24T10:41:19.805Z"
    }
   },
   "outputs": [
    {
     "data": {
      "text/plain": [
       "\u001b[32mimport \u001b[39m\u001b[36mscala.util.{Try, Success, Failure}\u001b[39m"
      ]
     },
     "execution_count": 13,
     "metadata": {},
     "output_type": "execute_result"
    }
   ],
   "source": [
    "import scala.util.{Try, Success, Failure}"
   ]
  },
  {
   "cell_type": "markdown",
   "id": "8dd30354",
   "metadata": {},
   "source": [
    "# Unwinding None through `flatten`"
   ]
  },
  {
   "cell_type": "code",
   "execution_count": 25,
   "id": "6514b066",
   "metadata": {
    "ExecuteTime": {
     "end_time": "2022-04-24T09:46:27.188229Z",
     "start_time": "2022-04-24T09:46:27.081Z"
    }
   },
   "outputs": [
    {
     "data": {
      "text/plain": [
       "\u001b[36mstringToInt\u001b[39m: \u001b[32mString\u001b[39m => \u001b[32mOption\u001b[39m[\u001b[32mInt\u001b[39m] = ammonite.$sess.cmd24$Helper$$Lambda$2770/1982580690@53874bf3"
      ]
     },
     "execution_count": 25,
     "metadata": {},
     "output_type": "execute_result"
    }
   ],
   "source": [
    "val stringToInt: String => Option[Int] = x => {\n",
    "    try \n",
    "        Some(Integer.parseInt(x))\n",
    "    catch\n",
    "        {case e: NumberFormatException => None}\n",
    "}"
   ]
  },
  {
   "cell_type": "code",
   "execution_count": 32,
   "id": "fcb257cb",
   "metadata": {
    "ExecuteTime": {
     "end_time": "2022-04-24T09:52:38.411032Z",
     "start_time": "2022-04-24T09:52:38.271Z"
    }
   },
   "outputs": [
    {
     "data": {
      "text/plain": [
       "\u001b[36mres31\u001b[39m: \u001b[32mList\u001b[39m[\u001b[32mInt\u001b[39m] = \u001b[33mList\u001b[39m(\u001b[32m1\u001b[39m, \u001b[32m3\u001b[39m)"
      ]
     },
     "execution_count": 32,
     "metadata": {},
     "output_type": "execute_result"
    }
   ],
   "source": [
    "List(\"a\",\"1\",\"b\", \"3\").map { stringToInt }.flatten"
   ]
  },
  {
   "cell_type": "code",
   "execution_count": null,
   "id": "7fbacf63",
   "metadata": {},
   "outputs": [],
   "source": []
  }
 ],
 "metadata": {
  "kernelspec": {
   "display_name": "Scala_2,13",
   "language": "scala",
   "name": "scala"
  },
  "language_info": {
   "codemirror_mode": "text/x-scala",
   "file_extension": ".sc",
   "mimetype": "text/x-scala",
   "name": "scala",
   "nbconvert_exporter": "script",
   "version": "2.13.5"
  },
  "toc": {
   "base_numbering": 1,
   "nav_menu": {},
   "number_sections": true,
   "sideBar": true,
   "skip_h1_title": false,
   "title_cell": "Table of Contents",
   "title_sidebar": "Contents",
   "toc_cell": true,
   "toc_position": {},
   "toc_section_display": true,
   "toc_window_display": false
  }
 },
 "nbformat": 4,
 "nbformat_minor": 5
}
