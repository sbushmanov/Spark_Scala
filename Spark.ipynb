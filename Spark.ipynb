{
 "cells": [
  {
   "cell_type": "markdown",
   "id": "3d564108",
   "metadata": {
    "toc": true
   },
   "source": [
    "<h1>Table of Contents<span class=\"tocSkip\"></span></h1>\n",
    "<div class=\"toc\"><ul class=\"toc-item\"></ul></div>"
   ]
  },
  {
   "cell_type": "code",
   "execution_count": 3,
   "id": "78d5c38d",
   "metadata": {
    "ExecuteTime": {
     "end_time": "2022-05-22T12:50:17.333198Z",
     "start_time": "2022-05-22T12:50:17.026Z"
    }
   },
   "outputs": [
    {
     "name": "stdout",
     "output_type": "stream",
     "text": [
      "Types will be printed.\n",
      "Types will be printed.\n",
      "Console output WILL be shown.\n",
      "Console output WILL be shown.\n"
     ]
    }
   ],
   "source": [
    "%showtypes on\n",
    "%showoutput on"
   ]
  },
  {
   "cell_type": "code",
   "execution_count": 6,
   "id": "856e7304",
   "metadata": {
    "ExecuteTime": {
     "end_time": "2022-05-22T12:52:39.452868Z",
     "start_time": "2022-05-22T12:52:38.442Z"
    }
   },
   "outputs": [
    {
     "name": "stdout",
     "output_type": "stream",
     "text": [
      "+-------+---------+-----+\n",
      "|numeric|     str1| str2|\n",
      "+-------+---------+-----+\n",
      "|      1|bb  aa dd|dd ff|\n",
      "|      2|    dd aa|ff dd|\n",
      "+-------+---------+-----+\n",
      "\n"
     ]
    },
    {
     "data": {
      "text/plain": [
       "badDF: org.apache.spark.sql.DataFrame = [numeric: string, str1: string ... 1 more field]\n"
      ]
     },
     "metadata": {},
     "output_type": "display_data"
    },
    {
     "data": {
      "text/plain": [
       "badDF: org.apache.spark.sql.DataFrame = [numeric: string, str1: string ... 1 more field]\n"
      ]
     },
     "execution_count": 6,
     "metadata": {},
     "output_type": "execute_result"
    }
   ],
   "source": [
    "val badDF = Seq((\"1\", \"bb  aa dd\", \"dd ff\"), (\"2\", \"dd aa\", \"ff dd\")).toDF(\"numeric\", \"str1\",\"str2\")\n",
    "badDF.show"
   ]
  },
  {
   "cell_type": "code",
   "execution_count": 7,
   "id": "e7c4ca46",
   "metadata": {
    "ExecuteTime": {
     "end_time": "2022-05-22T12:55:08.517247Z",
     "start_time": "2022-05-22T12:55:08.380Z"
    }
   },
   "outputs": [
    {
     "data": {
      "text/plain": [
       "import org.apache.spark.sql.{functions=>F}\n"
      ]
     },
     "metadata": {},
     "output_type": "display_data"
    }
   ],
   "source": [
    "import org.apache.spark.sql.{functions => F}"
   ]
  },
  {
   "cell_type": "code",
   "execution_count": 12,
   "id": "bf285480",
   "metadata": {
    "ExecuteTime": {
     "end_time": "2022-05-22T12:59:08.019651Z",
     "start_time": "2022-05-22T12:59:07.665Z"
    }
   },
   "outputs": [
    {
     "name": "stdout",
     "output_type": "stream",
     "text": [
      "+-------+------+-----+\n",
      "|numeric|  str1| str2|\n",
      "+-------+------+-----+\n",
      "|      1|bbaadd|dd ff|\n",
      "|      2|  ddaa|ff dd|\n",
      "+-------+------+-----+\n",
      "\n"
     ]
    }
   ],
   "source": [
    "badDF.withColumn(\"str1\", F.regexp_replace('str1, \"\\\\s+\",\"\")).show"
   ]
  },
  {
   "cell_type": "code",
   "execution_count": 15,
   "id": "de616dc0",
   "metadata": {
    "ExecuteTime": {
     "end_time": "2022-05-22T13:01:19.819527Z",
     "start_time": "2022-05-22T13:01:19.493Z"
    }
   },
   "outputs": [
    {
     "data": {
      "text/plain": [
       "goodDF: org.apache.spark.sql.DataFrame = [numeric: string, str1: string ... 1 more field]\n"
      ]
     },
     "metadata": {},
     "output_type": "display_data"
    },
    {
     "name": "stdout",
     "output_type": "stream",
     "text": [
      "+-------+------+----+\n",
      "|numeric|  str1|str2|\n",
      "+-------+------+----+\n",
      "|      1|bbaadd|ddff|\n",
      "|      2|  ddaa|ffdd|\n",
      "+-------+------+----+\n",
      "\n"
     ]
    },
    {
     "data": {
      "text/plain": [
       "goodDF: org.apache.spark.sql.DataFrame = [numeric: string, str1: string ... 1 more field]\n"
      ]
     },
     "execution_count": 15,
     "metadata": {},
     "output_type": "execute_result"
    }
   ],
   "source": [
    "val goodDF = Seq(\"str1\",\"str2\").\n",
    "    foldLeft(badDF)((df, colName) => df.withColumn(colName, F.regexp_replace(F.col(colName), \"\\\\s+\",\"\")))\n",
    "\n",
    "goodDF.show"
   ]
  },
  {
   "cell_type": "code",
   "execution_count": 18,
   "id": "b99232a9",
   "metadata": {
    "ExecuteTime": {
     "end_time": "2022-05-22T13:31:31.887560Z",
     "start_time": "2022-05-22T13:31:31.683Z"
    }
   },
   "outputs": [
    {
     "data": {
      "text/plain": [
       "import org.apache.spark.sql.{functions=>F}\n",
       "ren: (df: org.apache.spark.sql.DataFrame)(n: String)org.apache.spark.sql.DataFrame\n"
      ]
     },
     "metadata": {},
     "output_type": "display_data"
    }
   ],
   "source": [
    "import org.apache.spark.sql.DataFrame\n",
    "import org.apache.spark.sql.{functions => F}\n",
    "\n",
    "def ren(df: DataFrame)(n: String): DataFrame = df.columns.foldLeft(df) { (df, colName) =>\n",
    "    if (colName == n) df.withColumnRenamed(colName, colName.toLowerCase)\n",
    "    else df\n",
    "}"
   ]
  },
  {
   "cell_type": "code",
   "execution_count": null,
   "id": "ae6a6dc6",
   "metadata": {},
   "outputs": [],
   "source": []
  }
 ],
 "metadata": {
  "kernelspec": {
   "display_name": "toree - Scala",
   "language": "scala",
   "name": "toree_scala"
  },
  "language_info": {
   "codemirror_mode": "text/x-scala",
   "file_extension": ".scala",
   "mimetype": "text/x-scala",
   "name": "scala",
   "pygments_lexer": "scala",
   "version": "2.12.12"
  },
  "toc": {
   "base_numbering": 1,
   "nav_menu": {},
   "number_sections": true,
   "sideBar": true,
   "skip_h1_title": false,
   "title_cell": "Table of Contents",
   "title_sidebar": "Contents",
   "toc_cell": true,
   "toc_position": {},
   "toc_section_display": true,
   "toc_window_display": false
  }
 },
 "nbformat": 4,
 "nbformat_minor": 5
}
