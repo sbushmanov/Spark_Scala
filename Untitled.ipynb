{
 "cells": [
  {
   "cell_type": "markdown",
   "id": "662f2433",
   "metadata": {
    "toc": true
   },
   "source": [
    "<h1>Table of Contents<span class=\"tocSkip\"></span></h1>\n",
    "<div class=\"toc\"><ul class=\"toc-item\"></ul></div>"
   ]
  },
  {
   "cell_type": "code",
   "execution_count": 1,
   "id": "64c009ad",
   "metadata": {
    "ExecuteTime": {
     "end_time": "2022-06-20T03:07:29.759039Z",
     "start_time": "2022-06-20T03:07:26.997Z"
    }
   },
   "outputs": [
    {
     "data": {
      "text/plain": [
       "defined \u001b[32mclass\u001b[39m \u001b[36mPerson\u001b[39m\n",
       "\u001b[36mmaggie\u001b[39m: \u001b[32mPerson\u001b[39m = \u001b[33mPerson\u001b[39m(\u001b[32m\"Maggie\"\u001b[39m, \u001b[32m32\u001b[39m, \u001b[32m\"Red\"\u001b[39m)\n",
       "\u001b[36mmillie\u001b[39m: \u001b[32mPerson\u001b[39m = \u001b[33mPerson\u001b[39m(\u001b[32m\"Millie\"\u001b[39m, \u001b[32m24\u001b[39m, \u001b[32m\"Blue\"\u001b[39m)\n",
       "\u001b[36mmolly\u001b[39m: \u001b[32mPerson\u001b[39m = \u001b[33mPerson\u001b[39m(\u001b[32m\"Molly\"\u001b[39m, \u001b[32m45\u001b[39m, \u001b[32m\"Green\"\u001b[39m)\n",
       "\u001b[36mmay\u001b[39m: \u001b[32mPerson\u001b[39m = \u001b[33mPerson\u001b[39m(\u001b[32m\"May\"\u001b[39m, \u001b[32m41\u001b[39m, \u001b[32m\"Yellow\"\u001b[39m)\n",
       "\u001b[36mpersons\u001b[39m: \u001b[32mList\u001b[39m[\u001b[32mPerson\u001b[39m] = \u001b[33mList\u001b[39m(\n",
       "  \u001b[33mPerson\u001b[39m(\u001b[32m\"Maggie\"\u001b[39m, \u001b[32m32\u001b[39m, \u001b[32m\"Red\"\u001b[39m),\n",
       "  \u001b[33mPerson\u001b[39m(\u001b[32m\"Millie\"\u001b[39m, \u001b[32m24\u001b[39m, \u001b[32m\"Blue\"\u001b[39m),\n",
       "  \u001b[33mPerson\u001b[39m(\u001b[32m\"Molly\"\u001b[39m, \u001b[32m45\u001b[39m, \u001b[32m\"Green\"\u001b[39m),\n",
       "  \u001b[33mPerson\u001b[39m(\u001b[32m\"May\"\u001b[39m, \u001b[32m41\u001b[39m, \u001b[32m\"Yellow\"\u001b[39m)\n",
       ")"
      ]
     },
     "execution_count": 1,
     "metadata": {},
     "output_type": "execute_result"
    }
   ],
   "source": [
    "case class Person(name: String, age: Int, color: String)\n",
    "\n",
    "val maggie  = Person(\"Maggie\", 32, \"Red\")\n",
    "val millie  = Person(\"Millie\", 24, \"Blue\")\n",
    "val molly   = Person(\"Molly\",  45, \"Green\")\n",
    "val may     = Person(\"May\",    41, \"Yellow\")\n",
    "\n",
    "val persons = List(maggie, millie, molly, may)"
   ]
  },
  {
   "cell_type": "code",
   "execution_count": 2,
   "id": "64348dbf",
   "metadata": {
    "ExecuteTime": {
     "end_time": "2022-06-20T03:07:33.213412Z",
     "start_time": "2022-06-20T03:07:32.695Z"
    }
   },
   "outputs": [
    {
     "data": {
      "text/plain": [
       "defined \u001b[32mclass\u001b[39m \u001b[36mAddress\u001b[39m\n",
       "\u001b[36maddresses\u001b[39m: \u001b[32mList\u001b[39m[\u001b[32mAddress\u001b[39m] = \u001b[33mList\u001b[39m(\n",
       "  \u001b[33mAddress\u001b[39m(\u001b[32m\"AB1 2CD\"\u001b[39m, \u001b[33mPerson\u001b[39m(\u001b[32m\"Maggie\"\u001b[39m, \u001b[32m32\u001b[39m, \u001b[32m\"Red\"\u001b[39m)),\n",
       "  \u001b[33mAddress\u001b[39m(\u001b[32m\"VB6 5UX\"\u001b[39m, \u001b[33mPerson\u001b[39m(\u001b[32m\"Maggie\"\u001b[39m, \u001b[32m32\u001b[39m, \u001b[32m\"Red\"\u001b[39m)),\n",
       "  \u001b[33mAddress\u001b[39m(\u001b[32m\"HR9 5BH\"\u001b[39m, \u001b[33mPerson\u001b[39m(\u001b[32m\"May\"\u001b[39m, \u001b[32m41\u001b[39m, \u001b[32m\"Yellow\"\u001b[39m))\n",
       ")"
      ]
     },
     "execution_count": 2,
     "metadata": {},
     "output_type": "execute_result"
    }
   ],
   "source": [
    "case class Address(postcode: String, occupant: Person)\n",
    " \n",
    "val addresses = List(\n",
    "   Address(\"AB1 2CD\", maggie),\n",
    "   Address(\"VB6 5UX\", maggie),\n",
    "   Address(\"HR9 5BH\", may)\n",
    ")"
   ]
  },
  {
   "cell_type": "code",
   "execution_count": 5,
   "id": "1fe19e82",
   "metadata": {
    "ExecuteTime": {
     "end_time": "2022-06-20T03:13:21.733454Z",
     "start_time": "2022-06-20T03:13:21.471Z"
    }
   },
   "outputs": [
    {
     "data": {
      "text/plain": [
       "\u001b[36mres4\u001b[39m: \u001b[32mList\u001b[39m[(\u001b[32mString\u001b[39m, \u001b[32mInt\u001b[39m, \u001b[32mString\u001b[39m)] = \u001b[33mList\u001b[39m(\n",
       "  (\u001b[32m\"Maggie\"\u001b[39m, \u001b[32m32\u001b[39m, \u001b[32m\"AB1 2CD\"\u001b[39m),\n",
       "  (\u001b[32m\"Maggie\"\u001b[39m, \u001b[32m32\u001b[39m, \u001b[32m\"VB6 5UX\"\u001b[39m),\n",
       "  (\u001b[32m\"May\"\u001b[39m, \u001b[32m41\u001b[39m, \u001b[32m\"HR9 5BH\"\u001b[39m)\n",
       ")"
      ]
     },
     "execution_count": 5,
     "metadata": {},
     "output_type": "execute_result"
    }
   ],
   "source": [
    "addresses.flatMap(\n",
    "    address => persons.filter(_ == address.occupant).map(person => (person.name, person.age, address.postcode))\n",
    ")"
   ]
  },
  {
   "cell_type": "code",
   "execution_count": 6,
   "id": "443ad3d9",
   "metadata": {
    "ExecuteTime": {
     "end_time": "2022-06-20T03:14:57.629537Z",
     "start_time": "2022-06-20T03:14:57.398Z"
    }
   },
   "outputs": [
    {
     "data": {
      "text/plain": [
       "\u001b[36mres\u001b[39m: \u001b[32mList\u001b[39m[(\u001b[32mString\u001b[39m, \u001b[32mInt\u001b[39m, \u001b[32mString\u001b[39m)] = \u001b[33mList\u001b[39m(\n",
       "  (\u001b[32m\"Maggie\"\u001b[39m, \u001b[32m32\u001b[39m, \u001b[32m\"AB1 2CD\"\u001b[39m),\n",
       "  (\u001b[32m\"Maggie\"\u001b[39m, \u001b[32m32\u001b[39m, \u001b[32m\"VB6 5UX\"\u001b[39m),\n",
       "  (\u001b[32m\"May\"\u001b[39m, \u001b[32m41\u001b[39m, \u001b[32m\"HR9 5BH\"\u001b[39m)\n",
       ")"
      ]
     },
     "execution_count": 6,
     "metadata": {},
     "output_type": "execute_result"
    }
   ],
   "source": [
    "val res = for {\n",
    "    address <- addresses\n",
    "    person  <- persons\n",
    "    if (address.occupant == person)\n",
    "} yield (person.name, person.age, address.postcode)"
   ]
  },
  {
   "cell_type": "code",
   "execution_count": 8,
   "id": "3ea1a4b6",
   "metadata": {
    "ExecuteTime": {
     "end_time": "2022-06-20T03:17:42.248407Z",
     "start_time": "2022-06-20T03:17:42.022Z"
    }
   },
   "outputs": [
    {
     "data": {
      "text/plain": [
       "\u001b[36mgroups\u001b[39m: \u001b[32mMap\u001b[39m[\u001b[32mPerson\u001b[39m, \u001b[32mList\u001b[39m[\u001b[32mAddress\u001b[39m]] = \u001b[33mMap\u001b[39m(\n",
       "  \u001b[33mPerson\u001b[39m(\u001b[32m\"Maggie\"\u001b[39m, \u001b[32m32\u001b[39m, \u001b[32m\"Red\"\u001b[39m) -> \u001b[33mList\u001b[39m(\n",
       "    \u001b[33mAddress\u001b[39m(\u001b[32m\"AB1 2CD\"\u001b[39m, \u001b[33mPerson\u001b[39m(\u001b[32m\"Maggie\"\u001b[39m, \u001b[32m32\u001b[39m, \u001b[32m\"Red\"\u001b[39m)),\n",
       "    \u001b[33mAddress\u001b[39m(\u001b[32m\"VB6 5UX\"\u001b[39m, \u001b[33mPerson\u001b[39m(\u001b[32m\"Maggie\"\u001b[39m, \u001b[32m32\u001b[39m, \u001b[32m\"Red\"\u001b[39m))\n",
       "  ),\n",
       "  \u001b[33mPerson\u001b[39m(\u001b[32m\"May\"\u001b[39m, \u001b[32m41\u001b[39m, \u001b[32m\"Yellow\"\u001b[39m) -> \u001b[33mList\u001b[39m(\u001b[33mAddress\u001b[39m(\u001b[32m\"HR9 5BH\"\u001b[39m, \u001b[33mPerson\u001b[39m(\u001b[32m\"May\"\u001b[39m, \u001b[32m41\u001b[39m, \u001b[32m\"Yellow\"\u001b[39m)))\n",
       ")\n",
       "\u001b[36mres\u001b[39m: \u001b[32mList\u001b[39m[(\u001b[32mString\u001b[39m, \u001b[32mInt\u001b[39m, \u001b[32mString\u001b[39m)] = \u001b[33mList\u001b[39m(\n",
       "  (\u001b[32m\"Maggie\"\u001b[39m, \u001b[32m32\u001b[39m, \u001b[32m\"AB1 2CD\"\u001b[39m),\n",
       "  (\u001b[32m\"Maggie\"\u001b[39m, \u001b[32m32\u001b[39m, \u001b[32m\"VB6 5UX\"\u001b[39m),\n",
       "  (\u001b[32m\"May\"\u001b[39m, \u001b[32m41\u001b[39m, \u001b[32m\"HR9 5BH\"\u001b[39m)\n",
       ")"
      ]
     },
     "execution_count": 8,
     "metadata": {},
     "output_type": "execute_result"
    }
   ],
   "source": [
    "val groups = addresses.groupBy(_.occupant)\n",
    "\n",
    "val res = for {\n",
    "    person  <- persons\n",
    "    address <- groups.getOrElse(person, List())\n",
    "} yield (person.name, person.age, address.postcode)"
   ]
  },
  {
   "cell_type": "code",
   "execution_count": null,
   "id": "80cd7d16",
   "metadata": {},
   "outputs": [],
   "source": []
  }
 ],
 "metadata": {
  "kernelspec": {
   "display_name": "Scala_2.12",
   "language": "scala",
   "name": "scala212"
  },
  "language_info": {
   "codemirror_mode": "text/x-scala",
   "file_extension": ".sc",
   "mimetype": "text/x-scala",
   "name": "scala",
   "nbconvert_exporter": "script",
   "version": "2.12.13"
  },
  "toc": {
   "base_numbering": 1,
   "nav_menu": {},
   "number_sections": true,
   "sideBar": true,
   "skip_h1_title": false,
   "title_cell": "Table of Contents",
   "title_sidebar": "Contents",
   "toc_cell": true,
   "toc_position": {},
   "toc_section_display": true,
   "toc_window_display": false
  }
 },
 "nbformat": 4,
 "nbformat_minor": 5
}
