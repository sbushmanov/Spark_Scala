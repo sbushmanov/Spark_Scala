{
 "cells": [
  {
   "cell_type": "markdown",
   "id": "8afe5c6a",
   "metadata": {
    "toc": true
   },
   "source": [
    "<h1>Table of Contents<span class=\"tocSkip\"></span></h1>\n",
    "<div class=\"toc\"><ul class=\"toc-item\"></ul></div>"
   ]
  },
  {
   "cell_type": "code",
   "execution_count": 7,
   "id": "0463be5c",
   "metadata": {
    "ExecuteTime": {
     "end_time": "2022-05-21T16:14:49.213529Z",
     "start_time": "2022-05-21T16:14:49.046Z"
    }
   },
   "outputs": [
    {
     "data": {
      "text/plain": [
       "\u001b[32mimport \u001b[39m\u001b[36mscala.math.Numeric\n",
       "\n",
       "\u001b[39m\n",
       "defined \u001b[32mfunction\u001b[39m \u001b[36msum\u001b[39m\n",
       "\u001b[36mres6_2\u001b[39m: \u001b[32mInt\u001b[39m = \u001b[32m6\u001b[39m"
      ]
     },
     "execution_count": 7,
     "metadata": {},
     "output_type": "execute_result"
    }
   ],
   "source": [
    "import scala.math.Numeric\n",
    "\n",
    "def sum[T](xs : List[T])(implicit num: Numeric[T]): T= {\n",
    "    import num._\n",
    "    if (xs == Nil) zero\n",
    "    else xs.head + sum(xs.tail)\n",
    "}\n",
    "\n",
    "sum(List(1,2,3))"
   ]
  },
  {
   "cell_type": "code",
   "execution_count": 14,
   "id": "6bd16863",
   "metadata": {
    "ExecuteTime": {
     "end_time": "2022-05-21T16:42:05.348777Z",
     "start_time": "2022-05-21T16:42:05.189Z"
    }
   },
   "outputs": [
    {
     "data": {
      "text/plain": [
       "defined \u001b[32mclass\u001b[39m \u001b[36mPair\u001b[39m\n",
       "\u001b[36mp\u001b[39m: \u001b[32mPair\u001b[39m[\u001b[32mInt\u001b[39m] = ammonite.$sess.cmd13$Helper$Pair@4b27f044\n",
       "\u001b[36mres13_2\u001b[39m: \u001b[32mInt\u001b[39m = \u001b[32m1\u001b[39m"
      ]
     },
     "execution_count": 14,
     "metadata": {},
     "output_type": "execute_result"
    }
   ],
   "source": [
    "class Pair[T <% Comparable[T]](val first: T, val second: T) {\n",
    "    def smaller = if (first.compareTo(second) < 0) first else second\n",
    "}\n",
    "\n",
    "val p = new Pair(1,2)\n",
    "p.smaller"
   ]
  },
  {
   "cell_type": "code",
   "execution_count": 10,
   "id": "b73457fc",
   "metadata": {
    "ExecuteTime": {
     "end_time": "2022-05-21T16:27:10.840467Z",
     "start_time": "2022-05-21T16:27:10.678Z"
    }
   },
   "outputs": [
    {
     "data": {
      "text/plain": [
       "defined \u001b[32mclass\u001b[39m \u001b[36mPair\u001b[39m\n",
       "\u001b[36mp\u001b[39m: \u001b[32mPair\u001b[39m[\u001b[32mString\u001b[39m] = ammonite.$sess.cmd9$Helper$Pair@437ce28d\n",
       "\u001b[36mres9_2\u001b[39m: \u001b[32mString\u001b[39m = \u001b[32m\"a\"\u001b[39m"
      ]
     },
     "execution_count": 10,
     "metadata": {},
     "output_type": "execute_result"
    }
   ],
   "source": [
    "class Pair[T <: Comparable[T]](val first: T, val second: T) {\n",
    "    def smaller = if (first.compareTo(second) < 0) first else second\n",
    "}\n",
    "\n",
    "val p = new Pair(\"a\",\"b\")\n",
    "p.smaller"
   ]
  },
  {
   "cell_type": "code",
   "execution_count": 15,
   "id": "ba06758d",
   "metadata": {
    "ExecuteTime": {
     "end_time": "2022-05-21T16:45:25.925456Z",
     "start_time": "2022-05-21T16:45:25.775Z"
    }
   },
   "outputs": [
    {
     "data": {
      "text/plain": [
       "defined \u001b[32mclass\u001b[39m \u001b[36mPair\u001b[39m\n",
       "\u001b[36mp\u001b[39m: \u001b[32mPair\u001b[39m[\u001b[32mInt\u001b[39m] = ammonite.$sess.cmd14$Helper$Pair@1509472\n",
       "\u001b[36mres14_2\u001b[39m: \u001b[32mInt\u001b[39m = \u001b[32m1\u001b[39m"
      ]
     },
     "execution_count": 15,
     "metadata": {},
     "output_type": "execute_result"
    }
   ],
   "source": [
    "class Pair[T](val first: T, val second: T)(implicit ev: T => Comparable[T]) {\n",
    "    def smaller = if (first.compareTo(second) < 0) first else second\n",
    "}\n",
    "\n",
    "val p = new Pair(1,2)\n",
    "p.smaller"
   ]
  },
  {
   "cell_type": "code",
   "execution_count": 12,
   "id": "bbc456dd",
   "metadata": {
    "ExecuteTime": {
     "end_time": "2022-05-21T16:39:06.782333Z",
     "start_time": "2022-05-21T16:39:06.673Z"
    }
   },
   "outputs": [
    {
     "data": {
      "text/plain": [
       "defined \u001b[32mclass\u001b[39m \u001b[36mPair\u001b[39m"
      ]
     },
     "execution_count": 12,
     "metadata": {},
     "output_type": "execute_result"
    }
   ],
   "source": [
    "class Pair[T](val first: T, val second: T) {\n",
    "    def replaceFirst[R >: T](newFirst: R) = new Pair[R](newFirst, second) // same supertype for both\n",
    "}"
   ]
  },
  {
   "cell_type": "code",
   "execution_count": 17,
   "id": "b104a635",
   "metadata": {
    "ExecuteTime": {
     "end_time": "2022-05-21T17:04:39.212931Z",
     "start_time": "2022-05-21T17:04:39.151Z"
    }
   },
   "outputs": [
    {
     "name": "stderr",
     "output_type": "stream",
     "text": [
      "cmd17.sc:2: inferred type arguments [Nothing,List[Int]] do not conform to method firstLast's type parameter bounds [A,C <: Iterable[A]]\n",
      "val res17_1 = firstLast(List(1, 2, 3))\n",
      "              ^cmd17.sc:2: type mismatch;\n",
      " found   : List[Int]\n",
      " required: C\n",
      "val res17_1 = firstLast(List(1, 2, 3))\n",
      "                            ^Compilation Failed"
     ]
    },
    {
     "ename": "",
     "evalue": "",
     "output_type": "error",
     "traceback": [
      "Compilation Failed"
     ]
    }
   ],
   "source": [
    "def firstLast[A, C <: Iterable[A]](it: C) = (it.head, it.last)\n",
    "firstLast(List(1, 2, 3))"
   ]
  },
  {
   "cell_type": "code",
   "execution_count": 16,
   "id": "bc34ba80",
   "metadata": {
    "ExecuteTime": {
     "end_time": "2022-05-21T16:57:17.304316Z",
     "start_time": "2022-05-21T16:57:17.158Z"
    }
   },
   "outputs": [
    {
     "data": {
      "text/plain": [
       "defined \u001b[32mfunction\u001b[39m \u001b[36mfirstLast\u001b[39m\n",
       "\u001b[36mres15_1\u001b[39m: (\u001b[32mInt\u001b[39m, \u001b[32mInt\u001b[39m) = (\u001b[32m1\u001b[39m, \u001b[32m3\u001b[39m)"
      ]
     },
     "execution_count": 16,
     "metadata": {},
     "output_type": "execute_result"
    }
   ],
   "source": [
    "def firstLast[A, C](it: C)(implicit ev: C <:< Iterable[A]) = (it.head, it.last)\n",
    "firstLast(List(1, 2, 3))"
   ]
  },
  {
   "cell_type": "code",
   "execution_count": 18,
   "id": "674cfa60",
   "metadata": {
    "ExecuteTime": {
     "end_time": "2022-05-21T17:31:46.487699Z",
     "start_time": "2022-05-21T17:31:46.383Z"
    }
   },
   "outputs": [
    {
     "data": {
      "text/plain": [
       "defined \u001b[32mtrait\u001b[39m \u001b[36mSentientBeing\u001b[39m\n",
       "defined \u001b[32mfunction\u001b[39m \u001b[36mupperName\u001b[39m"
      ]
     },
     "execution_count": 18,
     "metadata": {},
     "output_type": "execute_result"
    }
   ],
   "source": [
    "trait SentientBeing {\n",
    "    def name: String\n",
    "}\n",
    "\n",
    "def upperName[A <: SentientBeing](a: A) = a.name.toUpperCase"
   ]
  },
  {
   "cell_type": "code",
   "execution_count": 2,
   "id": "66b84a9d",
   "metadata": {
    "ExecuteTime": {
     "end_time": "2022-05-21T18:17:40.799280Z",
     "start_time": "2022-05-21T18:17:40.351Z"
    }
   },
   "outputs": [
    {
     "data": {
      "text/plain": [
       "\u001b[32mimport \u001b[39m\u001b[36m$ivy.$                                            \u001b[39m"
      ]
     },
     "execution_count": 2,
     "metadata": {},
     "output_type": "execute_result"
    }
   ],
   "source": [
    "import $ivy.`org.typelevel:cats-effect_3.0.0-M1:3.0.0-M4`"
   ]
  },
  {
   "cell_type": "code",
   "execution_count": 3,
   "id": "05df3e71",
   "metadata": {
    "ExecuteTime": {
     "end_time": "2022-05-21T18:18:08.401731Z",
     "start_time": "2022-05-21T18:18:07.914Z"
    }
   },
   "outputs": [
    {
     "data": {
      "text/plain": [
       "\u001b[36mres2\u001b[39m: \u001b[32mString\u001b[39m = \u001b[32m\"version 2.13.4\"\u001b[39m"
      ]
     },
     "execution_count": 3,
     "metadata": {},
     "output_type": "execute_result"
    }
   ],
   "source": [
    "scala.util.Properties.versionString"
   ]
  },
  {
   "cell_type": "code",
   "execution_count": null,
   "id": "0e9cea6d",
   "metadata": {},
   "outputs": [],
   "source": []
  }
 ],
 "metadata": {
  "kernelspec": {
   "display_name": "Scala 2.13",
   "language": "scala",
   "name": "scala"
  },
  "language_info": {
   "codemirror_mode": "text/x-scala",
   "file_extension": ".sc",
   "mimetype": "text/x-scala",
   "name": "scala",
   "nbconvert_exporter": "script",
   "version": "2.13.4"
  },
  "toc": {
   "base_numbering": 1,
   "nav_menu": {},
   "number_sections": true,
   "sideBar": true,
   "skip_h1_title": false,
   "title_cell": "Table of Contents",
   "title_sidebar": "Contents",
   "toc_cell": true,
   "toc_position": {},
   "toc_section_display": true,
   "toc_window_display": false
  }
 },
 "nbformat": 4,
 "nbformat_minor": 5
}
