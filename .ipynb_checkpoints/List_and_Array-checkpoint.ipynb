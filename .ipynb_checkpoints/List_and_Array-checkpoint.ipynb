{
 "cells": [
  {
   "cell_type": "markdown",
   "id": "fbe6aa19",
   "metadata": {
    "toc": true
   },
   "source": [
    "<h1>Table of Contents<span class=\"tocSkip\"></span></h1>\n",
    "<div class=\"toc\"><ul class=\"toc-item\"><li><span><a href=\"#List\" data-toc-modified-id=\"List-1\"><span class=\"toc-item-num\">1&nbsp;&nbsp;</span>List</a></span></li><li><span><a href=\"#ListBuffer\" data-toc-modified-id=\"ListBuffer-2\"><span class=\"toc-item-num\">2&nbsp;&nbsp;</span>ListBuffer</a></span></li><li><span><a href=\"#Array\" data-toc-modified-id=\"Array-3\"><span class=\"toc-item-num\">3&nbsp;&nbsp;</span>Array</a></span></li><li><span><a href=\"#ArrayBuffer\" data-toc-modified-id=\"ArrayBuffer-4\"><span class=\"toc-item-num\">4&nbsp;&nbsp;</span>ArrayBuffer</a></span></li></ul></div>"
   ]
  },
  {
   "cell_type": "markdown",
   "id": "91facd6c",
   "metadata": {},
   "source": [
    "# List"
   ]
  },
  {
   "cell_type": "code",
   "execution_count": 8,
   "id": "a2db5779",
   "metadata": {
    "ExecuteTime": {
     "end_time": "2022-05-01T04:20:16.294329Z",
     "start_time": "2022-05-01T04:20:16.064Z"
    }
   },
   "outputs": [
    {
     "data": {
      "text/plain": [
       "\u001b[36ml1\u001b[39m: \u001b[32mList\u001b[39m[\u001b[32mInt\u001b[39m] = \u001b[33mList\u001b[39m(\u001b[32m0\u001b[39m, \u001b[32m1\u001b[39m, \u001b[32m2\u001b[39m)\n",
       "\u001b[36ml2\u001b[39m: \u001b[32mList\u001b[39m[\u001b[32mInt\u001b[39m] = \u001b[33mList\u001b[39m(\u001b[32m3\u001b[39m, \u001b[32m4\u001b[39m, \u001b[32m5\u001b[39m)"
      ]
     },
     "execution_count": 8,
     "metadata": {},
     "output_type": "execute_result"
    }
   ],
   "source": [
    "val l1 = List(0,1,2)\n",
    "val l2 = List(3,4,5)"
   ]
  },
  {
   "cell_type": "code",
   "execution_count": 9,
   "id": "ccb255f9",
   "metadata": {
    "ExecuteTime": {
     "end_time": "2022-05-01T04:20:21.947844Z",
     "start_time": "2022-05-01T04:20:21.735Z"
    }
   },
   "outputs": [
    {
     "data": {
      "text/plain": [
       "\u001b[36mres8_0\u001b[39m: \u001b[32mList\u001b[39m[\u001b[32mInt\u001b[39m] = \u001b[33mList\u001b[39m(\u001b[32m9\u001b[39m, \u001b[32m0\u001b[39m, \u001b[32m1\u001b[39m, \u001b[32m2\u001b[39m)\n",
       "\u001b[36mres8_1\u001b[39m: \u001b[32mList\u001b[39m[\u001b[32mInt\u001b[39m] = \u001b[33mList\u001b[39m(\u001b[32m9\u001b[39m, \u001b[32m0\u001b[39m, \u001b[32m1\u001b[39m, \u001b[32m2\u001b[39m)"
      ]
     },
     "execution_count": 9,
     "metadata": {},
     "output_type": "execute_result"
    }
   ],
   "source": [
    "9 :: l1\n",
    "9 +: l1"
   ]
  },
  {
   "cell_type": "code",
   "execution_count": 10,
   "id": "62ece5a9",
   "metadata": {
    "ExecuteTime": {
     "end_time": "2022-05-01T04:20:28.098468Z",
     "start_time": "2022-05-01T04:20:27.898Z"
    }
   },
   "outputs": [
    {
     "data": {
      "text/plain": [
       "\u001b[36mres9_0\u001b[39m: \u001b[32mList\u001b[39m[\u001b[32mInt\u001b[39m] = \u001b[33mList\u001b[39m(\u001b[32m9\u001b[39m, \u001b[32m0\u001b[39m, \u001b[32m1\u001b[39m, \u001b[32m2\u001b[39m)\n",
       "\u001b[36mres9_1\u001b[39m: \u001b[32mList\u001b[39m[\u001b[32mInt\u001b[39m] = \u001b[33mList\u001b[39m(\u001b[32m9\u001b[39m, \u001b[32m0\u001b[39m, \u001b[32m1\u001b[39m, \u001b[32m2\u001b[39m)"
      ]
     },
     "execution_count": 10,
     "metadata": {},
     "output_type": "execute_result"
    }
   ],
   "source": [
    "l1.::(9)\n",
    "l1.prepended(9)"
   ]
  },
  {
   "cell_type": "code",
   "execution_count": 11,
   "id": "19a78f33",
   "metadata": {
    "ExecuteTime": {
     "end_time": "2022-05-01T04:20:33.865609Z",
     "start_time": "2022-05-01T04:20:33.681Z"
    }
   },
   "outputs": [
    {
     "data": {
      "text/plain": [
       "\u001b[36mres10_0\u001b[39m: \u001b[32mList\u001b[39m[\u001b[32mInt\u001b[39m] = \u001b[33mList\u001b[39m(\u001b[32m0\u001b[39m, \u001b[32m1\u001b[39m, \u001b[32m2\u001b[39m, \u001b[32m9\u001b[39m)\n",
       "\u001b[36mres10_1\u001b[39m: \u001b[32mList\u001b[39m[\u001b[32mInt\u001b[39m] = \u001b[33mList\u001b[39m(\u001b[32m0\u001b[39m, \u001b[32m1\u001b[39m, \u001b[32m2\u001b[39m, \u001b[32m9\u001b[39m)"
      ]
     },
     "execution_count": 11,
     "metadata": {},
     "output_type": "execute_result"
    }
   ],
   "source": [
    "l1 :+ 9\n",
    "l1.appended(9)"
   ]
  },
  {
   "cell_type": "code",
   "execution_count": 6,
   "id": "2e24a0ae",
   "metadata": {
    "ExecuteTime": {
     "end_time": "2022-05-01T04:15:34.742102Z",
     "start_time": "2022-05-01T04:15:34.526Z"
    }
   },
   "outputs": [
    {
     "data": {
      "text/plain": [
       "\u001b[36mres5\u001b[39m: \u001b[32mList\u001b[39m[\u001b[32mInt\u001b[39m] = \u001b[33mList\u001b[39m(\u001b[32m1\u001b[39m, \u001b[32m2\u001b[39m)"
      ]
     },
     "execution_count": 6,
     "metadata": {},
     "output_type": "execute_result"
    }
   ],
   "source": [
    "1 :: 2 :: Nil"
   ]
  },
  {
   "cell_type": "markdown",
   "id": "67403bdb",
   "metadata": {},
   "source": [
    "Lists are immutable, non-growable stacks"
   ]
  },
  {
   "cell_type": "code",
   "execution_count": 11,
   "id": "2f05f073",
   "metadata": {
    "ExecuteTime": {
     "end_time": "2022-05-01T04:20:39.172185Z",
     "start_time": "2022-05-01T04:20:39.101Z"
    }
   },
   "outputs": [
    {
     "name": "stderr",
     "output_type": "stream",
     "text": [
      "cmd11.sc:1: value update is not a member of List[Int]\n",
      "did you mean updated?\n",
      "val res11 = l1(0) = 9\n",
      "            ^Compilation Failed"
     ]
    },
    {
     "ename": "",
     "evalue": "",
     "output_type": "error",
     "traceback": [
      "Compilation Failed"
     ]
    }
   ],
   "source": [
    "l1(0) = 9"
   ]
  },
  {
   "cell_type": "code",
   "execution_count": 12,
   "id": "5bb929cf",
   "metadata": {
    "ExecuteTime": {
     "end_time": "2022-05-01T04:20:51.381644Z",
     "start_time": "2022-05-01T04:20:51.232Z"
    }
   },
   "outputs": [
    {
     "data": {
      "text/plain": [
       "\u001b[36mres11\u001b[39m: \u001b[32mList\u001b[39m[\u001b[32mInt\u001b[39m] = \u001b[33mList\u001b[39m(\u001b[32m0\u001b[39m, \u001b[32m1\u001b[39m, \u001b[32m2\u001b[39m, \u001b[32m3\u001b[39m, \u001b[32m4\u001b[39m, \u001b[32m5\u001b[39m)"
      ]
     },
     "execution_count": 12,
     "metadata": {},
     "output_type": "execute_result"
    }
   ],
   "source": [
    "l1 ++ l2"
   ]
  },
  {
   "cell_type": "markdown",
   "id": "d5abeb7c",
   "metadata": {},
   "source": [
    "All operations on lists may be reduced to `head`, `tail` and `Nil`"
   ]
  },
  {
   "cell_type": "code",
   "execution_count": 21,
   "id": "83ec9614",
   "metadata": {
    "ExecuteTime": {
     "end_time": "2022-05-01T04:46:29.227872Z",
     "start_time": "2022-05-01T04:46:29.109Z"
    }
   },
   "outputs": [
    {
     "data": {
      "text/plain": [
       "defined \u001b[32mfunction\u001b[39m \u001b[36msum\u001b[39m\n",
       "\u001b[36mres20_1\u001b[39m: \u001b[32mInt\u001b[39m = \u001b[32m11\u001b[39m"
      ]
     },
     "execution_count": 21,
     "metadata": {},
     "output_type": "execute_result"
    }
   ],
   "source": [
    "def sum(l: List[Int]): Int = {\n",
    "    if (l.tail == Nil)\n",
    "        l.head\n",
    "    else\n",
    "        l.head + sum(l.tail)\n",
    "}\n",
    "\n",
    "sum(List(1,2,3,5))"
   ]
  },
  {
   "cell_type": "code",
   "execution_count": 22,
   "id": "1495d7cf",
   "metadata": {
    "ExecuteTime": {
     "end_time": "2022-05-01T04:47:16.264905Z",
     "start_time": "2022-05-01T04:47:16.133Z"
    }
   },
   "outputs": [
    {
     "data": {
      "text/plain": [
       "\u001b[36mres21\u001b[39m: \u001b[32mList\u001b[39m[\u001b[32mInt\u001b[39m] = \u001b[33mList\u001b[39m(\u001b[32m2\u001b[39m)"
      ]
     },
     "execution_count": 22,
     "metadata": {},
     "output_type": "execute_result"
    }
   ],
   "source": [
    "l1.drop(2)"
   ]
  },
  {
   "cell_type": "markdown",
   "id": "8d15765b",
   "metadata": {
    "ExecuteTime": {
     "end_time": "2022-05-01T04:17:20.834223Z",
     "start_time": "2022-05-01T04:17:20.777Z"
    }
   },
   "source": [
    "# ListBuffer"
   ]
  },
  {
   "cell_type": "code",
   "execution_count": 26,
   "id": "75c12bb5",
   "metadata": {
    "ExecuteTime": {
     "end_time": "2022-05-01T04:49:07.674945Z",
     "start_time": "2022-05-01T04:49:07.536Z"
    }
   },
   "outputs": [
    {
     "data": {
      "text/plain": [
       "\u001b[32mimport \u001b[39m\u001b[36mscala.collection.mutable.ListBuffer\n",
       "\u001b[39m\n",
       "\u001b[36mlb1\u001b[39m: \u001b[32mListBuffer\u001b[39m[\u001b[32mInt\u001b[39m] = \u001b[33mListBuffer\u001b[39m(\u001b[32m0\u001b[39m, \u001b[32m1\u001b[39m, \u001b[32m2\u001b[39m, \u001b[32m3\u001b[39m, \u001b[32m4\u001b[39m)"
      ]
     },
     "execution_count": 26,
     "metadata": {},
     "output_type": "execute_result"
    }
   ],
   "source": [
    "import scala.collection.mutable.ListBuffer\n",
    "val lb1 = ListBuffer(0,1,2,3,4)"
   ]
  },
  {
   "cell_type": "code",
   "execution_count": 27,
   "id": "490e712f",
   "metadata": {
    "ExecuteTime": {
     "end_time": "2022-05-01T04:49:11.869667Z",
     "start_time": "2022-05-01T04:49:11.762Z"
    }
   },
   "outputs": [
    {
     "data": {
      "text/plain": [
       "\u001b[36mres26\u001b[39m: \u001b[32mListBuffer\u001b[39m[\u001b[32mInt\u001b[39m] = \u001b[33mListBuffer\u001b[39m(\u001b[32m0\u001b[39m, \u001b[32m1\u001b[39m, \u001b[32m2\u001b[39m, \u001b[32m3\u001b[39m, \u001b[32m4\u001b[39m, \u001b[32m3\u001b[39m)"
      ]
     },
     "execution_count": 27,
     "metadata": {},
     "output_type": "execute_result"
    }
   ],
   "source": [
    "lb1 += 3"
   ]
  },
  {
   "cell_type": "code",
   "execution_count": 28,
   "id": "e4336343",
   "metadata": {
    "ExecuteTime": {
     "end_time": "2022-05-01T04:49:23.411016Z",
     "start_time": "2022-05-01T04:49:23.283Z"
    }
   },
   "outputs": [
    {
     "data": {
      "text/plain": [
       "\u001b[36mres27\u001b[39m: \u001b[32mListBuffer\u001b[39m[\u001b[32mInt\u001b[39m] = \u001b[33mListBuffer\u001b[39m(\u001b[32m0\u001b[39m, \u001b[32m1\u001b[39m, \u001b[32m2\u001b[39m, \u001b[32m4\u001b[39m, \u001b[32m3\u001b[39m)"
      ]
     },
     "execution_count": 28,
     "metadata": {},
     "output_type": "execute_result"
    }
   ],
   "source": [
    "lb1 -= 3"
   ]
  },
  {
   "cell_type": "code",
   "execution_count": 29,
   "id": "1b27ca41",
   "metadata": {
    "ExecuteTime": {
     "end_time": "2022-05-01T04:49:57.663945Z",
     "start_time": "2022-05-01T04:49:57.553Z"
    }
   },
   "outputs": [
    {
     "data": {
      "text/plain": [
       "\u001b[36mres28\u001b[39m: \u001b[32mListBuffer\u001b[39m[\u001b[32mInt\u001b[39m] = \u001b[33mListBuffer\u001b[39m(\u001b[32m1\u001b[39m, \u001b[32m4\u001b[39m, \u001b[32m3\u001b[39m)"
      ]
     },
     "execution_count": 29,
     "metadata": {},
     "output_type": "execute_result"
    }
   ],
   "source": [
    "lb1 --= List(0,2)"
   ]
  },
  {
   "cell_type": "markdown",
   "id": "37654b92",
   "metadata": {},
   "source": [
    "# Array"
   ]
  },
  {
   "cell_type": "code",
   "execution_count": 30,
   "id": "7e1b0070",
   "metadata": {
    "ExecuteTime": {
     "end_time": "2022-05-01T04:51:09.743981Z",
     "start_time": "2022-05-01T04:51:09.579Z"
    }
   },
   "outputs": [
    {
     "data": {
      "text/plain": [
       "\u001b[36marr1\u001b[39m: \u001b[32mArray\u001b[39m[\u001b[32mInt\u001b[39m] = \u001b[33mArray\u001b[39m(\u001b[32m0\u001b[39m, \u001b[32m1\u001b[39m, \u001b[32m2\u001b[39m)\n",
       "\u001b[36marr2\u001b[39m: \u001b[32mArray\u001b[39m[\u001b[32mInt\u001b[39m] = \u001b[33mArray\u001b[39m(\u001b[32m3\u001b[39m, \u001b[32m4\u001b[39m, \u001b[32m5\u001b[39m)"
      ]
     },
     "execution_count": 30,
     "metadata": {},
     "output_type": "execute_result"
    }
   ],
   "source": [
    "val arr1 = Array(0,1,2)\n",
    "val arr2 = Array(3,4,5)"
   ]
  },
  {
   "cell_type": "code",
   "execution_count": 31,
   "id": "302358cf",
   "metadata": {
    "ExecuteTime": {
     "end_time": "2022-05-01T04:51:26.144927Z",
     "start_time": "2022-05-01T04:51:26.020Z"
    }
   },
   "outputs": [
    {
     "data": {
      "text/plain": [
       "\u001b[36mres30\u001b[39m: \u001b[32mArray\u001b[39m[\u001b[32mInt\u001b[39m] = \u001b[33mArray\u001b[39m(\u001b[32m9\u001b[39m, \u001b[32m0\u001b[39m, \u001b[32m1\u001b[39m, \u001b[32m2\u001b[39m)"
      ]
     },
     "execution_count": 31,
     "metadata": {},
     "output_type": "execute_result"
    }
   ],
   "source": [
    "9 +: arr1"
   ]
  },
  {
   "cell_type": "code",
   "execution_count": 32,
   "id": "5f461b4f",
   "metadata": {
    "ExecuteTime": {
     "end_time": "2022-05-01T04:51:40.482040Z",
     "start_time": "2022-05-01T04:51:40.357Z"
    }
   },
   "outputs": [
    {
     "data": {
      "text/plain": [
       "\u001b[36mres31\u001b[39m: \u001b[32mArray\u001b[39m[\u001b[32mInt\u001b[39m] = \u001b[33mArray\u001b[39m(\u001b[32m0\u001b[39m, \u001b[32m1\u001b[39m, \u001b[32m2\u001b[39m, \u001b[32m3\u001b[39m, \u001b[32m4\u001b[39m, \u001b[32m5\u001b[39m)"
      ]
     },
     "execution_count": 32,
     "metadata": {},
     "output_type": "execute_result"
    }
   ],
   "source": [
    "arr1 ++ arr2"
   ]
  },
  {
   "cell_type": "markdown",
   "id": "353844ea",
   "metadata": {},
   "source": [
    "# ArrayBuffer"
   ]
  },
  {
   "cell_type": "code",
   "execution_count": 33,
   "id": "98366471",
   "metadata": {
    "ExecuteTime": {
     "end_time": "2022-05-01T04:52:20.210907Z",
     "start_time": "2022-05-01T04:52:20.115Z"
    }
   },
   "outputs": [
    {
     "data": {
      "text/plain": [
       "\u001b[32mimport \u001b[39m\u001b[36mscala.collection.mutable.ArrayBuffer\u001b[39m"
      ]
     },
     "execution_count": 33,
     "metadata": {},
     "output_type": "execute_result"
    }
   ],
   "source": [
    "import scala.collection.mutable.ArrayBuffer"
   ]
  },
  {
   "cell_type": "code",
   "execution_count": 34,
   "id": "a8ddc12f",
   "metadata": {
    "ExecuteTime": {
     "end_time": "2022-05-01T04:53:04.731998Z",
     "start_time": "2022-05-01T04:53:04.597Z"
    }
   },
   "outputs": [
    {
     "data": {
      "text/plain": [
       "\u001b[36mab1\u001b[39m: \u001b[32mArrayBuffer\u001b[39m[\u001b[32mInt\u001b[39m] = \u001b[33mArrayBuffer\u001b[39m(\u001b[32m0\u001b[39m, \u001b[32m1\u001b[39m, \u001b[32m2\u001b[39m)\n",
       "\u001b[36mab2\u001b[39m: \u001b[32mArrayBuffer\u001b[39m[\u001b[32mInt\u001b[39m] = \u001b[33mArrayBuffer\u001b[39m(\u001b[32m3\u001b[39m, \u001b[32m4\u001b[39m, \u001b[32m5\u001b[39m)"
      ]
     },
     "execution_count": 34,
     "metadata": {},
     "output_type": "execute_result"
    }
   ],
   "source": [
    "val ab1 = ArrayBuffer(0,1,2)\n",
    "val ab2 = ArrayBuffer(3,4,5)"
   ]
  },
  {
   "cell_type": "code",
   "execution_count": 35,
   "id": "87eb249d",
   "metadata": {
    "ExecuteTime": {
     "end_time": "2022-05-01T04:53:16.608552Z",
     "start_time": "2022-05-01T04:53:16.500Z"
    }
   },
   "outputs": [
    {
     "data": {
      "text/plain": [
       "\u001b[36mres34\u001b[39m: \u001b[32mArrayBuffer\u001b[39m[\u001b[32mInt\u001b[39m] = \u001b[33mArrayBuffer\u001b[39m(\u001b[32m0\u001b[39m, \u001b[32m1\u001b[39m, \u001b[32m2\u001b[39m, \u001b[32m3\u001b[39m, \u001b[32m4\u001b[39m, \u001b[32m5\u001b[39m)"
      ]
     },
     "execution_count": 35,
     "metadata": {},
     "output_type": "execute_result"
    }
   ],
   "source": [
    "ab1 ++ ab2"
   ]
  },
  {
   "cell_type": "code",
   "execution_count": 36,
   "id": "63c9f85d",
   "metadata": {
    "ExecuteTime": {
     "end_time": "2022-05-01T04:53:33.903792Z",
     "start_time": "2022-05-01T04:53:33.804Z"
    }
   },
   "outputs": [
    {
     "data": {
      "text/plain": [
       "\u001b[36mres35\u001b[39m: \u001b[32mList\u001b[39m[\u001b[32mInt\u001b[39m] = \u001b[33mList\u001b[39m(\u001b[32m0\u001b[39m, \u001b[32m1\u001b[39m, \u001b[32m2\u001b[39m, \u001b[32m3\u001b[39m, \u001b[32m4\u001b[39m, \u001b[32m5\u001b[39m)"
      ]
     },
     "execution_count": 36,
     "metadata": {},
     "output_type": "execute_result"
    }
   ],
   "source": [
    "l1 ++ l2"
   ]
  },
  {
   "cell_type": "code",
   "execution_count": 37,
   "id": "cddcc8ce",
   "metadata": {
    "ExecuteTime": {
     "end_time": "2022-05-01T04:54:04.554098Z",
     "start_time": "2022-05-01T04:54:04.446Z"
    }
   },
   "outputs": [
    {
     "data": {
      "text/plain": [
       "\u001b[36mres36\u001b[39m: \u001b[32mArrayBuffer\u001b[39m[\u001b[32mInt\u001b[39m] = \u001b[33mArrayBuffer\u001b[39m(\u001b[32m0\u001b[39m, \u001b[32m1\u001b[39m, \u001b[32m2\u001b[39m, \u001b[32m9\u001b[39m)"
      ]
     },
     "execution_count": 37,
     "metadata": {},
     "output_type": "execute_result"
    }
   ],
   "source": [
    "ab1 += 9"
   ]
  },
  {
   "cell_type": "code",
   "execution_count": 38,
   "id": "a042f694",
   "metadata": {
    "ExecuteTime": {
     "end_time": "2022-05-01T04:54:42.498634Z",
     "start_time": "2022-05-01T04:54:42.386Z"
    }
   },
   "outputs": [
    {
     "data": {
      "text/plain": [
       "\u001b[36mres37\u001b[39m: \u001b[32mList\u001b[39m[\u001b[32mInt\u001b[39m] = \u001b[33mList\u001b[39m(\u001b[32m0\u001b[39m, \u001b[32m1\u001b[39m, \u001b[32m2\u001b[39m, \u001b[32m9\u001b[39m)"
      ]
     },
     "execution_count": 38,
     "metadata": {},
     "output_type": "execute_result"
    }
   ],
   "source": [
    "l1 :+ 9"
   ]
  },
  {
   "cell_type": "code",
   "execution_count": 38,
   "id": "d08f2d53",
   "metadata": {
    "ExecuteTime": {
     "end_time": "2022-05-01T04:54:56.970738Z",
     "start_time": "2022-05-01T04:54:56.918Z"
    }
   },
   "outputs": [
    {
     "name": "stderr",
     "output_type": "stream",
     "text": [
      "cmd38.sc:1: value += is not a member of List[Int]\n",
      "  Expression does not convert to assignment because receiver is not assignable.\n",
      "val res38 = l1 += 9\n",
      "               ^Compilation Failed"
     ]
    },
    {
     "ename": "",
     "evalue": "",
     "output_type": "error",
     "traceback": [
      "Compilation Failed"
     ]
    }
   ],
   "source": [
    "l1 += 9"
   ]
  },
  {
   "cell_type": "code",
   "execution_count": 39,
   "id": "96b4ed20",
   "metadata": {
    "ExecuteTime": {
     "end_time": "2022-05-01T04:55:29.777767Z",
     "start_time": "2022-05-01T04:55:29.680Z"
    }
   },
   "outputs": [
    {
     "data": {
      "text/plain": [
       "\u001b[36mres38\u001b[39m: \u001b[32mList\u001b[39m[\u001b[32mInt\u001b[39m] = \u001b[33mList\u001b[39m(\u001b[32m0\u001b[39m, \u001b[32m1\u001b[39m, \u001b[32m2\u001b[39m)"
      ]
     },
     "execution_count": 39,
     "metadata": {},
     "output_type": "execute_result"
    }
   ],
   "source": [
    "l1 diff l2"
   ]
  },
  {
   "cell_type": "code",
   "execution_count": null,
   "id": "8df8e99c",
   "metadata": {},
   "outputs": [],
   "source": []
  }
 ],
 "metadata": {
  "kernelspec": {
   "display_name": "Scala 2.13",
   "language": "scala",
   "name": "scala"
  },
  "language_info": {
   "codemirror_mode": "text/x-scala",
   "file_extension": ".sc",
   "mimetype": "text/x-scala",
   "name": "scala",
   "nbconvert_exporter": "script",
   "version": "2.13.4"
  },
  "toc": {
   "base_numbering": 1,
   "nav_menu": {},
   "number_sections": true,
   "sideBar": true,
   "skip_h1_title": false,
   "title_cell": "Table of Contents",
   "title_sidebar": "Contents",
   "toc_cell": true,
   "toc_position": {},
   "toc_section_display": true,
   "toc_window_display": false
  }
 },
 "nbformat": 4,
 "nbformat_minor": 5
}
