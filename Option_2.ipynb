{
 "cells": [
  {
   "cell_type": "markdown",
   "id": "f9c7def1",
   "metadata": {
    "toc": true
   },
   "source": [
    "<h1>Table of Contents<span class=\"tocSkip\"></span></h1>\n",
    "<div class=\"toc\"><ul class=\"toc-item\"><li><span><a href=\"#Lifting-functions-to-accept-Option[T]\" data-toc-modified-id=\"Lifting-functions-to-accept-Option[T]-1\"><span class=\"toc-item-num\">1&nbsp;&nbsp;</span>Lifting functions to accept Option[T]</a></span></li></ul></div>"
   ]
  },
  {
   "cell_type": "code",
   "execution_count": 1,
   "id": "bd13a9fd",
   "metadata": {
    "ExecuteTime": {
     "end_time": "2022-07-05T14:46:40.128665Z",
     "start_time": "2022-07-05T14:46:38.127Z"
    }
   },
   "outputs": [
    {
     "data": {
      "text/plain": [
       "defined \u001b[32mtrait\u001b[39m \u001b[36mOption\u001b[39m\n",
       "defined \u001b[32mclass\u001b[39m \u001b[36mSome\u001b[39m\n",
       "defined \u001b[32mobject\u001b[39m \u001b[36mNone\u001b[39m"
      ]
     },
     "execution_count": 1,
     "metadata": {},
     "output_type": "execute_result"
    }
   ],
   "source": [
    "sealed trait Option[+A]\n",
    "case class Some[+A](get: A) extends Option[A]\n",
    "case object None extends Option[Nothing]"
   ]
  },
  {
   "cell_type": "code",
   "execution_count": 3,
   "id": "1ed27dd9",
   "metadata": {
    "ExecuteTime": {
     "end_time": "2022-07-05T14:51:25.481314Z",
     "start_time": "2022-07-05T14:51:25.092Z"
    }
   },
   "outputs": [
    {
     "data": {
      "text/plain": [
       "defined \u001b[32mfunction\u001b[39m \u001b[36mmean\u001b[39m\n",
       "\u001b[36mres2_1\u001b[39m: \u001b[32mOption\u001b[39m[\u001b[32mInt\u001b[39m] = \u001b[33mSome\u001b[39m(get = \u001b[32m2\u001b[39m)"
      ]
     },
     "execution_count": 3,
     "metadata": {},
     "output_type": "execute_result"
    }
   ],
   "source": [
    "def mean(xs: Seq[Int]): Option[Int] = {\n",
    "    if (xs.isEmpty) None\n",
    "    else Some(xs.sum/xs.size)\n",
    "}\n",
    "\n",
    "mean(List(1,2,3))"
   ]
  },
  {
   "cell_type": "code",
   "execution_count": 6,
   "id": "ca7a4498",
   "metadata": {
    "ExecuteTime": {
     "end_time": "2022-07-05T16:04:25.680649Z",
     "start_time": "2022-07-05T16:04:25.496Z"
    }
   },
   "outputs": [
    {
     "data": {
      "text/plain": [
       "\u001b[36mres5\u001b[39m: \u001b[32mInt\u001b[39m = \u001b[32m3\u001b[39m"
      ]
     },
     "execution_count": 6,
     "metadata": {},
     "output_type": "execute_result"
    }
   ],
   "source": [
    "List(1,2,3).last"
   ]
  },
  {
   "cell_type": "code",
   "execution_count": 5,
   "id": "28103309",
   "metadata": {
    "ExecuteTime": {
     "end_time": "2022-07-05T16:04:08.245416Z",
     "start_time": "2022-07-05T16:04:08.008Z"
    }
   },
   "outputs": [
    {
     "data": {
      "text/plain": [
       "\u001b[36mres4\u001b[39m: \u001b[32mscala\u001b[39m.\u001b[32mOption\u001b[39m[\u001b[32mInt\u001b[39m] = \u001b[33mSome\u001b[39m(value = \u001b[32m3\u001b[39m)"
      ]
     },
     "execution_count": 5,
     "metadata": {},
     "output_type": "execute_result"
    }
   ],
   "source": [
    "List(1,2,3).lastOption"
   ]
  },
  {
   "cell_type": "code",
   "execution_count": 3,
   "id": "91bec5bc",
   "metadata": {
    "ExecuteTime": {
     "end_time": "2022-07-05T16:33:20.022182Z",
     "start_time": "2022-07-05T16:33:19.666Z"
    }
   },
   "outputs": [
    {
     "data": {
      "text/plain": [
       "\u001b[36mvr\u001b[39m: \u001b[32mSeq\u001b[39m[\u001b[32mDouble\u001b[39m] => \u001b[32mOption\u001b[39m[\u001b[32mDouble\u001b[39m] = ammonite.$sess.cmd2$Helper$$Lambda$1924/1386362253@5160f102\n",
       "\u001b[36mres2_1\u001b[39m: \u001b[32mOption\u001b[39m[\u001b[32mDouble\u001b[39m] = \u001b[33mSome\u001b[39m(value = \u001b[32m0.6666666666666666\u001b[39m)"
      ]
     },
     "execution_count": 3,
     "metadata": {},
     "output_type": "execute_result"
    }
   ],
   "source": [
    "val vr: Seq[Double] => Option[Double] = l => {\n",
    "    if (l.isEmpty) None\n",
    "    else Some(l.map{el => math.pow(el - l.sum/l.size,2)}.sum / l.size)\n",
    "}\n",
    "\n",
    "vr(List(1,2,3))"
   ]
  },
  {
   "cell_type": "code",
   "execution_count": 4,
   "id": "f6d560b5",
   "metadata": {
    "ExecuteTime": {
     "end_time": "2022-07-05T16:38:55.908750Z",
     "start_time": "2022-07-05T16:38:55.637Z"
    }
   },
   "outputs": [
    {
     "data": {
      "text/plain": [
       "\u001b[36mvr2\u001b[39m: \u001b[32mSeq\u001b[39m[\u001b[32mDouble\u001b[39m] => \u001b[32mOption\u001b[39m[\u001b[32mDouble\u001b[39m] = ammonite.$sess.cmd3$Helper$$Lambda$1954/2129468791@2275cdcd\n",
       "\u001b[36mres3_1\u001b[39m: \u001b[32mOption\u001b[39m[\u001b[32mDouble\u001b[39m] = \u001b[33mSome\u001b[39m(value = \u001b[32m0.6666666666666666\u001b[39m)"
      ]
     },
     "execution_count": 4,
     "metadata": {},
     "output_type": "execute_result"
    }
   ],
   "source": [
    "val vr2: Seq[Double] => Option[Double] = l => {\n",
    "    if (l.isEmpty) None\n",
    "    else Some(l.sum/l.size).flatMap(mn => Some(l.map(el => math.pow(el-mn,2)).sum/l.size))\n",
    "}\n",
    "\n",
    "vr(List(1,2,3))"
   ]
  },
  {
   "cell_type": "code",
   "execution_count": 2,
   "id": "0c929b73",
   "metadata": {
    "ExecuteTime": {
     "end_time": "2022-07-05T16:30:52.512230Z",
     "start_time": "2022-07-05T16:30:52.086Z"
    }
   },
   "outputs": [
    {
     "data": {
      "text/plain": [
       "defined \u001b[32mfunction\u001b[39m \u001b[36mmean\u001b[39m\n",
       "defined \u001b[32mfunction\u001b[39m \u001b[36mvari\u001b[39m\n",
       "\u001b[36mres1_2\u001b[39m: \u001b[32mOption\u001b[39m[\u001b[32mDouble\u001b[39m] = \u001b[33mSome\u001b[39m(value = \u001b[32m0.6666666666666666\u001b[39m)"
      ]
     },
     "execution_count": 2,
     "metadata": {},
     "output_type": "execute_result"
    }
   ],
   "source": [
    "def mean(xs: Seq[Double]): Option[Double] = \n",
    "    if (xs.isEmpty) None\n",
    "    else Some(xs.sum / xs.size)\n",
    "\n",
    "def vari(xs: Seq[Double]): Option[Double] = {\n",
    "    mean(xs) flatMap (mn => mean(xs.map{x => math.pow(x - mn, 2)}))\n",
    "}"
   ]
  },
  {
   "cell_type": "markdown",
   "id": "abdc78aa",
   "metadata": {},
   "source": [
    "# Lifting functions to accept Option[T]"
   ]
  },
  {
   "cell_type": "code",
   "execution_count": 6,
   "id": "90d9d76a",
   "metadata": {
    "ExecuteTime": {
     "end_time": "2022-07-05T16:56:59.708879Z",
     "start_time": "2022-07-05T16:56:59.512Z"
    }
   },
   "outputs": [
    {
     "data": {
      "text/plain": [
       "defined \u001b[32mfunction\u001b[39m \u001b[36mlift\u001b[39m\n",
       "\u001b[36mabs0\u001b[39m: \u001b[32mOption\u001b[39m[\u001b[32mDouble\u001b[39m] => \u001b[32mOption\u001b[39m[\u001b[32mDouble\u001b[39m] = ammonite.$sess.cmd5$Helper$$Lambda$1986/2041367137@6f259121\n",
       "\u001b[36mres5_2\u001b[39m: \u001b[32mOption\u001b[39m[\u001b[32mDouble\u001b[39m] = \u001b[33mSome\u001b[39m(value = \u001b[32m1.0\u001b[39m)"
      ]
     },
     "execution_count": 6,
     "metadata": {},
     "output_type": "execute_result"
    }
   ],
   "source": [
    "def lift[A,B](f: A => B): Option[A] => Option[B] = _ map f\n",
    "val abs0: Option[Double] => Option[Double] = lift(math.abs)\n",
    "abs0(Option(-1))"
   ]
  },
  {
   "cell_type": "code",
   "execution_count": 7,
   "id": "cd86081d",
   "metadata": {
    "ExecuteTime": {
     "end_time": "2022-07-05T17:01:00.626395Z",
     "start_time": "2022-07-05T17:01:00.463Z"
    }
   },
   "outputs": [
    {
     "data": {
      "text/plain": [
       "\u001b[36mres6\u001b[39m: \u001b[32mOption\u001b[39m[\u001b[32mInt\u001b[39m] = \u001b[33mSome\u001b[39m(value = \u001b[32m1\u001b[39m)"
      ]
     },
     "execution_count": 7,
     "metadata": {},
     "output_type": "execute_result"
    }
   ],
   "source": [
    "Option(-1).flatMap(x => Option(math.abs(x) ))"
   ]
  },
  {
   "cell_type": "code",
   "execution_count": 8,
   "id": "db426924",
   "metadata": {
    "ExecuteTime": {
     "end_time": "2022-07-05T17:13:28.212842Z",
     "start_time": "2022-07-05T17:13:28.051Z"
    }
   },
   "outputs": [
    {
     "data": {
      "text/plain": [
       "defined \u001b[32mfunction\u001b[39m \u001b[36mmap2\u001b[39m"
      ]
     },
     "execution_count": 8,
     "metadata": {},
     "output_type": "execute_result"
    }
   ],
   "source": [
    "def map2[A,B,C](a: Option[A], b: Option[B])(f: (A, B) => C): Option[C] = {\n",
    "    a.flatMap(aa => b.map(bb => f(aa,bb)))\n",
    "}"
   ]
  },
  {
   "cell_type": "code",
   "execution_count": 11,
   "id": "a02d6eeb",
   "metadata": {
    "ExecuteTime": {
     "end_time": "2022-07-05T17:20:33.675328Z",
     "start_time": "2022-07-05T17:20:33.573Z"
    }
   },
   "outputs": [
    {
     "data": {
      "text/plain": [
       "defined \u001b[32mfunction\u001b[39m \u001b[36msequence\u001b[39m"
      ]
     },
     "execution_count": 11,
     "metadata": {},
     "output_type": "execute_result"
    }
   ],
   "source": [
    "def sequence[A](a: List[Option[A]]): Option[List[A]] = {\n",
    "    a.foldLeft[Option[List[A]]](Option(Nil))((el,acc) => map2(acc,el)(_::_))\n",
    "}"
   ]
  },
  {
   "cell_type": "code",
   "execution_count": 12,
   "id": "fe0d5cef",
   "metadata": {
    "ExecuteTime": {
     "end_time": "2022-07-05T17:20:36.533947Z",
     "start_time": "2022-07-05T17:20:36.428Z"
    }
   },
   "outputs": [
    {
     "data": {
      "text/plain": [
       "defined \u001b[32mfunction\u001b[39m \u001b[36msequence\u001b[39m"
      ]
     },
     "execution_count": 12,
     "metadata": {},
     "output_type": "execute_result"
    }
   ],
   "source": [
    "def sequence[A](a: List[Option[A]]): Option[List[A]] = {\n",
    "    a.foldRight[Option[List[A]]](Option(Nil))((acc, el) => map2(acc,el)(_::_))\n",
    "}"
   ]
  },
  {
   "cell_type": "code",
   "execution_count": 13,
   "id": "12be66de",
   "metadata": {
    "ExecuteTime": {
     "end_time": "2022-07-05T17:27:36.764270Z",
     "start_time": "2022-07-05T17:27:36.573Z"
    }
   },
   "outputs": [
    {
     "data": {
      "text/plain": [
       "defined \u001b[32mfunction\u001b[39m \u001b[36msequence\u001b[39m"
      ]
     },
     "execution_count": 13,
     "metadata": {},
     "output_type": "execute_result"
    }
   ],
   "source": [
    "def sequence[A](as: List[Option[A]]): Option[List[A]] = as match {\n",
    "    case Nil => Some(Nil)\n",
    "    case h :: t => h.flatMap{hh => sequence(t).map{hh :: _} }\n",
    "}"
   ]
  },
  {
   "cell_type": "code",
   "execution_count": 17,
   "id": "7d14881b",
   "metadata": {
    "ExecuteTime": {
     "end_time": "2022-07-05T17:34:22.748153Z",
     "start_time": "2022-07-05T17:34:22.633Z"
    }
   },
   "outputs": [
    {
     "data": {
      "text/plain": [
       "\u001b[36mres16\u001b[39m: \u001b[32mList\u001b[39m[\u001b[32mInt\u001b[39m] = \u001b[33mList\u001b[39m(\u001b[32m1\u001b[39m, \u001b[32m2\u001b[39m, \u001b[32m3\u001b[39m)"
      ]
     },
     "execution_count": 17,
     "metadata": {},
     "output_type": "execute_result"
    }
   ],
   "source": [
    "List(\"1\",\"2\",\"3\").flatMap(_.toIntOption)"
   ]
  },
  {
   "cell_type": "code",
   "execution_count": null,
   "id": "26914cfa",
   "metadata": {},
   "outputs": [],
   "source": []
  }
 ],
 "metadata": {
  "kernelspec": {
   "display_name": "Scala_2,13",
   "language": "scala",
   "name": "scala"
  },
  "language_info": {
   "codemirror_mode": "text/x-scala",
   "file_extension": ".sc",
   "mimetype": "text/x-scala",
   "name": "scala",
   "nbconvert_exporter": "script",
   "version": "2.13.5"
  },
  "toc": {
   "base_numbering": 1,
   "nav_menu": {},
   "number_sections": true,
   "sideBar": true,
   "skip_h1_title": false,
   "title_cell": "Table of Contents",
   "title_sidebar": "Contents",
   "toc_cell": true,
   "toc_position": {},
   "toc_section_display": true,
   "toc_window_display": false
  }
 },
 "nbformat": 4,
 "nbformat_minor": 5
}
