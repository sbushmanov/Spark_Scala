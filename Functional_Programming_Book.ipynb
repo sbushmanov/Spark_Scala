{
 "cells": [
  {
   "cell_type": "markdown",
   "id": "40aa0d41",
   "metadata": {
    "toc": true
   },
   "source": [
    "<h1>Table of Contents<span class=\"tocSkip\"></span></h1>\n",
    "<div class=\"toc\"><ul class=\"toc-item\"><li><span><a href=\"#Chapter-2.-Getting-started-with-functional-programming-in-Scala\" data-toc-modified-id=\"Chapter-2.-Getting-started-with-functional-programming-in-Scala-1\"><span class=\"toc-item-num\">1&nbsp;&nbsp;</span>Chapter 2. Getting started with functional programming in Scala</a></span></li><li><span><a href=\"#Functional_Data_Structures\" data-toc-modified-id=\"Functional_Data_Structures-2\"><span class=\"toc-item-num\">2&nbsp;&nbsp;</span>Functional_Data_Structures</a></span></li><li><span><a href=\"#Difference-between-foldLeft-and-foldRight\" data-toc-modified-id=\"Difference-between-foldLeft-and-foldRight-3\"><span class=\"toc-item-num\">3&nbsp;&nbsp;</span>Difference between <code>foldLeft</code> and <code>foldRight</code></a></span><ul class=\"toc-item\"><li><span><a href=\"#foldLeft-builds-and-prepends-to-the-left-end-(thus-reverses-List)\" data-toc-modified-id=\"foldLeft-builds-and-prepends-to-the-left-end-(thus-reverses-List)-3.1\"><span class=\"toc-item-num\">3.1&nbsp;&nbsp;</span><code>foldLeft</code> builds and prepends to the left end (thus reverses List)</a></span></li><li><span><a href=\"#foldRight-builds-and-prepends-to-the-right-end-(thus-preserves-order)\" data-toc-modified-id=\"foldRight-builds-and-prepends-to-the-right-end-(thus-preserves-order)-3.2\"><span class=\"toc-item-num\">3.2&nbsp;&nbsp;</span>foldRight builds and prepends to the right end (thus preserves order)</a></span></li></ul></li><li><span><a href=\"#Trees\" data-toc-modified-id=\"Trees-4\"><span class=\"toc-item-num\">4&nbsp;&nbsp;</span>Trees</a></span></li><li><span><a href=\"#Exceptions\" data-toc-modified-id=\"Exceptions-5\"><span class=\"toc-item-num\">5&nbsp;&nbsp;</span>Exceptions</a></span></li><li><span><a href=\"#Sequence\" data-toc-modified-id=\"Sequence-6\"><span class=\"toc-item-num\">6&nbsp;&nbsp;</span>Sequence</a></span></li></ul></div>"
   ]
  },
  {
   "cell_type": "markdown",
   "id": "167d9131",
   "metadata": {},
   "source": [
    "# Chapter 2. Getting started with functional programming in Scala"
   ]
  },
  {
   "cell_type": "code",
   "execution_count": 1,
   "id": "508468dc",
   "metadata": {
    "ExecuteTime": {
     "end_time": "2022-05-28T09:36:57.586177Z",
     "start_time": "2022-05-28T09:36:55.968Z"
    }
   },
   "outputs": [
    {
     "data": {
      "text/plain": [
       "defined \u001b[32mfunction\u001b[39m \u001b[36mfact\u001b[39m\n",
       "\u001b[36mres0_1\u001b[39m: \u001b[32mInt\u001b[39m = \u001b[32m24\u001b[39m"
      ]
     },
     "execution_count": 1,
     "metadata": {},
     "output_type": "execute_result"
    }
   ],
   "source": [
    "def fact(n: Int): Int = {\n",
    "    @annotation.tailrec\n",
    "    def f(n: Int, init: Int): Int = {\n",
    "        if (n <= 0) init\n",
    "        else f(n - 1, n * init)\n",
    "    }\n",
    "    f(n, 1)\n",
    "}\n",
    "\n",
    "fact(4)"
   ]
  },
  {
   "cell_type": "code",
   "execution_count": 20,
   "id": "f540d048",
   "metadata": {
    "ExecuteTime": {
     "end_time": "2022-05-28T10:21:06.451795Z",
     "start_time": "2022-05-28T10:21:06.318Z"
    }
   },
   "outputs": [
    {
     "data": {
      "text/plain": [
       "defined \u001b[32mfunction\u001b[39m \u001b[36mfib\u001b[39m\n",
       "\u001b[36mres19_1\u001b[39m: \u001b[32mInt\u001b[39m = \u001b[32m13\u001b[39m"
      ]
     },
     "execution_count": 20,
     "metadata": {},
     "output_type": "execute_result"
    }
   ],
   "source": [
    "def fib(n: Int): Int = {\n",
    "    @annotation.tailrec\n",
    "    def loop(n: Int, curr: Int, next: Int): Int = {\n",
    "        if (n == 0) curr\n",
    "        else loop(n - 1, next, next + curr) \n",
    "    }\n",
    "    loop(n, 0, 1)\n",
    "}\n",
    "\n",
    "fib(7)"
   ]
  },
  {
   "cell_type": "code",
   "execution_count": 37,
   "id": "f99d39ec",
   "metadata": {
    "ExecuteTime": {
     "end_time": "2022-05-28T10:41:59.787125Z",
     "start_time": "2022-05-28T10:41:59.651Z"
    },
    "scrolled": true
   },
   "outputs": [
    {
     "data": {
      "text/plain": [
       "defined \u001b[32mfunction\u001b[39m \u001b[36mfib2\u001b[39m\n",
       "\u001b[36mres36_1\u001b[39m: \u001b[32mList\u001b[39m[\u001b[32mInt\u001b[39m] = \u001b[33mList\u001b[39m(\u001b[32m0\u001b[39m, \u001b[32m1\u001b[39m, \u001b[32m1\u001b[39m, \u001b[32m2\u001b[39m, \u001b[32m3\u001b[39m, \u001b[32m5\u001b[39m)"
      ]
     },
     "execution_count": 37,
     "metadata": {},
     "output_type": "execute_result"
    }
   ],
   "source": [
    "def fib2(cnt: Int, low: Int=0, high: Int=1, lst: List[Int] = Nil): List[Int] = {\n",
    "    if (cnt == 0) (low :: lst).reverse\n",
    "    else fib2(cnt - 1, high, low + high, low :: lst) }\n",
    "\n",
    "fib2(5)"
   ]
  },
  {
   "cell_type": "code",
   "execution_count": 39,
   "id": "761c2510",
   "metadata": {
    "ExecuteTime": {
     "end_time": "2022-05-28T10:56:53.303536Z",
     "start_time": "2022-05-28T10:56:53.136Z"
    }
   },
   "outputs": [
    {
     "data": {
      "text/plain": [
       "\u001b[36mfib3\u001b[39m: \u001b[32mLazyList\u001b[39m[\u001b[32mInt\u001b[39m] = \u001b[33mLazyList\u001b[39m(\n",
       "  \u001b[32m0\u001b[39m,\n",
       "  \u001b[32m1\u001b[39m,\n",
       "  \u001b[32m1\u001b[39m,\n",
       "  \u001b[32m2\u001b[39m,\n",
       "  \u001b[32m3\u001b[39m,\n",
       "  \u001b[32m5\u001b[39m,\n",
       "  \u001b[32m8\u001b[39m,\n",
       "  \u001b[32m13\u001b[39m,\n",
       "  \u001b[32m21\u001b[39m,\n",
       "  \u001b[32m34\u001b[39m,\n",
       "  \u001b[32m55\u001b[39m,\n",
       "  \u001b[32m89\u001b[39m,\n",
       "  \u001b[32m144\u001b[39m,\n",
       "  \u001b[32m233\u001b[39m,\n",
       "  \u001b[32m377\u001b[39m,\n",
       "  \u001b[32m610\u001b[39m,\n",
       "  \u001b[32m987\u001b[39m,\n",
       "  \u001b[32m1597\u001b[39m,\n",
       "  \u001b[32m2584\u001b[39m,\n",
       "  \u001b[32m4181\u001b[39m,\n",
       "  \u001b[32m6765\u001b[39m,\n",
       "  \u001b[32m10946\u001b[39m,\n",
       "  \u001b[32m17711\u001b[39m,\n",
       "  \u001b[32m28657\u001b[39m,\n",
       "  \u001b[32m46368\u001b[39m,\n",
       "  \u001b[32m75025\u001b[39m,\n",
       "  \u001b[32m121393\u001b[39m,\n",
       "  \u001b[32m196418\u001b[39m,\n",
       "  \u001b[32m317811\u001b[39m,\n",
       "  \u001b[32m514229\u001b[39m,\n",
       "  \u001b[32m832040\u001b[39m,\n",
       "  \u001b[32m1346269\u001b[39m,\n",
       "  \u001b[32m2178309\u001b[39m,\n",
       "  \u001b[32m3524578\u001b[39m,\n",
       "  \u001b[32m5702887\u001b[39m,\n",
       "  \u001b[32m9227465\u001b[39m,\n",
       "  \u001b[32m14930352\u001b[39m,\n",
       "  \u001b[32m24157817\u001b[39m,\n",
       "...\n",
       "\u001b[36mres38_1\u001b[39m: \u001b[32mLazyList\u001b[39m[\u001b[32mInt\u001b[39m] = \u001b[33mLazyList\u001b[39m(\u001b[32m0\u001b[39m, \u001b[32m1\u001b[39m, \u001b[32m1\u001b[39m, \u001b[32m2\u001b[39m, \u001b[32m3\u001b[39m)"
      ]
     },
     "execution_count": 39,
     "metadata": {},
     "output_type": "execute_result"
    }
   ],
   "source": [
    "val fib3: LazyList[Int] = 0 #:: 1 #:: (fib3.zip(fib3.tail)).map{t => t._1 + t._2}\n",
    "fib3.take(5)"
   ]
  },
  {
   "cell_type": "code",
   "execution_count": 41,
   "id": "c4143e7e",
   "metadata": {
    "ExecuteTime": {
     "end_time": "2022-05-28T11:32:36.995550Z",
     "start_time": "2022-05-28T11:32:36.880Z"
    }
   },
   "outputs": [
    {
     "data": {
      "text/plain": [
       "defined \u001b[32mfunction\u001b[39m \u001b[36mfindFirst\u001b[39m\n",
       "\u001b[36mres40_1\u001b[39m: \u001b[32mInt\u001b[39m = \u001b[32m2\u001b[39m"
      ]
     },
     "execution_count": 41,
     "metadata": {},
     "output_type": "execute_result"
    }
   ],
   "source": [
    "def findFirst(key: String, arr: Array[String]): Int = {\n",
    "    def loop(n: Int): Int = {\n",
    "        if (n >= arr.size) -1\n",
    "        else if (arr(n) == key) n\n",
    "        else loop(n+1)\n",
    "    }\n",
    "    loop(0)\n",
    "}\n",
    "\n",
    "findFirst(\"a\", Array(\"b\",\"c\",\"a\"))"
   ]
  },
  {
   "cell_type": "code",
   "execution_count": 50,
   "id": "1aa31971",
   "metadata": {
    "ExecuteTime": {
     "end_time": "2022-05-28T11:50:06.924110Z",
     "start_time": "2022-05-28T11:50:06.799Z"
    }
   },
   "outputs": [
    {
     "data": {
      "text/plain": [
       "defined \u001b[32mfunction\u001b[39m \u001b[36mfindFirst\u001b[39m\n",
       "\u001b[36mp\u001b[39m: \u001b[32mString\u001b[39m => \u001b[32mBoolean\u001b[39m = ammonite.$sess.cmd49$Helper$$Lambda$2557/730463080@211e8ec\n",
       "\u001b[36mres49_2\u001b[39m: \u001b[32mInt\u001b[39m = \u001b[32m2\u001b[39m"
      ]
     },
     "execution_count": 50,
     "metadata": {},
     "output_type": "execute_result"
    }
   ],
   "source": [
    "def findFirst[A](arr: Array[A], p: A => Boolean): Int = {\n",
    "    def loop(n: Int): Int = {\n",
    "        if (n >=arr.size) -1\n",
    "        else if (p(arr(n))) n\n",
    "        else loop(n+1)\n",
    "    }\n",
    "    loop(0)\n",
    "}\n",
    "\n",
    "val p: String => Boolean = _ == \"c\"\n",
    "findFirst(Array(\"a\",\"b\",\"c\"), p)"
   ]
  },
  {
   "cell_type": "code",
   "execution_count": 59,
   "id": "514a4926",
   "metadata": {
    "ExecuteTime": {
     "end_time": "2022-05-28T12:18:42.979322Z",
     "start_time": "2022-05-28T12:18:42.836Z"
    }
   },
   "outputs": [
    {
     "data": {
      "text/plain": [
       "\u001b[36mres58\u001b[39m: \u001b[32mInt\u001b[39m = \u001b[32m3\u001b[39m"
      ]
     },
     "execution_count": 59,
     "metadata": {},
     "output_type": "execute_result"
    }
   ],
   "source": [
    "Array(1,2,3).size"
   ]
  },
  {
   "cell_type": "code",
   "execution_count": 60,
   "id": "081623dd",
   "metadata": {
    "ExecuteTime": {
     "end_time": "2022-05-28T12:19:55.835058Z",
     "start_time": "2022-05-28T12:19:55.735Z"
    }
   },
   "outputs": [
    {
     "data": {
      "text/plain": [
       "defined \u001b[32mfunction\u001b[39m \u001b[36misSorted\u001b[39m\n",
       "\u001b[36mres59_1\u001b[39m: \u001b[32mBoolean\u001b[39m = true"
      ]
     },
     "execution_count": 60,
     "metadata": {},
     "output_type": "execute_result"
    }
   ],
   "source": [
    "def isSorted[A](arr: Array[A], ordered: (A,A) => Boolean): Boolean = {\n",
    "    def loop(n: Int): Boolean = {\n",
    "        if ( n >=  arr.size-1) true\n",
    "        else if (! ordered(arr(n), arr(n+1))) false\n",
    "        else loop(n+1)\n",
    "    }\n",
    "    loop(0)\n",
    "}\n",
    "\n",
    "isSorted(Array(1,2,3), (x:Int, y:Int)=> y>x)"
   ]
  },
  {
   "cell_type": "code",
   "execution_count": 2,
   "id": "d76abc99",
   "metadata": {
    "ExecuteTime": {
     "end_time": "2022-05-28T16:44:55.492265Z",
     "start_time": "2022-05-28T16:44:55.144Z"
    }
   },
   "outputs": [
    {
     "data": {
      "text/plain": [
       "defined \u001b[32mfunction\u001b[39m \u001b[36mpartial1\u001b[39m"
      ]
     },
     "execution_count": 2,
     "metadata": {},
     "output_type": "execute_result"
    }
   ],
   "source": [
    "def partial1[A, B, C](a: A, f: (A,B) => C): B => C = {\n",
    "    (b:B) => ???\n",
    "}"
   ]
  },
  {
   "cell_type": "code",
   "execution_count": 3,
   "id": "dfaff5ca",
   "metadata": {
    "ExecuteTime": {
     "end_time": "2022-05-28T16:48:05.939957Z",
     "start_time": "2022-05-28T16:48:05.700Z"
    }
   },
   "outputs": [
    {
     "data": {
      "text/plain": [
       "defined \u001b[32mfunction\u001b[39m \u001b[36mpartial1\u001b[39m"
      ]
     },
     "execution_count": 3,
     "metadata": {},
     "output_type": "execute_result"
    }
   ],
   "source": [
    "def partial1[A, B, C](a: A, f: (A,B) => C): B => C = {\n",
    "    (b:B) => f(a,b)\n",
    "}"
   ]
  },
  {
   "cell_type": "code",
   "execution_count": 4,
   "id": "3ff93256",
   "metadata": {
    "ExecuteTime": {
     "end_time": "2022-05-28T16:51:43.631064Z",
     "start_time": "2022-05-28T16:51:43.436Z"
    }
   },
   "outputs": [
    {
     "data": {
      "text/plain": [
       "defined \u001b[32mfunction\u001b[39m \u001b[36mpartial1\u001b[39m"
      ]
     },
     "execution_count": 4,
     "metadata": {},
     "output_type": "execute_result"
    }
   ],
   "source": [
    "def partial1[A, B, C](a: A, f: (A,B) => C): B => C = {\n",
    "    b => f(a,b)\n",
    "}"
   ]
  },
  {
   "cell_type": "code",
   "execution_count": 7,
   "id": "27219bd7",
   "metadata": {
    "ExecuteTime": {
     "end_time": "2022-05-28T17:02:57.733270Z",
     "start_time": "2022-05-28T17:02:57.579Z"
    }
   },
   "outputs": [
    {
     "data": {
      "text/plain": [
       "defined \u001b[32mfunction\u001b[39m \u001b[36mcurry\u001b[39m"
      ]
     },
     "execution_count": 7,
     "metadata": {},
     "output_type": "execute_result"
    }
   ],
   "source": [
    "def curry[A,B,C](f: (A, B) => C): A => (B => C) = {\n",
    "    a => b => f(a,b)\n",
    "}"
   ]
  },
  {
   "cell_type": "code",
   "execution_count": 12,
   "id": "f53d731c",
   "metadata": {
    "ExecuteTime": {
     "end_time": "2022-05-28T17:09:16.536127Z",
     "start_time": "2022-05-28T17:09:16.407Z"
    }
   },
   "outputs": [
    {
     "data": {
      "text/plain": [
       "defined \u001b[32mfunction\u001b[39m \u001b[36mcurry\u001b[39m"
      ]
     },
     "execution_count": 12,
     "metadata": {},
     "output_type": "execute_result"
    }
   ],
   "source": [
    "def curry[A,B,C](f: (A, B) => C): A => B => C = {\n",
    "    a => b => f(a,b)\n",
    "}"
   ]
  },
  {
   "cell_type": "code",
   "execution_count": 10,
   "id": "566fe4c8",
   "metadata": {
    "ExecuteTime": {
     "end_time": "2022-05-28T17:06:57.982090Z",
     "start_time": "2022-05-28T17:06:57.850Z"
    }
   },
   "outputs": [
    {
     "data": {
      "text/plain": [
       "defined \u001b[32mfunction\u001b[39m \u001b[36muncurry\u001b[39m"
      ]
     },
     "execution_count": 10,
     "metadata": {},
     "output_type": "execute_result"
    }
   ],
   "source": [
    "def uncurry[A,B,C](f: A => B => C): (A, B) => C = {\n",
    "    (a,b) => f(a)(b)\n",
    "}"
   ]
  },
  {
   "cell_type": "code",
   "execution_count": 11,
   "id": "9cebe7c7",
   "metadata": {
    "ExecuteTime": {
     "end_time": "2022-05-28T17:08:43.710133Z",
     "start_time": "2022-05-28T17:08:43.576Z"
    }
   },
   "outputs": [
    {
     "data": {
      "text/plain": [
       "defined \u001b[32mfunction\u001b[39m \u001b[36mcompose\u001b[39m"
      ]
     },
     "execution_count": 11,
     "metadata": {},
     "output_type": "execute_result"
    }
   ],
   "source": [
    "def compose[A,B,C](f: B => C, g: A => B): A => C = {\n",
    "    a => f(g(a))\n",
    "}"
   ]
  },
  {
   "cell_type": "code",
   "execution_count": 15,
   "id": "7d1fa7fc",
   "metadata": {
    "ExecuteTime": {
     "end_time": "2022-05-28T17:13:36.645793Z",
     "start_time": "2022-05-28T17:13:36.420Z"
    }
   },
   "outputs": [
    {
     "data": {
      "text/plain": [
       "\u001b[36mf\u001b[39m: \u001b[32mDouble\u001b[39m => \u001b[32mDouble\u001b[39m = ammonite.$sess.cmd14$Helper$$Lambda$2194/820756952@52d936a3\n",
       "\u001b[36mcos\u001b[39m: \u001b[32mDouble\u001b[39m => \u001b[32mDouble\u001b[39m = scala.Function1$$Lambda$591/1872094743@1d8a88fd\n",
       "\u001b[36mres14_2\u001b[39m: \u001b[32mDouble\u001b[39m = \u001b[32m-0.5984600690578539\u001b[39m"
      ]
     },
     "execution_count": 15,
     "metadata": {},
     "output_type": "execute_result"
    }
   ],
   "source": [
    "val f = (x: Double) => math.Pi / 2 - x\n",
    "val cos = f andThen math.sin\n",
    "cos(180)"
   ]
  },
  {
   "cell_type": "markdown",
   "id": "74e04cc8",
   "metadata": {},
   "source": [
    "# Functional_Data_Structures"
   ]
  },
  {
   "cell_type": "code",
   "execution_count": 3,
   "id": "763c0799",
   "metadata": {
    "ExecuteTime": {
     "end_time": "2022-06-05T15:20:50.209119Z",
     "start_time": "2022-06-05T15:20:49.965Z"
    }
   },
   "outputs": [
    {
     "data": {
      "text/plain": [
       "defined \u001b[32mfunction\u001b[39m \u001b[36msum\u001b[39m\n",
       "\u001b[36mres2_1\u001b[39m: \u001b[32mInt\u001b[39m = \u001b[32m6\u001b[39m"
      ]
     },
     "execution_count": 3,
     "metadata": {},
     "output_type": "execute_result"
    }
   ],
   "source": [
    "def sum(xs: Seq[Int]): Int = xs match {\n",
    "    case Nil => 0\n",
    "    case x :: y => x + sum(y)\n",
    "}\n",
    "\n",
    "sum(List(1,2,3))"
   ]
  },
  {
   "cell_type": "code",
   "execution_count": 11,
   "id": "a80a2199",
   "metadata": {
    "ExecuteTime": {
     "end_time": "2022-06-05T15:34:34.228247Z",
     "start_time": "2022-06-05T15:34:34.052Z"
    }
   },
   "outputs": [
    {
     "name": "stdout",
     "output_type": "stream",
     "text": [
      "1\n",
      "2\n",
      "3\n",
      "4\n",
      "5\n"
     ]
    },
    {
     "data": {
      "text/plain": [
       "defined \u001b[32mfunction\u001b[39m \u001b[36mproduct\u001b[39m\n",
       "\u001b[36mres10_1\u001b[39m: \u001b[32mInt\u001b[39m = \u001b[32m120\u001b[39m"
      ]
     },
     "execution_count": 11,
     "metadata": {},
     "output_type": "execute_result"
    }
   ],
   "source": [
    "def product(xs: Seq[Int]): Int = xs match {\n",
    "    case Nil => 1\n",
    "    case x :: y => println(x); x * product(y)\n",
    "}\n",
    "\n",
    "product(List(1, 2, 3, 4 , 5))"
   ]
  },
  {
   "cell_type": "markdown",
   "id": "8b2c1926",
   "metadata": {},
   "source": [
    "Collection's length increased by 1 !!!"
   ]
  },
  {
   "cell_type": "code",
   "execution_count": 8,
   "id": "495f3ce4",
   "metadata": {
    "ExecuteTime": {
     "end_time": "2022-06-12T14:19:50.266128Z",
     "start_time": "2022-06-12T14:19:50.088Z"
    }
   },
   "outputs": [
    {
     "data": {
      "text/plain": [
       "\u001b[36mres7\u001b[39m: \u001b[32mList\u001b[39m[\u001b[32mInt\u001b[39m] = \u001b[33mList\u001b[39m(\u001b[32m1\u001b[39m, \u001b[32m1\u001b[39m, \u001b[32m2\u001b[39m, \u001b[32m4\u001b[39m, \u001b[32m7\u001b[39m)"
      ]
     },
     "execution_count": 8,
     "metadata": {},
     "output_type": "execute_result"
    }
   ],
   "source": [
    "List(0,1,2,3).scanLeft(1){ case (acc, el) => acc+el}"
   ]
  },
  {
   "cell_type": "code",
   "execution_count": 9,
   "id": "b46231d1",
   "metadata": {
    "ExecuteTime": {
     "end_time": "2022-06-12T14:19:56.181340Z",
     "start_time": "2022-06-12T14:19:56.004Z"
    }
   },
   "outputs": [
    {
     "data": {
      "text/plain": [
       "\u001b[36mres8\u001b[39m: \u001b[32mList\u001b[39m[\u001b[32mInt\u001b[39m] = \u001b[33mList\u001b[39m(\u001b[32m7\u001b[39m, \u001b[32m7\u001b[39m, \u001b[32m6\u001b[39m, \u001b[32m4\u001b[39m, \u001b[32m1\u001b[39m)"
      ]
     },
     "execution_count": 9,
     "metadata": {},
     "output_type": "execute_result"
    }
   ],
   "source": [
    "List(0,1,2,3).scanRight(1){ case (acc, el) => acc+el}"
   ]
  },
  {
   "cell_type": "code",
   "execution_count": 21,
   "id": "f2364a91",
   "metadata": {
    "ExecuteTime": {
     "end_time": "2022-06-05T16:02:16.302292Z",
     "start_time": "2022-06-05T16:02:16.132Z"
    }
   },
   "outputs": [
    {
     "name": "stdout",
     "output_type": "stream",
     "text": [
      "el is 0,acc is 1\n",
      "el is 1,acc is 1\n",
      "el is 1,acc is 2\n",
      "el is 2,acc is 3\n",
      "el is 3,acc is 5\n",
      "el is 5,acc is 8\n",
      "el is 8,acc is 13\n",
      "el is 13,acc is 21\n",
      "el is 21,acc is 34\n",
      "el is 34,acc is 55\n",
      "el is 55,acc is 89\n",
      "el is 89,acc is 144\n",
      "el is 144,acc is 233\n",
      "el is 233,acc is 377\n",
      "el is 377,acc is 610\n",
      "el is 610,acc is 987\n",
      "el is 987,acc is 1597\n",
      "el is 1597,acc is 2584\n",
      "el is 2584,acc is 4181\n",
      "el is 4181,acc is 6765\n",
      "el is 6765,acc is 10946\n",
      "el is 10946,acc is 17711\n",
      "el is 17711,acc is 28657\n",
      "el is 28657,acc is 46368\n",
      "el is 46368,acc is 75025\n",
      "el is 75025,acc is 121393\n",
      "el is 121393,acc is 196418\n",
      "el is 196418,acc is 317811\n",
      "el is 317811,acc is 514229\n",
      "el is 514229,acc is 832040\n",
      "el is 832040,acc is 1346269\n",
      "el is 1346269,acc is 2178309\n",
      "el is 2178309,acc is 3524578\n",
      "el is 3524578,acc is 5702887\n",
      "el is 5702887,acc is 9227465\n",
      "el is 9227465,acc is 14930352\n",
      "el is 14930352,acc is 24157817\n",
      "el is 24157817,acc is 39088169\n",
      "el is 39088169,acc is 63245986\n"
     ]
    },
    {
     "data": {
      "text/plain": [
       "\u001b[36mfibs\u001b[39m: \u001b[32mLazyList\u001b[39m[\u001b[32mInt\u001b[39m] = \u001b[33mLazyList\u001b[39m(\n",
       "  \u001b[32m1\u001b[39m,\n",
       "  \u001b[32m1\u001b[39m,\n",
       "  \u001b[32m2\u001b[39m,\n",
       "  \u001b[32m3\u001b[39m,\n",
       "  \u001b[32m5\u001b[39m,\n",
       "  \u001b[32m8\u001b[39m,\n",
       "  \u001b[32m13\u001b[39m,\n",
       "  \u001b[32m21\u001b[39m,\n",
       "  \u001b[32m34\u001b[39m,\n",
       "  \u001b[32m55\u001b[39m,\n",
       "  \u001b[32m89\u001b[39m,\n",
       "  \u001b[32m144\u001b[39m,\n",
       "  \u001b[32m233\u001b[39m,\n",
       "  \u001b[32m377\u001b[39m,\n",
       "  \u001b[32m610\u001b[39m,\n",
       "  \u001b[32m987\u001b[39m,\n",
       "  \u001b[32m1597\u001b[39m,\n",
       "  \u001b[32m2584\u001b[39m,\n",
       "  \u001b[32m4181\u001b[39m,\n",
       "  \u001b[32m6765\u001b[39m,\n",
       "  \u001b[32m10946\u001b[39m,\n",
       "  \u001b[32m17711\u001b[39m,\n",
       "  \u001b[32m28657\u001b[39m,\n",
       "  \u001b[32m46368\u001b[39m,\n",
       "  \u001b[32m75025\u001b[39m,\n",
       "  \u001b[32m121393\u001b[39m,\n",
       "  \u001b[32m196418\u001b[39m,\n",
       "  \u001b[32m317811\u001b[39m,\n",
       "  \u001b[32m514229\u001b[39m,\n",
       "  \u001b[32m832040\u001b[39m,\n",
       "  \u001b[32m1346269\u001b[39m,\n",
       "  \u001b[32m2178309\u001b[39m,\n",
       "  \u001b[32m3524578\u001b[39m,\n",
       "  \u001b[32m5702887\u001b[39m,\n",
       "  \u001b[32m9227465\u001b[39m,\n",
       "  \u001b[32m14930352\u001b[39m,\n",
       "  \u001b[32m24157817\u001b[39m,\n",
       "  \u001b[32m39088169\u001b[39m,\n",
       "...\n",
       "\u001b[36mres20_1\u001b[39m: \u001b[32mLazyList\u001b[39m[\u001b[32mInt\u001b[39m] = \u001b[33mLazyList\u001b[39m(\u001b[32m1\u001b[39m, \u001b[32m1\u001b[39m, \u001b[32m2\u001b[39m, \u001b[32m3\u001b[39m, \u001b[32m5\u001b[39m)"
      ]
     },
     "execution_count": 21,
     "metadata": {},
     "output_type": "execute_result"
    }
   ],
   "source": [
    "val fibs: LazyList[Int] = (0 #:: fibs).scanLeft(1){ case (acc, el) => println(s\"el is $el,acc is $acc\"); acc +el}\n",
    "\n",
    "fibs.take(5)\n",
    "// res19_1: LazyList[Int] = LazyList(1, 1, 2, 3, 5)"
   ]
  },
  {
   "cell_type": "code",
   "execution_count": 23,
   "id": "96b22b78",
   "metadata": {
    "ExecuteTime": {
     "end_time": "2022-06-05T16:33:57.810441Z",
     "start_time": "2022-06-05T16:33:57.686Z"
    }
   },
   "outputs": [
    {
     "data": {
      "text/plain": [
       "defined \u001b[32mfunction\u001b[39m \u001b[36mfib2\u001b[39m\n",
       "\u001b[36mres22_1\u001b[39m: \u001b[32mInt\u001b[39m = \u001b[32m8\u001b[39m"
      ]
     },
     "execution_count": 23,
     "metadata": {},
     "output_type": "execute_result"
    }
   ],
   "source": [
    "def fib2(n: Int): Int = {\n",
    "    if ((n==0) || (n == 1)) 1\n",
    "    else fib2(n-1) + fib2(n-2)\n",
    "}\n",
    "\n",
    "fib2(5)"
   ]
  },
  {
   "cell_type": "code",
   "execution_count": 25,
   "id": "46b344c5",
   "metadata": {
    "ExecuteTime": {
     "end_time": "2022-06-05T18:22:19.007359Z",
     "start_time": "2022-06-05T18:22:18.884Z"
    }
   },
   "outputs": [
    {
     "data": {
      "text/plain": [
       "\u001b[36mres24\u001b[39m: \u001b[32mList\u001b[39m[\u001b[32mInt\u001b[39m] = \u001b[33mList\u001b[39m(\u001b[32m1\u001b[39m, \u001b[32m2\u001b[39m, \u001b[32m4\u001b[39m, \u001b[32m7\u001b[39m)"
      ]
     },
     "execution_count": 25,
     "metadata": {},
     "output_type": "execute_result"
    }
   ],
   "source": [
    "List(1,2,3).scanLeft(1)(_+_)"
   ]
  },
  {
   "cell_type": "code",
   "execution_count": 27,
   "id": "ee13038c",
   "metadata": {
    "ExecuteTime": {
     "end_time": "2022-06-05T18:54:05.398836Z",
     "start_time": "2022-06-05T18:54:05.257Z"
    }
   },
   "outputs": [
    {
     "data": {
      "text/plain": [
       "\u001b[36mf\u001b[39m: \u001b[32mLazyList\u001b[39m[\u001b[32mInt\u001b[39m] = \u001b[33mLazyList\u001b[39m(\n",
       "  \u001b[32m0\u001b[39m,\n",
       "  \u001b[32m1\u001b[39m,\n",
       "  \u001b[32m1\u001b[39m,\n",
       "  \u001b[32m2\u001b[39m,\n",
       "  \u001b[32m3\u001b[39m,\n",
       "  \u001b[32m5\u001b[39m,\n",
       "  \u001b[32m8\u001b[39m,\n",
       "  \u001b[32m13\u001b[39m,\n",
       "  \u001b[32m21\u001b[39m,\n",
       "  \u001b[32m34\u001b[39m,\n",
       "  \u001b[32m55\u001b[39m,\n",
       "  \u001b[32m89\u001b[39m,\n",
       "  \u001b[32m144\u001b[39m,\n",
       "  \u001b[32m233\u001b[39m,\n",
       "  \u001b[32m377\u001b[39m,\n",
       "  \u001b[32m610\u001b[39m,\n",
       "  \u001b[32m987\u001b[39m,\n",
       "  \u001b[32m1597\u001b[39m,\n",
       "  \u001b[32m2584\u001b[39m,\n",
       "  \u001b[32m4181\u001b[39m,\n",
       "  \u001b[32m6765\u001b[39m,\n",
       "  \u001b[32m10946\u001b[39m,\n",
       "  \u001b[32m17711\u001b[39m,\n",
       "  \u001b[32m28657\u001b[39m,\n",
       "  \u001b[32m46368\u001b[39m,\n",
       "  \u001b[32m75025\u001b[39m,\n",
       "  \u001b[32m121393\u001b[39m,\n",
       "  \u001b[32m196418\u001b[39m,\n",
       "  \u001b[32m317811\u001b[39m,\n",
       "  \u001b[32m514229\u001b[39m,\n",
       "  \u001b[32m832040\u001b[39m,\n",
       "  \u001b[32m1346269\u001b[39m,\n",
       "  \u001b[32m2178309\u001b[39m,\n",
       "  \u001b[32m3524578\u001b[39m,\n",
       "  \u001b[32m5702887\u001b[39m,\n",
       "  \u001b[32m9227465\u001b[39m,\n",
       "  \u001b[32m14930352\u001b[39m,\n",
       "  \u001b[32m24157817\u001b[39m,\n",
       "...\n",
       "\u001b[36mres26_1\u001b[39m: \u001b[32mLazyList\u001b[39m[\u001b[32mInt\u001b[39m] = \u001b[33mLazyList\u001b[39m(\u001b[32m0\u001b[39m, \u001b[32m1\u001b[39m, \u001b[32m1\u001b[39m)"
      ]
     },
     "execution_count": 27,
     "metadata": {},
     "output_type": "execute_result"
    }
   ],
   "source": [
    "val f: LazyList[Int] = 0 #::f.scanLeft(1)(_+_)\n",
    "f.take(3)"
   ]
  },
  {
   "cell_type": "code",
   "execution_count": 6,
   "id": "0f242e38",
   "metadata": {
    "ExecuteTime": {
     "end_time": "2022-06-11T12:25:58.532951Z",
     "start_time": "2022-06-11T12:25:58.272Z"
    }
   },
   "outputs": [
    {
     "data": {
      "text/plain": [
       "\u001b[36mx\u001b[39m: \u001b[32mList\u001b[39m[\u001b[32mInt\u001b[39m] = \u001b[33mList\u001b[39m(\u001b[32m1\u001b[39m, \u001b[32m2\u001b[39m)\n",
       "\u001b[36mres5_1\u001b[39m: \u001b[32mString\u001b[39m = \u001b[32m\"found\"\u001b[39m"
      ]
     },
     "execution_count": 6,
     "metadata": {},
     "output_type": "execute_result"
    }
   ],
   "source": [
    "val x = List(1,2)\n",
    "\n",
    "List(1,2,3) match {\n",
    "    case x => \"found\"\n",
    "    case _ => \"everything else\"\n",
    "}"
   ]
  },
  {
   "cell_type": "code",
   "execution_count": 3,
   "id": "c6438046",
   "metadata": {
    "ExecuteTime": {
     "end_time": "2022-06-11T11:36:30.001171Z",
     "start_time": "2022-06-11T11:36:29.305Z"
    }
   },
   "outputs": [
    {
     "data": {
      "text/plain": [
       "defined \u001b[32mfunction\u001b[39m \u001b[36mappend\u001b[39m\n",
       "\u001b[36mres2_1\u001b[39m: \u001b[32mList\u001b[39m[\u001b[32mInt\u001b[39m] = \u001b[33mList\u001b[39m(\u001b[32m1\u001b[39m, \u001b[32m2\u001b[39m, \u001b[32m3\u001b[39m, \u001b[32m4\u001b[39m, \u001b[32m5\u001b[39m, \u001b[32m6\u001b[39m)"
      ]
     },
     "execution_count": 3,
     "metadata": {},
     "output_type": "execute_result"
    }
   ],
   "source": [
    "def append[A](l1: List[A], l2: List[A]): List[A] = \n",
    "l1 match {\n",
    "    case Nil => l2 \n",
    "    case h::t => h :: append(t, l2)\n",
    "}\n",
    "\n",
    "append(List(1,2,3),List(4,5,6))"
   ]
  },
  {
   "cell_type": "code",
   "execution_count": 9,
   "id": "0352fa2d",
   "metadata": {
    "ExecuteTime": {
     "end_time": "2022-06-11T12:51:23.540492Z",
     "start_time": "2022-06-11T12:51:23.323Z"
    }
   },
   "outputs": [
    {
     "data": {
      "text/plain": [
       "\u001b[36mtail\u001b[39m: \u001b[32mSeq\u001b[39m[\u001b[32mInt\u001b[39m] => \u001b[32mSeq\u001b[39m[\u001b[32mInt\u001b[39m] = ammonite.$sess.cmd8$Helper$$Lambda$2047/698027018@1adc58d\n",
       "\u001b[36mres8_1\u001b[39m: \u001b[32mSeq\u001b[39m[\u001b[32mInt\u001b[39m] = \u001b[33mList\u001b[39m()"
      ]
     },
     "execution_count": 9,
     "metadata": {},
     "output_type": "execute_result"
    }
   ],
   "source": [
    "val tail: Seq[Int] => Seq[Int] = l =>\n",
    "l match {\n",
    "    case Nil => Nil\n",
    "    case _ => l.tail\n",
    "}\n",
    "\n",
    "tail(List())"
   ]
  },
  {
   "cell_type": "code",
   "execution_count": 10,
   "id": "dc062be5",
   "metadata": {
    "ExecuteTime": {
     "end_time": "2022-06-11T13:10:13.354684Z",
     "start_time": "2022-06-11T13:10:13.136Z"
    }
   },
   "outputs": [
    {
     "data": {
      "text/plain": [
       "defined \u001b[32mfunction\u001b[39m \u001b[36mdrop\u001b[39m\n",
       "\u001b[36mres9_1\u001b[39m: \u001b[32mList\u001b[39m[\u001b[32mInt\u001b[39m] = \u001b[33mList\u001b[39m(\u001b[32m3\u001b[39m)"
      ]
     },
     "execution_count": 10,
     "metadata": {},
     "output_type": "execute_result"
    }
   ],
   "source": [
    "def drop[A](l: List[A], n: Int): List[A] = \n",
    "n match {\n",
    "    case 0 => l\n",
    "    case _ => drop(l.tail, n-1)\n",
    "}\n",
    "\n",
    "drop(List(1,2,3), 2)"
   ]
  },
  {
   "cell_type": "markdown",
   "id": "4dad79b0",
   "metadata": {},
   "source": [
    "Bad type inference"
   ]
  },
  {
   "cell_type": "code",
   "execution_count": 14,
   "id": "891779d7",
   "metadata": {
    "ExecuteTime": {
     "end_time": "2022-06-11T13:26:00.793050Z",
     "start_time": "2022-06-11T13:26:00.624Z"
    }
   },
   "outputs": [
    {
     "data": {
      "text/plain": [
       "defined \u001b[32mfunction\u001b[39m \u001b[36mdropWhile\u001b[39m\n",
       "\u001b[36mres13_1\u001b[39m: \u001b[32mList\u001b[39m[\u001b[32mInt\u001b[39m] = \u001b[33mList\u001b[39m(\u001b[32m3\u001b[39m, \u001b[32m4\u001b[39m, \u001b[32m5\u001b[39m)"
      ]
     },
     "execution_count": 14,
     "metadata": {},
     "output_type": "execute_result"
    }
   ],
   "source": [
    "def dropWhile[A](l: List[A], f: A => Boolean): List[A] =\n",
    "l match {\n",
    "    case h::t if (f(h)) => dropWhile(t,f)\n",
    "    case _ => l\n",
    "}\n",
    "\n",
    "dropWhile(List(1,2,3,4,5), (x:Int) => x < 3)"
   ]
  },
  {
   "cell_type": "markdown",
   "id": "c49b0f80",
   "metadata": {
    "ExecuteTime": {
     "end_time": "2022-06-11T14:17:17.981937Z",
     "start_time": "2022-06-11T14:17:17.944Z"
    }
   },
   "source": [
    "Good type inference"
   ]
  },
  {
   "cell_type": "code",
   "execution_count": 20,
   "id": "3a978837",
   "metadata": {
    "ExecuteTime": {
     "end_time": "2022-06-11T14:03:55.467766Z",
     "start_time": "2022-06-11T14:03:55.320Z"
    }
   },
   "outputs": [
    {
     "data": {
      "text/plain": [
       "defined \u001b[32mfunction\u001b[39m \u001b[36mdropWhile\u001b[39m\n",
       "\u001b[36mres19_1\u001b[39m: \u001b[32mList\u001b[39m[\u001b[32mInt\u001b[39m] = \u001b[33mList\u001b[39m(\u001b[32m3\u001b[39m, \u001b[32m4\u001b[39m, \u001b[32m5\u001b[39m)"
      ]
     },
     "execution_count": 20,
     "metadata": {},
     "output_type": "execute_result"
    }
   ],
   "source": [
    "def dropWhile[A](l: List[A])(f: A => Boolean): List[A] = \n",
    "l match {\n",
    "    case h::t if (f(h)) => dropWhile(t)(f)\n",
    "    case _ => l\n",
    "}\n",
    "\n",
    "dropWhile(List(1,2,3,4,5))(_ < 3)"
   ]
  },
  {
   "cell_type": "code",
   "execution_count": 19,
   "id": "cb5b0d8c",
   "metadata": {
    "ExecuteTime": {
     "end_time": "2022-06-11T13:57:37.411779Z",
     "start_time": "2022-06-11T13:57:37.251Z"
    }
   },
   "outputs": [
    {
     "data": {
      "text/plain": [
       "defined \u001b[32mfunction\u001b[39m \u001b[36mcollectWhile\u001b[39m\n",
       "\u001b[36mres18_1\u001b[39m: \u001b[32mList\u001b[39m[\u001b[32mInt\u001b[39m] = \u001b[33mList\u001b[39m(\u001b[32m1\u001b[39m, \u001b[32m2\u001b[39m)"
      ]
     },
     "execution_count": 19,
     "metadata": {},
     "output_type": "execute_result"
    }
   ],
   "source": [
    "def collectWhile[A](l: List[A], f: A => Boolean): List[A] =\n",
    "l match {\n",
    "    case h::t if (f(h)) => h :: collectWhile(t, f)\n",
    "    case _ => Nil\n",
    "    \n",
    "}\n",
    "\n",
    "collectWhile(List(1,2,3,4,5), (x:Int) => x < 3)"
   ]
  },
  {
   "cell_type": "code",
   "execution_count": null,
   "id": "c9017e25",
   "metadata": {},
   "outputs": [],
   "source": [
    "def drop[A](l: List[A], f: A => Boolean): List[A] ="
   ]
  },
  {
   "cell_type": "code",
   "execution_count": 17,
   "id": "731a0fa5",
   "metadata": {
    "ExecuteTime": {
     "end_time": "2022-06-11T13:35:05.389435Z",
     "start_time": "2022-06-11T13:35:05.243Z"
    }
   },
   "outputs": [
    {
     "data": {
      "text/plain": [
       "defined \u001b[32mfunction\u001b[39m \u001b[36minit\u001b[39m\n",
       "\u001b[36mres16_1\u001b[39m: \u001b[32mList\u001b[39m[\u001b[32mInt\u001b[39m] = \u001b[33mList\u001b[39m(\u001b[32m1\u001b[39m, \u001b[32m2\u001b[39m)"
      ]
     },
     "execution_count": 17,
     "metadata": {},
     "output_type": "execute_result"
    }
   ],
   "source": [
    "def init[A](l: List[A]): List[A] =\n",
    "l match {\n",
    "    case Nil => Nil\n",
    "    case \n",
    "        case h :: t => h :: init(t)\n",
    "}\n",
    "\n",
    "init(List(1,2,3))"
   ]
  },
  {
   "cell_type": "code",
   "execution_count": 61,
   "id": "15224f37",
   "metadata": {
    "ExecuteTime": {
     "end_time": "2022-06-11T20:00:13.826719Z",
     "start_time": "2022-06-11T20:00:13.723Z"
    }
   },
   "outputs": [
    {
     "data": {
      "text/plain": [
       "defined \u001b[32mfunction\u001b[39m \u001b[36mreduce\u001b[39m\n",
       "\u001b[36mres60_1\u001b[39m: \u001b[32mInt\u001b[39m = \u001b[32m6\u001b[39m"
      ]
     },
     "execution_count": 61,
     "metadata": {},
     "output_type": "execute_result"
    }
   ],
   "source": [
    "def reduce[A, B](seed:B)(l:Seq[A])(f: (A,B) => B): B =\n",
    "l match {\n",
    "    case Nil => seed\n",
    "    case h::t => f(h,reduce(seed)(t)(f))\n",
    "}\n",
    "\n",
    "reduce(0)(List(1,2,3))(_+_)"
   ]
  },
  {
   "cell_type": "code",
   "execution_count": 60,
   "id": "8d7cc69d",
   "metadata": {
    "ExecuteTime": {
     "end_time": "2022-06-11T19:59:02.293238Z",
     "start_time": "2022-06-11T19:59:02.197Z"
    }
   },
   "outputs": [
    {
     "data": {
      "text/plain": [
       "defined \u001b[32mfunction\u001b[39m \u001b[36mreduce\u001b[39m\n",
       "\u001b[36mres59_1\u001b[39m: \u001b[32mInt\u001b[39m = \u001b[32m0\u001b[39m"
      ]
     },
     "execution_count": 60,
     "metadata": {},
     "output_type": "execute_result"
    }
   ],
   "source": [
    "def reduce(seed:Int)(l:Seq[Int])(f: (Int,Int) => Int): Int =\n",
    "l match {\n",
    "    case Nil => seed\n",
    "    case h::t if (f(h,reduce(seed)(t)(f))==0)=> 0\n",
    "    case h::t => f(h,reduce(seed)(t)(f))\n",
    "}\n",
    "\n",
    "reduce(0)(List(1,0,2))(_*_)"
   ]
  },
  {
   "cell_type": "code",
   "execution_count": 34,
   "id": "75028043",
   "metadata": {
    "ExecuteTime": {
     "end_time": "2022-06-11T18:28:43.073802Z",
     "start_time": "2022-06-11T18:28:42.946Z"
    }
   },
   "outputs": [
    {
     "data": {
      "text/plain": [
       "defined \u001b[32mfunction\u001b[39m \u001b[36mlength\u001b[39m\n",
       "\u001b[36mres33_1\u001b[39m: \u001b[32mInt\u001b[39m = \u001b[32m3\u001b[39m"
      ]
     },
     "execution_count": 34,
     "metadata": {},
     "output_type": "execute_result"
    }
   ],
   "source": [
    "def length[A](as: List[A]): Int = {\n",
    "    def go[A](as: List[A], acc:Int = 0): Int =\n",
    "        as match {\n",
    "            case Nil    => acc\n",
    "            case h::t   => go(t, acc+1) \n",
    "        }\n",
    "    go(as, 0)\n",
    "}\n",
    "\n",
    "length(List(1,2,3))"
   ]
  },
  {
   "cell_type": "code",
   "execution_count": 38,
   "id": "877e49d3",
   "metadata": {
    "ExecuteTime": {
     "end_time": "2022-06-11T19:00:53.764717Z",
     "start_time": "2022-06-11T19:00:53.621Z"
    }
   },
   "outputs": [
    {
     "data": {
      "text/plain": [
       "defined \u001b[32mfunction\u001b[39m \u001b[36mfoldLeft\u001b[39m\n",
       "\u001b[36mres37_1\u001b[39m: \u001b[32mInt\u001b[39m = \u001b[32m6\u001b[39m"
      ]
     },
     "execution_count": 38,
     "metadata": {},
     "output_type": "execute_result"
    }
   ],
   "source": [
    "@annotation.tailrec\n",
    "def foldLeft[A,B](l: List[A], seed: B, f: (B, A) => B): B = \n",
    "l match {\n",
    "    case Nil  => seed\n",
    "    case h::t => foldLeft(t, f(seed, h), f)\n",
    "}\n",
    "\n",
    "foldLeft(List(1,2,3), 0, (x:Int, y:Int)=> x + y)"
   ]
  },
  {
   "cell_type": "code",
   "execution_count": 59,
   "id": "01d89f69",
   "metadata": {
    "ExecuteTime": {
     "end_time": "2022-06-11T19:58:27.569019Z",
     "start_time": "2022-06-11T19:58:27.468Z"
    }
   },
   "outputs": [
    {
     "data": {
      "text/plain": [
       "defined \u001b[32mfunction\u001b[39m \u001b[36mfoldLeft\u001b[39m\n",
       "\u001b[36mres58_1\u001b[39m: \u001b[32mInt\u001b[39m = \u001b[32m6\u001b[39m"
      ]
     },
     "execution_count": 59,
     "metadata": {},
     "output_type": "execute_result"
    }
   ],
   "source": [
    "@annotation.tailrec\n",
    "def foldLeft[A,B](l: Seq[A], seed: B)(f: (B, A) => B): B = \n",
    "l match {\n",
    "    case Nil  => seed\n",
    "    case h::t => foldLeft(t, f(seed, h))(f)\n",
    "}\n",
    "\n",
    "foldLeft(List(1,2,3), 0)(_+_)"
   ]
  },
  {
   "cell_type": "code",
   "execution_count": 44,
   "id": "c19c1e1c",
   "metadata": {
    "ExecuteTime": {
     "end_time": "2022-06-11T19:20:16.867575Z",
     "start_time": "2022-06-11T19:20:16.771Z"
    }
   },
   "outputs": [
    {
     "data": {
      "text/plain": [
       "defined \u001b[32mfunction\u001b[39m \u001b[36msumList\u001b[39m\n",
       "\u001b[36mres43_1\u001b[39m: \u001b[32mInt\u001b[39m = \u001b[32m6\u001b[39m"
      ]
     },
     "execution_count": 44,
     "metadata": {},
     "output_type": "execute_result"
    }
   ],
   "source": [
    "def sumList(l: Seq[Int]): Int = foldLeft(l: Seq[Int], 0)(_+_)\n",
    "sumList(List(1,2,3))"
   ]
  },
  {
   "cell_type": "code",
   "execution_count": 47,
   "id": "735c02ef",
   "metadata": {
    "ExecuteTime": {
     "end_time": "2022-06-11T19:21:42.372834Z",
     "start_time": "2022-06-11T19:21:42.249Z"
    }
   },
   "outputs": [
    {
     "data": {
      "text/plain": [
       "defined \u001b[32mfunction\u001b[39m \u001b[36mlen\u001b[39m\n",
       "\u001b[36mres46_1\u001b[39m: \u001b[32mInt\u001b[39m = \u001b[32m3\u001b[39m"
      ]
     },
     "execution_count": 47,
     "metadata": {},
     "output_type": "execute_result"
    }
   ],
   "source": [
    "def len[A](l: Seq[A]): Int = foldLeft(l:Seq[A], 0)((x:Int, y:A)=> x+1)\n",
    "len(List(1.1,2.1,3.1))"
   ]
  },
  {
   "cell_type": "code",
   "execution_count": 64,
   "id": "4f26e873",
   "metadata": {
    "ExecuteTime": {
     "end_time": "2022-06-11T20:08:13.347725Z",
     "start_time": "2022-06-11T20:08:13.253Z"
    }
   },
   "outputs": [
    {
     "data": {
      "text/plain": [
       "defined \u001b[32mfunction\u001b[39m \u001b[36mreverse\u001b[39m\n",
       "\u001b[36mres63_1\u001b[39m: \u001b[32mList\u001b[39m[\u001b[32mInt\u001b[39m] = \u001b[33mList\u001b[39m(\u001b[32m3\u001b[39m, \u001b[32m2\u001b[39m, \u001b[32m1\u001b[39m)"
      ]
     },
     "execution_count": 64,
     "metadata": {},
     "output_type": "execute_result"
    }
   ],
   "source": [
    "def reverse[A](a:List[A]): List[A] = foldLeft(a: List[A], List[A]())((x:List[A], y: A)=> y :: x)\n",
    "\n",
    "reverse(List(1,2,3))"
   ]
  },
  {
   "cell_type": "code",
   "execution_count": 56,
   "id": "ba2e5ba1",
   "metadata": {
    "ExecuteTime": {
     "end_time": "2022-06-11T19:43:11.765124Z",
     "start_time": "2022-06-11T19:43:11.655Z"
    }
   },
   "outputs": [
    {
     "data": {
      "text/plain": [
       "defined \u001b[32mfunction\u001b[39m \u001b[36mreverse\u001b[39m\n",
       "\u001b[36mres55_1\u001b[39m: \u001b[32mSeq\u001b[39m[\u001b[32mInt\u001b[39m] = \u001b[33mList\u001b[39m(\u001b[32m3\u001b[39m, \u001b[32m2\u001b[39m, \u001b[32m1\u001b[39m)"
      ]
     },
     "execution_count": 56,
     "metadata": {},
     "output_type": "execute_result"
    }
   ],
   "source": [
    "def reverse[A](a:Seq[A]): Seq[A] = foldLeft(a: Seq[A], Seq[A]())((x:Seq[A], y: A)=> y +: x)\n",
    "\n",
    "reverse(List(1,2,3))"
   ]
  },
  {
   "cell_type": "code",
   "execution_count": 62,
   "id": "424312dc",
   "metadata": {
    "ExecuteTime": {
     "end_time": "2022-06-11T20:01:27.477812Z",
     "start_time": "2022-06-11T20:01:27.373Z"
    }
   },
   "outputs": [
    {
     "data": {
      "text/plain": [
       "defined \u001b[32mfunction\u001b[39m \u001b[36mappend\u001b[39m\n",
       "\u001b[36mres61_1\u001b[39m: \u001b[32mList\u001b[39m[\u001b[32mInt\u001b[39m] = \u001b[33mList\u001b[39m(\u001b[32m1\u001b[39m, \u001b[32m2\u001b[39m, \u001b[32m3\u001b[39m, \u001b[32m4\u001b[39m)"
      ]
     },
     "execution_count": 62,
     "metadata": {},
     "output_type": "execute_result"
    }
   ],
   "source": [
    "def append(l: List[Int], a: Int): List[Int] = reduce(a::Nil)(l)((y:Int,x: List[Int]) => y::x)\n",
    "append(List(1,2,3),4)"
   ]
  },
  {
   "cell_type": "code",
   "execution_count": 65,
   "id": "6ea5cc44",
   "metadata": {
    "ExecuteTime": {
     "end_time": "2022-06-11T20:08:16.294102Z",
     "start_time": "2022-06-11T20:08:16.181Z"
    }
   },
   "outputs": [
    {
     "data": {
      "text/plain": [
       "defined \u001b[32mfunction\u001b[39m \u001b[36mfoldLeft\u001b[39m\n",
       "defined \u001b[32mfunction\u001b[39m \u001b[36mappend\u001b[39m\n",
       "\u001b[36mres64_2\u001b[39m: \u001b[32mList\u001b[39m[\u001b[32mInt\u001b[39m] = \u001b[33mList\u001b[39m(\u001b[32m1\u001b[39m, \u001b[32m2\u001b[39m, \u001b[32m3\u001b[39m, \u001b[32m4\u001b[39m)"
      ]
     },
     "execution_count": 65,
     "metadata": {},
     "output_type": "execute_result"
    }
   ],
   "source": [
    "def append(l: List[Int], a: Int): List[Int] = foldLeft(l,a::Nil)((x:List[Int],y:Int) => y::x)\n",
    "append(reverse(List(1,2,3)), 4)"
   ]
  },
  {
   "cell_type": "code",
   "execution_count": 80,
   "id": "981b5975",
   "metadata": {
    "ExecuteTime": {
     "end_time": "2022-06-11T20:39:03.557257Z",
     "start_time": "2022-06-11T20:39:03.437Z"
    }
   },
   "outputs": [
    {
     "data": {
      "text/plain": [
       "defined \u001b[32mfunction\u001b[39m \u001b[36mappend\u001b[39m\n",
       "\u001b[36mres79_1\u001b[39m: \u001b[32mSeq\u001b[39m[\u001b[32mDouble\u001b[39m] = \u001b[33mList\u001b[39m(\u001b[32m1.1\u001b[39m, \u001b[32m2.2\u001b[39m, \u001b[32m3.3\u001b[39m, \u001b[32m4.4\u001b[39m)"
      ]
     },
     "execution_count": 80,
     "metadata": {},
     "output_type": "execute_result"
    }
   ],
   "source": [
    "def append[A](as: Seq[A],a:A): Seq[A] = as.foldRight(Seq(a))((x:A, y: Seq[A])=> x +: y)\n",
    "append(List(1.1,2.2,3.3), 4.4)"
   ]
  },
  {
   "cell_type": "code",
   "execution_count": 67,
   "id": "6db17d95",
   "metadata": {
    "ExecuteTime": {
     "end_time": "2022-06-11T20:15:14.062493Z",
     "start_time": "2022-06-11T20:15:13.956Z"
    }
   },
   "outputs": [
    {
     "data": {
      "text/plain": [
       "defined \u001b[32mfunction\u001b[39m \u001b[36madd1\u001b[39m\n",
       "\u001b[36mres66_1\u001b[39m: \u001b[32mList\u001b[39m[\u001b[32mInt\u001b[39m] = \u001b[33mList\u001b[39m(\u001b[32m2\u001b[39m, \u001b[32m3\u001b[39m, \u001b[32m4\u001b[39m)"
      ]
     },
     "execution_count": 67,
     "metadata": {},
     "output_type": "execute_result"
    }
   ],
   "source": [
    "def add1(l:List[Int]): List[Int] =\n",
    "l match {\n",
    "    case Nil => Nil\n",
    "    case h::t => (h+1) :: add1(t)\n",
    "}\n",
    "add1(List(1,2,3))"
   ]
  },
  {
   "cell_type": "code",
   "execution_count": 72,
   "id": "7747eb63",
   "metadata": {
    "ExecuteTime": {
     "end_time": "2022-06-11T20:23:42.440924Z",
     "start_time": "2022-06-11T20:23:42.338Z"
    }
   },
   "outputs": [
    {
     "data": {
      "text/plain": [
       "defined \u001b[32mfunction\u001b[39m \u001b[36madd1\u001b[39m\n",
       "\u001b[36mres71_1\u001b[39m: \u001b[32mList\u001b[39m[\u001b[32mInt\u001b[39m] = \u001b[33mList\u001b[39m(\u001b[32m2\u001b[39m, \u001b[32m3\u001b[39m, \u001b[32m4\u001b[39m)"
      ]
     },
     "execution_count": 72,
     "metadata": {},
     "output_type": "execute_result"
    }
   ],
   "source": [
    "def add1(l:List[Int]): List[Int] = l.foldRight(List[Int]())((y:Int,x:List[Int])=> (y+1)::x)\n",
    "add1(List(1,2,3))"
   ]
  },
  {
   "cell_type": "code",
   "execution_count": 74,
   "id": "2b1952b0",
   "metadata": {
    "ExecuteTime": {
     "end_time": "2022-06-11T20:28:26.914464Z",
     "start_time": "2022-06-11T20:28:26.812Z"
    }
   },
   "outputs": [
    {
     "data": {
      "text/plain": [
       "defined \u001b[32mfunction\u001b[39m \u001b[36mreverse\u001b[39m\n",
       "\u001b[36mres73_1\u001b[39m: \u001b[32mList\u001b[39m[\u001b[32mInt\u001b[39m] = \u001b[33mList\u001b[39m(\u001b[32m3\u001b[39m, \u001b[32m2\u001b[39m, \u001b[32m1\u001b[39m)"
      ]
     },
     "execution_count": 74,
     "metadata": {},
     "output_type": "execute_result"
    }
   ],
   "source": [
    "def reverse(l:List[Int]): List[Int] = l.foldLeft(List[Int]())((acc: List[Int], el:Int) => el::acc)\n",
    "reverse(List(1,2,3))"
   ]
  },
  {
   "cell_type": "code",
   "execution_count": 77,
   "id": "546c6b9e",
   "metadata": {
    "ExecuteTime": {
     "end_time": "2022-06-11T20:32:48.880079Z",
     "start_time": "2022-06-11T20:32:48.762Z"
    }
   },
   "outputs": [
    {
     "data": {
      "text/plain": [
       "\u001b[36mx\u001b[39m: \u001b[32mRange\u001b[39m.\u001b[32mInclusive\u001b[39m = \u001b[33mRange\u001b[39m(\u001b[32m0\u001b[39m, \u001b[32m1\u001b[39m, \u001b[32m2\u001b[39m, \u001b[32m3\u001b[39m, \u001b[32m4\u001b[39m, \u001b[32m5\u001b[39m, \u001b[32m6\u001b[39m, \u001b[32m7\u001b[39m, \u001b[32m8\u001b[39m, \u001b[32m9\u001b[39m, \u001b[32m10\u001b[39m)\n",
       "\u001b[36mres76_1\u001b[39m: \u001b[32mSeq\u001b[39m[\u001b[32mInt\u001b[39m] = \u001b[33mList\u001b[39m(\u001b[32m3\u001b[39m, \u001b[32m5\u001b[39m, \u001b[32m7\u001b[39m)"
      ]
     },
     "execution_count": 77,
     "metadata": {},
     "output_type": "execute_result"
    }
   ],
   "source": [
    "val x = 0 to 10\n",
    "Seq(3,5,7).map(x)"
   ]
  },
  {
   "cell_type": "code",
   "execution_count": 6,
   "id": "61c03135",
   "metadata": {
    "ExecuteTime": {
     "end_time": "2022-06-12T14:57:45.351024Z",
     "start_time": "2022-06-12T14:57:45.141Z"
    },
    "scrolled": true
   },
   "outputs": [
    {
     "data": {
      "text/plain": [
       "6"
      ]
     },
     "execution_count": 6,
     "metadata": {},
     "output_type": "execute_result"
    }
   ],
   "source": [
    "Seq(1,2,3).foldLeft(0)(_+_)"
   ]
  },
  {
   "cell_type": "code",
   "execution_count": 7,
   "id": "6a2b088f",
   "metadata": {
    "ExecuteTime": {
     "end_time": "2022-06-12T14:57:56.653975Z",
     "start_time": "2022-06-12T14:57:56.392Z"
    },
    "scrolled": true
   },
   "outputs": [
    {
     "data": {
      "text/plain": [
       "List(0, 1, 3, 6)"
      ]
     },
     "execution_count": 7,
     "metadata": {},
     "output_type": "execute_result"
    }
   ],
   "source": [
    "Seq(1,2,3).scanLeft(0)(_+_)"
   ]
  },
  {
   "cell_type": "code",
   "execution_count": 1,
   "id": "9c8e7679",
   "metadata": {
    "ExecuteTime": {
     "end_time": "2022-06-12T14:54:02.683734Z",
     "start_time": "2022-06-12T14:53:59.619Z"
    }
   },
   "outputs": [
    {
     "data": {
      "text/plain": [
       "3.2.1"
      ]
     },
     "execution_count": 1,
     "metadata": {},
     "output_type": "execute_result"
    }
   ],
   "source": [
    "spark.version"
   ]
  },
  {
   "cell_type": "code",
   "execution_count": 2,
   "id": "1dd0d706",
   "metadata": {
    "ExecuteTime": {
     "end_time": "2022-06-12T14:54:08.208463Z",
     "start_time": "2022-06-12T14:54:03.466Z"
    }
   },
   "outputs": [
    {
     "name": "stdout",
     "output_type": "stream",
     "text": [
      "+---+---+\n",
      "|  a|  b|\n",
      "+---+---+\n",
      "|  1|  2|\n",
      "|  3|  4|\n",
      "+---+---+\n",
      "\n"
     ]
    },
    {
     "data": {
      "text/plain": [
       "df = [a: int, b: int]\n"
      ]
     },
     "metadata": {},
     "output_type": "display_data"
    },
    {
     "data": {
      "text/plain": [
       "[a: int, b: int]"
      ]
     },
     "execution_count": 2,
     "metadata": {},
     "output_type": "execute_result"
    }
   ],
   "source": [
    "val df = Seq((1,2),(3,4)).toDF(\"a\",\"b\")\n",
    "df.show"
   ]
  },
  {
   "cell_type": "code",
   "execution_count": 3,
   "id": "c28da4e7",
   "metadata": {
    "ExecuteTime": {
     "end_time": "2022-06-12T14:54:34.317281Z",
     "start_time": "2022-06-12T14:54:33.911Z"
    }
   },
   "outputs": [
    {
     "name": "stdout",
     "output_type": "stream",
     "text": [
      "root\n",
      " |-- A: integer (nullable = false)\n",
      " |-- B: integer (nullable = false)\n",
      "\n"
     ]
    },
    {
     "data": {
      "text/plain": [
       "df2 = [A: int, B: int]\n"
      ]
     },
     "metadata": {},
     "output_type": "display_data"
    },
    {
     "data": {
      "text/plain": [
       "[A: int, B: int]"
      ]
     },
     "execution_count": 3,
     "metadata": {},
     "output_type": "execute_result"
    }
   ],
   "source": [
    "val df2 = Seq(\"a\",\"b\").foldLeft(df)((df, col)=> df.withColumnRenamed(col, col.toUpperCase))\n",
    "df2.printSchema"
   ]
  },
  {
   "cell_type": "code",
   "execution_count": 4,
   "id": "0092be6e",
   "metadata": {
    "ExecuteTime": {
     "end_time": "2022-06-12T14:54:41.539271Z",
     "start_time": "2022-06-12T14:54:41.313Z"
    }
   },
   "outputs": [
    {
     "data": {
      "text/plain": [
       "df3 = [A: int, B: int]\n"
      ]
     },
     "metadata": {},
     "output_type": "display_data"
    },
    {
     "name": "stdout",
     "output_type": "stream",
     "text": [
      "root\n",
      " |-- A: integer (nullable = false)\n",
      " |-- B: integer (nullable = false)\n",
      "\n"
     ]
    },
    {
     "data": {
      "text/plain": [
       "[A: int, B: int]"
      ]
     },
     "execution_count": 4,
     "metadata": {},
     "output_type": "execute_result"
    }
   ],
   "source": [
    "val df3 = Seq(\"a\",\"b\").foldRight(df)((col, df)=> df.withColumnRenamed(col, col.toUpperCase))\n",
    "df3.printSchema"
   ]
  },
  {
   "cell_type": "code",
   "execution_count": 10,
   "id": "a8df5f44",
   "metadata": {
    "ExecuteTime": {
     "end_time": "2022-06-12T15:05:04.117365Z",
     "start_time": "2022-06-12T15:05:03.782Z"
    }
   },
   "outputs": [
    {
     "name": "stdout",
     "output_type": "stream",
     "text": [
      "root\n",
      " |-- c: integer (nullable = false)\n",
      " |-- d: integer (nullable = false)\n",
      "\n"
     ]
    },
    {
     "data": {
      "text/plain": [
       "mapping = Map(a -> c, b -> d)\n",
       "df4 = [c: int, d: int]\n"
      ]
     },
     "metadata": {},
     "output_type": "display_data"
    },
    {
     "data": {
      "text/plain": [
       "[c: int, d: int]"
      ]
     },
     "execution_count": 10,
     "metadata": {},
     "output_type": "execute_result"
    }
   ],
   "source": [
    "val mapping = Map(\"a\"->\"c\", \"b\" -> \"d\")\n",
    "val df4 = df.columns.foldLeft(df)((df, col) => df.withColumnRenamed(col, mapping.getOrElse(col, col)))\n",
    "df4.printSchema"
   ]
  },
  {
   "cell_type": "code",
   "execution_count": 9,
   "id": "f6824b23",
   "metadata": {
    "ExecuteTime": {
     "end_time": "2022-06-11T21:44:19.898657Z",
     "start_time": "2022-06-11T21:44:19.638Z"
    }
   },
   "outputs": [
    {
     "data": {
      "text/plain": [
       "\u001b[36modd\u001b[39m: \u001b[32mInt\u001b[39m => \u001b[32mLazyList\u001b[39m[\u001b[32mInt\u001b[39m] = ammonite.$sess.cmd8$Helper$$Lambda$2296/1018541976@ef54e31\n",
       "\u001b[36mres8_1\u001b[39m: \u001b[32mLazyList\u001b[39m[\u001b[32mInt\u001b[39m] = \u001b[33mLazyList\u001b[39m(\u001b[32m1\u001b[39m, \u001b[32m3\u001b[39m, \u001b[32m5\u001b[39m, \u001b[32m7\u001b[39m, \u001b[32m9\u001b[39m)"
      ]
     },
     "execution_count": 9,
     "metadata": {},
     "output_type": "execute_result"
    }
   ],
   "source": [
    "val odd: Int => LazyList[Int] = n => if (n%2 != 0) n #:: odd(n+1) else odd(n+1)\n",
    "odd(0).take(5)"
   ]
  },
  {
   "cell_type": "code",
   "execution_count": 12,
   "id": "3c393157",
   "metadata": {
    "ExecuteTime": {
     "end_time": "2022-06-11T21:52:19.533931Z",
     "start_time": "2022-06-11T21:52:19.296Z"
    }
   },
   "outputs": [
    {
     "data": {
      "text/plain": [
       "\u001b[36minc\u001b[39m: \u001b[32mInt\u001b[39m => \u001b[32mLazyList\u001b[39m[\u001b[32mInt\u001b[39m] = ammonite.$sess.cmd11$Helper$$Lambda$2316/162646466@3ddc5680\n",
       "\u001b[36mres11_1\u001b[39m: \u001b[32mLazyList\u001b[39m[\u001b[32mInt\u001b[39m] = \u001b[33mLazyList\u001b[39m(\u001b[32m0\u001b[39m, \u001b[32m1\u001b[39m, \u001b[32m2\u001b[39m, \u001b[32m3\u001b[39m, \u001b[32m4\u001b[39m)"
      ]
     },
     "execution_count": 12,
     "metadata": {},
     "output_type": "execute_result"
    }
   ],
   "source": [
    "val inc: Int => LazyList[Int] = i =>  i #:: inc(i+1)\n",
    "inc(0).take(5)"
   ]
  },
  {
   "cell_type": "markdown",
   "id": "c99ec4dd",
   "metadata": {},
   "source": [
    "# Difference between `foldLeft` and `foldRight`\n",
    "\n",
    "## `foldLeft` builds and prepends to the left end (thus reverses List)"
   ]
  },
  {
   "cell_type": "code",
   "execution_count": 4,
   "id": "b3c04360",
   "metadata": {
    "ExecuteTime": {
     "end_time": "2022-06-12T14:07:11.402186Z",
     "start_time": "2022-06-12T14:07:11.158Z"
    }
   },
   "outputs": [
    {
     "data": {
      "text/plain": [
       "defined \u001b[32mfunction\u001b[39m \u001b[36madd1\u001b[39m\n",
       "\u001b[36mres3_1\u001b[39m: \u001b[32mList\u001b[39m[\u001b[32mInt\u001b[39m] = \u001b[33mList\u001b[39m(\u001b[32m4\u001b[39m, \u001b[32m3\u001b[39m, \u001b[32m2\u001b[39m)"
      ]
     },
     "execution_count": 4,
     "metadata": {},
     "output_type": "execute_result"
    }
   ],
   "source": [
    "def add1(l: List[Int]): List[Int] = l.foldLeft(List[Int]())((x:List[Int], y:Int) => y+1 :: x )\n",
    "add1(List(1,2,3))"
   ]
  },
  {
   "cell_type": "markdown",
   "id": "16a6734d",
   "metadata": {},
   "source": [
    "## foldRight builds and prepends to the right end (thus preserves order)"
   ]
  },
  {
   "cell_type": "code",
   "execution_count": 3,
   "id": "f694e695",
   "metadata": {
    "ExecuteTime": {
     "end_time": "2022-06-12T14:06:02.305729Z",
     "start_time": "2022-06-12T14:06:02.038Z"
    }
   },
   "outputs": [
    {
     "data": {
      "text/plain": [
       "defined \u001b[32mfunction\u001b[39m \u001b[36madd1\u001b[39m\n",
       "\u001b[36mres2_1\u001b[39m: \u001b[32mList\u001b[39m[\u001b[32mInt\u001b[39m] = \u001b[33mList\u001b[39m(\u001b[32m2\u001b[39m, \u001b[32m3\u001b[39m, \u001b[32m4\u001b[39m)"
      ]
     },
     "execution_count": 3,
     "metadata": {},
     "output_type": "execute_result"
    }
   ],
   "source": [
    "def add1(l: List[Int]): List[Int] = l.foldRight(List[Int]())((y:Int, x:List[Int]) => y+1 :: x )\n",
    "add1(List(1,2,3))"
   ]
  },
  {
   "cell_type": "code",
   "execution_count": 6,
   "id": "35de8f9f",
   "metadata": {
    "ExecuteTime": {
     "end_time": "2022-06-12T14:15:14.444925Z",
     "start_time": "2022-06-12T14:15:14.187Z"
    }
   },
   "outputs": [
    {
     "data": {
      "text/plain": [
       "\u001b[36mtoStr\u001b[39m: \u001b[32mList\u001b[39m[\u001b[32mDouble\u001b[39m] => \u001b[32mList\u001b[39m[\u001b[32mString\u001b[39m] = ammonite.$sess.cmd5$Helper$$Lambda$1958/1163738470@31d4c344\n",
       "\u001b[36mres5_1\u001b[39m: \u001b[32mList\u001b[39m[\u001b[32mString\u001b[39m] = \u001b[33mList\u001b[39m(\u001b[32m\"1.1\"\u001b[39m, \u001b[32m\"2.2\"\u001b[39m, \u001b[32m\"3.3\"\u001b[39m)"
      ]
     },
     "execution_count": 6,
     "metadata": {},
     "output_type": "execute_result"
    }
   ],
   "source": [
    "val toStr : List[Double] => List[String] = l => l.foldRight(List[String]())((x: Double, y:List[String]) => x.toString :: y)\n",
    "\n",
    "toStr(List(1.1, 2.2, 3.3))"
   ]
  },
  {
   "cell_type": "code",
   "execution_count": 14,
   "id": "c200748c",
   "metadata": {
    "ExecuteTime": {
     "end_time": "2022-06-12T17:24:07.815666Z",
     "start_time": "2022-06-12T17:24:07.602Z"
    }
   },
   "outputs": [
    {
     "data": {
      "text/plain": [
       "mp: [A, B](as: List[A])(f: A => B)List[B]\n"
      ]
     },
     "metadata": {},
     "output_type": "display_data"
    },
    {
     "data": {
      "text/plain": [
       "List(0, 1, 4, 9)"
      ]
     },
     "execution_count": 14,
     "metadata": {},
     "output_type": "execute_result"
    }
   ],
   "source": [
    "def mp[A,B](as: List[A])(f: A => B): List[B] = as.foldRight(List[B]())((x:A, y: List[B]) => f(x) :: y)\n",
    "\n",
    "mp(List(0,1,2,3))(i => i*i)"
   ]
  },
  {
   "cell_type": "code",
   "execution_count": 26,
   "id": "4c4048d6",
   "metadata": {
    "ExecuteTime": {
     "end_time": "2022-06-12T14:49:01.412826Z",
     "start_time": "2022-06-12T14:49:01.291Z"
    }
   },
   "outputs": [
    {
     "data": {
      "text/plain": [
       "defined \u001b[32mfunction\u001b[39m \u001b[36mflt\u001b[39m\n",
       "\u001b[36mres25_1\u001b[39m: \u001b[32mList\u001b[39m[\u001b[32mInt\u001b[39m] = \u001b[33mList\u001b[39m(\u001b[32m4\u001b[39m, \u001b[32m5\u001b[39m)"
      ]
     },
     "execution_count": 26,
     "metadata": {},
     "output_type": "execute_result"
    }
   ],
   "source": [
    "def flt[A](as: List[A])(f: A => Boolean): List[A] = as.foldRight(List[A]())((x:A, y: List[A]) => if (f(x)) x::y else y)\n",
    "flt(List(0,1,2,3,4,5))( _ > 3)"
   ]
  },
  {
   "cell_type": "code",
   "execution_count": 13,
   "id": "2480638d",
   "metadata": {
    "ExecuteTime": {
     "end_time": "2022-06-12T17:23:39.720792Z",
     "start_time": "2022-06-12T17:23:39.500Z"
    }
   },
   "outputs": [
    {
     "data": {
      "text/plain": [
       "flatMap: [A, B](as: List[A])(f: A => List[B])List[B]\n"
      ]
     },
     "metadata": {},
     "output_type": "display_data"
    },
    {
     "data": {
      "text/plain": [
       "List(1, 1, 2, 2, 3, 3)"
      ]
     },
     "execution_count": 13,
     "metadata": {},
     "output_type": "execute_result"
    }
   ],
   "source": [
    "def flatMap[A,B](as: List[A])(f: A => List[B]): List[B] = as.foldRight(List[B]())((x: A, y: List[B]) => f(x)++y)\n",
    "\n",
    "flatMap(List(1,2,3))(i => List(i,i))"
   ]
  },
  {
   "cell_type": "code",
   "execution_count": 2,
   "id": "0eaa5913",
   "metadata": {
    "ExecuteTime": {
     "end_time": "2022-06-12T17:52:02.614284Z",
     "start_time": "2022-06-12T17:52:02.220Z"
    }
   },
   "outputs": [
    {
     "data": {
      "text/plain": [
       "\u001b[36mres1\u001b[39m: \u001b[32mList\u001b[39m[\u001b[32mInt\u001b[39m] = \u001b[33mList\u001b[39m(\u001b[32m1\u001b[39m, \u001b[32m2\u001b[39m, \u001b[32m3\u001b[39m)"
      ]
     },
     "execution_count": 2,
     "metadata": {},
     "output_type": "execute_result"
    }
   ],
   "source": [
    "List(1,2,3).foldRight(List[Int]())((h:Int, t:List[Int]) => h::t)"
   ]
  },
  {
   "cell_type": "code",
   "execution_count": 6,
   "id": "9227a6c6",
   "metadata": {
    "ExecuteTime": {
     "end_time": "2022-06-12T17:58:06.340690Z",
     "start_time": "2022-06-12T17:58:06.116Z"
    }
   },
   "outputs": [
    {
     "data": {
      "text/plain": [
       "defined \u001b[32mfunction\u001b[39m \u001b[36mconcat\u001b[39m\n",
       "\u001b[36mres5_1\u001b[39m: \u001b[32mList\u001b[39m[\u001b[32mInt\u001b[39m] = \u001b[33mList\u001b[39m(\u001b[32m1\u001b[39m, \u001b[32m2\u001b[39m, \u001b[32m3\u001b[39m, \u001b[32m3\u001b[39m, \u001b[32m4\u001b[39m, \u001b[32m5\u001b[39m)"
      ]
     },
     "execution_count": 6,
     "metadata": {},
     "output_type": "execute_result"
    }
   ],
   "source": [
    "def concat[A](l1: List[A], l2: List[A]): List[A] = l1.foldRight(l2) {\n",
    "    (a: A, as: List[A]) => a :: as\n",
    "}\n",
    "\n",
    "concat(List(1,2,3),List(3,4,5))"
   ]
  },
  {
   "cell_type": "code",
   "execution_count": 8,
   "id": "5435fd2d",
   "metadata": {
    "ExecuteTime": {
     "end_time": "2022-06-12T18:02:01.681349Z",
     "start_time": "2022-06-12T18:02:01.444Z"
    }
   },
   "outputs": [
    {
     "data": {
      "text/plain": [
       "defined \u001b[32mfunction\u001b[39m \u001b[36maddPairWise\u001b[39m\n",
       "\u001b[36mres7_1\u001b[39m: \u001b[32mList\u001b[39m[\u001b[32mInt\u001b[39m] = \u001b[33mList\u001b[39m(\u001b[32m5\u001b[39m, \u001b[32m7\u001b[39m, \u001b[32m9\u001b[39m)"
      ]
     },
     "execution_count": 8,
     "metadata": {},
     "output_type": "execute_result"
    }
   ],
   "source": [
    "def addPairWise(l1: List[Int], l2: List[Int]): List[Int] = (l1, l2) match {\n",
    "    case (Nil, _) => Nil\n",
    "    case (_, Nil) => Nil\n",
    "    case _ => (l1.head + l2.head) :: addPairWise(l1.tail, l2.tail) \n",
    "}\n",
    "\n",
    "addPairWise(List(1,2,3),List(4,5,6))"
   ]
  },
  {
   "cell_type": "code",
   "execution_count": 10,
   "id": "170adeeb",
   "metadata": {
    "ExecuteTime": {
     "end_time": "2022-06-12T18:05:42.370644Z",
     "start_time": "2022-06-12T18:05:42.191Z"
    }
   },
   "outputs": [
    {
     "data": {
      "text/plain": [
       "defined \u001b[32mfunction\u001b[39m \u001b[36mzipWith\u001b[39m\n",
       "\u001b[36mres9_1\u001b[39m: \u001b[32mList\u001b[39m[\u001b[32mInt\u001b[39m] = \u001b[33mList\u001b[39m(\u001b[32m5\u001b[39m, \u001b[32m7\u001b[39m, \u001b[32m9\u001b[39m)"
      ]
     },
     "execution_count": 10,
     "metadata": {},
     "output_type": "execute_result"
    }
   ],
   "source": [
    "def zipWith[A](l1: List[A], l2: List[A])(f: (A,A) => A): List[A] = (l1, l2) match {\n",
    "    case (Nil, _) => Nil\n",
    "    case (_, Nil) => Nil\n",
    "    case _ => f(l1.head, l2.head) :: zipWith(l1.tail, l2.tail)(f)\n",
    "}\n",
    "\n",
    "zipWith(List(1,2,3),List(4,5,6))((x:Int,y:Int)=> x+y)"
   ]
  },
  {
   "cell_type": "markdown",
   "id": "b2dcbaac",
   "metadata": {},
   "source": [
    "# Trees"
   ]
  },
  {
   "cell_type": "code",
   "execution_count": 1,
   "id": "1f015160",
   "metadata": {
    "ExecuteTime": {
     "end_time": "2022-06-13T10:19:16.011101Z",
     "start_time": "2022-06-13T10:19:14.094Z"
    }
   },
   "outputs": [
    {
     "data": {
      "text/plain": [
       "defined \u001b[32mtrait\u001b[39m \u001b[36mTree\u001b[39m\n",
       "defined \u001b[32mclass\u001b[39m \u001b[36mLeaf\u001b[39m\n",
       "defined \u001b[32mclass\u001b[39m \u001b[36mBranch\u001b[39m"
      ]
     },
     "execution_count": 1,
     "metadata": {},
     "output_type": "execute_result"
    }
   ],
   "source": [
    "sealed trait Tree[+A]\n",
    "case class Leaf[A](value: A) extends Tree[A]\n",
    "case class Branch[A](left: Tree[A], right: Tree[A]) extends Tree[A]"
   ]
  },
  {
   "cell_type": "code",
   "execution_count": 7,
   "id": "b3b3dc77",
   "metadata": {
    "ExecuteTime": {
     "end_time": "2022-06-13T11:03:42.676062Z",
     "start_time": "2022-06-13T11:03:42.473Z"
    }
   },
   "outputs": [
    {
     "data": {
      "text/plain": [
       "\u001b[36mtree\u001b[39m: \u001b[32mBranch\u001b[39m[\u001b[32mInt\u001b[39m] = \u001b[33mBranch\u001b[39m(\n",
       "  left = \u001b[33mBranch\u001b[39m(\n",
       "    left = \u001b[33mBranch\u001b[39m(left = \u001b[33mLeaf\u001b[39m(value = \u001b[32m1\u001b[39m), right = \u001b[33mLeaf\u001b[39m(value = \u001b[32m2\u001b[39m)),\n",
       "    right = \u001b[33mBranch\u001b[39m(left = \u001b[33mLeaf\u001b[39m(value = \u001b[32m3\u001b[39m), right = \u001b[33mLeaf\u001b[39m(value = \u001b[32m4\u001b[39m))\n",
       "  ),\n",
       "  right = \u001b[33mBranch\u001b[39m(\n",
       "    left = \u001b[33mBranch\u001b[39m(left = \u001b[33mLeaf\u001b[39m(value = \u001b[32m5\u001b[39m), right = \u001b[33mLeaf\u001b[39m(value = \u001b[32m6\u001b[39m)),\n",
       "    right = \u001b[33mBranch\u001b[39m(left = \u001b[33mLeaf\u001b[39m(value = \u001b[32m7\u001b[39m), right = \u001b[33mLeaf\u001b[39m(value = \u001b[32m8\u001b[39m))\n",
       "  )\n",
       ")"
      ]
     },
     "execution_count": 7,
     "metadata": {},
     "output_type": "execute_result"
    }
   ],
   "source": [
    "val tree = Branch(\n",
    "    Branch(Branch(Leaf(1), Leaf(2)), Branch(Leaf(3), Leaf(4))),\n",
    "    Branch(Branch(Leaf(5), Leaf(6)), Branch(Leaf(7), Leaf(8)))\n",
    ")"
   ]
  },
  {
   "cell_type": "code",
   "execution_count": 9,
   "id": "8a063ae2",
   "metadata": {
    "ExecuteTime": {
     "end_time": "2022-06-13T11:29:42.220148Z",
     "start_time": "2022-06-13T11:29:42.037Z"
    }
   },
   "outputs": [
    {
     "data": {
      "text/plain": [
       "defined \u001b[32mfunction\u001b[39m \u001b[36mtreeSize\u001b[39m\n",
       "\u001b[36mres8_1\u001b[39m: \u001b[32mInt\u001b[39m = \u001b[32m15\u001b[39m"
      ]
     },
     "execution_count": 9,
     "metadata": {},
     "output_type": "execute_result"
    }
   ],
   "source": [
    "def treeSize[A](b: Tree[A]): Int = \n",
    "b match {\n",
    "    case Leaf(_) => 1\n",
    "    case Branch(l, r) => 1 + treeSize(l) + treeSize(r) \n",
    "}\n",
    "\n",
    "treeSize(tree)"
   ]
  },
  {
   "cell_type": "code",
   "execution_count": 10,
   "id": "14d6c6ef",
   "metadata": {
    "ExecuteTime": {
     "end_time": "2022-06-13T11:31:46.655887Z",
     "start_time": "2022-06-13T11:31:46.506Z"
    }
   },
   "outputs": [
    {
     "data": {
      "text/plain": [
       "defined \u001b[32mfunction\u001b[39m \u001b[36mleavesNum\u001b[39m\n",
       "\u001b[36mres9_1\u001b[39m: \u001b[32mInt\u001b[39m = \u001b[32m8\u001b[39m"
      ]
     },
     "execution_count": 10,
     "metadata": {},
     "output_type": "execute_result"
    }
   ],
   "source": [
    "def leavesNum[A](b: Tree[A]): Int = \n",
    "b match {\n",
    "    case Leaf(_) => 1\n",
    "    case Branch(l, r) => leavesNum(l) + leavesNum(r) \n",
    "}\n",
    "\n",
    "leavesNum(tree)"
   ]
  },
  {
   "cell_type": "code",
   "execution_count": 14,
   "id": "a5a656ef",
   "metadata": {
    "ExecuteTime": {
     "end_time": "2022-06-13T11:43:56.904864Z",
     "start_time": "2022-06-13T11:43:56.788Z"
    }
   },
   "outputs": [
    {
     "data": {
      "text/plain": [
       "defined \u001b[32mfunction\u001b[39m \u001b[36mmaxLeaf\u001b[39m\n",
       "\u001b[36mres13_1\u001b[39m: \u001b[32mInt\u001b[39m = \u001b[32m8\u001b[39m"
      ]
     },
     "execution_count": 14,
     "metadata": {},
     "output_type": "execute_result"
    }
   ],
   "source": [
    "def maxLeaf(b: Tree[Int]): Int =\n",
    "    b match {\n",
    "        case Leaf(v) => v\n",
    "        case Branch(l, r) => maxLeaf(l).max(maxLeaf(r)) \n",
    "    }\n",
    "\n",
    "maxLeaf(tree)"
   ]
  },
  {
   "cell_type": "code",
   "execution_count": 19,
   "id": "aeb2c601",
   "metadata": {
    "ExecuteTime": {
     "end_time": "2022-06-13T11:56:57.069281Z",
     "start_time": "2022-06-13T11:56:56.959Z"
    }
   },
   "outputs": [
    {
     "data": {
      "text/plain": [
       "defined \u001b[32mfunction\u001b[39m \u001b[36mmaxDepth\u001b[39m\n",
       "\u001b[36mres18_1\u001b[39m: \u001b[32mInt\u001b[39m = \u001b[32m3\u001b[39m"
      ]
     },
     "execution_count": 19,
     "metadata": {},
     "output_type": "execute_result"
    }
   ],
   "source": [
    "def maxDepth[A](t: Tree[A]): Int =\n",
    "t match {\n",
    "    case Leaf(_) => 0\n",
    "    case Branch(l,r)  => 1 + (maxDepth(l) max maxDepth(r))\n",
    "}\n",
    "\n",
    "maxDepth(tree)"
   ]
  },
  {
   "cell_type": "code",
   "execution_count": 22,
   "id": "e13bb857",
   "metadata": {
    "ExecuteTime": {
     "end_time": "2022-06-13T12:00:32.213557Z",
     "start_time": "2022-06-13T12:00:32.080Z"
    }
   },
   "outputs": [
    {
     "data": {
      "text/plain": [
       "defined \u001b[32mfunction\u001b[39m \u001b[36mpathDepth\u001b[39m\n",
       "\u001b[36mres21_1\u001b[39m: \u001b[32mInt\u001b[39m = \u001b[32m7\u001b[39m"
      ]
     },
     "execution_count": 22,
     "metadata": {},
     "output_type": "execute_result"
    }
   ],
   "source": [
    "def pathDepth[A](t: Tree[A], L: Leaf[A]): Int =\n",
    "t match {\n",
    "    case L => 0\n",
    "    case Branch(l,r)  => 1 + pathDepth(l, L) + pathDepth(r, L)\n",
    "    case _ => 0\n",
    "}\n",
    "\n",
    "pathDepth(tree, Leaf(8))"
   ]
  },
  {
   "cell_type": "markdown",
   "id": "b3fa4647",
   "metadata": {},
   "source": [
    "# Exceptions"
   ]
  },
  {
   "cell_type": "code",
   "execution_count": 1,
   "id": "09a5aefa",
   "metadata": {
    "ExecuteTime": {
     "end_time": "2022-06-13T15:22:52.622768Z",
     "start_time": "2022-06-13T15:22:51.588Z"
    }
   },
   "outputs": [
    {
     "ename": "",
     "evalue": "",
     "output_type": "error",
     "traceback": [
      "\u001b[31mjava.lang.Exception: fail!\u001b[39m\n  ammonite.$sess.cmd0$Helper.failingFn(\u001b[32mcmd0.sc\u001b[39m:\u001b[32m2\u001b[39m)\n  ammonite.$sess.cmd0$Helper.<init>(\u001b[32mcmd0.sc\u001b[39m:\u001b[32m10\u001b[39m)\n  ammonite.$sess.cmd0$.<clinit>(\u001b[32mcmd0.sc\u001b[39m:\u001b[32m7\u001b[39m)"
     ]
    }
   ],
   "source": [
    "def failingFn(i: Int): Int = {\n",
    "    val y: Int = throw new Exception(\"fail!\")\n",
    "    try {\n",
    "        val x = 42 + 5\n",
    "        x + y\n",
    "    }\n",
    "    catch { case e: Exception => 43 }\n",
    "}\n",
    "\n",
    "failingFn(1)"
   ]
  },
  {
   "cell_type": "code",
   "execution_count": 5,
   "id": "6ed556a3",
   "metadata": {
    "ExecuteTime": {
     "end_time": "2022-06-13T15:25:41.860361Z",
     "start_time": "2022-06-13T15:25:41.648Z"
    }
   },
   "outputs": [
    {
     "ename": "",
     "evalue": "",
     "output_type": "error",
     "traceback": [
      "\u001b[31mjava.lang.Exception: fail!\u001b[39m\n  ammonite.$sess.cmd4$Helper.<init>(\u001b[32mcmd4.sc\u001b[39m:\u001b[32m1\u001b[39m)\n  ammonite.$sess.cmd4$.<clinit>(\u001b[32mcmd4.sc\u001b[39m:\u001b[32m7\u001b[39m)"
     ]
    }
   ],
   "source": [
    "val y: Int = throw new Exception(\"fail!\")"
   ]
  },
  {
   "cell_type": "code",
   "execution_count": 2,
   "id": "f7310fb0",
   "metadata": {
    "ExecuteTime": {
     "end_time": "2022-06-13T15:24:09.619239Z",
     "start_time": "2022-06-13T15:24:09.260Z"
    }
   },
   "outputs": [
    {
     "data": {
      "text/plain": [
       "defined \u001b[32mfunction\u001b[39m \u001b[36mfailingFn2\u001b[39m\n",
       "\u001b[36mres1_1\u001b[39m: \u001b[32mInt\u001b[39m = \u001b[32m43\u001b[39m"
      ]
     },
     "execution_count": 2,
     "metadata": {},
     "output_type": "execute_result"
    }
   ],
   "source": [
    "def failingFn2(i: Int): Int = {\n",
    "    try {\n",
    "        val x = 42 + 5\n",
    "        x + ((throw new Exception(\"fail!\")): Int)\n",
    "    }\n",
    "    catch { case e: Exception => 43 }\n",
    "}\n",
    "\n",
    "failingFn2(1)"
   ]
  },
  {
   "cell_type": "markdown",
   "id": "770c4b56",
   "metadata": {},
   "source": [
    "> **Partial function**:     \n",
    ">\n",
    ">    - function that is not defined for some values"
   ]
  },
  {
   "cell_type": "code",
   "execution_count": 7,
   "id": "340d28cb",
   "metadata": {
    "ExecuteTime": {
     "end_time": "2022-06-13T16:30:17.913400Z",
     "start_time": "2022-06-13T16:30:17.732Z"
    }
   },
   "outputs": [
    {
     "data": {
      "text/plain": [
       "defined \u001b[32mfunction\u001b[39m \u001b[36mmean\u001b[39m\n",
       "\u001b[36mres6_1\u001b[39m: \u001b[32mDouble\u001b[39m = \u001b[32m2.0\u001b[39m"
      ]
     },
     "execution_count": 7,
     "metadata": {},
     "output_type": "execute_result"
    }
   ],
   "source": [
    "def mean(l: List[Double]): Double = {\n",
    "    if (l.isEmpty) throw new Exception(\"empty!\")\n",
    "    else l.sum / l.length\n",
    "}\n",
    "\n",
    "mean(List(1,2,3))"
   ]
  },
  {
   "cell_type": "code",
   "execution_count": 8,
   "id": "cc0e9bec",
   "metadata": {
    "ExecuteTime": {
     "end_time": "2022-06-13T18:43:04.665407Z",
     "start_time": "2022-06-13T18:43:04.509Z"
    }
   },
   "outputs": [
    {
     "data": {
      "text/plain": [
       "defined \u001b[32mfunction\u001b[39m \u001b[36mmean_1\u001b[39m\n",
       "\u001b[36mres7_1\u001b[39m: \u001b[32mDouble\u001b[39m = \u001b[32m0.0\u001b[39m"
      ]
     },
     "execution_count": 8,
     "metadata": {},
     "output_type": "execute_result"
    }
   ],
   "source": [
    "def mean_1(xs: IndexedSeq[Double], onEmpty: Double): Double =\n",
    "    if (xs.isEmpty) onEmpty\n",
    "    else xs.sum / xs.length\n",
    "\n",
    "mean_1(Vector(), 0.0)"
   ]
  },
  {
   "cell_type": "code",
   "execution_count": 2,
   "id": "f384915f",
   "metadata": {
    "ExecuteTime": {
     "end_time": "2022-06-16T03:35:50.376576Z",
     "start_time": "2022-06-16T03:35:49.877Z"
    }
   },
   "outputs": [
    {
     "data": {
      "text/plain": [
       "defined \u001b[32mtrait\u001b[39m \u001b[36mOption\u001b[39m\n",
       "defined \u001b[32mclass\u001b[39m \u001b[36mSome\u001b[39m\n",
       "defined \u001b[32mobject\u001b[39m \u001b[36mNone\u001b[39m"
      ]
     },
     "execution_count": 2,
     "metadata": {},
     "output_type": "execute_result"
    }
   ],
   "source": [
    "sealed trait Option[+A]\n",
    "case class Some[+A](get: A) extends Option[A]\n",
    "case object None extends Option[Nothing]"
   ]
  },
  {
   "cell_type": "code",
   "execution_count": 11,
   "id": "8a91ea72",
   "metadata": {
    "ExecuteTime": {
     "end_time": "2022-06-13T18:53:18.174509Z",
     "start_time": "2022-06-13T18:53:18.008Z"
    }
   },
   "outputs": [
    {
     "data": {
      "text/plain": [
       "\u001b[36ma\u001b[39m: \u001b[32mSome\u001b[39m[\u001b[32mInt\u001b[39m] = \u001b[33mSome\u001b[39m(get = \u001b[32m3\u001b[39m)\n",
       "\u001b[36mres10_1\u001b[39m: \u001b[32mInt\u001b[39m = \u001b[32m3\u001b[39m"
      ]
     },
     "execution_count": 11,
     "metadata": {},
     "output_type": "execute_result"
    }
   ],
   "source": [
    "val a = Some(3)"
   ]
  },
  {
   "cell_type": "code",
   "execution_count": 12,
   "id": "1da61613",
   "metadata": {
    "ExecuteTime": {
     "end_time": "2022-06-13T18:53:29.620697Z",
     "start_time": "2022-06-13T18:53:29.463Z"
    }
   },
   "outputs": [
    {
     "data": {
      "text/plain": [
       "\u001b[36mres11\u001b[39m: \u001b[32mInt\u001b[39m = \u001b[32m3\u001b[39m"
      ]
     },
     "execution_count": 12,
     "metadata": {},
     "output_type": "execute_result"
    }
   ],
   "source": [
    "a.get"
   ]
  },
  {
   "cell_type": "code",
   "execution_count": 3,
   "id": "fd28ee01",
   "metadata": {
    "ExecuteTime": {
     "end_time": "2022-06-16T03:35:53.463405Z",
     "start_time": "2022-06-16T03:35:53.117Z"
    }
   },
   "outputs": [
    {
     "data": {
      "text/plain": [
       "defined \u001b[32mfunction\u001b[39m \u001b[36mmean\u001b[39m\n",
       "\u001b[36mmn\u001b[39m: \u001b[32mOption\u001b[39m[\u001b[32mDouble\u001b[39m] = \u001b[33mSome\u001b[39m(get = \u001b[32m2.2\u001b[39m)\n",
       "\u001b[36mmn2\u001b[39m: \u001b[32mOption\u001b[39m[\u001b[32mDouble\u001b[39m] = None"
      ]
     },
     "execution_count": 3,
     "metadata": {},
     "output_type": "execute_result"
    }
   ],
   "source": [
    "def mean(xs: Seq[Double]): Option[Double] =\n",
    "    if (xs.isEmpty) None\n",
    "    else Some(xs.sum / xs.length)\n",
    "\n",
    "val mn = mean(List(1.1, 3.3))\n",
    "val mn2 = mean(Seq())"
   ]
  },
  {
   "cell_type": "code",
   "execution_count": 15,
   "id": "30709d08",
   "metadata": {
    "ExecuteTime": {
     "end_time": "2022-06-13T19:02:13.282668Z",
     "start_time": "2022-06-13T19:02:13.222Z"
    }
   },
   "outputs": [
    {
     "name": "stderr",
     "output_type": "stream",
     "text": [
      "cmd15.sc:1: value get is not a member of ammonite.$sess.cmd14.wrapper.cmd8.Option[Double]\n",
      "val res15 = mn2.get\n",
      "                ^Compilation Failed"
     ]
    },
    {
     "ename": "",
     "evalue": "",
     "output_type": "error",
     "traceback": [
      "Compilation Failed"
     ]
    }
   ],
   "source": [
    "mn2.get"
   ]
  },
  {
   "cell_type": "code",
   "execution_count": 1,
   "id": "a1714409",
   "metadata": {
    "ExecuteTime": {
     "end_time": "2022-06-16T03:39:33.237720Z",
     "start_time": "2022-06-16T03:39:31.865Z"
    }
   },
   "outputs": [
    {
     "data": {
      "text/plain": [
       "defined \u001b[32mtrait\u001b[39m \u001b[36mOption\u001b[39m"
      ]
     },
     "execution_count": 1,
     "metadata": {},
     "output_type": "execute_result"
    }
   ],
   "source": [
    "trait Option[+A] {\n",
    "    def map[B](f: A => B): Option[B]\n",
    "    def flatMap[B](f: A => Option[B]): Option[B]\n",
    "    def getOrElse[B >: A](default:B): B\n",
    "    def orElse[B >: A](ob: => B): Option[B]\n",
    "    def filter(f: A => Boolean): Option[A]\n",
    "}"
   ]
  },
  {
   "cell_type": "code",
   "execution_count": 1,
   "id": "3e571a1f",
   "metadata": {
    "ExecuteTime": {
     "end_time": "2022-06-16T03:35:38.021252Z",
     "start_time": "2022-06-16T03:35:36.358Z"
    }
   },
   "outputs": [
    {
     "data": {
      "text/plain": [
       "defined \u001b[32mfunction\u001b[39m \u001b[36mvariance\u001b[39m\n",
       "\u001b[36mres0_1\u001b[39m: \u001b[32mOption\u001b[39m[\u001b[32mDouble\u001b[39m] = \u001b[33mSome\u001b[39m(value = \u001b[32m0.6666666666666666\u001b[39m)"
      ]
     },
     "execution_count": 1,
     "metadata": {},
     "output_type": "execute_result"
    }
   ],
   "source": [
    "def variance(xs: Seq[Double]): Option[Double] = \n",
    "    if (xs.isEmpty) None\n",
    "    else {\n",
    "        val m = xs.sum/xs.length\n",
    "        Some((xs.foldLeft(0.0)((x,y)=> x + math.pow(y-m,2)))/xs.length)\n",
    "         }\n",
    "\n",
    "variance(List(1,2,3))"
   ]
  },
  {
   "cell_type": "code",
   "execution_count": 4,
   "id": "07b294c1",
   "metadata": {
    "ExecuteTime": {
     "end_time": "2022-06-16T03:45:38.622107Z",
     "start_time": "2022-06-16T03:45:38.373Z"
    }
   },
   "outputs": [
    {
     "data": {
      "text/plain": [
       "\u001b[36mres3\u001b[39m: \u001b[32mOption\u001b[39m[\u001b[32mInt\u001b[39m] = \u001b[33mSome\u001b[39m(value = \u001b[32m3\u001b[39m)"
      ]
     },
     "execution_count": 4,
     "metadata": {},
     "output_type": "execute_result"
    }
   ],
   "source": [
    "Option(3).map(identity)"
   ]
  },
  {
   "cell_type": "code",
   "execution_count": 5,
   "id": "e0ac4405",
   "metadata": {
    "ExecuteTime": {
     "end_time": "2022-06-16T03:47:27.996913Z",
     "start_time": "2022-06-16T03:47:27.903Z"
    }
   },
   "outputs": [
    {
     "name": "stderr",
     "output_type": "stream",
     "text": [
      "cmd5.sc:1: type mismatch;\n",
      " found   : Int => Int\n",
      " required: Int => Option[?]\n",
      "val res5 = Option(3).flatMap(identity)\n",
      "                             ^Compilation Failed"
     ]
    },
    {
     "ename": "",
     "evalue": "",
     "output_type": "error",
     "traceback": [
      "Compilation Failed"
     ]
    }
   ],
   "source": [
    "Option(3).flatMap(identity)"
   ]
  },
  {
   "cell_type": "code",
   "execution_count": 5,
   "id": "32c0fde5",
   "metadata": {
    "ExecuteTime": {
     "end_time": "2022-06-16T03:46:13.603095Z",
     "start_time": "2022-06-16T03:46:13.376Z"
    }
   },
   "outputs": [
    {
     "data": {
      "text/plain": [
       "\u001b[36mres4\u001b[39m: \u001b[32mOption\u001b[39m[\u001b[32mInt\u001b[39m] = \u001b[33mSome\u001b[39m(value = \u001b[32m3\u001b[39m)"
      ]
     },
     "execution_count": 5,
     "metadata": {},
     "output_type": "execute_result"
    }
   ],
   "source": [
    "Option(3).flatMap(x => Option(x))"
   ]
  },
  {
   "cell_type": "code",
   "execution_count": 1,
   "id": "e7f4b18c",
   "metadata": {
    "ExecuteTime": {
     "end_time": "2022-07-05T16:27:30.760774Z",
     "start_time": "2022-07-05T16:27:29.129Z"
    }
   },
   "outputs": [
    {
     "data": {
      "text/plain": [
       "defined \u001b[32mfunction\u001b[39m \u001b[36mmean\u001b[39m\n",
       "defined \u001b[32mfunction\u001b[39m \u001b[36mvariance\u001b[39m\n",
       "\u001b[36mres0_2\u001b[39m: \u001b[32mOption\u001b[39m[\u001b[32mDouble\u001b[39m] = \u001b[33mSome\u001b[39m(value = \u001b[32m0.6666666666666666\u001b[39m)"
      ]
     },
     "execution_count": 1,
     "metadata": {},
     "output_type": "execute_result"
    }
   ],
   "source": [
    "// Pure Scala solution\n",
    "\n",
    "def mean(xs: Seq[Double]): Option[Double] =\n",
    "    if (xs.isEmpty) None\n",
    "    else Some(xs.sum / xs.length)\n",
    "\n",
    "def variance(xs: Seq[Double]): Option[Double] =\n",
    "    mean(xs) flatMap (m => mean(xs.map(x => math.pow(x - m, 2))))\n",
    "\n",
    "variance(List(1,2,3))"
   ]
  },
  {
   "cell_type": "code",
   "execution_count": 9,
   "id": "accd00b3",
   "metadata": {
    "ExecuteTime": {
     "end_time": "2022-06-16T03:28:21.843508Z",
     "start_time": "2022-06-16T03:28:21.701Z"
    }
   },
   "outputs": [
    {
     "data": {
      "text/plain": [
       "defined \u001b[32mfunction\u001b[39m \u001b[36mvari\u001b[39m"
      ]
     },
     "execution_count": 9,
     "metadata": {},
     "output_type": "execute_result"
    }
   ],
   "source": [
    "def vari(xs: Seq[Double]): Option[Double] = {\n",
    "    if (xs.isEmpty) None\n",
    "    else {\n",
    "        val m = xs.sum/xs.size\n",
    "        Some(xs.map{x => math.pow(x-m,2)}.sum)\n",
    "    }\n",
    "}"
   ]
  },
  {
   "cell_type": "markdown",
   "id": "3e8e9ccd",
   "metadata": {},
   "source": [
    "# Sequence\n",
    "\n",
    "\"Leap of faith\":\n",
    "\n",
    "> When `List[Option[A]]` is divided into `head :: tail` we swap it into `Option[List[A]]`  \n",
    "> The type of `flatMap` is the type of `head` (i.e. `Option`)  "
   ]
  },
  {
   "cell_type": "code",
   "execution_count": 8,
   "id": "90148b70",
   "metadata": {
    "ExecuteTime": {
     "end_time": "2022-07-07T09:56:59.581694Z",
     "start_time": "2022-07-07T09:56:59.336Z"
    }
   },
   "outputs": [
    {
     "data": {
      "text/plain": [
       "defined \u001b[32mfunction\u001b[39m \u001b[36msequence\u001b[39m\n",
       "\u001b[36mres7_1\u001b[39m: \u001b[32mOption\u001b[39m[\u001b[32mList\u001b[39m[\u001b[32mInt\u001b[39m]] = \u001b[32mNone\u001b[39m"
      ]
     },
     "execution_count": 8,
     "metadata": {},
     "output_type": "execute_result"
    }
   ],
   "source": [
    "def sequence[A](a: List[Option[A]]): Option[List[A]] = a match {\n",
    "    case Nil => Some(Nil)\n",
    "    case h :: t => h.flatMap{hh => sequence(t).map(hh::_)}\n",
    "}\n",
    "\n",
    "sequence(List(None, Option(1)))"
   ]
  },
  {
   "cell_type": "markdown",
   "id": "bc6bd761",
   "metadata": {},
   "source": [
    "> If `head` is None, the result is None as well (iterating over None is None)   "
   ]
  },
  {
   "cell_type": "code",
   "execution_count": 33,
   "id": "777cc22d",
   "metadata": {
    "ExecuteTime": {
     "end_time": "2022-07-07T10:37:46.941544Z",
     "start_time": "2022-07-07T10:37:46.814Z"
    }
   },
   "outputs": [
    {
     "data": {
      "text/plain": [
       "\u001b[36mres32\u001b[39m: \u001b[32mOption\u001b[39m[\u001b[32mList\u001b[39m[\u001b[32mInt\u001b[39m]] = \u001b[32mNone\u001b[39m"
      ]
     },
     "execution_count": 33,
     "metadata": {},
     "output_type": "execute_result"
    }
   ],
   "source": [
    "None.flatMap(hh => sequence(List(Option(1))).map(hh::_))"
   ]
  },
  {
   "cell_type": "code",
   "execution_count": 34,
   "id": "d3ccc537",
   "metadata": {
    "ExecuteTime": {
     "end_time": "2022-07-07T10:37:52.802375Z",
     "start_time": "2022-07-07T10:37:52.685Z"
    }
   },
   "outputs": [
    {
     "data": {
      "text/plain": [
       "\u001b[36mres33\u001b[39m: \u001b[32mOption\u001b[39m[\u001b[32mList\u001b[39m[\u001b[32mInt\u001b[39m]] = \u001b[32mNone\u001b[39m"
      ]
     },
     "execution_count": 34,
     "metadata": {},
     "output_type": "execute_result"
    }
   ],
   "source": [
    "None.flatMap(hh => Some(List(1)).map(hh::_))"
   ]
  },
  {
   "cell_type": "code",
   "execution_count": 31,
   "id": "4613d35a",
   "metadata": {
    "ExecuteTime": {
     "end_time": "2022-07-07T10:29:26.392546Z",
     "start_time": "2022-07-07T10:29:26.253Z"
    }
   },
   "outputs": [
    {
     "data": {
      "text/plain": [
       "\u001b[36mres30\u001b[39m: \u001b[32mOption\u001b[39m[\u001b[32mList\u001b[39m[\u001b[32mInt\u001b[39m]] = \u001b[33mSome\u001b[39m(value = \u001b[33mList\u001b[39m(\u001b[32m0\u001b[39m, \u001b[32m1\u001b[39m))"
      ]
     },
     "execution_count": 31,
     "metadata": {},
     "output_type": "execute_result"
    }
   ],
   "source": [
    "Some(0).flatMap(hh => Some(List(1)).map(hh::_))"
   ]
  },
  {
   "cell_type": "code",
   "execution_count": 21,
   "id": "e08756f9",
   "metadata": {
    "ExecuteTime": {
     "end_time": "2022-07-07T10:10:24.998807Z",
     "start_time": "2022-07-07T10:10:24.864Z"
    }
   },
   "outputs": [
    {
     "data": {
      "text/plain": [
       "\u001b[36mres20\u001b[39m: \u001b[32mList\u001b[39m[\u001b[32mInt\u001b[39m] = \u001b[33mList\u001b[39m(\u001b[32m1\u001b[39m, \u001b[32m2\u001b[39m)"
      ]
     },
     "execution_count": 21,
     "metadata": {},
     "output_type": "execute_result"
    }
   ],
   "source": [
    "List(Option(1), None, Option(2)).flatMap(identity)"
   ]
  },
  {
   "cell_type": "code",
   "execution_count": 29,
   "id": "90132410",
   "metadata": {
    "ExecuteTime": {
     "end_time": "2022-07-07T10:17:00.522791Z",
     "start_time": "2022-07-07T10:17:00.354Z"
    }
   },
   "outputs": [
    {
     "name": "stdout",
     "output_type": "stream",
     "text": [
      "List(1, 2)\n"
     ]
    },
    {
     "data": {
      "text/plain": [
       "defined \u001b[32mfunction\u001b[39m \u001b[36mparseInts\u001b[39m\n",
       "\u001b[36mout\u001b[39m: \u001b[32mObject\u001b[39m with \u001b[32mSerializable\u001b[39m = \u001b[33mList\u001b[39m(\u001b[32m1\u001b[39m, \u001b[32m2\u001b[39m)"
      ]
     },
     "execution_count": 29,
     "metadata": {},
     "output_type": "execute_result"
    }
   ],
   "source": [
    "def parseInts(a: List[String]): Option[List[Int]] =\n",
    "    sequence(a.map(_.toIntOption))\n",
    "\n",
    "val out = parseInts(List(\"1\",\"2\")) match {\n",
    "    case None => \"fail\"\n",
    "    case Some(lst) => Some(lst).get \n",
    "}\n",
    "\n",
    "println(out)"
   ]
  },
  {
   "cell_type": "code",
   "execution_count": null,
   "id": "c9417595",
   "metadata": {},
   "outputs": [],
   "source": []
  }
 ],
 "metadata": {
  "kernelspec": {
   "display_name": "Scala_2,13",
   "language": "scala",
   "name": "scala"
  },
  "language_info": {
   "codemirror_mode": "text/x-scala",
   "file_extension": ".sc",
   "mimetype": "text/x-scala",
   "name": "scala",
   "nbconvert_exporter": "script",
   "version": "2.13.5"
  },
  "toc": {
   "base_numbering": 1,
   "nav_menu": {},
   "number_sections": true,
   "sideBar": true,
   "skip_h1_title": false,
   "title_cell": "Table of Contents",
   "title_sidebar": "Contents",
   "toc_cell": true,
   "toc_position": {},
   "toc_section_display": true,
   "toc_window_display": false
  }
 },
 "nbformat": 4,
 "nbformat_minor": 5
}
