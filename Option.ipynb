{
 "cells": [
  {
   "cell_type": "markdown",
   "id": "d2f25d3c",
   "metadata": {
    "toc": true
   },
   "source": [
    "<h1>Table of Contents<span class=\"tocSkip\"></span></h1>\n",
    "<div class=\"toc\"><ul class=\"toc-item\"></ul></div>"
   ]
  },
  {
   "cell_type": "code",
   "execution_count": 11,
   "id": "a16d415a",
   "metadata": {
    "ExecuteTime": {
     "end_time": "2022-06-16T18:04:49.692666Z",
     "start_time": "2022-06-16T18:04:49.480Z"
    }
   },
   "outputs": [
    {
     "data": {
      "text/plain": [
       "defined \u001b[32mtrait\u001b[39m \u001b[36mOption\u001b[39m\n",
       "defined \u001b[32mclass\u001b[39m \u001b[36mSome\u001b[39m\n",
       "defined \u001b[32mobject\u001b[39m \u001b[36mNone\u001b[39m"
      ]
     },
     "execution_count": 11,
     "metadata": {},
     "output_type": "execute_result"
    }
   ],
   "source": [
    "sealed trait Option[+A] {\n",
    "    \n",
    "    def map[B](f: A=> B): Option[B] = this match {\n",
    "        case None => None\n",
    "        case Some(a) => Some(f(a))\n",
    "    }\n",
    "    \n",
    "    def getOrElse[B >: A](default: => B): B = this match {\n",
    "        case None => default\n",
    "        case Some(a) => a\n",
    "    }\n",
    "    \n",
    "    def flatMap[B](f: A => Option[B]): Option[B] = map(f).getOrElse(None)\n",
    "    \n",
    "    def flatMap_1[B](f: A => Option[B]): Option[B] = this match {\n",
    "        case None => None\n",
    "        case Some(a) => f(a)\n",
    "    }\n",
    "        \n",
    "    def orElse[B >: A](ob: => Option[B]): Option[B] = this.map(Some(_)).getOrElse(ob)\n",
    "    \n",
    "    def orElse_1[B >: A](ob: => Option[B]): Option[B] = this match {\n",
    "        case None => None\n",
    "        case Some(a) => this\n",
    "    }\n",
    "    \n",
    "     def filter(f: A => Boolean): Option[A] = this match {\n",
    "         case Some(a) if (f(a)) => this\n",
    "         case _ => None\n",
    "     }\n",
    "    \n",
    "    def filter_1(f: A => Boolean): Option[A] = flatMap(a => if (f(a)) Some(a) else None)\n",
    "    \n",
    "}\n",
    "case class Some[+A](get: A) extends Option[A]\n",
    "case object None extends Option[Nothing]"
   ]
  },
  {
   "cell_type": "code",
   "execution_count": 17,
   "id": "eabb059f",
   "metadata": {
    "ExecuteTime": {
     "end_time": "2022-06-16T18:32:59.175153Z",
     "start_time": "2022-06-16T18:32:59.023Z"
    }
   },
   "outputs": [
    {
     "data": {
      "text/plain": [
       "defined \u001b[32mclass\u001b[39m \u001b[36mMoney\u001b[39m\n",
       "defined \u001b[32mobject\u001b[39m \u001b[36mMoney\u001b[39m"
      ]
     },
     "execution_count": 17,
     "metadata": {},
     "output_type": "execute_result"
    }
   ],
   "source": [
    "case class Money(value: BigDecimal)\n",
    "case object Money {\n",
    "    def apply(s: String): Money = apply(BigDecimal(s.toDouble))\n",
    "    def apply(d: Double): Money = apply(BigDecimal(d))\n",
    "}"
   ]
  },
  {
   "cell_type": "code",
   "execution_count": 26,
   "id": "ee6c5427",
   "metadata": {
    "ExecuteTime": {
     "end_time": "2022-06-16T18:48:01.867166Z",
     "start_time": "2022-06-16T18:48:01.751Z"
    }
   },
   "outputs": [
    {
     "data": {
      "text/plain": [
       "\u001b[36mres25\u001b[39m: \u001b[32mOption\u001b[39m[\u001b[32mInt\u001b[39m] = \u001b[33mSome\u001b[39m(get = \u001b[32m9\u001b[39m)"
      ]
     },
     "execution_count": 26,
     "metadata": {},
     "output_type": "execute_result"
    }
   ],
   "source": [
    "Some(9).map(x => x)"
   ]
  },
  {
   "cell_type": "code",
   "execution_count": 25,
   "id": "320ea072",
   "metadata": {
    "ExecuteTime": {
     "end_time": "2022-06-16T18:47:38.234442Z",
     "start_time": "2022-06-16T18:47:38.103Z"
    }
   },
   "outputs": [
    {
     "data": {
      "text/plain": [
       "\u001b[36mres24\u001b[39m: \u001b[32mOption\u001b[39m[\u001b[32mInt\u001b[39m] = \u001b[33mSome\u001b[39m(get = \u001b[32m9\u001b[39m)"
      ]
     },
     "execution_count": 25,
     "metadata": {},
     "output_type": "execute_result"
    }
   ],
   "source": [
    "Some(9).flatMap(x => Some(x))"
   ]
  },
  {
   "cell_type": "code",
   "execution_count": null,
   "id": "9201f9b2",
   "metadata": {},
   "outputs": [],
   "source": []
  }
 ],
 "metadata": {
  "kernelspec": {
   "display_name": "Scala_2,13",
   "language": "scala",
   "name": "scala"
  },
  "language_info": {
   "codemirror_mode": "text/x-scala",
   "file_extension": ".sc",
   "mimetype": "text/x-scala",
   "name": "scala",
   "nbconvert_exporter": "script",
   "version": "2.13.5"
  },
  "toc": {
   "base_numbering": 1,
   "nav_menu": {},
   "number_sections": true,
   "sideBar": true,
   "skip_h1_title": false,
   "title_cell": "Table of Contents",
   "title_sidebar": "Contents",
   "toc_cell": true,
   "toc_position": {},
   "toc_section_display": true,
   "toc_window_display": false
  }
 },
 "nbformat": 4,
 "nbformat_minor": 5
}
