{
 "cells": [
  {
   "cell_type": "markdown",
   "id": "2d8ce9c9",
   "metadata": {
    "toc": true
   },
   "source": [
    "<h1>Table of Contents<span class=\"tocSkip\"></span></h1>\n",
    "<div class=\"toc\"><ul class=\"toc-item\"></ul></div>"
   ]
  },
  {
   "cell_type": "code",
   "execution_count": 14,
   "id": "9e681c7a",
   "metadata": {
    "ExecuteTime": {
     "end_time": "2022-07-05T15:56:44.582821Z",
     "start_time": "2022-07-05T15:56:44.486Z"
    }
   },
   "outputs": [
    {
     "data": {
      "text/plain": [
       "defined \u001b[32mfunction\u001b[39m \u001b[36mmean\u001b[39m\n",
       "defined \u001b[32mfunction\u001b[39m \u001b[36mmean2\u001b[39m"
      ]
     },
     "execution_count": 14,
     "metadata": {},
     "output_type": "execute_result"
    }
   ],
   "source": [
    "def mean[A](xs: Seq[A])(implicit num: Fractional[A]): Option[A] = {\n",
    "    import num._\n",
    "    if (xs.isEmpty) None\n",
    "    else Some(xs.sum / fromInt(xs.size))\n",
    "}\n",
    "\n",
    "def mean2[A](xs: Seq[A])(implicit num: Integral[A]): Option[A] = {\n",
    "    import num._\n",
    "    if (xs.isEmpty) None\n",
    "    else Some(fromInt(xs.size) / xs.sum )\n",
    "}"
   ]
  },
  {
   "cell_type": "code",
   "execution_count": null,
   "id": "42e2910e",
   "metadata": {},
   "outputs": [],
   "source": []
  }
 ],
 "metadata": {
  "kernelspec": {
   "display_name": "Scala_2,13",
   "language": "scala",
   "name": "scala"
  },
  "language_info": {
   "codemirror_mode": "text/x-scala",
   "file_extension": ".sc",
   "mimetype": "text/x-scala",
   "name": "scala",
   "nbconvert_exporter": "script",
   "version": "2.13.5"
  },
  "toc": {
   "base_numbering": 1,
   "nav_menu": {},
   "number_sections": true,
   "sideBar": true,
   "skip_h1_title": false,
   "title_cell": "Table of Contents",
   "title_sidebar": "Contents",
   "toc_cell": true,
   "toc_position": {},
   "toc_section_display": true,
   "toc_window_display": false
  }
 },
 "nbformat": 4,
 "nbformat_minor": 5
}
