{
 "cells": [
  {
   "cell_type": "markdown",
   "id": "f89b5dbf",
   "metadata": {
    "toc": true
   },
   "source": [
    "<h1>Table of Contents<span class=\"tocSkip\"></span></h1>\n",
    "<div class=\"toc\"><ul class=\"toc-item\"><li><span><a href=\"#ToBinaryString\" data-toc-modified-id=\"ToBinaryString-1\"><span class=\"toc-item-num\">1&nbsp;&nbsp;</span>ToBinaryString</a></span></li><li><span><a href=\"#Streams-and-Recursion\" data-toc-modified-id=\"Streams-and-Recursion-2\"><span class=\"toc-item-num\">2&nbsp;&nbsp;</span>Streams and Recursion</a></span></li><li><span><a href=\"#Fences-Greedy-algos\" data-toc-modified-id=\"Fences-Greedy-algos-3\"><span class=\"toc-item-num\">3&nbsp;&nbsp;</span>Fences Greedy algos</a></span></li><li><span><a href=\"#Primary\" data-toc-modified-id=\"Primary-4\"><span class=\"toc-item-num\">4&nbsp;&nbsp;</span>Primary</a></span></li></ul></div>"
   ]
  },
  {
   "cell_type": "markdown",
   "id": "3b5af1ae",
   "metadata": {},
   "source": [
    "# ToBinaryString"
   ]
  },
  {
   "cell_type": "code",
   "execution_count": 1,
   "id": "fee4bb4f",
   "metadata": {
    "ExecuteTime": {
     "end_time": "2022-05-22T06:12:57.012822Z",
     "start_time": "2022-05-22T06:12:54.711Z"
    }
   },
   "outputs": [
    {
     "data": {
      "text/plain": [
       "defined \u001b[32mfunction\u001b[39m \u001b[36mintToBinary\u001b[39m\n",
       "\u001b[36mres0_1\u001b[39m: \u001b[32mString\u001b[39m = \u001b[32m\"10010\"\u001b[39m"
      ]
     },
     "execution_count": 1,
     "metadata": {},
     "output_type": "execute_result"
    }
   ],
   "source": [
    "def intToBinary(x: Int): String = {\n",
    "    val remainder = x % 2\n",
    "    if (x - remainder == 0) \n",
    "        remainder.toString\n",
    "    else \n",
    "         intToBinary(x / 2) + remainder.toString\n",
    "}\n",
    "\n",
    "intToBinary(18)"
   ]
  },
  {
   "cell_type": "code",
   "execution_count": 2,
   "id": "7399042f",
   "metadata": {
    "ExecuteTime": {
     "end_time": "2022-05-22T06:13:16.646786Z",
     "start_time": "2022-05-22T06:13:16.168Z"
    }
   },
   "outputs": [
    {
     "data": {
      "text/plain": [
       "\u001b[36mintToBinary\u001b[39m: \u001b[32mInt\u001b[39m => \u001b[32mString\u001b[39m = ammonite.$sess.cmd1$Helper$$Lambda$1887/1520653634@2e04cc49\n",
       "\u001b[36mres1_1\u001b[39m: \u001b[32mString\u001b[39m = \u001b[32m\"10010\"\u001b[39m"
      ]
     },
     "execution_count": 2,
     "metadata": {},
     "output_type": "execute_result"
    }
   ],
   "source": [
    "val intToBinary = (x: Int) => {\n",
    "    Iterator.iterate(x) {x => x / 2}.takeWhile { _ > 0}.map {_ % 2}.mkString.reverse\n",
    "}\n",
    "\n",
    "intToBinary(18)"
   ]
  },
  {
   "cell_type": "code",
   "execution_count": 4,
   "id": "67e62459",
   "metadata": {
    "ExecuteTime": {
     "end_time": "2022-05-22T06:13:36.148273Z",
     "start_time": "2022-05-22T06:13:35.911Z"
    }
   },
   "outputs": [
    {
     "data": {
      "text/plain": [
       "\u001b[36mres3\u001b[39m: \u001b[32mString\u001b[39m = \u001b[32m\"10010\"\u001b[39m"
      ]
     },
     "execution_count": 4,
     "metadata": {},
     "output_type": "execute_result"
    }
   ],
   "source": [
    "Iterator.iterate(18) {x => x / 2}.takeWhile { _ > 0}.map {_%2}.mkString.reverse"
   ]
  },
  {
   "cell_type": "code",
   "execution_count": 5,
   "id": "a600285d",
   "metadata": {
    "ExecuteTime": {
     "end_time": "2022-05-22T06:31:43.755960Z",
     "start_time": "2022-05-22T06:31:43.524Z"
    }
   },
   "outputs": [
    {
     "name": "stdout",
     "output_type": "stream",
     "text": [
      "18\n",
      "9\n",
      "4\n",
      "2\n",
      "1\n"
     ]
    }
   ],
   "source": [
    "Iterator.iterate(18)( x => x/2).takeWhile(_>0).foreach(println)"
   ]
  },
  {
   "cell_type": "markdown",
   "id": "b4e97851",
   "metadata": {},
   "source": [
    "# Streams and Recursion"
   ]
  },
  {
   "cell_type": "code",
   "execution_count": 16,
   "id": "bf1a1cfe",
   "metadata": {
    "ExecuteTime": {
     "end_time": "2022-05-29T17:12:31.160019Z",
     "start_time": "2022-05-29T17:12:30.990Z"
    }
   },
   "outputs": [
    {
     "data": {
      "text/plain": [
       "\u001b[36mres15\u001b[39m: \u001b[32mLazyList\u001b[39m[\u001b[32mInt\u001b[39m] = \u001b[33mLazyList\u001b[39m(\u001b[32m1\u001b[39m, \u001b[32m2\u001b[39m, \u001b[32m4\u001b[39m, \u001b[32m7\u001b[39m, \u001b[32m11\u001b[39m)"
      ]
     },
     "execution_count": 16,
     "metadata": {},
     "output_type": "execute_result"
    }
   ],
   "source": [
    "LazyList.from(1).scanLeft(1)(_+_).take(5)"
   ]
  },
  {
   "cell_type": "code",
   "execution_count": 8,
   "id": "c0507b6c",
   "metadata": {
    "ExecuteTime": {
     "end_time": "2022-05-29T16:40:05.706418Z",
     "start_time": "2022-05-29T16:40:05.501Z"
    }
   },
   "outputs": [
    {
     "data": {
      "text/plain": [
       "\u001b[36mfibs2\u001b[39m: \u001b[32mLazyList\u001b[39m[\u001b[32mInt\u001b[39m] = \u001b[33mLazyList\u001b[39m(\n",
       "  \u001b[32m1\u001b[39m,\n",
       "  \u001b[32m1\u001b[39m,\n",
       "  \u001b[32m2\u001b[39m,\n",
       "  \u001b[32m3\u001b[39m,\n",
       "  \u001b[32m5\u001b[39m,\n",
       "  \u001b[32m8\u001b[39m,\n",
       "  \u001b[32m13\u001b[39m,\n",
       "  \u001b[32m21\u001b[39m,\n",
       "  \u001b[32m34\u001b[39m,\n",
       "  \u001b[32m55\u001b[39m,\n",
       "  \u001b[32m89\u001b[39m,\n",
       "  \u001b[32m144\u001b[39m,\n",
       "  \u001b[32m233\u001b[39m,\n",
       "  \u001b[32m377\u001b[39m,\n",
       "  \u001b[32m610\u001b[39m,\n",
       "  \u001b[32m987\u001b[39m,\n",
       "  \u001b[32m1597\u001b[39m,\n",
       "  \u001b[32m2584\u001b[39m,\n",
       "  \u001b[32m4181\u001b[39m,\n",
       "  \u001b[32m6765\u001b[39m,\n",
       "  \u001b[32m10946\u001b[39m,\n",
       "  \u001b[32m17711\u001b[39m,\n",
       "  \u001b[32m28657\u001b[39m,\n",
       "  \u001b[32m46368\u001b[39m,\n",
       "  \u001b[32m75025\u001b[39m,\n",
       "  \u001b[32m121393\u001b[39m,\n",
       "  \u001b[32m196418\u001b[39m,\n",
       "  \u001b[32m317811\u001b[39m,\n",
       "  \u001b[32m514229\u001b[39m,\n",
       "  \u001b[32m832040\u001b[39m,\n",
       "  \u001b[32m1346269\u001b[39m,\n",
       "  \u001b[32m2178309\u001b[39m,\n",
       "  \u001b[32m3524578\u001b[39m,\n",
       "  \u001b[32m5702887\u001b[39m,\n",
       "  \u001b[32m9227465\u001b[39m,\n",
       "  \u001b[32m14930352\u001b[39m,\n",
       "  \u001b[32m24157817\u001b[39m,\n",
       "  \u001b[32m39088169\u001b[39m,\n",
       "...\n",
       "\u001b[36mres7_1\u001b[39m: \u001b[32mLazyList\u001b[39m[\u001b[32mInt\u001b[39m] = \u001b[33mLazyList\u001b[39m(\u001b[32m1\u001b[39m, \u001b[32m1\u001b[39m, \u001b[32m2\u001b[39m)"
      ]
     },
     "execution_count": 8,
     "metadata": {},
     "output_type": "execute_result"
    }
   ],
   "source": [
    "val fibs2: LazyList[Int] = (0 #:: fibs2).scanLeft(1)(_+_)\n",
    "fibs2.take(3)"
   ]
  },
  {
   "cell_type": "code",
   "execution_count": 14,
   "id": "f8bd1ecc",
   "metadata": {
    "ExecuteTime": {
     "end_time": "2022-05-29T16:46:33.671908Z",
     "start_time": "2022-05-29T16:46:33.493Z"
    },
    "scrolled": true
   },
   "outputs": [
    {
     "data": {
      "text/plain": [
       "\u001b[36mfibs\u001b[39m: \u001b[32mLazyList\u001b[39m[\u001b[32mInt\u001b[39m] = \u001b[33mLazyList\u001b[39m(\n",
       "  \u001b[32m1\u001b[39m,\n",
       "  \u001b[32m1\u001b[39m,\n",
       "  \u001b[32m2\u001b[39m,\n",
       "  \u001b[32m3\u001b[39m,\n",
       "  \u001b[32m5\u001b[39m,\n",
       "  \u001b[32m8\u001b[39m,\n",
       "  \u001b[32m13\u001b[39m,\n",
       "  \u001b[32m21\u001b[39m,\n",
       "  \u001b[32m34\u001b[39m,\n",
       "  \u001b[32m55\u001b[39m,\n",
       "  \u001b[32m89\u001b[39m,\n",
       "  \u001b[32m144\u001b[39m,\n",
       "  \u001b[32m233\u001b[39m,\n",
       "  \u001b[32m377\u001b[39m,\n",
       "  \u001b[32m610\u001b[39m,\n",
       "  \u001b[32m987\u001b[39m,\n",
       "  \u001b[32m1597\u001b[39m,\n",
       "  \u001b[32m2584\u001b[39m,\n",
       "  \u001b[32m4181\u001b[39m,\n",
       "  \u001b[32m6765\u001b[39m,\n",
       "  \u001b[32m10946\u001b[39m,\n",
       "  \u001b[32m17711\u001b[39m,\n",
       "  \u001b[32m28657\u001b[39m,\n",
       "  \u001b[32m46368\u001b[39m,\n",
       "  \u001b[32m75025\u001b[39m,\n",
       "  \u001b[32m121393\u001b[39m,\n",
       "  \u001b[32m196418\u001b[39m,\n",
       "  \u001b[32m317811\u001b[39m,\n",
       "  \u001b[32m514229\u001b[39m,\n",
       "  \u001b[32m832040\u001b[39m,\n",
       "  \u001b[32m1346269\u001b[39m,\n",
       "  \u001b[32m2178309\u001b[39m,\n",
       "  \u001b[32m3524578\u001b[39m,\n",
       "  \u001b[32m5702887\u001b[39m,\n",
       "  \u001b[32m9227465\u001b[39m,\n",
       "  \u001b[32m14930352\u001b[39m,\n",
       "  \u001b[32m24157817\u001b[39m,\n",
       "  \u001b[32m39088169\u001b[39m,\n",
       "...\n",
       "\u001b[36mres13_1\u001b[39m: \u001b[32mLazyList\u001b[39m[\u001b[32mInt\u001b[39m] = \u001b[33mLazyList\u001b[39m(\u001b[32m1\u001b[39m, \u001b[32m1\u001b[39m, \u001b[32m2\u001b[39m)"
      ]
     },
     "execution_count": 14,
     "metadata": {},
     "output_type": "execute_result"
    }
   ],
   "source": [
    "val fibs: LazyList[Int] = (0 #:: fibs).scanLeft(1)(_ + _)\n",
    "fibs.take(3)"
   ]
  },
  {
   "cell_type": "code",
   "execution_count": 13,
   "id": "4d2d2dc4",
   "metadata": {
    "ExecuteTime": {
     "end_time": "2022-05-29T16:46:08.187212Z",
     "start_time": "2022-05-29T16:46:08.001Z"
    }
   },
   "outputs": [
    {
     "data": {
      "text/plain": [
       "\u001b[36mfibs\u001b[39m: \u001b[32mLazyList\u001b[39m[\u001b[32mInt\u001b[39m] = \u001b[33mLazyList\u001b[39m(\n",
       "  \u001b[32m0\u001b[39m,\n",
       "  \u001b[32m1\u001b[39m,\n",
       "  \u001b[32m1\u001b[39m,\n",
       "  \u001b[32m2\u001b[39m,\n",
       "  \u001b[32m3\u001b[39m,\n",
       "  \u001b[32m5\u001b[39m,\n",
       "  \u001b[32m8\u001b[39m,\n",
       "  \u001b[32m13\u001b[39m,\n",
       "  \u001b[32m21\u001b[39m,\n",
       "  \u001b[32m34\u001b[39m,\n",
       "  \u001b[32m55\u001b[39m,\n",
       "  \u001b[32m89\u001b[39m,\n",
       "  \u001b[32m144\u001b[39m,\n",
       "  \u001b[32m233\u001b[39m,\n",
       "  \u001b[32m377\u001b[39m,\n",
       "  \u001b[32m610\u001b[39m,\n",
       "  \u001b[32m987\u001b[39m,\n",
       "  \u001b[32m1597\u001b[39m,\n",
       "  \u001b[32m2584\u001b[39m,\n",
       "  \u001b[32m4181\u001b[39m,\n",
       "  \u001b[32m6765\u001b[39m,\n",
       "  \u001b[32m10946\u001b[39m,\n",
       "  \u001b[32m17711\u001b[39m,\n",
       "  \u001b[32m28657\u001b[39m,\n",
       "  \u001b[32m46368\u001b[39m,\n",
       "  \u001b[32m75025\u001b[39m,\n",
       "  \u001b[32m121393\u001b[39m,\n",
       "  \u001b[32m196418\u001b[39m,\n",
       "  \u001b[32m317811\u001b[39m,\n",
       "  \u001b[32m514229\u001b[39m,\n",
       "  \u001b[32m832040\u001b[39m,\n",
       "  \u001b[32m1346269\u001b[39m,\n",
       "  \u001b[32m2178309\u001b[39m,\n",
       "  \u001b[32m3524578\u001b[39m,\n",
       "  \u001b[32m5702887\u001b[39m,\n",
       "  \u001b[32m9227465\u001b[39m,\n",
       "  \u001b[32m14930352\u001b[39m,\n",
       "  \u001b[32m24157817\u001b[39m,\n",
       "...\n",
       "\u001b[36mres12_1\u001b[39m: \u001b[32mLazyList\u001b[39m[\u001b[32mInt\u001b[39m] = \u001b[33mLazyList\u001b[39m(\u001b[32m0\u001b[39m, \u001b[32m1\u001b[39m, \u001b[32m1\u001b[39m, \u001b[32m2\u001b[39m, \u001b[32m3\u001b[39m)"
      ]
     },
     "execution_count": 13,
     "metadata": {},
     "output_type": "execute_result"
    }
   ],
   "source": [
    "val fibs:LazyList[Int] = 0 #:: 1 #:: (fibs.zip(fibs.tail).map{ t => t._1 + t._2 })\n",
    "fibs.take(5)"
   ]
  },
  {
   "cell_type": "code",
   "execution_count": 2,
   "id": "927c965b",
   "metadata": {
    "ExecuteTime": {
     "end_time": "2022-05-21T20:00:39.923774Z",
     "start_time": "2022-05-21T20:00:39.497Z"
    }
   },
   "outputs": [
    {
     "data": {
      "text/plain": [
       "\u001b[36mfibs\u001b[39m: \u001b[32mStream\u001b[39m[\u001b[32mInt\u001b[39m] = \u001b[33mStream\u001b[39m(\n",
       "  \u001b[32m0\u001b[39m,\n",
       "  \u001b[32m1\u001b[39m,\n",
       "  \u001b[32m1\u001b[39m,\n",
       "  \u001b[32m2\u001b[39m,\n",
       "  \u001b[32m3\u001b[39m,\n",
       "  \u001b[32m5\u001b[39m,\n",
       "  \u001b[32m8\u001b[39m,\n",
       "  \u001b[32m13\u001b[39m,\n",
       "  \u001b[32m21\u001b[39m,\n",
       "  \u001b[32m34\u001b[39m,\n",
       "  \u001b[32m55\u001b[39m,\n",
       "  \u001b[32m89\u001b[39m,\n",
       "  \u001b[32m144\u001b[39m,\n",
       "  \u001b[32m233\u001b[39m,\n",
       "  \u001b[32m377\u001b[39m,\n",
       "  \u001b[32m610\u001b[39m,\n",
       "  \u001b[32m987\u001b[39m,\n",
       "  \u001b[32m1597\u001b[39m,\n",
       "  \u001b[32m2584\u001b[39m,\n",
       "  \u001b[32m4181\u001b[39m,\n",
       "  \u001b[32m6765\u001b[39m,\n",
       "  \u001b[32m10946\u001b[39m,\n",
       "  \u001b[32m17711\u001b[39m,\n",
       "  \u001b[32m28657\u001b[39m,\n",
       "  \u001b[32m46368\u001b[39m,\n",
       "  \u001b[32m75025\u001b[39m,\n",
       "  \u001b[32m121393\u001b[39m,\n",
       "  \u001b[32m196418\u001b[39m,\n",
       "  \u001b[32m317811\u001b[39m,\n",
       "  \u001b[32m514229\u001b[39m,\n",
       "  \u001b[32m832040\u001b[39m,\n",
       "  \u001b[32m1346269\u001b[39m,\n",
       "  \u001b[32m2178309\u001b[39m,\n",
       "  \u001b[32m3524578\u001b[39m,\n",
       "  \u001b[32m5702887\u001b[39m,\n",
       "  \u001b[32m9227465\u001b[39m,\n",
       "  \u001b[32m14930352\u001b[39m,\n",
       "  \u001b[32m24157817\u001b[39m,\n",
       "...\n",
       "\u001b[36mres1_1\u001b[39m: \u001b[32mStream\u001b[39m[\u001b[32mInt\u001b[39m] = \u001b[33mStream\u001b[39m(\u001b[32m0\u001b[39m, \u001b[32m1\u001b[39m, \u001b[32m1\u001b[39m, \u001b[32m2\u001b[39m, \u001b[32m3\u001b[39m, \u001b[32m5\u001b[39m, \u001b[32m8\u001b[39m, \u001b[32m13\u001b[39m, \u001b[32m21\u001b[39m, \u001b[32m34\u001b[39m)"
      ]
     },
     "execution_count": 2,
     "metadata": {},
     "output_type": "execute_result"
    }
   ],
   "source": [
    "val fibs:Stream[Int] = 0 #:: 1 #:: (fibs zip fibs.tail).map{ t => t._1 + t._2 }\n",
    "fibs.take(10)"
   ]
  },
  {
   "cell_type": "code",
   "execution_count": 4,
   "id": "5b5e28a2",
   "metadata": {
    "ExecuteTime": {
     "end_time": "2022-05-02T06:22:11.068830Z",
     "start_time": "2022-05-02T06:22:10.808Z"
    }
   },
   "outputs": [
    {
     "data": {
      "text/plain": [
       "defined \u001b[32mfunction\u001b[39m \u001b[36mfibs\u001b[39m\n",
       "\u001b[36mres3_1\u001b[39m: \u001b[32mStream\u001b[39m[\u001b[32mInt\u001b[39m] = \u001b[33mStream\u001b[39m(\u001b[32m0\u001b[39m, \u001b[32m1\u001b[39m, \u001b[32m1\u001b[39m, \u001b[32m2\u001b[39m, \u001b[32m3\u001b[39m, \u001b[32m5\u001b[39m, \u001b[32m8\u001b[39m, \u001b[32m13\u001b[39m, \u001b[32m21\u001b[39m, \u001b[32m34\u001b[39m)"
      ]
     },
     "execution_count": 4,
     "metadata": {},
     "output_type": "execute_result"
    }
   ],
   "source": [
    "def fibs(a: Int = 0, b: Int = 1): Stream[Int] = Stream.cons(a, fibs(b, a+b))\n",
    "fibs().take(10)"
   ]
  },
  {
   "cell_type": "code",
   "execution_count": 5,
   "id": "54abab5b",
   "metadata": {
    "ExecuteTime": {
     "end_time": "2022-05-02T06:24:23.769738Z",
     "start_time": "2022-05-02T06:24:23.537Z"
    }
   },
   "outputs": [
    {
     "data": {
      "text/plain": [
       "defined \u001b[32mfunction\u001b[39m \u001b[36mfibs\u001b[39m\n",
       "\u001b[36mres4_1\u001b[39m: \u001b[32mLazyList\u001b[39m[\u001b[32mInt\u001b[39m] = \u001b[33mLazyList\u001b[39m(\u001b[32m0\u001b[39m, \u001b[32m1\u001b[39m, \u001b[32m1\u001b[39m, \u001b[32m2\u001b[39m, \u001b[32m3\u001b[39m, \u001b[32m5\u001b[39m, \u001b[32m8\u001b[39m, \u001b[32m13\u001b[39m, \u001b[32m21\u001b[39m, \u001b[32m34\u001b[39m)"
      ]
     },
     "execution_count": 5,
     "metadata": {},
     "output_type": "execute_result"
    }
   ],
   "source": [
    "def fibs(a: Int = 0, b: Int = 1): LazyList[Int] = LazyList.cons(a, fibs(b, a+b))\n",
    "fibs().take(10)"
   ]
  },
  {
   "cell_type": "code",
   "execution_count": 6,
   "id": "1689b73a",
   "metadata": {
    "ExecuteTime": {
     "end_time": "2022-05-02T06:24:53.798695Z",
     "start_time": "2022-05-02T06:24:53.532Z"
    }
   },
   "outputs": [
    {
     "data": {
      "text/plain": [
       "\u001b[36mfibs\u001b[39m: \u001b[32mLazyList\u001b[39m[\u001b[32mInt\u001b[39m] = \u001b[33mLazyList\u001b[39m(\n",
       "  \u001b[32m0\u001b[39m,\n",
       "  \u001b[32m1\u001b[39m,\n",
       "  \u001b[32m1\u001b[39m,\n",
       "  \u001b[32m2\u001b[39m,\n",
       "  \u001b[32m3\u001b[39m,\n",
       "  \u001b[32m5\u001b[39m,\n",
       "  \u001b[32m8\u001b[39m,\n",
       "  \u001b[32m13\u001b[39m,\n",
       "  \u001b[32m21\u001b[39m,\n",
       "  \u001b[32m34\u001b[39m,\n",
       "  \u001b[32m55\u001b[39m,\n",
       "  \u001b[32m89\u001b[39m,\n",
       "  \u001b[32m144\u001b[39m,\n",
       "  \u001b[32m233\u001b[39m,\n",
       "  \u001b[32m377\u001b[39m,\n",
       "  \u001b[32m610\u001b[39m,\n",
       "  \u001b[32m987\u001b[39m,\n",
       "  \u001b[32m1597\u001b[39m,\n",
       "  \u001b[32m2584\u001b[39m,\n",
       "  \u001b[32m4181\u001b[39m,\n",
       "  \u001b[32m6765\u001b[39m,\n",
       "  \u001b[32m10946\u001b[39m,\n",
       "  \u001b[32m17711\u001b[39m,\n",
       "  \u001b[32m28657\u001b[39m,\n",
       "  \u001b[32m46368\u001b[39m,\n",
       "  \u001b[32m75025\u001b[39m,\n",
       "  \u001b[32m121393\u001b[39m,\n",
       "  \u001b[32m196418\u001b[39m,\n",
       "  \u001b[32m317811\u001b[39m,\n",
       "  \u001b[32m514229\u001b[39m,\n",
       "  \u001b[32m832040\u001b[39m,\n",
       "  \u001b[32m1346269\u001b[39m,\n",
       "  \u001b[32m2178309\u001b[39m,\n",
       "  \u001b[32m3524578\u001b[39m,\n",
       "  \u001b[32m5702887\u001b[39m,\n",
       "  \u001b[32m9227465\u001b[39m,\n",
       "  \u001b[32m14930352\u001b[39m,\n",
       "  \u001b[32m24157817\u001b[39m,\n",
       "...\n",
       "\u001b[36mres5_1\u001b[39m: \u001b[32mLazyList\u001b[39m[\u001b[32mInt\u001b[39m] = \u001b[33mLazyList\u001b[39m(\u001b[32m0\u001b[39m, \u001b[32m1\u001b[39m, \u001b[32m1\u001b[39m, \u001b[32m2\u001b[39m, \u001b[32m3\u001b[39m, \u001b[32m5\u001b[39m, \u001b[32m8\u001b[39m, \u001b[32m13\u001b[39m, \u001b[32m21\u001b[39m, \u001b[32m34\u001b[39m)"
      ]
     },
     "execution_count": 6,
     "metadata": {},
     "output_type": "execute_result"
    }
   ],
   "source": [
    "val fibs:LazyList[Int] = 0 #:: 1 #:: (fibs zip fibs.tail).map{ t => t._1 + t._2 }\n",
    "fibs.take(10)"
   ]
  },
  {
   "cell_type": "code",
   "execution_count": 7,
   "id": "846f2399",
   "metadata": {
    "ExecuteTime": {
     "end_time": "2022-05-02T06:28:57.059834Z",
     "start_time": "2022-05-02T06:28:56.871Z"
    }
   },
   "outputs": [
    {
     "data": {
      "text/plain": [
       "\u001b[36mfibs\u001b[39m: \u001b[32mStream\u001b[39m[\u001b[32mInt\u001b[39m] = \u001b[33mStream\u001b[39m(\n",
       "  \u001b[32m0\u001b[39m,\n",
       "  \u001b[32m1\u001b[39m,\n",
       "  \u001b[32m1\u001b[39m,\n",
       "  \u001b[32m2\u001b[39m,\n",
       "  \u001b[32m3\u001b[39m,\n",
       "  \u001b[32m5\u001b[39m,\n",
       "  \u001b[32m8\u001b[39m,\n",
       "  \u001b[32m13\u001b[39m,\n",
       "  \u001b[32m21\u001b[39m,\n",
       "  \u001b[32m34\u001b[39m,\n",
       "  \u001b[32m55\u001b[39m,\n",
       "  \u001b[32m89\u001b[39m,\n",
       "  \u001b[32m144\u001b[39m,\n",
       "  \u001b[32m233\u001b[39m,\n",
       "  \u001b[32m377\u001b[39m,\n",
       "  \u001b[32m610\u001b[39m,\n",
       "  \u001b[32m987\u001b[39m,\n",
       "  \u001b[32m1597\u001b[39m,\n",
       "  \u001b[32m2584\u001b[39m,\n",
       "  \u001b[32m4181\u001b[39m,\n",
       "  \u001b[32m6765\u001b[39m,\n",
       "  \u001b[32m10946\u001b[39m,\n",
       "  \u001b[32m17711\u001b[39m,\n",
       "  \u001b[32m28657\u001b[39m,\n",
       "  \u001b[32m46368\u001b[39m,\n",
       "  \u001b[32m75025\u001b[39m,\n",
       "  \u001b[32m121393\u001b[39m,\n",
       "  \u001b[32m196418\u001b[39m,\n",
       "  \u001b[32m317811\u001b[39m,\n",
       "  \u001b[32m514229\u001b[39m,\n",
       "  \u001b[32m832040\u001b[39m,\n",
       "  \u001b[32m1346269\u001b[39m,\n",
       "  \u001b[32m2178309\u001b[39m,\n",
       "  \u001b[32m3524578\u001b[39m,\n",
       "  \u001b[32m5702887\u001b[39m,\n",
       "  \u001b[32m9227465\u001b[39m,\n",
       "  \u001b[32m14930352\u001b[39m,\n",
       "  \u001b[32m24157817\u001b[39m,\n",
       "...\n",
       "\u001b[36mres6_1\u001b[39m: \u001b[32mStream\u001b[39m[\u001b[32mInt\u001b[39m] = \u001b[33mStream\u001b[39m(\u001b[32m0\u001b[39m, \u001b[32m1\u001b[39m, \u001b[32m1\u001b[39m, \u001b[32m2\u001b[39m, \u001b[32m3\u001b[39m, \u001b[32m5\u001b[39m, \u001b[32m8\u001b[39m, \u001b[32m13\u001b[39m, \u001b[32m21\u001b[39m, \u001b[32m34\u001b[39m)"
      ]
     },
     "execution_count": 7,
     "metadata": {},
     "output_type": "execute_result"
    }
   ],
   "source": [
    "val fibs:Stream[Int] = 0 #:: 1 #:: (fibs zip fibs.tail).map{ t => t._1 + t._2 }\n",
    "fibs.take(10)"
   ]
  },
  {
   "cell_type": "code",
   "execution_count": 3,
   "id": "452db06d",
   "metadata": {
    "ExecuteTime": {
     "end_time": "2022-05-21T20:06:27.561440Z",
     "start_time": "2022-05-21T20:06:27.159Z"
    }
   },
   "outputs": [
    {
     "data": {
      "text/plain": [
       "\u001b[36mfib\u001b[39m: \u001b[32mLazyList\u001b[39m[\u001b[32mInt\u001b[39m] = \u001b[33mLazyList\u001b[39m(\n",
       "  \u001b[32m0\u001b[39m,\n",
       "  \u001b[32m1\u001b[39m,\n",
       "  \u001b[32m1\u001b[39m,\n",
       "  \u001b[32m2\u001b[39m,\n",
       "  \u001b[32m3\u001b[39m,\n",
       "  \u001b[32m5\u001b[39m,\n",
       "  \u001b[32m8\u001b[39m,\n",
       "  \u001b[32m13\u001b[39m,\n",
       "  \u001b[32m21\u001b[39m,\n",
       "  \u001b[32m34\u001b[39m,\n",
       "  \u001b[32m55\u001b[39m,\n",
       "  \u001b[32m89\u001b[39m,\n",
       "  \u001b[32m144\u001b[39m,\n",
       "  \u001b[32m233\u001b[39m,\n",
       "  \u001b[32m377\u001b[39m,\n",
       "  \u001b[32m610\u001b[39m,\n",
       "  \u001b[32m987\u001b[39m,\n",
       "  \u001b[32m1597\u001b[39m,\n",
       "  \u001b[32m2584\u001b[39m,\n",
       "  \u001b[32m4181\u001b[39m,\n",
       "  \u001b[32m6765\u001b[39m,\n",
       "  \u001b[32m10946\u001b[39m,\n",
       "  \u001b[32m17711\u001b[39m,\n",
       "  \u001b[32m28657\u001b[39m,\n",
       "  \u001b[32m46368\u001b[39m,\n",
       "  \u001b[32m75025\u001b[39m,\n",
       "  \u001b[32m121393\u001b[39m,\n",
       "  \u001b[32m196418\u001b[39m,\n",
       "  \u001b[32m317811\u001b[39m,\n",
       "  \u001b[32m514229\u001b[39m,\n",
       "  \u001b[32m832040\u001b[39m,\n",
       "  \u001b[32m1346269\u001b[39m,\n",
       "  \u001b[32m2178309\u001b[39m,\n",
       "  \u001b[32m3524578\u001b[39m,\n",
       "  \u001b[32m5702887\u001b[39m,\n",
       "  \u001b[32m9227465\u001b[39m,\n",
       "  \u001b[32m14930352\u001b[39m,\n",
       "  \u001b[32m24157817\u001b[39m,\n",
       "...\n",
       "\u001b[36mres2_1\u001b[39m: \u001b[32mLazyList\u001b[39m[\u001b[32mInt\u001b[39m] = \u001b[33mLazyList\u001b[39m(\u001b[32m0\u001b[39m, \u001b[32m1\u001b[39m, \u001b[32m1\u001b[39m, \u001b[32m2\u001b[39m, \u001b[32m3\u001b[39m, \u001b[32m5\u001b[39m, \u001b[32m8\u001b[39m, \u001b[32m13\u001b[39m, \u001b[32m21\u001b[39m, \u001b[32m34\u001b[39m)"
      ]
     },
     "execution_count": 3,
     "metadata": {},
     "output_type": "execute_result"
    }
   ],
   "source": [
    "val fib: LazyList[Int] = 0 #:: 1 #:: fib.zip(fib.tail).map {case (x,y) => x+y}\n",
    "fib.take(10)"
   ]
  },
  {
   "cell_type": "code",
   "execution_count": 7,
   "id": "650b7887",
   "metadata": {
    "ExecuteTime": {
     "end_time": "2022-05-21T20:14:14.437751Z",
     "start_time": "2022-05-21T20:14:14.251Z"
    }
   },
   "outputs": [
    {
     "data": {
      "text/plain": [
       "defined \u001b[32mfunction\u001b[39m \u001b[36mfib\u001b[39m\n",
       "\u001b[36mres6_1\u001b[39m: \u001b[32mLazyList\u001b[39m[\u001b[32mInt\u001b[39m] = \u001b[33mLazyList\u001b[39m(\u001b[32m0\u001b[39m, \u001b[32m1\u001b[39m, \u001b[32m1\u001b[39m, \u001b[32m2\u001b[39m, \u001b[32m3\u001b[39m, \u001b[32m5\u001b[39m, \u001b[32m8\u001b[39m, \u001b[32m13\u001b[39m, \u001b[32m21\u001b[39m, \u001b[32m34\u001b[39m)"
      ]
     },
     "execution_count": 7,
     "metadata": {},
     "output_type": "execute_result"
    }
   ],
   "source": [
    "def fib(a:Int = 0,b: Int = 1): LazyList[Int] = LazyList.cons(a, fib(b, a + b))\n",
    "fib().take(10)"
   ]
  },
  {
   "cell_type": "markdown",
   "id": "89457835",
   "metadata": {},
   "source": [
    "# Fences Greedy algos"
   ]
  },
  {
   "cell_type": "code",
   "execution_count": 15,
   "id": "4ea0984f",
   "metadata": {
    "ExecuteTime": {
     "end_time": "2022-05-22T07:59:55.375788Z",
     "start_time": "2022-05-22T07:59:55.188Z"
    }
   },
   "outputs": [
    {
     "data": {
      "text/plain": [
       "\u001b[32mimport \u001b[39m\u001b[36mscala.collection.mutable.ListBuffer\n",
       "\n",
       "\u001b[39m\n",
       "\u001b[36mfences\u001b[39m: (\u001b[32mInt\u001b[39m, \u001b[32mVector\u001b[39m[\u001b[32mInt\u001b[39m]) => \u001b[32mList\u001b[39m[\u001b[32mInt\u001b[39m] = ammonite.$sess.cmd14$Helper$$Lambda$2467/444128717@607dce27\n",
       "\u001b[36mres14_2\u001b[39m: \u001b[32mList\u001b[39m[\u001b[32mInt\u001b[39m] = \u001b[33mList\u001b[39m(\u001b[32m3\u001b[39m, \u001b[32m3\u001b[39m, \u001b[32m3\u001b[39m, \u001b[32m1\u001b[39m)"
      ]
     },
     "execution_count": 15,
     "metadata": {},
     "output_type": "execute_result"
    }
   ],
   "source": [
    "import scala.collection.mutable.ListBuffer\n",
    "\n",
    "val fences: (Int, Vector[Int]) => List[Int] = (p, choices) => {\n",
    "    val out = ListBuffer[Int]()\n",
    "    var perim = p\n",
    "    while (perim > 0) {\n",
    "        var i = 0\n",
    "        while (choices(i) > perim) i += 1\n",
    "        out += choices(i)\n",
    "        perim -= choices(i)\n",
    "    }\n",
    "    out.toList\n",
    "}\n",
    "\n",
    "fences(10, Vector(3,2,1))"
   ]
  },
  {
   "cell_type": "code",
   "execution_count": 17,
   "id": "917c56a2",
   "metadata": {
    "ExecuteTime": {
     "end_time": "2022-05-22T08:10:03.373230Z",
     "start_time": "2022-05-22T08:10:03.244Z"
    }
   },
   "outputs": [
    {
     "data": {
      "text/plain": [
       "defined \u001b[32mfunction\u001b[39m \u001b[36mfencesRec\u001b[39m\n",
       "\u001b[36mres16_1\u001b[39m: \u001b[32mList\u001b[39m[\u001b[32mInt\u001b[39m] = \u001b[33mList\u001b[39m(\u001b[32m3\u001b[39m, \u001b[32m3\u001b[39m, \u001b[32m3\u001b[39m, \u001b[32m1\u001b[39m)"
      ]
     },
     "execution_count": 17,
     "metadata": {},
     "output_type": "execute_result"
    }
   ],
   "source": [
    "def fencesRec(p: Int, choices: Vector[Int]): List[Int] = {\n",
    "    if (p==0) Nil\n",
    "    else {\n",
    "        var i = 0\n",
    "        while (choices(i) > p) i +=1\n",
    "        choices(i) :: fencesRec(p - choices(i), choices)\n",
    "    }\n",
    "}\n",
    "\n",
    "fencesRec(10, Vector(3,2,1))"
   ]
  },
  {
   "cell_type": "code",
   "execution_count": 19,
   "id": "2622c464",
   "metadata": {
    "ExecuteTime": {
     "end_time": "2022-05-22T09:03:27.068386Z",
     "start_time": "2022-05-22T09:03:26.844Z"
    }
   },
   "outputs": [
    {
     "data": {
      "text/plain": [
       "\u001b[36mp\u001b[39m: \u001b[32mInt\u001b[39m = \u001b[32m26\u001b[39m\n",
       "\u001b[36mfences\u001b[39m: \u001b[32mArray\u001b[39m[\u001b[32mInt\u001b[39m] = \u001b[33mArray\u001b[39m(\u001b[32m10\u001b[39m, \u001b[32m5\u001b[39m, \u001b[32m2\u001b[39m, \u001b[32m1\u001b[39m)\n",
       "defined \u001b[32mclass\u001b[39m \u001b[36mDataHolder\u001b[39m\n",
       "\u001b[36mres18_3\u001b[39m: \u001b[32mDataHolder\u001b[39m = \u001b[33mDataHolder\u001b[39m(perimeter = \u001b[32m0\u001b[39m, out = \u001b[33mList\u001b[39m(\u001b[32m2\u001b[39m, \u001b[32m1\u001b[39m, \u001b[32m0\u001b[39m, \u001b[32m1\u001b[39m))"
      ]
     },
     "execution_count": 19,
     "metadata": {},
     "output_type": "execute_result"
    }
   ],
   "source": [
    "val p = 26\n",
    "val fences = Array(10,5,2,1)\n",
    "\n",
    "case class DataHolder(perimeter: Int, out: List[Int])\n",
    "\n",
    "fences.foldLeft(DataHolder(26, List())){ (dh, len) => {\n",
    "    val multiple = dh.perimeter /len\n",
    "    DataHolder(dh.perimeter - multiple * len, dh.out :+ multiple)\n",
    "}}"
   ]
  },
  {
   "cell_type": "code",
   "execution_count": 22,
   "id": "8f06f82c",
   "metadata": {
    "ExecuteTime": {
     "end_time": "2022-05-22T09:10:01.466675Z",
     "start_time": "2022-05-22T09:10:01.345Z"
    }
   },
   "outputs": [
    {
     "data": {
      "text/plain": [
       "\u001b[36mres21\u001b[39m: \u001b[32mList\u001b[39m[\u001b[32mInt\u001b[39m] = \u001b[33mList\u001b[39m(\u001b[32m2\u001b[39m, \u001b[32m2\u001b[39m, \u001b[32m2\u001b[39m)"
      ]
     },
     "execution_count": 22,
     "metadata": {},
     "output_type": "execute_result"
    }
   ],
   "source": [
    "List.fill(3)(2)"
   ]
  },
  {
   "cell_type": "code",
   "execution_count": 24,
   "id": "9696ee5b",
   "metadata": {
    "ExecuteTime": {
     "end_time": "2022-05-22T09:11:28.106128Z",
     "start_time": "2022-05-22T09:11:27.972Z"
    }
   },
   "outputs": [
    {
     "data": {
      "text/plain": [
       "\u001b[36mres23\u001b[39m: \u001b[32mDataHolder\u001b[39m = \u001b[33mDataHolder\u001b[39m(perimeter = \u001b[32m0\u001b[39m, out = \u001b[33mList\u001b[39m(\u001b[32m10\u001b[39m, \u001b[32m10\u001b[39m, \u001b[32m5\u001b[39m, \u001b[32m1\u001b[39m))"
      ]
     },
     "execution_count": 24,
     "metadata": {},
     "output_type": "execute_result"
    }
   ],
   "source": [
    "fences.foldLeft(DataHolder(26, List())){ (dh, len) => {\n",
    "    val multiple = dh.perimeter /len\n",
    "    DataHolder(dh.perimeter - multiple * len, dh.out ++ List.fill(multiple)(len))\n",
    "}}"
   ]
  },
  {
   "cell_type": "code",
   "execution_count": 25,
   "id": "8267768c",
   "metadata": {
    "ExecuteTime": {
     "end_time": "2022-05-22T09:15:51.833201Z",
     "start_time": "2022-05-22T09:15:51.641Z"
    }
   },
   "outputs": [
    {
     "data": {
      "text/plain": [
       "defined \u001b[32mclass\u001b[39m \u001b[36mDataHolder\u001b[39m\n",
       "defined \u001b[32mfunction\u001b[39m \u001b[36mwhichReels\u001b[39m\n",
       "\u001b[36mres24_2\u001b[39m: \u001b[32mList\u001b[39m[\u001b[32mInt\u001b[39m] = \u001b[33mList\u001b[39m(\u001b[32m10\u001b[39m, \u001b[32m10\u001b[39m, \u001b[32m5\u001b[39m, \u001b[32m1\u001b[39m)"
      ]
     },
     "execution_count": 25,
     "metadata": {},
     "output_type": "execute_result"
    }
   ],
   "source": [
    "case class DataHolder(perimeter: Int, out: List[Int])\n",
    "\n",
    "def whichReels(p: Int, fences: List[Int]): List[Int] = {\n",
    "    val out = fences.foldLeft(DataHolder(p, List())){ (dh, len) => {\n",
    "        val multiple = dh.perimeter /len\n",
    "        DataHolder(dh.perimeter - multiple * len, dh.out ++ List.fill(multiple)(len))\n",
    "        \n",
    "}}\n",
    "    out.out\n",
    "}\n",
    "\n",
    "whichReels(26, List(10,5,2,1))"
   ]
  },
  {
   "cell_type": "code",
   "execution_count": 1,
   "id": "5c0bdc44",
   "metadata": {
    "ExecuteTime": {
     "end_time": "2022-05-22T12:24:18.634958Z",
     "start_time": "2022-05-22T12:24:17.489Z"
    }
   },
   "outputs": [
    {
     "data": {
      "text/plain": [
       "defined \u001b[32mclass\u001b[39m \u001b[36mDataHolder\u001b[39m\n",
       "defined \u001b[32mfunction\u001b[39m \u001b[36mwhichReels\u001b[39m\n",
       "\u001b[36mres0_2\u001b[39m: \u001b[32mList\u001b[39m[\u001b[32mInt\u001b[39m] = \u001b[33mList\u001b[39m(\u001b[32m10\u001b[39m, \u001b[32m10\u001b[39m, \u001b[32m5\u001b[39m, \u001b[32m1\u001b[39m)"
      ]
     },
     "execution_count": 1,
     "metadata": {},
     "output_type": "execute_result"
    }
   ],
   "source": [
    "case class DataHolder(perimeter: Int, out: List[Int])\n",
    "\n",
    "def whichReels(p: Int, fences: List[Int]): List[Int] = {\n",
    "    val out = fences.foldLeft(DataHolder(p, List())){ (dh, len) => {\n",
    "        val multiple = dh.perimeter /len\n",
    "        DataHolder(dh.perimeter - multiple * len, dh.out ++ List.fill(multiple)(len))\n",
    "        \n",
    "}}\n",
    "    out.out\n",
    "}\n",
    "\n",
    "whichReels(26, List(10,5,2,1))"
   ]
  },
  {
   "cell_type": "markdown",
   "id": "ca2cb3b9",
   "metadata": {},
   "source": [
    "# Primary"
   ]
  },
  {
   "cell_type": "code",
   "execution_count": 3,
   "id": "cf2b797e",
   "metadata": {
    "ExecuteTime": {
     "end_time": "2022-05-28T17:59:49.575380Z",
     "start_time": "2022-05-28T17:59:49.137Z"
    }
   },
   "outputs": [
    {
     "data": {
      "text/plain": [
       "\u001b[32mimport \u001b[39m\u001b[36mscala.collection.mutable.ListBuffer\n",
       "\n",
       "\u001b[39m\n",
       "defined \u001b[32mfunction\u001b[39m \u001b[36mprimary\u001b[39m\n",
       "\u001b[36mres2_2\u001b[39m: \u001b[32mList\u001b[39m[\u001b[32mInt\u001b[39m] = \u001b[33mList\u001b[39m(\u001b[32m2\u001b[39m, \u001b[32m3\u001b[39m, \u001b[32m5\u001b[39m, \u001b[32m7\u001b[39m, \u001b[32m11\u001b[39m, \u001b[32m13\u001b[39m, \u001b[32m17\u001b[39m, \u001b[32m19\u001b[39m, \u001b[32m23\u001b[39m, \u001b[32m29\u001b[39m)"
      ]
     },
     "execution_count": 3,
     "metadata": {},
     "output_type": "execute_result"
    }
   ],
   "source": [
    "import scala.collection.mutable.ListBuffer\n",
    "\n",
    "def primary(upTo: Int): List[Int] = {\n",
    "  val primes = ListBuffer[Int]()\n",
    "  val candidates = Array.fill(upTo + 1)(true)\n",
    "  for (i <- 2 to upTo) {\n",
    "    if (candidates(i)) {\n",
    "      primes += i\n",
    "      for (j <- (i * 2) to upTo by i) {\n",
    "        candidates(j) = false\n",
    "      }\n",
    "    }\n",
    "  }\n",
    "  primes.toList\n",
    "}\n",
    "\n",
    "primary(30)"
   ]
  },
  {
   "cell_type": "code",
   "execution_count": 16,
   "id": "226af830",
   "metadata": {
    "ExecuteTime": {
     "end_time": "2022-05-28T19:23:14.837717Z",
     "start_time": "2022-05-28T19:23:14.683Z"
    }
   },
   "outputs": [
    {
     "data": {
      "text/plain": [
       "\u001b[36mallPrimes\u001b[39m: \u001b[32mLazyList\u001b[39m[\u001b[32mInt\u001b[39m] = \u001b[33mLazyList\u001b[39m(\n",
       "  \u001b[32m2\u001b[39m,\n",
       "  \u001b[32m3\u001b[39m,\n",
       "  \u001b[32m5\u001b[39m,\n",
       "  \u001b[32m7\u001b[39m,\n",
       "  \u001b[32m11\u001b[39m,\n",
       "  \u001b[32m13\u001b[39m,\n",
       "  \u001b[32m17\u001b[39m,\n",
       "  \u001b[32m19\u001b[39m,\n",
       "  \u001b[32m23\u001b[39m,\n",
       "  \u001b[32m29\u001b[39m,\n",
       "  \u001b[32m31\u001b[39m,\n",
       "  \u001b[32m37\u001b[39m,\n",
       "  \u001b[32m41\u001b[39m,\n",
       "  \u001b[32m43\u001b[39m,\n",
       "  \u001b[32m47\u001b[39m,\n",
       "  \u001b[32m53\u001b[39m,\n",
       "  \u001b[32m59\u001b[39m,\n",
       "  \u001b[32m61\u001b[39m,\n",
       "  \u001b[32m67\u001b[39m,\n",
       "  \u001b[32m71\u001b[39m,\n",
       "  \u001b[32m73\u001b[39m,\n",
       "  \u001b[32m79\u001b[39m,\n",
       "  \u001b[32m83\u001b[39m,\n",
       "  \u001b[32m89\u001b[39m,\n",
       "  \u001b[32m97\u001b[39m,\n",
       "  \u001b[32m101\u001b[39m,\n",
       "  \u001b[32m103\u001b[39m,\n",
       "  \u001b[32m107\u001b[39m,\n",
       "  \u001b[32m109\u001b[39m,\n",
       "  \u001b[32m113\u001b[39m,\n",
       "  \u001b[32m127\u001b[39m,\n",
       "  \u001b[32m131\u001b[39m,\n",
       "  \u001b[32m137\u001b[39m,\n",
       "  \u001b[32m139\u001b[39m,\n",
       "  \u001b[32m149\u001b[39m,\n",
       "  \u001b[32m151\u001b[39m,\n",
       "  \u001b[32m157\u001b[39m,\n",
       "  \u001b[32m163\u001b[39m,\n",
       "..."
      ]
     },
     "execution_count": 16,
     "metadata": {},
     "output_type": "execute_result"
    }
   ],
   "source": [
    "val allPrimes: LazyList[Int] = 2 #:: LazyList.from(3).filter { candidate =>\n",
    "    val primesToSqrt = allPrimes.takeWhile{p => p <= math.sqrt(candidate)}\n",
    "    !primesToSqrt.exists(p => candidate %p == 0)\n",
    "}"
   ]
  },
  {
   "cell_type": "code",
   "execution_count": null,
   "id": "10638019",
   "metadata": {},
   "outputs": [],
   "source": []
  }
 ],
 "metadata": {
  "kernelspec": {
   "display_name": "Scala_2,13",
   "language": "scala",
   "name": "scala"
  },
  "language_info": {
   "codemirror_mode": "text/x-scala",
   "file_extension": ".sc",
   "mimetype": "text/x-scala",
   "name": "scala",
   "nbconvert_exporter": "script",
   "version": "2.13.5"
  },
  "toc": {
   "base_numbering": 1,
   "nav_menu": {},
   "number_sections": true,
   "sideBar": true,
   "skip_h1_title": false,
   "title_cell": "Table of Contents",
   "title_sidebar": "Contents",
   "toc_cell": true,
   "toc_position": {},
   "toc_section_display": true,
   "toc_window_display": false
  }
 },
 "nbformat": 4,
 "nbformat_minor": 5
}
