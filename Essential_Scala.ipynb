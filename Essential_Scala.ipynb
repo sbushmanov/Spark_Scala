{
 "cells": [
  {
   "cell_type": "markdown",
   "id": "1263d0db",
   "metadata": {
    "toc": true
   },
   "source": [
    "<h1>Table of Contents<span class=\"tocSkip\"></span></h1>\n",
    "<div class=\"toc\"><ul class=\"toc-item\"><li><span><a href=\"#SQL-DB\" data-toc-modified-id=\"SQL-DB-1\"><span class=\"toc-item-num\">1&nbsp;&nbsp;</span>SQL DB</a></span><ul class=\"toc-item\"><li><span><a href=\"#SELECT\" data-toc-modified-id=\"SELECT-1.1\"><span class=\"toc-item-num\">1.1&nbsp;&nbsp;</span>SELECT</a></span></li><li><span><a href=\"#JOIN\" data-toc-modified-id=\"JOIN-1.2\"><span class=\"toc-item-num\">1.2&nbsp;&nbsp;</span>JOIN</a></span></li></ul></li><li><span><a href=\"#flatMap-+-map-==-for-comprehension\" data-toc-modified-id=\"flatMap-+-map-==-for-comprehension-2\"><span class=\"toc-item-num\">2&nbsp;&nbsp;</span>flatMap + map == for comprehension</a></span></li></ul></div>"
   ]
  },
  {
   "cell_type": "code",
   "execution_count": 5,
   "id": "6a0689b7",
   "metadata": {
    "ExecuteTime": {
     "end_time": "2022-06-19T04:50:20.814758Z",
     "start_time": "2022-06-19T04:50:20.588Z"
    }
   },
   "outputs": [
    {
     "data": {
      "text/plain": [
       "defined \u001b[32mclass\u001b[39m \u001b[36mtoDouble\u001b[39m\n",
       "defined \u001b[32mobject\u001b[39m \u001b[36mtoDouble\u001b[39m\n",
       "\u001b[36mres4_2\u001b[39m: \u001b[32mDouble\u001b[39m = \u001b[32m10.0\u001b[39m"
      ]
     },
     "execution_count": 5,
     "metadata": {},
     "output_type": "execute_result"
    }
   ],
   "source": [
    "case class toDouble(value: Double)\n",
    "case object toDouble {\n",
    "    def apply(s: String): toDouble = apply(s.toDoubleOption.getOrElse(0.0))\n",
    "    def apply(i: Int): toDouble = apply(i.toDouble) \n",
    "}\n",
    "\n",
    "toDouble(\"10\").value"
   ]
  },
  {
   "cell_type": "code",
   "execution_count": 7,
   "id": "f0bb287e",
   "metadata": {
    "ExecuteTime": {
     "end_time": "2022-06-19T04:56:06.812316Z",
     "start_time": "2022-06-19T04:56:06.691Z"
    }
   },
   "outputs": [
    {
     "data": {
      "text/plain": [
       "defined \u001b[32mclass\u001b[39m \u001b[36mCalc\u001b[39m"
      ]
     },
     "execution_count": 7,
     "metadata": {},
     "output_type": "execute_result"
    }
   ],
   "source": [
    "class Calc {\n",
    "    def square(x: toDouble): Double = x.value * x.value\n",
    "    def cube(x: toDouble): Double = square(x) * x.value\n",
    "}"
   ]
  },
  {
   "cell_type": "code",
   "execution_count": 9,
   "id": "6e6101e2",
   "metadata": {
    "ExecuteTime": {
     "end_time": "2022-06-19T04:58:52.487056Z",
     "start_time": "2022-06-19T04:58:52.343Z"
    }
   },
   "outputs": [
    {
     "data": {
      "text/plain": [
       "\u001b[36mc\u001b[39m: \u001b[32mCalc\u001b[39m = ammonite.$sess.cmd6$Helper$Calc@50f0d53d\n",
       "\u001b[36mres8_1\u001b[39m: \u001b[32mDouble\u001b[39m = \u001b[32m9.0\u001b[39m"
      ]
     },
     "execution_count": 9,
     "metadata": {},
     "output_type": "execute_result"
    }
   ],
   "source": [
    "val c = new Calc\n",
    "c.square(toDouble(3))"
   ]
  },
  {
   "cell_type": "code",
   "execution_count": 13,
   "id": "b5ee957a",
   "metadata": {
    "ExecuteTime": {
     "end_time": "2022-06-19T05:09:43.457697Z",
     "start_time": "2022-06-19T05:09:43.319Z"
    }
   },
   "outputs": [
    {
     "data": {
      "text/plain": [
       "defined \u001b[32mfunction\u001b[39m \u001b[36msquare\u001b[39m\n",
       "\u001b[36mres12_1\u001b[39m: \u001b[32mInt\u001b[39m = \u001b[32m9\u001b[39m\n",
       "\u001b[36mres12_2\u001b[39m: \u001b[32mDouble\u001b[39m = \u001b[32m9.0\u001b[39m"
      ]
     },
     "execution_count": 13,
     "metadata": {},
     "output_type": "execute_result"
    }
   ],
   "source": [
    "def square[T](x: T)(implicit num: Numeric[T]): T = {\n",
    "    import num.mkNumericOps\n",
    "    x * x\n",
    "}\n",
    "\n",
    "square(3)\n",
    "square(3.0)"
   ]
  },
  {
   "cell_type": "code",
   "execution_count": 27,
   "id": "d0f9e80d",
   "metadata": {
    "ExecuteTime": {
     "end_time": "2022-06-19T05:49:21.570621Z",
     "start_time": "2022-06-19T05:49:21.424Z"
    }
   },
   "outputs": [
    {
     "data": {
      "text/plain": [
       "\u001b[36mnum0\u001b[39m: \u001b[32mNone\u001b[39m.type = \u001b[32mNone\u001b[39m\n",
       "\u001b[36mnum1\u001b[39m: \u001b[32mSome\u001b[39m[\u001b[32mInt\u001b[39m] = \u001b[33mSome\u001b[39m(value = \u001b[32m1\u001b[39m)\n",
       "\u001b[36mnum2\u001b[39m: \u001b[32mSome\u001b[39m[\u001b[32mInt\u001b[39m] = \u001b[33mSome\u001b[39m(value = \u001b[32m2\u001b[39m)\n",
       "\u001b[36ml\u001b[39m: \u001b[32mList\u001b[39m[\u001b[32mOption\u001b[39m[\u001b[32mInt\u001b[39m]] = \u001b[33mList\u001b[39m(\u001b[32mNone\u001b[39m, \u001b[33mSome\u001b[39m(value = \u001b[32m1\u001b[39m), \u001b[33mSome\u001b[39m(value = \u001b[32m2\u001b[39m))\n",
       "\u001b[36mres26_4\u001b[39m: \u001b[32mList\u001b[39m[\u001b[32mInt\u001b[39m] = \u001b[33mList\u001b[39m(\u001b[32m10\u001b[39m, \u001b[32m20\u001b[39m)"
      ]
     },
     "execution_count": 27,
     "metadata": {},
     "output_type": "execute_result"
    }
   ],
   "source": [
    "val num0 = None\n",
    "val num1 = Some(1)\n",
    "val num2 = Some(2)\n",
    "\n",
    "val l = List(num0, num1, num2)\n",
    "\n",
    "l.flatMap( x=> x.map(_*10) )"
   ]
  },
  {
   "cell_type": "code",
   "execution_count": 31,
   "id": "44f49f1c",
   "metadata": {
    "ExecuteTime": {
     "end_time": "2022-06-19T05:59:21.909866Z",
     "start_time": "2022-06-19T05:59:21.776Z"
    }
   },
   "outputs": [
    {
     "data": {
      "text/plain": [
       "\u001b[36mnum00\u001b[39m: \u001b[32mNone\u001b[39m.type = \u001b[32mNone\u001b[39m\n",
       "\u001b[36mnum10\u001b[39m: \u001b[32mSome\u001b[39m[\u001b[32mDouble\u001b[39m] = \u001b[33mSome\u001b[39m(value = \u001b[32m1.0\u001b[39m)\n",
       "\u001b[36mnum20\u001b[39m: \u001b[32mSome\u001b[39m[\u001b[32mDouble\u001b[39m] = \u001b[33mSome\u001b[39m(value = \u001b[32m2.0\u001b[39m)\n",
       "\u001b[36ml0\u001b[39m: \u001b[32mList\u001b[39m[\u001b[32mOption\u001b[39m[\u001b[32mDouble\u001b[39m]] = \u001b[33mList\u001b[39m(\u001b[32mNone\u001b[39m, \u001b[33mSome\u001b[39m(value = \u001b[32m1.0\u001b[39m), \u001b[33mSome\u001b[39m(value = \u001b[32m2.0\u001b[39m))"
      ]
     },
     "execution_count": 31,
     "metadata": {},
     "output_type": "execute_result"
    }
   ],
   "source": [
    "val num00 = None\n",
    "val num10 = Some(1.0)\n",
    "val num20 = Some(2.0)\n",
    "\n",
    "assert(num0 == num00)\n",
    "\n",
    "val l0 = List(num00, num10, num20)"
   ]
  },
  {
   "cell_type": "code",
   "execution_count": 33,
   "id": "dc01315d",
   "metadata": {
    "ExecuteTime": {
     "end_time": "2022-06-19T06:05:45.157911Z",
     "start_time": "2022-06-19T06:05:45.052Z"
    }
   },
   "outputs": [
    {
     "data": {
      "text/plain": [
       "\u001b[36ml\u001b[39m: \u001b[32mList\u001b[39m[\u001b[32mInt\u001b[39m] = \u001b[33mList\u001b[39m(\u001b[32m1\u001b[39m, \u001b[32m2\u001b[39m, \u001b[32m3\u001b[39m)\n",
       "\u001b[36mres32_1\u001b[39m: \u001b[32mInt\u001b[39m = \u001b[32m10\u001b[39m"
      ]
     },
     "execution_count": 33,
     "metadata": {},
     "output_type": "execute_result"
    }
   ],
   "source": [
    "val l = List(1, 2, 3)\n",
    "\n",
    "l\n",
    "    .map(_ * 2)\n",
    "    .filter(_ > 2)\n",
    "    .foldLeft(0)(_ + _)"
   ]
  },
  {
   "cell_type": "code",
   "execution_count": 36,
   "id": "ecec3ef1",
   "metadata": {
    "ExecuteTime": {
     "end_time": "2022-06-19T06:09:24.366262Z",
     "start_time": "2022-06-19T06:09:24.277Z"
    }
   },
   "outputs": [
    {
     "data": {
      "text/plain": [
       "\u001b[36mres35\u001b[39m: \u001b[32mInt\u001b[39m = \u001b[32m10\u001b[39m"
      ]
     },
     "execution_count": 36,
     "metadata": {},
     "output_type": "execute_result"
    }
   ],
   "source": [
    "l.foldLeft(0){ (acc, el) => \n",
    "    if (el * 2 > 2) acc + el * 2 \n",
    "    else acc\n",
    "}"
   ]
  },
  {
   "cell_type": "markdown",
   "id": "ceb24f6b",
   "metadata": {},
   "source": [
    "# SQL DB"
   ]
  },
  {
   "cell_type": "code",
   "execution_count": 1,
   "id": "665d6de3",
   "metadata": {
    "ExecuteTime": {
     "end_time": "2022-06-19T07:44:40.084101Z",
     "start_time": "2022-06-19T07:44:37.781Z"
    }
   },
   "outputs": [
    {
     "data": {
      "text/plain": [
       "defined \u001b[32mclass\u001b[39m \u001b[36mPerson\u001b[39m\n",
       "\u001b[36mmaggie\u001b[39m: \u001b[32mPerson\u001b[39m = \u001b[33mPerson\u001b[39m(name = \u001b[32m\"Maggie\"\u001b[39m, age = \u001b[32m32\u001b[39m, color = \u001b[32m\"Red\"\u001b[39m)\n",
       "\u001b[36mmillie\u001b[39m: \u001b[32mPerson\u001b[39m = \u001b[33mPerson\u001b[39m(name = \u001b[32m\"Millie\"\u001b[39m, age = \u001b[32m24\u001b[39m, color = \u001b[32m\"Blue\"\u001b[39m)\n",
       "\u001b[36mmolly\u001b[39m: \u001b[32mPerson\u001b[39m = \u001b[33mPerson\u001b[39m(name = \u001b[32m\"Molly\"\u001b[39m, age = \u001b[32m45\u001b[39m, color = \u001b[32m\"Green\"\u001b[39m)\n",
       "\u001b[36mmay\u001b[39m: \u001b[32mPerson\u001b[39m = \u001b[33mPerson\u001b[39m(name = \u001b[32m\"May\"\u001b[39m, age = \u001b[32m41\u001b[39m, color = \u001b[32m\"Yellow\"\u001b[39m)\n",
       "\u001b[36mpersons\u001b[39m: \u001b[32mList\u001b[39m[\u001b[32mPerson\u001b[39m] = \u001b[33mList\u001b[39m(\n",
       "  \u001b[33mPerson\u001b[39m(name = \u001b[32m\"Maggie\"\u001b[39m, age = \u001b[32m32\u001b[39m, color = \u001b[32m\"Red\"\u001b[39m),\n",
       "  \u001b[33mPerson\u001b[39m(name = \u001b[32m\"Millie\"\u001b[39m, age = \u001b[32m24\u001b[39m, color = \u001b[32m\"Blue\"\u001b[39m),\n",
       "  \u001b[33mPerson\u001b[39m(name = \u001b[32m\"Molly\"\u001b[39m, age = \u001b[32m45\u001b[39m, color = \u001b[32m\"Green\"\u001b[39m),\n",
       "  \u001b[33mPerson\u001b[39m(name = \u001b[32m\"May\"\u001b[39m, age = \u001b[32m41\u001b[39m, color = \u001b[32m\"Yellow\"\u001b[39m)\n",
       ")"
      ]
     },
     "execution_count": 1,
     "metadata": {},
     "output_type": "execute_result"
    }
   ],
   "source": [
    "case class Person(name: String, age: Int, color: String)\n",
    "val maggie  = Person(\"Maggie\", 32, \"Red\")\n",
    "val millie  = Person(\"Millie\", 24, \"Blue\")\n",
    "val molly   = Person(\"Molly\",  45, \"Green\")\n",
    "val may     = Person(\"May\",    41, \"Yellow\")\n",
    "val persons = List(maggie, millie, molly, may)"
   ]
  },
  {
   "cell_type": "markdown",
   "id": "bd91d568",
   "metadata": {},
   "source": [
    "## SELECT"
   ]
  },
  {
   "cell_type": "code",
   "execution_count": 38,
   "id": "9b4b0ef9",
   "metadata": {
    "ExecuteTime": {
     "end_time": "2022-06-19T07:07:30.402910Z",
     "start_time": "2022-06-19T07:07:30.149Z"
    }
   },
   "outputs": [
    {
     "data": {
      "text/plain": [
       "defined \u001b[32mclass\u001b[39m \u001b[36mPerson\u001b[39m\n",
       "\u001b[36mmaggie\u001b[39m: \u001b[32mPerson\u001b[39m = \u001b[33mPerson\u001b[39m(name = \u001b[32m\"Maggie\"\u001b[39m, age = \u001b[32m32\u001b[39m, color = \u001b[32m\"Red\"\u001b[39m)\n",
       "\u001b[36mmillie\u001b[39m: \u001b[32mPerson\u001b[39m = \u001b[33mPerson\u001b[39m(name = \u001b[32m\"Millie\"\u001b[39m, age = \u001b[32m24\u001b[39m, color = \u001b[32m\"Blue\"\u001b[39m)\n",
       "\u001b[36mmolly\u001b[39m: \u001b[32mPerson\u001b[39m = \u001b[33mPerson\u001b[39m(name = \u001b[32m\"Molly\"\u001b[39m, age = \u001b[32m45\u001b[39m, color = \u001b[32m\"Green\"\u001b[39m)\n",
       "\u001b[36mmay\u001b[39m: \u001b[32mPerson\u001b[39m = \u001b[33mPerson\u001b[39m(name = \u001b[32m\"May\"\u001b[39m, age = \u001b[32m41\u001b[39m, color = \u001b[32m\"Yellow\"\u001b[39m)\n",
       "\u001b[36mpersons\u001b[39m: \u001b[32mList\u001b[39m[\u001b[32mPerson\u001b[39m] = \u001b[33mList\u001b[39m(\n",
       "  \u001b[33mPerson\u001b[39m(name = \u001b[32m\"Maggie\"\u001b[39m, age = \u001b[32m32\u001b[39m, color = \u001b[32m\"Red\"\u001b[39m),\n",
       "  \u001b[33mPerson\u001b[39m(name = \u001b[32m\"Millie\"\u001b[39m, age = \u001b[32m24\u001b[39m, color = \u001b[32m\"Blue\"\u001b[39m),\n",
       "  \u001b[33mPerson\u001b[39m(name = \u001b[32m\"Molly\"\u001b[39m, age = \u001b[32m45\u001b[39m, color = \u001b[32m\"Green\"\u001b[39m),\n",
       "  \u001b[33mPerson\u001b[39m(name = \u001b[32m\"May\"\u001b[39m, age = \u001b[32m41\u001b[39m, color = \u001b[32m\"Yellow\"\u001b[39m)\n",
       ")\n",
       "\u001b[36mres37_6\u001b[39m: \u001b[32mList\u001b[39m[(\u001b[32mString\u001b[39m, \u001b[32mString\u001b[39m)] = \u001b[33mList\u001b[39m((\u001b[32m\"Molly\"\u001b[39m, \u001b[32m\"Green\"\u001b[39m), (\u001b[32m\"May\"\u001b[39m, \u001b[32m\"Yellow\"\u001b[39m))"
      ]
     },
     "execution_count": 38,
     "metadata": {},
     "output_type": "execute_result"
    }
   ],
   "source": [
    "persons.collect{ case row: Person if (row.age > 40) => (row.name, row.color) }"
   ]
  },
  {
   "cell_type": "markdown",
   "id": "a25195b2",
   "metadata": {},
   "source": [
    "## JOIN"
   ]
  },
  {
   "cell_type": "code",
   "execution_count": 2,
   "id": "5cd4a88f",
   "metadata": {
    "ExecuteTime": {
     "end_time": "2022-06-19T07:44:42.715689Z",
     "start_time": "2022-06-19T07:44:42.206Z"
    }
   },
   "outputs": [
    {
     "data": {
      "text/plain": [
       "defined \u001b[32mclass\u001b[39m \u001b[36mAddress\u001b[39m\n",
       "\u001b[36maddresses\u001b[39m: \u001b[32mList\u001b[39m[\u001b[32mAddress\u001b[39m] = \u001b[33mList\u001b[39m(\n",
       "  \u001b[33mAddress\u001b[39m(\n",
       "    postcode = \u001b[32m\"AB1 2CD\"\u001b[39m,\n",
       "    occupant = \u001b[33mPerson\u001b[39m(name = \u001b[32m\"Maggie\"\u001b[39m, age = \u001b[32m32\u001b[39m, color = \u001b[32m\"Red\"\u001b[39m)\n",
       "  ),\n",
       "  \u001b[33mAddress\u001b[39m(\n",
       "    postcode = \u001b[32m\"VB6 5UX\"\u001b[39m,\n",
       "    occupant = \u001b[33mPerson\u001b[39m(name = \u001b[32m\"Maggie\"\u001b[39m, age = \u001b[32m32\u001b[39m, color = \u001b[32m\"Red\"\u001b[39m)\n",
       "  ),\n",
       "  \u001b[33mAddress\u001b[39m(\n",
       "    postcode = \u001b[32m\"HR9 5BH\"\u001b[39m,\n",
       "    occupant = \u001b[33mPerson\u001b[39m(name = \u001b[32m\"May\"\u001b[39m, age = \u001b[32m41\u001b[39m, color = \u001b[32m\"Yellow\"\u001b[39m)\n",
       "  )\n",
       ")"
      ]
     },
     "execution_count": 2,
     "metadata": {},
     "output_type": "execute_result"
    }
   ],
   "source": [
    "case class Address(postcode: String, occupant: Person)\n",
    " \n",
    "val addresses = List(\n",
    "   Address(\"AB1 2CD\", maggie),\n",
    "   Address(\"VB6 5UX\", maggie),\n",
    "   Address(\"HR9 5BH\", may)\n",
    ")"
   ]
  },
  {
   "cell_type": "markdown",
   "id": "db84608c",
   "metadata": {},
   "source": [
    "# flatMap + map == for comprehension"
   ]
  },
  {
   "cell_type": "code",
   "execution_count": 18,
   "id": "fd832bbe",
   "metadata": {
    "ExecuteTime": {
     "end_time": "2022-06-19T08:16:26.734328Z",
     "start_time": "2022-06-19T08:16:26.586Z"
    }
   },
   "outputs": [
    {
     "data": {
      "text/plain": [
       "\u001b[36mres17\u001b[39m: \u001b[32mList\u001b[39m[(\u001b[32mString\u001b[39m, \u001b[32mInt\u001b[39m, \u001b[32mString\u001b[39m)] = \u001b[33mList\u001b[39m(\n",
       "  (\u001b[32m\"Maggie\"\u001b[39m, \u001b[32m32\u001b[39m, \u001b[32m\"AB1 2CD\"\u001b[39m),\n",
       "  (\u001b[32m\"Maggie\"\u001b[39m, \u001b[32m32\u001b[39m, \u001b[32m\"VB6 5UX\"\u001b[39m),\n",
       "  (\u001b[32m\"May\"\u001b[39m, \u001b[32m41\u001b[39m, \u001b[32m\"HR9 5BH\"\u001b[39m)\n",
       ")"
      ]
     },
     "execution_count": 18,
     "metadata": {},
     "output_type": "execute_result"
    }
   ],
   "source": [
    "addresses.flatMap(address => persons.filter(_ == address.occupant).map(person => (person.name, person.age, address.postcode)))"
   ]
  },
  {
   "cell_type": "code",
   "execution_count": 19,
   "id": "6cd37959",
   "metadata": {
    "ExecuteTime": {
     "end_time": "2022-06-19T08:22:45.809637Z",
     "start_time": "2022-06-19T08:22:45.662Z"
    }
   },
   "outputs": [
    {
     "data": {
      "text/plain": [
       "\u001b[36mres\u001b[39m: \u001b[32mList\u001b[39m[(\u001b[32mString\u001b[39m, \u001b[32mInt\u001b[39m, \u001b[32mString\u001b[39m)] = \u001b[33mList\u001b[39m(\n",
       "  (\u001b[32m\"Maggie\"\u001b[39m, \u001b[32m32\u001b[39m, \u001b[32m\"AB1 2CD\"\u001b[39m),\n",
       "  (\u001b[32m\"Maggie\"\u001b[39m, \u001b[32m32\u001b[39m, \u001b[32m\"VB6 5UX\"\u001b[39m),\n",
       "  (\u001b[32m\"May\"\u001b[39m, \u001b[32m41\u001b[39m, \u001b[32m\"HR9 5BH\"\u001b[39m)\n",
       ")"
      ]
     },
     "execution_count": 19,
     "metadata": {},
     "output_type": "execute_result"
    }
   ],
   "source": [
    "val res = for {\n",
    "    address <- addresses\n",
    "    person <- persons\n",
    "    if (address.occupant == person)\n",
    "} yield (person.name, person.age, address.postcode)"
   ]
  },
  {
   "cell_type": "code",
   "execution_count": 28,
   "id": "861090a9",
   "metadata": {
    "ExecuteTime": {
     "end_time": "2022-06-19T08:34:35.788458Z",
     "start_time": "2022-06-19T08:34:35.642Z"
    }
   },
   "outputs": [
    {
     "data": {
      "text/plain": [
       "\u001b[36moccupants\u001b[39m: \u001b[32mMap\u001b[39m[\u001b[32mPerson\u001b[39m, \u001b[32mList\u001b[39m[\u001b[32mAddress\u001b[39m]] = \u001b[33mHashMap\u001b[39m(\n",
       "  \u001b[33mPerson\u001b[39m(name = \u001b[32m\"May\"\u001b[39m, age = \u001b[32m41\u001b[39m, color = \u001b[32m\"Yellow\"\u001b[39m) -> \u001b[33mList\u001b[39m(\n",
       "    \u001b[33mAddress\u001b[39m(\n",
       "      postcode = \u001b[32m\"HR9 5BH\"\u001b[39m,\n",
       "      occupant = \u001b[33mPerson\u001b[39m(name = \u001b[32m\"May\"\u001b[39m, age = \u001b[32m41\u001b[39m, color = \u001b[32m\"Yellow\"\u001b[39m)\n",
       "    )\n",
       "  ),\n",
       "  \u001b[33mPerson\u001b[39m(name = \u001b[32m\"Maggie\"\u001b[39m, age = \u001b[32m32\u001b[39m, color = \u001b[32m\"Red\"\u001b[39m) -> \u001b[33mList\u001b[39m(\n",
       "    \u001b[33mAddress\u001b[39m(\n",
       "      postcode = \u001b[32m\"AB1 2CD\"\u001b[39m,\n",
       "      occupant = \u001b[33mPerson\u001b[39m(name = \u001b[32m\"Maggie\"\u001b[39m, age = \u001b[32m32\u001b[39m, color = \u001b[32m\"Red\"\u001b[39m)\n",
       "    ),\n",
       "    \u001b[33mAddress\u001b[39m(\n",
       "      postcode = \u001b[32m\"VB6 5UX\"\u001b[39m,\n",
       "      occupant = \u001b[33mPerson\u001b[39m(name = \u001b[32m\"Maggie\"\u001b[39m, age = \u001b[32m32\u001b[39m, color = \u001b[32m\"Red\"\u001b[39m)\n",
       "    )\n",
       "  )\n",
       ")\n",
       "\u001b[36mres2\u001b[39m: \u001b[32mList\u001b[39m[(\u001b[32mString\u001b[39m, \u001b[32mInt\u001b[39m, \u001b[32mString\u001b[39m)] = \u001b[33mList\u001b[39m(\n",
       "  (\u001b[32m\"Maggie\"\u001b[39m, \u001b[32m32\u001b[39m, \u001b[32m\"AB1 2CD\"\u001b[39m),\n",
       "  (\u001b[32m\"Maggie\"\u001b[39m, \u001b[32m32\u001b[39m, \u001b[32m\"VB6 5UX\"\u001b[39m),\n",
       "  (\u001b[32m\"May\"\u001b[39m, \u001b[32m41\u001b[39m, \u001b[32m\"HR9 5BH\"\u001b[39m)\n",
       ")"
      ]
     },
     "execution_count": 28,
     "metadata": {},
     "output_type": "execute_result"
    }
   ],
   "source": [
    "val occupants = addresses.groupBy(_.occupant)\n",
    "\n",
    "val res2 = for {\n",
    "    person  <- persons\n",
    "    address <- occupants.getOrElse(person, Nil)\n",
    "} yield (person.name, person.age, address.postcode)"
   ]
  },
  {
   "cell_type": "code",
   "execution_count": null,
   "id": "bc9ba235",
   "metadata": {},
   "outputs": [],
   "source": []
  }
 ],
 "metadata": {
  "kernelspec": {
   "display_name": "Scala_2,13",
   "language": "scala",
   "name": "scala"
  },
  "language_info": {
   "codemirror_mode": "text/x-scala",
   "file_extension": ".sc",
   "mimetype": "text/x-scala",
   "name": "scala",
   "nbconvert_exporter": "script",
   "version": "2.13.5"
  },
  "toc": {
   "base_numbering": 1,
   "nav_menu": {},
   "number_sections": true,
   "sideBar": true,
   "skip_h1_title": false,
   "title_cell": "Table of Contents",
   "title_sidebar": "Contents",
   "toc_cell": true,
   "toc_position": {},
   "toc_section_display": true,
   "toc_window_display": false
  }
 },
 "nbformat": 4,
 "nbformat_minor": 5
}
